{
 "cells": [
  {
   "cell_type": "code",
   "execution_count": 3,
   "metadata": {},
   "outputs": [],
   "source": [
    "import sys, os, time\n",
    "\n",
    "import open3d as o3d\n",
    "import trimesh\n",
    "import openmesh as om\n",
    "\n",
    "import cv2\n",
    "\n",
    "import scipy as sp\n",
    "from scipy.sparse.linalg import eigs\n",
    "from scipy.sparse import csr_matrix, coo_matrix, identity, vstack\n",
    "from scipy.sparse.linalg import spsolve, lsqr\n",
    "from scipy.spatial import Delaunay, Voronoi\n",
    "\n",
    "import numpy as np\n",
    "\n",
    "import matplotlib.pyplot as plt\n",
    "\n",
    "from tqdm import tqdm\n",
    "\n",
    "%matplotlib inline\n",
    "# Tests of Openmesh\n",
    "# https://gitlab.vci.rwth-aachen.de:9000/OpenMesh/openmesh-python/tree/master/tests\n"
   ]
  },
  {
   "cell_type": "code",
   "execution_count": 225,
   "metadata": {},
   "outputs": [],
   "source": [
    "\n",
    "def read_mesh_om(path_in_models):\n",
    "    return om.read_trimesh(os.path.join('..', 'models', path_in_models))\n",
    "def write_mesh_om(mesh, path_in_models):\n",
    "    om.write_mesh(os.path.join('..', 'models', path_in_models), mesh, vertex_color=True)\n",
    "def show_mesh_o3d(plys):\n",
    "    o3d.visualization.draw_geometries(plys)\n",
    "def write_mesh_o3d(path, mesh):\n",
    "    o3d.io.write_triangle_mesh(path, mesh)\n",
    "def read_mesh_o3d(mesh_fp):\n",
    "    return o3d.io.read_triangle_mesh(mesh_fp)\n",
    "def read_mesh_trimesh(path_in_models):\n",
    "    return trimesh.load(os.path.join('..', 'models', path_in_models))\n",
    "def get_vertices_from_trimesh(mesh):\n",
    "    return np.asarray(mesh.vertices)\n",
    "def get_vertice_normals_from_trimesh(mesh):\n",
    "    return np.asarray(mesh.vertex_normals)\n",
    "def write_trimesh_with_color(mesh, path, colors):\n",
    "    o3d_mesh = mesh.as_open3d\n",
    "    o3d_mesh.vertex_colors = o3d.utility.Vector3dVector(colors)\n",
    "    write_mesh_o3d(path, o3d_mesh)"
   ]
  },
  {
   "cell_type": "code",
   "execution_count": 5,
   "metadata": {},
   "outputs": [],
   "source": [
    "\n",
    "### Calculate Voronoi Poles\n",
    "INFINITY = 1e9\n",
    "EPS = 1e-9\n",
    "def calculate_voronoi_poles(mesh):\n",
    "    \n",
    "    vertices = get_vertices_from_trimesh(mesh)\n",
    "    vertice_normals = get_vertice_normals_from_trimesh(mesh)\n",
    "\n",
    "    print(\"Calculating Voronoi Diagram.\")\n",
    "    vor = Voronoi(vertices)\n",
    "    vor_centers = vor.vertices\n",
    "    cells = vor.regions\n",
    "    cell_indices = vor.point_region\n",
    "\n",
    "    vertices_total = vertices.shape[0]\n",
    "    voronoi_poles = np.zeros(vertices.shape)\n",
    "    print(\"Calculating the Voronoi Pole for each vertex.\")\n",
    "    for vi in tqdm(range(vertices_total)):\n",
    "        vor_cell = cells[cell_indices[vi]]\n",
    "        vertice = vertices[vi]\n",
    "        vertice_normal = vertice_normals[vi]\n",
    "        max_neg_proj = INFINITY\n",
    "        voronoi_pole = None\n",
    "        for vci in vor_cell:\n",
    "            vor_center = vor_centers[vci]\n",
    "            if vci == -1:\n",
    "                continue\n",
    "            proj = np.dot(vor_center - vertice, vertice_normal)\n",
    "            if proj < max_neg_proj:\n",
    "                max_neg_proj = proj\n",
    "                voronoi_pole = vor_center\n",
    "        voronoi_poles[vi] = voronoi_pole\n",
    "\n",
    "    return voronoi_poles\n"
   ]
  },
  {
   "cell_type": "code",
   "execution_count": 6,
   "metadata": {},
   "outputs": [],
   "source": [
    "\n",
    "### Calculate Cotangent Laplace Operator\n",
    "def trimesh_Generate_Area_List(mesh):\n",
    "\n",
    "    area_list = np.zeros((len(mesh.vertices)))\n",
    "    face_count = mesh.faces.shape[0]\n",
    "    face_area = np.asarray(mesh.area_faces)\n",
    "    faces = np.asarray(mesh.faces)\n",
    "    for i in range(face_count):\n",
    "        area_list[faces[i]] += face_area[i] / 3\n",
    "    \n",
    "    area_list /= np.mean(area_list)\n",
    "    return area_list\n",
    "\n",
    "\n",
    "def trimesh_Generate_Laplace_matrix(mesh):\n",
    "    \n",
    "    print('Constructing Laplace Matrix.')\n",
    "    \n",
    "    vertices_face_indexs = [[0,1,2],[1,0,2],[2,0,1]] \n",
    "    laplace_dict = {}\n",
    "    area_list = trimesh_Generate_Area_List(mesh)\n",
    "    face_angles = np.asarray(mesh.face_angles)\n",
    "    faces = np.asarray(mesh.faces)\n",
    "    print(len(faces))\n",
    "    \n",
    "    \n",
    "    # with tqdm(total=face_count) as tbar:\n",
    "    for face, angles in zip(faces, face_angles):\n",
    "        for i in range(3):\n",
    "            current_angle = angles[i]\n",
    "            v0_index, v1_index, v2_index = face[vertices_face_indexs[i]]\n",
    "            delta = 0.5 / area_list[v0_index] / np.tan(current_angle)\n",
    "            if delta > EPS:\n",
    "                laplace_dict[(v1_index, v1_index)] = laplace_dict.get((v1_index, v1_index), 0) - delta\n",
    "                laplace_dict[(v2_index, v2_index)] = laplace_dict.get((v2_index, v2_index), 0) - delta\n",
    "                laplace_dict[(v1_index, v2_index)] = laplace_dict.get((v1_index, v2_index), 0) + delta\n",
    "                laplace_dict[(v2_index, v1_index)] = laplace_dict.get((v2_index, v1_index), 0) + delta\n",
    "        # tbar.update(1)\n",
    "\n",
    "    # Construct CSR Matrix\n",
    "    rows, cols = zip(*laplace_dict.keys())\n",
    "    values = list(laplace_dict.values())\n",
    "    print(delta,np.mean(values))\n",
    "    coo = coo_matrix((values, (rows, cols)), shape=(len(mesh.vertices), len(mesh.vertices)))\n",
    "    \n",
    "    csr = coo.tocsr()\n",
    "\n",
    "    return csr\n"
   ]
  },
  {
   "cell_type": "code",
   "execution_count": 7,
   "metadata": {},
   "outputs": [],
   "source": [
    "\n",
    "### Solve Equation\n",
    "def construct_Equation(wL, wH, wM, vertices, L, voronoi_poles):\n",
    "    vn = vertices.shape[0]\n",
    "    WH_L = wH * identity(vn)\n",
    "    WM_L = wM * identity(vn)\n",
    "    A = vstack((wL * L, WH_L, WM_L))\n",
    "    b = np.vstack((np.zeros((vn, 3)), wH * vertices, wM * voronoi_poles))\n",
    "    return A, b\n"
   ]
  },
  {
   "cell_type": "code",
   "execution_count": 8,
   "metadata": {},
   "outputs": [],
   "source": [
    "### Laplace Smooth\n",
    "flatten = lambda l: [item for sublist in l for item in sublist]\n",
    "\n",
    "def laplacian_smoothing(mesh, smooth_factor=1.0, iterations=1):\n",
    "   \n",
    "    for _ in range(iterations):\n",
    "        n = mesh.vertices.shape[0]\n",
    "        vertex_degs = [len(neighbors) for neighbors in mesh.vertex_neighbors]\n",
    "        sparse_mat_rows = [[row_idx] * (deg + 1) for row_idx, deg in enumerate(vertex_degs)]\n",
    "        sparse_mat_cols = [neighbors + [row_idx] for row_idx, neighbors in enumerate(mesh.vertex_neighbors)]\n",
    "\n",
    "        \n",
    "        sparse_mat_weights = [[-1.0] * deg + [deg * 1.0] for deg in vertex_degs]   \n",
    "\n",
    "        sparse_mat_rows = flatten(sparse_mat_rows)\n",
    "        sparse_mat_cols = flatten(sparse_mat_cols) \n",
    "\n",
    "        sparse_mat_weights = [float(u) / row_weights[-1]\n",
    "                                    for row_weights in sparse_mat_weights\n",
    "                                    for u in row_weights]\n",
    "        L =coo_matrix((sparse_mat_weights, (sparse_mat_rows, sparse_mat_cols)), shape=(n , n))\n",
    "        L = L.tocsr()  # Compress the sparse matrix..\n",
    "        v = np.array(mesh.vertices)\n",
    "        diff = L * v\n",
    "        mesh.vertices = v - smooth_factor * diff"
   ]
  },
  {
   "cell_type": "code",
   "execution_count": 9,
   "metadata": {},
   "outputs": [],
   "source": [
    "def get_shared_face_index(mesh, v1, v2):\n",
    "    # Get the faces containing vertex v1\n",
    "    faces_with_v1 = np.where(np.any(mesh.faces == v1, axis=1))[0]\n",
    "    # Get the faces containing vertex v2\n",
    "    faces_with_v2 = np.where(np.any(mesh.faces == v2, axis=1))[0]\n",
    "    # Find the intersection of the two arrays to get the shared face index\n",
    "    shared_face_index = np.intersect1d(faces_with_v1, faces_with_v2)\n",
    "    # print(shared_face_index)\n",
    "    return shared_face_index"
   ]
  },
  {
   "cell_type": "code",
   "execution_count": 235,
   "metadata": {},
   "outputs": [],
   "source": [
    "def get_adj_face(edges_unique, face_adjacency, v1, v2, face_index):\n",
    "    if v1 > v2:\n",
    "        v1, v2 = v2, v1\n",
    "    e = np.where((edges_unique[:, 0]==v1)&(edges_unique[:, 1]==v2))\n",
    "    faces = face_adjacency[e[0]].flatten()\n",
    "    return faces[faces!=face_index].item()\n",
    "\n",
    "# v1v0 onto v1v2\n",
    "def cal_projection(v0, v1, v2):\n",
    "    v1v2 = v2 - v1\n",
    "    v1v0 = v0 - v1\n",
    "    projector = v1v2 / np.linalg.norm(v1v2)\n",
    "    projectee = v1v0\n",
    "    t = np.dot(projectee, projector)\n",
    "    return v1 + t * projector\n",
    "\n",
    "def replace_vertex(face, v_old, v_new):\n",
    "    new_face = face.copy()\n",
    "    new_face[face==v_old] = v_new\n",
    "    return new_face"
   ]
  },
  {
   "cell_type": "code",
   "execution_count": 159,
   "metadata": {},
   "outputs": [
    {
     "name": "stdout",
     "output_type": "stream",
     "text": [
      "[1 5 4]\n"
     ]
    }
   ],
   "source": [
    "face = np.array([1, 2, 4])\n",
    "print(replace_vertex(face, 2, 5))"
   ]
  },
  {
   "cell_type": "code",
   "execution_count": 238,
   "metadata": {},
   "outputs": [],
   "source": [
    "#         v0 ---------- v2\n",
    "#        /        +     /\n",
    "#      /      vn       /\n",
    "#    /     +          /   \n",
    "#  v1 ---------------v3\n",
    "v_pairs = [[0,1],[1,2],[0,2]]\n",
    "def reduce_Angles(mesh):\n",
    "\n",
    "    faces = np.asarray(mesh.faces)\n",
    "    edges_unique = np.asarray(mesh.edges_unique)\n",
    "    face_adjacency = np.asarray(mesh.face_adjacency)\n",
    "    face_angles = np.asarray(mesh.face_angles)\n",
    "    vertices = np.asarray(mesh.vertices)\n",
    "\n",
    "    f_is_del = np.zeros((len(mesh.faces)),dtype=bool) # f is deleted or not\n",
    "    f_is_fixed = np.zeros((len(mesh.faces)),dtype=bool)\n",
    "    f_to_add = np.asarray(mesh.faces) # all v indexs. Note that here it only adds points and dont remove any.\n",
    "    v_to_add = np.asarray(mesh.vertices) # positions\n",
    "    \n",
    "    v_count = mesh.vertices.shape[0]\n",
    "    face_count = faces.shape[0]\n",
    "    \n",
    "    for face_index in range(face_count):\n",
    "        face = faces[face_index]\n",
    "        if not f_is_fixed[face_index] and max(face_angles[face_index]) > (2./3.)*np.pi: # 2.1\n",
    "            \n",
    "            # get v0,v1,v2\n",
    "            v0 = face[np.argmax(face_angles[face_index])] # obtuse_vertex\n",
    "            v1, v2 = face[face!=v0] # v1,v2 are indexes.                \n",
    "\n",
    "            # add vertex vn\n",
    "            v_count += 1\n",
    "            \n",
    "            v_new = cal_projection(*vertices[[v0, v1, v2]])\n",
    "            v_to_add = np.vstack((v_to_add, v_new))\n",
    "\n",
    "            # get indexs of faces to be deleted\n",
    "            face_adj_index = get_adj_face(edges_unique, face_adjacency, v1, v2, face_index)\n",
    "            f_is_del[face_index]= True\n",
    "            f_is_del[face_adj_index]= True\n",
    "            face_adj = faces[face_adj_index]\n",
    "\n",
    "            # fix adj faces in this iteration\n",
    "            for i, j in v_pairs:\n",
    "                f_is_fixed[get_adj_face(edges_unique, face_adjacency, \n",
    "                                        face[i], face[j], \n",
    "                                        face_index)] = True\n",
    "                f_is_fixed[get_adj_face(edges_unique, face_adjacency, \n",
    "                                        face_adj[i], face_adj[j], \n",
    "                                        face_adj_index)] = True\n",
    "\n",
    "            # # add faces\n",
    "            vn = v_count - 1\n",
    "            f_to_add = np.vstack((f_to_add, replace_vertex(face, v1, vn)))\n",
    "            f_to_add = np.vstack((f_to_add, replace_vertex(face, v2, vn))) # the order matters! if go v0v2vn, not work\n",
    "            f_to_add = np.vstack((f_to_add, replace_vertex(face_adj, v1, vn))) # why\n",
    "            f_to_add = np.vstack((f_to_add, replace_vertex(face_adj, v2, vn)))                \n",
    "            f_is_del = np.hstack((f_is_del, [False,False,False,False]))\n",
    "\n",
    "    faces_new = f_to_add[~f_is_del]\n",
    "    v_add = v_count - mesh.vertices.shape[0]\n",
    "\n",
    "    print(mesh.face_adjacency.shape)\n",
    "    print(mesh.is_watertight)\n",
    "\n",
    "    mesh.vertices = v_to_add\n",
    "    mesh.faces = faces_new\n",
    "\n",
    "    print(mesh.face_adjacency.shape)\n",
    "    print(mesh.is_watertight)\n",
    "\n",
    "    return v_add"
   ]
  },
  {
   "cell_type": "code",
   "execution_count": 239,
   "metadata": {},
   "outputs": [
    {
     "name": "stdout",
     "output_type": "stream",
     "text": [
      "50382\n",
      "(75573, 2)\n",
      "True\n",
      "(82161, 2)\n",
      "True\n",
      "2196\n",
      "54774\n",
      "<trimesh.Path3D(vertices.shape=(27389, 3), len(entities)=0)>\n"
     ]
    }
   ],
   "source": [
    "\n",
    "name = 'result/armadillo_0.obj'\n",
    "mesh = read_mesh_trimesh(name)\n",
    "# print(np.all(mesh.face_adjacency_span < np.pi))\n",
    "# print(mesh.edges_unique)\n",
    "print(mesh.faces.shape[0])\n",
    "v_count = reduce_Angles(mesh)\n",
    "print(v_count)\n",
    "print(mesh.faces.shape[0])\n",
    "print(mesh.outline())\n",
    "# print(mesh.faces)\n",
    "# print(mesh.faces) \n",
    "#print(v_count)\n",
    "write_mesh_o3d('../models/result/test_cut_obtuse.obj', mesh.as_open3d)\n",
    "\n"
   ]
  },
  {
   "cell_type": "code",
   "execution_count": null,
   "metadata": {},
   "outputs": [],
   "source": []
  },
  {
   "cell_type": "code",
   "execution_count": 218,
   "metadata": {},
   "outputs": [
    {
     "name": "stderr",
     "output_type": "stream",
     "text": [
      "100%|██████████| 84915/84915 [00:09<00:00, 8911.50it/s]\n"
     ]
    }
   ],
   "source": [
    "def get_edge(mesh, v1, v2):\n",
    "    edges_unique = np.asarray(mesh.edges_unique)\n",
    "    if v1 > v2:\n",
    "        v1, v2 = v2, v1\n",
    "    e = np.where((edges_unique[:, 0]==v1)&(edges_unique[:, 1]==v2))\n",
    "    return e[0].item()\n",
    "\n",
    "faces = np.asarray(mesh.faces)\n",
    "elist = []\n",
    "for face_adj in tqdm(mesh.face_adjacency):\n",
    "    ei = get_edge(mesh, *np.intersect1d(*faces[face_adj]))\n",
    "    elist.append(ei)"
   ]
  },
  {
   "cell_type": "code",
   "execution_count": 227,
   "metadata": {},
   "outputs": [
    {
     "name": "stdout",
     "output_type": "stream",
     "text": [
      "(84915,) (85716,)\n"
     ]
    }
   ],
   "source": [
    "earray = np.array(elist)\n",
    "eindices = np.arange(0, mesh.edges_unique.shape[0])\n",
    "print(earray.shape, eindices.shape)\n",
    "de = np.setdiff1d(eindices, earray)\n",
    "v_color = np.ones_like(mesh.vertices)\n",
    "c = np.array([1., 0., 0.])\n",
    "for e in de:\n",
    "    v1, v2 = mesh.edges_unique[e]\n",
    "    v_color[v1] = c\n",
    "    v_color[v2] = c\n",
    "write_trimesh_with_color(mesh, '../models/result/test_cut_obtuse_color.obj', v_color)"
   ]
  },
  {
   "cell_type": "code",
   "execution_count": 240,
   "metadata": {},
   "outputs": [
    {
     "name": "stdout",
     "output_type": "stream",
     "text": [
      "3.1392468069237287\n",
      "(82161, 2)\n",
      "True\n",
      "(88104, 2)\n",
      "True\n",
      "1981\n",
      "(88104, 2)\n",
      "True\n",
      "(93390, 2)\n",
      "True\n",
      "1762\n",
      "(93390, 2)\n",
      "True\n",
      "(97677, 2)\n",
      "True\n",
      "1429\n",
      "(97677, 2)\n",
      "True\n",
      "(101391, 2)\n",
      "True\n",
      "1238\n",
      "(101391, 2)\n",
      "True\n",
      "(104517, 2)\n",
      "True\n",
      "1042\n",
      "3.141445919043002\n"
     ]
    }
   ],
   "source": [
    "print(mesh.face_angles.max())\n",
    "for i in range(5):\n",
    "    v_count = reduce_Angles(mesh)\n",
    "    print(v_count)\n",
    "print(mesh.face_angles.max())# ? biandale  wcao"
   ]
  },
  {
   "cell_type": "code",
   "execution_count": 229,
   "metadata": {},
   "outputs": [],
   "source": [
    "# Introduction and Criticism\n",
    "\n",
    "# to make sure obtuse is smaller, the threshold make be bigger than 120 degree\n",
    "# x/2 + 180 - x < x ==> x > 120\n",
    "\n",
    "#     A\n",
    "#    /\n",
    "#   /\n",
    "#  B-------------D-------------C\n",
    "# BAC is X, if ACD exist and ADC < BAC(obtuse smaller), then x/2+180-x<x\n",
    "\n",
    "# 110 will not gurantee this!! (110 + 69 + 1） will make a bigger obtuse!"
   ]
  },
  {
   "cell_type": "code",
   "execution_count": 47,
   "metadata": {},
   "outputs": [
    {
     "name": "stdout",
     "output_type": "stream",
     "text": [
      "Calculating Voronoi Diagram.\n",
      "Calculating the Voronoi Pole for each vertex.\n"
     ]
    },
    {
     "name": "stderr",
     "output_type": "stream",
     "text": [
      "100%|██████████| 25193/25193 [00:01<00:00, 20742.52it/s]\n"
     ]
    },
    {
     "name": "stdout",
     "output_type": "stream",
     "text": [
      "processing200.51.5\n",
      "Constructing Laplace Matrix.\n",
      "50382\n",
      "2.482933512073437 0.0\n"
     ]
    },
    {
     "data": {
      "text/plain": [
       "3.130051856485212"
      ]
     },
     "execution_count": 47,
     "metadata": {},
     "output_type": "execute_result"
    }
   ],
   "source": [
    "### Iteration\n",
    "it = 1\n",
    "wL_list = [20]#[20,10,1.5,1,0.5,0.05,0.005,0.0005,0.00001]\n",
    "wH_list = [0.5]#[20,10,1.5,1,0.5,0.05,0.005,0.0005,0.00001]\n",
    "wM_list = [1.5]#[20,10,1.5,1,0.5,0.05,0.005,0.0005,0.00001]\n",
    "name = 'armadillo'\n",
    "new_mesh = name + '_0_smooth.obj'\n",
    "# new_mesh = 'asculpt.obj'\n",
    "mesh = read_mesh_trimesh(name+'.obj')\n",
    "voronoi_poles = calculate_voronoi_poles(mesh)\n",
    "for wL in wL_list:\n",
    "    for wH in wH_list:\n",
    "        for wM in wM_list:\n",
    "            for i in range(it):\n",
    "                mesh = read_mesh_trimesh(name+'.obj')\n",
    "                print(\"processing\"+str(wL)+str(wH)+str(wM))\n",
    "\n",
    "                laplace_csr = trimesh_Generate_Laplace_matrix(mesh)\n",
    "                # if i > 0:\n",
    "                #     laplace_csr *= -10 * np.power(10,i)\n",
    "                # print(np.mean(laplace_csr))\n",
    "                vertices = get_vertices_from_trimesh(mesh)\n",
    "                A, b = construct_Equation(wL, wH, wM, vertices, laplace_csr, voronoi_poles)\n",
    "\n",
    "                new_vertices0 = lsqr(A, b[:, 0])\n",
    "                new_vertices1 = lsqr(A, b[:, 1])\n",
    "                new_vertices2 = lsqr(A, b[:, 2])\n",
    "\n",
    "                new_vertices = np.zeros(vertices.shape)\n",
    "                new_vertices[:, 0] = new_vertices0[0]\n",
    "                new_vertices[:, 1] = new_vertices1[0]\n",
    "                new_vertices[:, 2] = new_vertices2[0]\n",
    "\n",
    "                mesh.vertices = new_vertices\n",
    "                \n",
    "                # save_index = int(i/3)\n",
    "                # mesh = mesh.smoothed()\n",
    "                # mesh = mesh.subdivide_to_size(average_edge_length(mesh))\n",
    "                # laplacian_smoothing(mesh,smooth_factor = 1.0)\n",
    "                # mesh = subdivide_based_on_angle(mesh, 0.9)\n",
    "                new_mesh = name +str(i)+'_%d_smooth.obj' \n",
    "                write_mesh_o3d('../models/result/' + new_mesh, mesh.as_open3d)\n",
    "                # mesh = read_mesh_trimesh('result/' + new_mesh)\n",
    "                # laplacian_smoothing(mesh,smooth_factor = 1.0)\n",
    "                # new_mesh = name +str(wL)+str(wH)+str(wM) +'_%d_smooth.obj' % (save_index + 1)\n",
    "                # smoothed_mesh = '%d_smooth.obj' % (save_index + 1)\n",
    "                # write_mesh_o3d('../models/result/' + smoothed_mesh, mesh.as_open3d)\n",
    "                # print(\"Done one time-----------------------------\")\n",
    "            \n",
    "(mesh.face_angles).max()\n"
   ]
  },
  {
   "cell_type": "code",
   "execution_count": null,
   "metadata": {},
   "outputs": [],
   "source": [
    "# if threshold: 1.8 3.1300 -> 3.1353\n",
    "# if 2.1 : "
   ]
  },
  {
   "cell_type": "code",
   "execution_count": null,
   "metadata": {},
   "outputs": [],
   "source": [
    "def collapse_mesh(mesh):\n",
    "    vertices = mesh.vertices\n",
    "    faces = mesh.faces"
   ]
  }
 ],
 "metadata": {
  "kernelspec": {
   "display_name": "Python 3 (ipykernel)",
   "language": "python",
   "name": "python3"
  },
  "language_info": {
   "codemirror_mode": {
    "name": "ipython",
    "version": 3
   },
   "file_extension": ".py",
   "mimetype": "text/x-python",
   "name": "python",
   "nbconvert_exporter": "python",
   "pygments_lexer": "ipython3",
   "version": "3.9.15"
  }
 },
 "nbformat": 4,
 "nbformat_minor": 2
}
