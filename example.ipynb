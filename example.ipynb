{
 "cells": [
  {
   "cell_type": "code",
   "execution_count": 1,
   "metadata": {},
   "outputs": [],
   "source": [
    "from src.msf import MSF"
   ]
  },
  {
   "cell_type": "code",
   "execution_count": 2,
   "metadata": {},
   "outputs": [],
   "source": [
    "import json\n",
    "d = json.load(open(\"config.json\"))"
   ]
  },
  {
   "cell_type": "code",
   "execution_count": 3,
   "metadata": {},
   "outputs": [
    {
     "name": "stdout",
     "output_type": "stream",
     "text": [
      "Loading mesh.\n",
      "Performing mesh reconstruction.\n",
      "Calculating Voronoi Diagram.\n"
     ]
    },
    {
     "name": "stderr",
     "output_type": "stream",
     "text": [
      "Set Voronoi pole for each vertex: 100%|██████████| 25193/25193 [00:00<00:00, 25417.54it/s]\n"
     ]
    },
    {
     "name": "stdout",
     "output_type": "stream",
     "text": [
      "162 vertices collapsed in 8 iterations.\n",
      "1 vertices added in 2 iterations.\n"
     ]
    }
   ],
   "source": [
    "msf = MSF()\n",
    "msf.load_mesh(\"../models/armadillo.obj\")"
   ]
  },
  {
   "cell_type": "code",
   "execution_count": 4,
   "metadata": {},
   "outputs": [
    {
     "name": "stdout",
     "output_type": "stream",
     "text": [
      "-------------------------------------\n",
      "Iteration 1:\n"
     ]
    },
    {
     "name": "stderr",
     "output_type": "stream",
     "text": [
      "Constructing Tangent Laplace Matrix.: 100%|██████████| 50060/50060 [00:02<00:00, 23894.09it/s]\n"
     ]
    },
    {
     "name": "stdout",
     "output_type": "stream",
     "text": [
      "Solving linear system.\n",
      "Perform Implicit Laplacian mesh smoothing.\n"
     ]
    },
    {
     "name": "stderr",
     "output_type": "stream",
     "text": [
      "Constructing Tangent Laplace Matrix.: 100%|██████████| 50060/50060 [00:02<00:00, 24248.19it/s]\n",
      "Implicit Laplacian mesh smoothing: 100%|██████████| 1/1 [00:00<00:00,  5.03it/s]\n"
     ]
    },
    {
     "name": "stdout",
     "output_type": "stream",
     "text": [
      "Optimizing mesh.\n",
      "5975 vertices collapsed in 18 iterations.\n",
      "5084 vertices added in 5 iterations.\n",
      "Trying to fix vertices.\n",
      "6 vertices fixed in this interation.\n"
     ]
    }
   ],
   "source": [
    "msf.iterate()"
   ]
  },
  {
   "cell_type": "code",
   "execution_count": 5,
   "metadata": {},
   "outputs": [
    {
     "name": "stdout",
     "output_type": "stream",
     "text": [
      "-------------------------------------\n",
      "Iteration 2:\n"
     ]
    },
    {
     "name": "stderr",
     "output_type": "stream",
     "text": [
      "Constructing Tangent Laplace Matrix.: 100%|██████████| 48278/48278 [00:01<00:00, 24477.14it/s]\n"
     ]
    },
    {
     "name": "stdout",
     "output_type": "stream",
     "text": [
      "Solving linear system.\n",
      "Perform Implicit Laplacian mesh smoothing.\n"
     ]
    },
    {
     "name": "stderr",
     "output_type": "stream",
     "text": [
      "Constructing Tangent Laplace Matrix.: 100%|██████████| 48278/48278 [00:01<00:00, 24307.22it/s]\n",
      "Implicit Laplacian mesh smoothing: 100%|██████████| 1/1 [00:00<00:00,  6.24it/s]\n"
     ]
    },
    {
     "name": "stdout",
     "output_type": "stream",
     "text": [
      "Optimizing mesh.\n",
      "12647 vertices collapsed in 22 iterations.\n",
      "3104 vertices added in 4 iterations.\n",
      "Trying to fix vertices.\n",
      "73 vertices fixed in this interation.\n",
      "-------------------------------------\n",
      "Iteration 3:\n"
     ]
    },
    {
     "name": "stderr",
     "output_type": "stream",
     "text": [
      "Constructing Tangent Laplace Matrix.: 100%|██████████| 29192/29192 [00:01<00:00, 24434.99it/s]\n"
     ]
    },
    {
     "name": "stdout",
     "output_type": "stream",
     "text": [
      "Solving linear system.\n",
      "Perform Implicit Laplacian mesh smoothing.\n"
     ]
    },
    {
     "name": "stderr",
     "output_type": "stream",
     "text": [
      "Constructing Tangent Laplace Matrix.: 100%|██████████| 29192/29192 [00:01<00:00, 22844.09it/s]\n",
      "Implicit Laplacian mesh smoothing: 100%|██████████| 1/1 [00:00<00:00, 17.95it/s]\n"
     ]
    },
    {
     "name": "stdout",
     "output_type": "stream",
     "text": [
      "Optimizing mesh.\n",
      "5203 vertices collapsed in 14 iterations.\n",
      "1178 vertices added in 4 iterations.\n",
      "Trying to fix vertices.\n",
      "151 vertices fixed in this interation.\n",
      "-------------------------------------\n",
      "Iteration 4:\n"
     ]
    },
    {
     "name": "stderr",
     "output_type": "stream",
     "text": [
      "Constructing Tangent Laplace Matrix.: 100%|██████████| 21142/21142 [00:00<00:00, 25821.44it/s]\n"
     ]
    },
    {
     "name": "stdout",
     "output_type": "stream",
     "text": [
      "Solving linear system.\n",
      "Perform Implicit Laplacian mesh smoothing.\n"
     ]
    },
    {
     "name": "stderr",
     "output_type": "stream",
     "text": [
      "Constructing Tangent Laplace Matrix.: 100%|██████████| 21142/21142 [00:00<00:00, 25477.96it/s]\n",
      "Implicit Laplacian mesh smoothing: 100%|██████████| 1/1 [00:00<00:00, 29.13it/s]\n"
     ]
    },
    {
     "name": "stdout",
     "output_type": "stream",
     "text": [
      "Optimizing mesh.\n",
      "2800 vertices collapsed in 12 iterations.\n",
      "1197 vertices added in 4 iterations.\n",
      "Trying to fix vertices.\n",
      "140 vertices fixed in this interation.\n",
      "-------------------------------------\n",
      "Iteration 5:\n"
     ]
    },
    {
     "name": "stderr",
     "output_type": "stream",
     "text": [
      "Constructing Tangent Laplace Matrix.: 100%|██████████| 17936/17936 [00:00<00:00, 26023.40it/s]\n"
     ]
    },
    {
     "name": "stdout",
     "output_type": "stream",
     "text": [
      "Solving linear system.\n",
      "Perform Implicit Laplacian mesh smoothing.\n"
     ]
    },
    {
     "name": "stderr",
     "output_type": "stream",
     "text": [
      "Constructing Tangent Laplace Matrix.: 100%|██████████| 17936/17936 [00:00<00:00, 26790.38it/s]\n",
      "Implicit Laplacian mesh smoothing: 100%|██████████| 1/1 [00:00<00:00, 41.22it/s]\n"
     ]
    },
    {
     "name": "stdout",
     "output_type": "stream",
     "text": [
      "Optimizing mesh.\n",
      "2369 vertices collapsed in 12 iterations.\n",
      "1159 vertices added in 4 iterations.\n",
      "Trying to fix vertices.\n",
      "217 vertices fixed in this interation.\n",
      "-------------------------------------\n",
      "Iteration 6:\n"
     ]
    },
    {
     "name": "stderr",
     "output_type": "stream",
     "text": [
      "Constructing Tangent Laplace Matrix.: 100%|██████████| 15516/15516 [00:00<00:00, 25728.02it/s]\n"
     ]
    },
    {
     "name": "stdout",
     "output_type": "stream",
     "text": [
      "Solving linear system.\n",
      "Perform Implicit Laplacian mesh smoothing.\n"
     ]
    },
    {
     "name": "stderr",
     "output_type": "stream",
     "text": [
      "Constructing Tangent Laplace Matrix.: 100%|██████████| 15516/15516 [00:00<00:00, 24855.99it/s]\n",
      "Implicit Laplacian mesh smoothing: 100%|██████████| 1/1 [00:00<00:00, 50.01it/s]\n"
     ]
    },
    {
     "name": "stdout",
     "output_type": "stream",
     "text": [
      "Optimizing mesh.\n",
      "1712 vertices collapsed in 12 iterations.\n",
      "1046 vertices added in 5 iterations.\n",
      "Trying to fix vertices.\n",
      "274 vertices fixed in this interation.\n",
      "-------------------------------------\n",
      "Iteration 7:\n"
     ]
    },
    {
     "name": "stderr",
     "output_type": "stream",
     "text": [
      "Constructing Tangent Laplace Matrix.: 100%|██████████| 14184/14184 [00:00<00:00, 23499.20it/s]\n"
     ]
    },
    {
     "name": "stdout",
     "output_type": "stream",
     "text": [
      "Solving linear system.\n",
      "Perform Implicit Laplacian mesh smoothing.\n"
     ]
    },
    {
     "name": "stderr",
     "output_type": "stream",
     "text": [
      "Constructing Tangent Laplace Matrix.: 100%|██████████| 14184/14184 [00:00<00:00, 25431.65it/s]\n",
      "Implicit Laplacian mesh smoothing: 100%|██████████| 1/1 [00:00<00:00, 59.48it/s]\n"
     ]
    },
    {
     "name": "stdout",
     "output_type": "stream",
     "text": [
      "Optimizing mesh.\n",
      "1262 vertices collapsed in 9 iterations.\n",
      "931 vertices added in 4 iterations.\n",
      "Trying to fix vertices.\n",
      "351 vertices fixed in this interation.\n",
      "-------------------------------------\n",
      "Iteration 8:\n"
     ]
    },
    {
     "name": "stderr",
     "output_type": "stream",
     "text": [
      "Constructing Tangent Laplace Matrix.: 100%|██████████| 13522/13522 [00:00<00:00, 29934.27it/s]\n"
     ]
    },
    {
     "name": "stdout",
     "output_type": "stream",
     "text": [
      "Solving linear system.\n",
      "Perform Implicit Laplacian mesh smoothing.\n"
     ]
    },
    {
     "name": "stderr",
     "output_type": "stream",
     "text": [
      "Constructing Tangent Laplace Matrix.: 100%|██████████| 13522/13522 [00:00<00:00, 25544.91it/s]\n",
      "Implicit Laplacian mesh smoothing: 100%|██████████| 1/1 [00:00<00:00, 60.31it/s]\n"
     ]
    },
    {
     "name": "stdout",
     "output_type": "stream",
     "text": [
      "Optimizing mesh.\n",
      "1082 vertices collapsed in 8 iterations.\n",
      "736 vertices added in 4 iterations.\n",
      "Trying to fix vertices.\n",
      "277 vertices fixed in this interation.\n",
      "-------------------------------------\n",
      "Iteration 9:\n"
     ]
    },
    {
     "name": "stderr",
     "output_type": "stream",
     "text": [
      "Constructing Tangent Laplace Matrix.: 100%|██████████| 12830/12830 [00:00<00:00, 28858.63it/s]\n"
     ]
    },
    {
     "name": "stdout",
     "output_type": "stream",
     "text": [
      "Solving linear system.\n",
      "Perform Implicit Laplacian mesh smoothing.\n"
     ]
    },
    {
     "name": "stderr",
     "output_type": "stream",
     "text": [
      "Constructing Tangent Laplace Matrix.: 100%|██████████| 12830/12830 [00:00<00:00, 30402.69it/s]\n",
      "Implicit Laplacian mesh smoothing: 100%|██████████| 1/1 [00:00<00:00, 70.38it/s]\n"
     ]
    },
    {
     "name": "stdout",
     "output_type": "stream",
     "text": [
      "Optimizing mesh.\n",
      "894 vertices collapsed in 8 iterations.\n",
      "581 vertices added in 4 iterations.\n",
      "Trying to fix vertices.\n",
      "144 vertices fixed in this interation.\n",
      "-------------------------------------\n",
      "Iteration 10:\n"
     ]
    },
    {
     "name": "stderr",
     "output_type": "stream",
     "text": [
      "Constructing Tangent Laplace Matrix.: 100%|██████████| 12204/12204 [00:00<00:00, 28565.07it/s]\n"
     ]
    },
    {
     "name": "stdout",
     "output_type": "stream",
     "text": [
      "Solving linear system.\n",
      "Perform Implicit Laplacian mesh smoothing.\n"
     ]
    },
    {
     "name": "stderr",
     "output_type": "stream",
     "text": [
      "Constructing Tangent Laplace Matrix.: 100%|██████████| 12204/12204 [00:00<00:00, 29849.96it/s]\n",
      "Implicit Laplacian mesh smoothing: 100%|██████████| 1/1 [00:00<00:00, 58.14it/s]\n"
     ]
    },
    {
     "name": "stdout",
     "output_type": "stream",
     "text": [
      "Optimizing mesh.\n",
      "799 vertices collapsed in 10 iterations.\n",
      "458 vertices added in 4 iterations.\n",
      "Trying to fix vertices.\n",
      "139 vertices fixed in this interation.\n",
      "-------------------------------------\n",
      "Iteration 11:\n"
     ]
    },
    {
     "name": "stderr",
     "output_type": "stream",
     "text": [
      "Constructing Tangent Laplace Matrix.: 100%|██████████| 11522/11522 [00:00<00:00, 29660.43it/s]\n"
     ]
    },
    {
     "name": "stdout",
     "output_type": "stream",
     "text": [
      "Solving linear system.\n",
      "Perform Implicit Laplacian mesh smoothing.\n"
     ]
    },
    {
     "name": "stderr",
     "output_type": "stream",
     "text": [
      "Constructing Tangent Laplace Matrix.: 100%|██████████| 11522/11522 [00:00<00:00, 28901.38it/s]\n",
      "Implicit Laplacian mesh smoothing: 100%|██████████| 1/1 [00:00<00:00, 84.26it/s]\n"
     ]
    },
    {
     "name": "stdout",
     "output_type": "stream",
     "text": [
      "Optimizing mesh.\n",
      "664 vertices collapsed in 10 iterations.\n",
      "371 vertices added in 4 iterations.\n",
      "Trying to fix vertices.\n",
      "87 vertices fixed in this interation.\n",
      "-------------------------------------\n",
      "Iteration 12:\n"
     ]
    },
    {
     "name": "stderr",
     "output_type": "stream",
     "text": [
      "Constructing Tangent Laplace Matrix.: 100%|██████████| 10936/10936 [00:00<00:00, 28852.96it/s]\n"
     ]
    },
    {
     "name": "stdout",
     "output_type": "stream",
     "text": [
      "Solving linear system.\n",
      "Perform Implicit Laplacian mesh smoothing.\n"
     ]
    },
    {
     "name": "stderr",
     "output_type": "stream",
     "text": [
      "Constructing Tangent Laplace Matrix.: 100%|██████████| 10936/10936 [00:00<00:00, 29786.61it/s]\n",
      "Implicit Laplacian mesh smoothing: 100%|██████████| 1/1 [00:00<00:00, 73.95it/s]\n"
     ]
    },
    {
     "name": "stdout",
     "output_type": "stream",
     "text": [
      "Optimizing mesh.\n",
      "542 vertices collapsed in 10 iterations.\n",
      "303 vertices added in 4 iterations.\n",
      "Trying to fix vertices.\n",
      "41 vertices fixed in this interation.\n",
      "-------------------------------------\n",
      "Iteration 13:\n"
     ]
    },
    {
     "name": "stderr",
     "output_type": "stream",
     "text": [
      "Constructing Tangent Laplace Matrix.: 100%|██████████| 10458/10458 [00:00<00:00, 31084.66it/s]\n"
     ]
    },
    {
     "name": "stdout",
     "output_type": "stream",
     "text": [
      "Solving linear system.\n",
      "Perform Implicit Laplacian mesh smoothing.\n"
     ]
    },
    {
     "name": "stderr",
     "output_type": "stream",
     "text": [
      "Constructing Tangent Laplace Matrix.: 100%|██████████| 10458/10458 [00:00<00:00, 30681.76it/s]\n",
      "Implicit Laplacian mesh smoothing: 100%|██████████| 1/1 [00:00<00:00, 97.74it/s]\n"
     ]
    },
    {
     "name": "stdout",
     "output_type": "stream",
     "text": [
      "Optimizing mesh.\n",
      "503 vertices collapsed in 9 iterations.\n",
      "306 vertices added in 4 iterations.\n",
      "Trying to fix vertices.\n",
      "52 vertices fixed in this interation.\n",
      "-------------------------------------\n",
      "Iteration 14:\n"
     ]
    },
    {
     "name": "stderr",
     "output_type": "stream",
     "text": [
      "Constructing Tangent Laplace Matrix.: 100%|██████████| 10064/10064 [00:00<00:00, 29428.91it/s]\n"
     ]
    },
    {
     "name": "stdout",
     "output_type": "stream",
     "text": [
      "Solving linear system.\n",
      "Perform Implicit Laplacian mesh smoothing.\n"
     ]
    },
    {
     "name": "stderr",
     "output_type": "stream",
     "text": [
      "Constructing Tangent Laplace Matrix.: 100%|██████████| 10064/10064 [00:00<00:00, 29795.34it/s]\n",
      "Implicit Laplacian mesh smoothing: 100%|██████████| 1/1 [00:00<00:00, 104.37it/s]\n"
     ]
    },
    {
     "name": "stdout",
     "output_type": "stream",
     "text": [
      "Optimizing mesh.\n",
      "480 vertices collapsed in 10 iterations.\n",
      "244 vertices added in 4 iterations.\n",
      "Trying to fix vertices.\n",
      "56 vertices fixed in this interation.\n",
      "-------------------------------------\n",
      "Iteration 15:\n"
     ]
    },
    {
     "name": "stderr",
     "output_type": "stream",
     "text": [
      "Constructing Tangent Laplace Matrix.: 100%|██████████| 9592/9592 [00:00<00:00, 33429.41it/s]\n"
     ]
    },
    {
     "name": "stdout",
     "output_type": "stream",
     "text": [
      "Solving linear system.\n",
      "Perform Implicit Laplacian mesh smoothing.\n"
     ]
    },
    {
     "name": "stderr",
     "output_type": "stream",
     "text": [
      "Constructing Tangent Laplace Matrix.: 100%|██████████| 9592/9592 [00:00<00:00, 29406.02it/s]\n",
      "Implicit Laplacian mesh smoothing: 100%|██████████| 1/1 [00:00<00:00, 105.98it/s]\n"
     ]
    },
    {
     "name": "stdout",
     "output_type": "stream",
     "text": [
      "Optimizing mesh.\n",
      "394 vertices collapsed in 10 iterations.\n",
      "227 vertices added in 4 iterations.\n",
      "Trying to fix vertices.\n",
      "40 vertices fixed in this interation.\n",
      "-------------------------------------\n",
      "Iteration 16:\n"
     ]
    },
    {
     "name": "stderr",
     "output_type": "stream",
     "text": [
      "Constructing Tangent Laplace Matrix.: 100%|██████████| 9258/9258 [00:00<00:00, 32419.03it/s]\n"
     ]
    },
    {
     "name": "stdout",
     "output_type": "stream",
     "text": [
      "Solving linear system.\n",
      "Perform Implicit Laplacian mesh smoothing.\n"
     ]
    },
    {
     "name": "stderr",
     "output_type": "stream",
     "text": [
      "Constructing Tangent Laplace Matrix.: 100%|██████████| 9258/9258 [00:00<00:00, 37394.47it/s]\n",
      "Implicit Laplacian mesh smoothing: 100%|██████████| 1/1 [00:00<00:00, 123.51it/s]\n"
     ]
    },
    {
     "name": "stdout",
     "output_type": "stream",
     "text": [
      "Optimizing mesh.\n",
      "376 vertices collapsed in 11 iterations.\n",
      "197 vertices added in 4 iterations.\n",
      "Trying to fix vertices.\n",
      "33 vertices fixed in this interation.\n",
      "-------------------------------------\n",
      "Iteration 17:\n"
     ]
    },
    {
     "name": "stderr",
     "output_type": "stream",
     "text": [
      "Constructing Tangent Laplace Matrix.: 100%|██████████| 8900/8900 [00:00<00:00, 31765.43it/s]\n"
     ]
    },
    {
     "name": "stdout",
     "output_type": "stream",
     "text": [
      "Solving linear system.\n",
      "Perform Implicit Laplacian mesh smoothing.\n"
     ]
    },
    {
     "name": "stderr",
     "output_type": "stream",
     "text": [
      "Constructing Tangent Laplace Matrix.: 100%|██████████| 8900/8900 [00:00<00:00, 33084.00it/s]\n",
      "Implicit Laplacian mesh smoothing: 100%|██████████| 1/1 [00:00<00:00, 139.00it/s]\n"
     ]
    },
    {
     "name": "stdout",
     "output_type": "stream",
     "text": [
      "Optimizing mesh.\n",
      "295 vertices collapsed in 8 iterations.\n",
      "182 vertices added in 4 iterations.\n",
      "Trying to fix vertices.\n",
      "42 vertices fixed in this interation.\n",
      "-------------------------------------\n",
      "Iteration 18:\n"
     ]
    },
    {
     "name": "stderr",
     "output_type": "stream",
     "text": [
      "Constructing Tangent Laplace Matrix.: 100%|██████████| 8674/8674 [00:00<00:00, 32501.70it/s]\n"
     ]
    },
    {
     "name": "stdout",
     "output_type": "stream",
     "text": [
      "Solving linear system.\n",
      "Perform Implicit Laplacian mesh smoothing.\n"
     ]
    },
    {
     "name": "stderr",
     "output_type": "stream",
     "text": [
      "Constructing Tangent Laplace Matrix.: 100%|██████████| 8674/8674 [00:00<00:00, 31295.66it/s]\n",
      "Implicit Laplacian mesh smoothing: 100%|██████████| 1/1 [00:00<00:00, 150.74it/s]\n"
     ]
    },
    {
     "name": "stdout",
     "output_type": "stream",
     "text": [
      "Optimizing mesh.\n",
      "274 vertices collapsed in 6 iterations.\n",
      "156 vertices added in 3 iterations.\n",
      "Trying to fix vertices.\n",
      "31 vertices fixed in this interation.\n",
      "-------------------------------------\n",
      "Iteration 19:\n"
     ]
    },
    {
     "name": "stderr",
     "output_type": "stream",
     "text": [
      "Constructing Tangent Laplace Matrix.: 100%|██████████| 8438/8438 [00:00<00:00, 32457.21it/s]\n"
     ]
    },
    {
     "name": "stdout",
     "output_type": "stream",
     "text": [
      "Solving linear system.\n",
      "Perform Implicit Laplacian mesh smoothing.\n"
     ]
    },
    {
     "name": "stderr",
     "output_type": "stream",
     "text": [
      "Constructing Tangent Laplace Matrix.: 100%|██████████| 8438/8438 [00:00<00:00, 32529.67it/s]\n",
      "Implicit Laplacian mesh smoothing: 100%|██████████| 1/1 [00:00<00:00, 117.13it/s]\n"
     ]
    },
    {
     "name": "stdout",
     "output_type": "stream",
     "text": [
      "Optimizing mesh.\n",
      "231 vertices collapsed in 7 iterations.\n",
      "127 vertices added in 4 iterations.\n",
      "Trying to fix vertices.\n",
      "28 vertices fixed in this interation.\n",
      "-------------------------------------\n",
      "Iteration 20:\n"
     ]
    },
    {
     "name": "stderr",
     "output_type": "stream",
     "text": [
      "Constructing Tangent Laplace Matrix.: 100%|██████████| 8230/8230 [00:00<00:00, 34422.05it/s]\n"
     ]
    },
    {
     "name": "stdout",
     "output_type": "stream",
     "text": [
      "Solving linear system.\n",
      "Perform Implicit Laplacian mesh smoothing.\n"
     ]
    },
    {
     "name": "stderr",
     "output_type": "stream",
     "text": [
      "Constructing Tangent Laplace Matrix.: 100%|██████████| 8230/8230 [00:00<00:00, 32783.22it/s]\n",
      "Implicit Laplacian mesh smoothing: 100%|██████████| 1/1 [00:00<00:00, 160.92it/s]\n"
     ]
    },
    {
     "name": "stdout",
     "output_type": "stream",
     "text": [
      "Optimizing mesh.\n",
      "212 vertices collapsed in 6 iterations.\n",
      "114 vertices added in 4 iterations.\n",
      "Trying to fix vertices.\n",
      "21 vertices fixed in this interation.\n",
      "-------------------------------------\n",
      "Iteration 21:\n"
     ]
    },
    {
     "name": "stderr",
     "output_type": "stream",
     "text": [
      "Constructing Tangent Laplace Matrix.: 100%|██████████| 8034/8034 [00:00<00:00, 33945.01it/s]\n"
     ]
    },
    {
     "name": "stdout",
     "output_type": "stream",
     "text": [
      "Solving linear system.\n",
      "Perform Implicit Laplacian mesh smoothing.\n"
     ]
    },
    {
     "name": "stderr",
     "output_type": "stream",
     "text": [
      "Constructing Tangent Laplace Matrix.: 100%|██████████| 8034/8034 [00:00<00:00, 33883.29it/s]\n",
      "Implicit Laplacian mesh smoothing: 100%|██████████| 1/1 [00:00<00:00, 165.48it/s]\n"
     ]
    },
    {
     "name": "stdout",
     "output_type": "stream",
     "text": [
      "Optimizing mesh.\n",
      "183 vertices collapsed in 7 iterations.\n",
      "89 vertices added in 4 iterations.\n",
      "Trying to fix vertices.\n",
      "20 vertices fixed in this interation.\n",
      "-------------------------------------\n",
      "Iteration 22:\n"
     ]
    },
    {
     "name": "stderr",
     "output_type": "stream",
     "text": [
      "Constructing Tangent Laplace Matrix.: 100%|██████████| 7846/7846 [00:00<00:00, 33122.25it/s]\n"
     ]
    },
    {
     "name": "stdout",
     "output_type": "stream",
     "text": [
      "Solving linear system.\n",
      "Perform Implicit Laplacian mesh smoothing.\n"
     ]
    },
    {
     "name": "stderr",
     "output_type": "stream",
     "text": [
      "Constructing Tangent Laplace Matrix.: 100%|██████████| 7846/7846 [00:00<00:00, 30650.00it/s]\n",
      "Implicit Laplacian mesh smoothing: 100%|██████████| 1/1 [00:00<00:00, 181.78it/s]\n"
     ]
    },
    {
     "name": "stdout",
     "output_type": "stream",
     "text": [
      "Optimizing mesh.\n",
      "183 vertices collapsed in 5 iterations.\n",
      "85 vertices added in 4 iterations.\n",
      "Trying to fix vertices.\n",
      "11 vertices fixed in this interation.\n",
      "-------------------------------------\n",
      "Iteration 23:\n"
     ]
    },
    {
     "name": "stderr",
     "output_type": "stream",
     "text": [
      "Constructing Tangent Laplace Matrix.: 100%|██████████| 7650/7650 [00:00<00:00, 31922.34it/s]\n"
     ]
    },
    {
     "name": "stdout",
     "output_type": "stream",
     "text": [
      "Solving linear system.\n",
      "Perform Implicit Laplacian mesh smoothing.\n"
     ]
    },
    {
     "name": "stderr",
     "output_type": "stream",
     "text": [
      "Constructing Tangent Laplace Matrix.: 100%|██████████| 7650/7650 [00:00<00:00, 34596.58it/s]\n",
      "Implicit Laplacian mesh smoothing: 100%|██████████| 1/1 [00:00<00:00, 194.05it/s]\n"
     ]
    },
    {
     "name": "stdout",
     "output_type": "stream",
     "text": [
      "Optimizing mesh.\n",
      "181 vertices collapsed in 6 iterations.\n",
      "79 vertices added in 4 iterations.\n",
      "Trying to fix vertices.\n",
      "13 vertices fixed in this interation.\n",
      "-------------------------------------\n",
      "Iteration 24:\n"
     ]
    },
    {
     "name": "stderr",
     "output_type": "stream",
     "text": [
      "Constructing Tangent Laplace Matrix.: 100%|██████████| 7446/7446 [00:00<00:00, 33613.08it/s]\n"
     ]
    },
    {
     "name": "stdout",
     "output_type": "stream",
     "text": [
      "Solving linear system.\n",
      "Perform Implicit Laplacian mesh smoothing.\n"
     ]
    },
    {
     "name": "stderr",
     "output_type": "stream",
     "text": [
      "Constructing Tangent Laplace Matrix.: 100%|██████████| 7446/7446 [00:00<00:00, 37441.51it/s]\n",
      "Implicit Laplacian mesh smoothing: 100%|██████████| 1/1 [00:00<00:00, 191.97it/s]\n"
     ]
    },
    {
     "name": "stdout",
     "output_type": "stream",
     "text": [
      "Optimizing mesh.\n",
      "169 vertices collapsed in 8 iterations.\n",
      "76 vertices added in 4 iterations.\n",
      "Trying to fix vertices.\n",
      "13 vertices fixed in this interation.\n",
      "-------------------------------------\n",
      "Iteration 25:\n"
     ]
    },
    {
     "name": "stderr",
     "output_type": "stream",
     "text": [
      "Constructing Tangent Laplace Matrix.: 100%|██████████| 7260/7260 [00:00<00:00, 37132.13it/s]\n"
     ]
    },
    {
     "name": "stdout",
     "output_type": "stream",
     "text": [
      "Solving linear system.\n",
      "Perform Implicit Laplacian mesh smoothing.\n"
     ]
    },
    {
     "name": "stderr",
     "output_type": "stream",
     "text": [
      "Constructing Tangent Laplace Matrix.: 100%|██████████| 7260/7260 [00:00<00:00, 34084.54it/s]\n",
      "Implicit Laplacian mesh smoothing: 100%|██████████| 1/1 [00:00<00:00, 202.11it/s]\n"
     ]
    },
    {
     "name": "stdout",
     "output_type": "stream",
     "text": [
      "Optimizing mesh.\n",
      "166 vertices collapsed in 5 iterations.\n",
      "64 vertices added in 4 iterations.\n",
      "Trying to fix vertices.\n",
      "13 vertices fixed in this interation.\n",
      "-------------------------------------\n",
      "Iteration 26:\n"
     ]
    },
    {
     "name": "stderr",
     "output_type": "stream",
     "text": [
      "Constructing Tangent Laplace Matrix.: 100%|██████████| 7056/7056 [00:00<00:00, 36408.32it/s]\n"
     ]
    },
    {
     "name": "stdout",
     "output_type": "stream",
     "text": [
      "Solving linear system.\n",
      "Perform Implicit Laplacian mesh smoothing.\n"
     ]
    },
    {
     "name": "stderr",
     "output_type": "stream",
     "text": [
      "Constructing Tangent Laplace Matrix.: 100%|██████████| 7056/7056 [00:00<00:00, 31944.53it/s]\n",
      "Implicit Laplacian mesh smoothing: 100%|██████████| 1/1 [00:00<00:00, 231.70it/s]\n"
     ]
    },
    {
     "name": "stdout",
     "output_type": "stream",
     "text": [
      "Optimizing mesh.\n",
      "157 vertices collapsed in 6 iterations.\n",
      "58 vertices added in 4 iterations.\n",
      "Trying to fix vertices.\n",
      "14 vertices fixed in this interation.\n",
      "-------------------------------------\n",
      "Iteration 27:\n"
     ]
    },
    {
     "name": "stderr",
     "output_type": "stream",
     "text": [
      "Constructing Tangent Laplace Matrix.: 100%|██████████| 6858/6858 [00:00<00:00, 38850.05it/s]\n"
     ]
    },
    {
     "name": "stdout",
     "output_type": "stream",
     "text": [
      "Solving linear system.\n",
      "Perform Implicit Laplacian mesh smoothing.\n"
     ]
    },
    {
     "name": "stderr",
     "output_type": "stream",
     "text": [
      "Constructing Tangent Laplace Matrix.: 100%|██████████| 6858/6858 [00:00<00:00, 35821.52it/s]\n",
      "Implicit Laplacian mesh smoothing: 100%|██████████| 1/1 [00:00<00:00, 238.10it/s]\n"
     ]
    },
    {
     "name": "stdout",
     "output_type": "stream",
     "text": [
      "Optimizing mesh.\n",
      "148 vertices collapsed in 6 iterations.\n",
      "56 vertices added in 4 iterations.\n",
      "Trying to fix vertices.\n",
      "4 vertices fixed in this interation.\n",
      "-------------------------------------\n",
      "Iteration 28:\n"
     ]
    },
    {
     "name": "stderr",
     "output_type": "stream",
     "text": [
      "Constructing Tangent Laplace Matrix.: 100%|██████████| 6674/6674 [00:00<00:00, 37824.97it/s]\n"
     ]
    },
    {
     "name": "stdout",
     "output_type": "stream",
     "text": [
      "Solving linear system.\n",
      "Perform Implicit Laplacian mesh smoothing.\n"
     ]
    },
    {
     "name": "stderr",
     "output_type": "stream",
     "text": [
      "Constructing Tangent Laplace Matrix.: 100%|██████████| 6674/6674 [00:00<00:00, 36254.45it/s]\n",
      "Implicit Laplacian mesh smoothing: 100%|██████████| 1/1 [00:00<00:00, 244.27it/s]\n"
     ]
    },
    {
     "name": "stdout",
     "output_type": "stream",
     "text": [
      "Optimizing mesh.\n",
      "148 vertices collapsed in 6 iterations.\n",
      "40 vertices added in 3 iterations.\n",
      "Trying to fix vertices.\n",
      "13 vertices fixed in this interation.\n",
      "-------------------------------------\n",
      "Iteration 29:\n"
     ]
    },
    {
     "name": "stderr",
     "output_type": "stream",
     "text": [
      "Constructing Tangent Laplace Matrix.: 100%|██████████| 6458/6458 [00:00<00:00, 37283.52it/s]\n"
     ]
    },
    {
     "name": "stdout",
     "output_type": "stream",
     "text": [
      "Solving linear system.\n",
      "Perform Implicit Laplacian mesh smoothing.\n"
     ]
    },
    {
     "name": "stderr",
     "output_type": "stream",
     "text": [
      "Constructing Tangent Laplace Matrix.: 100%|██████████| 6458/6458 [00:00<00:00, 38638.93it/s]\n",
      "Implicit Laplacian mesh smoothing: 100%|██████████| 1/1 [00:00<00:00, 277.24it/s]\n"
     ]
    },
    {
     "name": "stdout",
     "output_type": "stream",
     "text": [
      "Optimizing mesh.\n",
      "122 vertices collapsed in 6 iterations.\n",
      "43 vertices added in 3 iterations.\n",
      "Trying to fix vertices.\n",
      "14 vertices fixed in this interation.\n",
      "-------------------------------------\n",
      "Iteration 30:\n"
     ]
    },
    {
     "name": "stderr",
     "output_type": "stream",
     "text": [
      "Constructing Tangent Laplace Matrix.: 100%|██████████| 6300/6300 [00:00<00:00, 37944.97it/s]\n"
     ]
    },
    {
     "name": "stdout",
     "output_type": "stream",
     "text": [
      "Solving linear system.\n",
      "Perform Implicit Laplacian mesh smoothing.\n"
     ]
    },
    {
     "name": "stderr",
     "output_type": "stream",
     "text": [
      "Constructing Tangent Laplace Matrix.: 100%|██████████| 6300/6300 [00:00<00:00, 37339.28it/s]\n",
      "Implicit Laplacian mesh smoothing: 100%|██████████| 1/1 [00:00<00:00, 301.31it/s]\n"
     ]
    },
    {
     "name": "stdout",
     "output_type": "stream",
     "text": [
      "Optimizing mesh.\n",
      "129 vertices collapsed in 6 iterations.\n",
      "34 vertices added in 3 iterations.\n",
      "Trying to fix vertices.\n",
      "6 vertices fixed in this interation.\n",
      "-------------------------------------\n",
      "Iteration 31:\n"
     ]
    },
    {
     "name": "stderr",
     "output_type": "stream",
     "text": [
      "Constructing Tangent Laplace Matrix.: 100%|██████████| 6110/6110 [00:00<00:00, 34356.17it/s]\n"
     ]
    },
    {
     "name": "stdout",
     "output_type": "stream",
     "text": [
      "Solving linear system.\n",
      "Perform Implicit Laplacian mesh smoothing.\n"
     ]
    },
    {
     "name": "stderr",
     "output_type": "stream",
     "text": [
      "Constructing Tangent Laplace Matrix.: 100%|██████████| 6110/6110 [00:00<00:00, 36946.34it/s]\n",
      "Implicit Laplacian mesh smoothing: 100%|██████████| 1/1 [00:00<00:00, 327.68it/s]"
     ]
    },
    {
     "name": "stdout",
     "output_type": "stream",
     "text": [
      "Optimizing mesh.\n"
     ]
    },
    {
     "name": "stderr",
     "output_type": "stream",
     "text": [
      "\n"
     ]
    },
    {
     "name": "stdout",
     "output_type": "stream",
     "text": [
      "121 vertices collapsed in 7 iterations.\n",
      "39 vertices added in 3 iterations.\n",
      "Trying to fix vertices.\n",
      "11 vertices fixed in this interation.\n"
     ]
    }
   ],
   "source": [
    "for i in range(35):\n",
    "    msf.iterate()"
   ]
  },
  {
   "cell_type": "code",
   "execution_count": 6,
   "metadata": {},
   "outputs": [
    {
     "name": "stdout",
     "output_type": "stream",
     "text": [
      "-------------------------------------\n",
      "Iteration 32:\n"
     ]
    },
    {
     "name": "stderr",
     "output_type": "stream",
     "text": [
      "Constructing Tangent Laplace Matrix.: 100%|██████████| 5946/5946 [00:00<00:00, 37198.23it/s]"
     ]
    },
    {
     "name": "stdout",
     "output_type": "stream",
     "text": [
      "Solving linear system.\n"
     ]
    },
    {
     "name": "stderr",
     "output_type": "stream",
     "text": [
      "\n"
     ]
    },
    {
     "name": "stdout",
     "output_type": "stream",
     "text": [
      "Perform Implicit Laplacian mesh smoothing.\n"
     ]
    },
    {
     "name": "stderr",
     "output_type": "stream",
     "text": [
      "Constructing Tangent Laplace Matrix.: 100%|██████████| 5946/5946 [00:00<00:00, 36752.94it/s]\n",
      "Implicit Laplacian mesh smoothing: 100%|██████████| 1/1 [00:00<00:00, 311.43it/s]"
     ]
    },
    {
     "name": "stdout",
     "output_type": "stream",
     "text": [
      "Optimizing mesh.\n"
     ]
    },
    {
     "name": "stderr",
     "output_type": "stream",
     "text": [
      "\n"
     ]
    },
    {
     "name": "stdout",
     "output_type": "stream",
     "text": [
      "114 vertices collapsed in 7 iterations.\n",
      "36 vertices added in 3 iterations.\n",
      "Trying to fix vertices.\n",
      "11 vertices fixed in this interation.\n",
      "-------------------------------------\n",
      "Iteration 33:\n"
     ]
    },
    {
     "name": "stderr",
     "output_type": "stream",
     "text": [
      "Constructing Tangent Laplace Matrix.: 100%|██████████| 5790/5790 [00:00<00:00, 41229.04it/s]"
     ]
    },
    {
     "name": "stdout",
     "output_type": "stream",
     "text": [
      "Solving linear system.\n"
     ]
    },
    {
     "name": "stderr",
     "output_type": "stream",
     "text": [
      "\n"
     ]
    },
    {
     "name": "stdout",
     "output_type": "stream",
     "text": [
      "Perform Implicit Laplacian mesh smoothing.\n"
     ]
    },
    {
     "name": "stderr",
     "output_type": "stream",
     "text": [
      "Constructing Tangent Laplace Matrix.: 100%|██████████| 5790/5790 [00:00<00:00, 44529.19it/s]\n",
      "Implicit Laplacian mesh smoothing: 100%|██████████| 1/1 [00:00<00:00, 351.25it/s]"
     ]
    },
    {
     "name": "stdout",
     "output_type": "stream",
     "text": [
      "Optimizing mesh.\n"
     ]
    },
    {
     "name": "stderr",
     "output_type": "stream",
     "text": [
      "\n"
     ]
    },
    {
     "name": "stdout",
     "output_type": "stream",
     "text": [
      "89 vertices collapsed in 8 iterations.\n",
      "39 vertices added in 4 iterations.\n",
      "Trying to fix vertices.\n",
      "5 vertices fixed in this interation.\n",
      "-------------------------------------\n",
      "Iteration 34:\n"
     ]
    },
    {
     "name": "stderr",
     "output_type": "stream",
     "text": [
      "Constructing Tangent Laplace Matrix.: 100%|██████████| 5690/5690 [00:00<00:00, 41211.23it/s]\n"
     ]
    },
    {
     "name": "stdout",
     "output_type": "stream",
     "text": [
      "Solving linear system.\n",
      "Perform Implicit Laplacian mesh smoothing.\n"
     ]
    },
    {
     "name": "stderr",
     "output_type": "stream",
     "text": [
      "Constructing Tangent Laplace Matrix.: 100%|██████████| 5690/5690 [00:00<00:00, 39026.80it/s]\n",
      "Implicit Laplacian mesh smoothing: 100%|██████████| 1/1 [00:00<00:00, 381.82it/s]\n"
     ]
    },
    {
     "name": "stdout",
     "output_type": "stream",
     "text": [
      "Optimizing mesh.\n",
      "73 vertices collapsed in 9 iterations.\n",
      "38 vertices added in 3 iterations.\n",
      "Trying to fix vertices.\n",
      "9 vertices fixed in this interation.\n",
      "-------------------------------------\n",
      "Iteration 35:\n"
     ]
    },
    {
     "name": "stderr",
     "output_type": "stream",
     "text": [
      "Constructing Tangent Laplace Matrix.: 100%|██████████| 5620/5620 [00:00<00:00, 40236.02it/s]\n"
     ]
    },
    {
     "name": "stdout",
     "output_type": "stream",
     "text": [
      "Solving linear system.\n",
      "Perform Implicit Laplacian mesh smoothing.\n"
     ]
    },
    {
     "name": "stderr",
     "output_type": "stream",
     "text": [
      "Constructing Tangent Laplace Matrix.: 100%|██████████| 5620/5620 [00:00<00:00, 47987.79it/s]\n",
      "Implicit Laplacian mesh smoothing: 100%|██████████| 1/1 [00:00<00:00, 450.03it/s]"
     ]
    },
    {
     "name": "stdout",
     "output_type": "stream",
     "text": [
      "Optimizing mesh.\n"
     ]
    },
    {
     "name": "stderr",
     "output_type": "stream",
     "text": [
      "\n"
     ]
    },
    {
     "name": "stdout",
     "output_type": "stream",
     "text": [
      "40 vertices collapsed in 8 iterations.\n",
      "52 vertices added in 4 iterations.\n",
      "Trying to fix vertices.\n",
      "10 vertices fixed in this interation.\n",
      "-------------------------------------\n",
      "Iteration 36:\n"
     ]
    },
    {
     "name": "stderr",
     "output_type": "stream",
     "text": [
      "Constructing Tangent Laplace Matrix.: 100%|██████████| 5644/5644 [00:00<00:00, 39922.51it/s]\n"
     ]
    },
    {
     "name": "stdout",
     "output_type": "stream",
     "text": [
      "Solving linear system.\n",
      "Perform Implicit Laplacian mesh smoothing.\n"
     ]
    },
    {
     "name": "stderr",
     "output_type": "stream",
     "text": [
      "Constructing Tangent Laplace Matrix.: 100%|██████████| 5644/5644 [00:00<00:00, 40567.59it/s]\n",
      "Implicit Laplacian mesh smoothing: 100%|██████████| 1/1 [00:00<00:00, 338.22it/s]\n"
     ]
    },
    {
     "name": "stdout",
     "output_type": "stream",
     "text": [
      "Optimizing mesh.\n",
      "46 vertices collapsed in 7 iterations.\n",
      "40 vertices added in 3 iterations.\n",
      "Trying to fix vertices.\n",
      "14 vertices fixed in this interation.\n",
      "-------------------------------------\n",
      "Iteration 37:\n"
     ]
    },
    {
     "name": "stderr",
     "output_type": "stream",
     "text": [
      "Constructing Tangent Laplace Matrix.: 100%|██████████| 5632/5632 [00:00<00:00, 41300.07it/s]"
     ]
    },
    {
     "name": "stdout",
     "output_type": "stream",
     "text": [
      "Solving linear system.\n"
     ]
    },
    {
     "name": "stderr",
     "output_type": "stream",
     "text": [
      "\n"
     ]
    },
    {
     "name": "stdout",
     "output_type": "stream",
     "text": [
      "Perform Implicit Laplacian mesh smoothing.\n"
     ]
    },
    {
     "name": "stderr",
     "output_type": "stream",
     "text": [
      "Constructing Tangent Laplace Matrix.: 100%|██████████| 5632/5632 [00:00<00:00, 37920.58it/s]\n",
      "Implicit Laplacian mesh smoothing: 100%|██████████| 1/1 [00:00<00:00, 390.75it/s]"
     ]
    },
    {
     "name": "stdout",
     "output_type": "stream",
     "text": [
      "Optimizing mesh.\n"
     ]
    },
    {
     "name": "stderr",
     "output_type": "stream",
     "text": [
      "\n"
     ]
    },
    {
     "name": "stdout",
     "output_type": "stream",
     "text": [
      "37 vertices collapsed in 6 iterations.\n",
      "29 vertices added in 3 iterations.\n",
      "Trying to fix vertices.\n",
      "8 vertices fixed in this interation.\n",
      "-------------------------------------\n",
      "Iteration 38:\n"
     ]
    },
    {
     "name": "stderr",
     "output_type": "stream",
     "text": [
      "Constructing Tangent Laplace Matrix.: 100%|██████████| 5616/5616 [00:00<00:00, 40365.99it/s]"
     ]
    },
    {
     "name": "stdout",
     "output_type": "stream",
     "text": [
      "Solving linear system.\n"
     ]
    },
    {
     "name": "stderr",
     "output_type": "stream",
     "text": [
      "\n"
     ]
    },
    {
     "name": "stdout",
     "output_type": "stream",
     "text": [
      "Perform Implicit Laplacian mesh smoothing.\n"
     ]
    },
    {
     "name": "stderr",
     "output_type": "stream",
     "text": [
      "Constructing Tangent Laplace Matrix.: 100%|██████████| 5616/5616 [00:00<00:00, 42602.56it/s]\n",
      "Implicit Laplacian mesh smoothing: 100%|██████████| 1/1 [00:00<00:00, 411.69it/s]"
     ]
    },
    {
     "name": "stdout",
     "output_type": "stream",
     "text": [
      "Optimizing mesh.\n"
     ]
    },
    {
     "name": "stderr",
     "output_type": "stream",
     "text": [
      "\n"
     ]
    },
    {
     "name": "stdout",
     "output_type": "stream",
     "text": [
      "26 vertices collapsed in 6 iterations.\n",
      "22 vertices added in 3 iterations.\n",
      "Trying to fix vertices.\n",
      "5 vertices fixed in this interation.\n",
      "-------------------------------------\n",
      "Iteration 39:\n"
     ]
    },
    {
     "name": "stderr",
     "output_type": "stream",
     "text": [
      "Constructing Tangent Laplace Matrix.: 100%|██████████| 5608/5608 [00:00<00:00, 46368.92it/s]"
     ]
    },
    {
     "name": "stdout",
     "output_type": "stream",
     "text": [
      "Solving linear system.\n"
     ]
    },
    {
     "name": "stderr",
     "output_type": "stream",
     "text": [
      "\n"
     ]
    },
    {
     "name": "stdout",
     "output_type": "stream",
     "text": [
      "Perform Implicit Laplacian mesh smoothing.\n"
     ]
    },
    {
     "name": "stderr",
     "output_type": "stream",
     "text": [
      "Constructing Tangent Laplace Matrix.: 100%|██████████| 5608/5608 [00:00<00:00, 45442.82it/s]\n",
      "Implicit Laplacian mesh smoothing: 100%|██████████| 1/1 [00:00<00:00, 418.97it/s]"
     ]
    },
    {
     "name": "stdout",
     "output_type": "stream",
     "text": [
      "Optimizing mesh.\n"
     ]
    },
    {
     "name": "stderr",
     "output_type": "stream",
     "text": [
      "\n"
     ]
    },
    {
     "name": "stdout",
     "output_type": "stream",
     "text": [
      "21 vertices collapsed in 5 iterations.\n",
      "19 vertices added in 3 iterations.\n",
      "Trying to fix vertices.\n",
      "2 vertices fixed in this interation.\n",
      "-------------------------------------\n",
      "Iteration 40:\n"
     ]
    },
    {
     "name": "stderr",
     "output_type": "stream",
     "text": [
      "Constructing Tangent Laplace Matrix.: 100%|██████████| 5604/5604 [00:00<00:00, 40383.62it/s]"
     ]
    },
    {
     "name": "stdout",
     "output_type": "stream",
     "text": [
      "Solving linear system.\n"
     ]
    },
    {
     "name": "stderr",
     "output_type": "stream",
     "text": [
      "\n"
     ]
    },
    {
     "name": "stdout",
     "output_type": "stream",
     "text": [
      "Perform Implicit Laplacian mesh smoothing.\n"
     ]
    },
    {
     "name": "stderr",
     "output_type": "stream",
     "text": [
      "Constructing Tangent Laplace Matrix.: 100%|██████████| 5604/5604 [00:00<00:00, 42141.04it/s]\n",
      "Implicit Laplacian mesh smoothing: 100%|██████████| 1/1 [00:00<00:00, 255.28it/s]"
     ]
    },
    {
     "name": "stdout",
     "output_type": "stream",
     "text": [
      "Optimizing mesh.\n"
     ]
    },
    {
     "name": "stderr",
     "output_type": "stream",
     "text": [
      "\n"
     ]
    },
    {
     "name": "stdout",
     "output_type": "stream",
     "text": [
      "17 vertices collapsed in 4 iterations.\n",
      "13 vertices added in 3 iterations.\n",
      "Trying to fix vertices.\n",
      "2 vertices fixed in this interation.\n",
      "-------------------------------------\n",
      "Iteration 41:\n"
     ]
    },
    {
     "name": "stderr",
     "output_type": "stream",
     "text": [
      "Constructing Tangent Laplace Matrix.: 100%|██████████| 5596/5596 [00:00<00:00, 37642.41it/s]"
     ]
    },
    {
     "name": "stdout",
     "output_type": "stream",
     "text": [
      "Solving linear system.\n"
     ]
    },
    {
     "name": "stderr",
     "output_type": "stream",
     "text": [
      "\n"
     ]
    },
    {
     "name": "stdout",
     "output_type": "stream",
     "text": [
      "Perform Implicit Laplacian mesh smoothing.\n"
     ]
    },
    {
     "name": "stderr",
     "output_type": "stream",
     "text": [
      "Constructing Tangent Laplace Matrix.: 100%|██████████| 5596/5596 [00:00<00:00, 40547.15it/s]\n",
      "Implicit Laplacian mesh smoothing: 100%|██████████| 1/1 [00:00<00:00, 392.80it/s]"
     ]
    },
    {
     "name": "stdout",
     "output_type": "stream",
     "text": [
      "Optimizing mesh.\n"
     ]
    },
    {
     "name": "stderr",
     "output_type": "stream",
     "text": [
      "\n"
     ]
    },
    {
     "name": "stdout",
     "output_type": "stream",
     "text": [
      "13 vertices collapsed in 4 iterations.\n",
      "7 vertices added in 2 iterations.\n",
      "Trying to fix vertices.\n",
      "3 vertices fixed in this interation.\n"
     ]
    }
   ],
   "source": [
    "for i in range(10):\n",
    "    msf.iterate()"
   ]
  }
 ],
 "metadata": {
  "kernelspec": {
   "display_name": "rosetta",
   "language": "python",
   "name": "python3"
  },
  "language_info": {
   "codemirror_mode": {
    "name": "ipython",
    "version": 3
   },
   "file_extension": ".py",
   "mimetype": "text/x-python",
   "name": "python",
   "nbconvert_exporter": "python",
   "pygments_lexer": "ipython3",
   "version": "3.9.15"
  },
  "orig_nbformat": 4
 },
 "nbformat": 4,
 "nbformat_minor": 2
}
