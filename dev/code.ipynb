{
 "cells": [
  {
   "cell_type": "code",
   "execution_count": 15,
   "metadata": {},
   "outputs": [],
   "source": [
    "import sys, os, time\n",
    "\n",
    "import open3d as o3d\n",
    "import trimesh\n",
    "import openmesh as om\n",
    "\n",
    "import cv2\n",
    "\n",
    "import scipy as sp\n",
    "from scipy.sparse.linalg import eigs\n",
    "from scipy.sparse import csr_matrix, coo_matrix, identity, vstack, diags\n",
    "from scipy.sparse.linalg import spsolve, lsqr\n",
    "from scipy.spatial import Delaunay, Voronoi\n",
    "\n",
    "import numpy as np\n",
    "\n",
    "import matplotlib.pyplot as plt\n",
    "\n",
    "from tqdm import tqdm\n",
    "\n",
    "%matplotlib inline"
   ]
  },
  {
   "cell_type": "code",
   "execution_count": 16,
   "metadata": {},
   "outputs": [],
   "source": [
    "# Tests of Openmesh\n",
    "# https://gitlab.vci.rwth-aachen.de:9000/OpenMesh/openmesh-python/tree/master/tests"
   ]
  },
  {
   "cell_type": "code",
   "execution_count": 17,
   "metadata": {},
   "outputs": [],
   "source": [
    "\n",
    "def read_mesh_om(path_in_models):\n",
    "    return om.read_trimesh(os.path.join('..', 'models', path_in_models))\n",
    "def write_mesh_om(mesh, path_in_models):\n",
    "    om.write_mesh(os.path.join('..', 'models', path_in_models), mesh, vertex_color=True)\n",
    "def show_mesh_o3d(plys):\n",
    "    o3d.visualization.draw_geometries(plys)\n",
    "def write_mesh_o3d(path, mesh):\n",
    "    o3d.io.write_triangle_mesh(path, mesh)\n",
    "def read_mesh_o3d(mesh_fp):\n",
    "    return o3d.io.read_triangle_mesh(mesh_fp)\n",
    "def read_mesh_trimesh(path_in_models, process=True):\n",
    "    return trimesh.load(os.path.join('..', 'models', path_in_models), process=process)\n",
    "def get_vertices_from_trimesh(mesh):\n",
    "    return np.asarray(mesh.vertices)\n",
    "def get_vertice_normals_from_trimesh(mesh):\n",
    "    return np.asarray(mesh.vertex_normals)\n",
    "def write_trimesh_with_color(mesh, path, colors):\n",
    "    o3d_mesh = mesh.as_open3d\n",
    "    o3d_mesh.vertex_colors = o3d.utility.Vector3dVector(colors)\n",
    "    write_mesh_o3d(path, o3d_mesh)"
   ]
  },
  {
   "attachments": {},
   "cell_type": "markdown",
   "metadata": {},
   "source": [
    "### Calculate Voronoi Poles"
   ]
  },
  {
   "cell_type": "code",
   "execution_count": 18,
   "metadata": {},
   "outputs": [],
   "source": [
    "INFINITY = 1e9\n",
    "EPS = 1e-9\n",
    "def calculate_voronoi_poles(mesh):\n",
    "    \n",
    "    vertices = get_vertices_from_trimesh(mesh)\n",
    "    vertice_normals = get_vertice_normals_from_trimesh(mesh)\n",
    "\n",
    "    print(\"Calculating Voronoi Diagram.\")\n",
    "    vor = Voronoi(vertices)\n",
    "    vor_centers = vor.vertices\n",
    "    cells = vor.regions\n",
    "    cell_indices = vor.point_region\n",
    "\n",
    "    vertices_total = vertices.shape[0]\n",
    "    voronoi_poles = np.zeros(vertices.shape)\n",
    "    print(\"Calculating the Voronoi Pole for each vertex.\")\n",
    "    for vi in tqdm(range(vertices_total)):\n",
    "        vor_cell = cells[cell_indices[vi]]\n",
    "        vertice = vertices[vi]\n",
    "        vertice_normal = vertice_normals[vi]\n",
    "        max_neg_proj = INFINITY\n",
    "        voronoi_pole = None\n",
    "        for vci in vor_cell:\n",
    "            vor_center = vor_centers[vci]\n",
    "            if vci == -1:\n",
    "                continue\n",
    "            proj = np.dot(vor_center - vertice, vertice_normal)\n",
    "            if proj < max_neg_proj:\n",
    "                max_neg_proj = proj\n",
    "                voronoi_pole = vor_center\n",
    "        voronoi_poles[vi] = voronoi_pole\n",
    "\n",
    "    return voronoi_poles"
   ]
  },
  {
   "attachments": {},
   "cell_type": "markdown",
   "metadata": {},
   "source": [
    "### Calculate Cotangent Laplace Operator"
   ]
  },
  {
   "cell_type": "code",
   "execution_count": 19,
   "metadata": {},
   "outputs": [],
   "source": [
    "def trimesh_Generate_Area_List(mesh):\n",
    "\n",
    "    area_list = np.zeros((len(mesh.vertices)))\n",
    "    face_count = mesh.faces.shape[0]\n",
    "    face_area = np.asarray(mesh.area_faces)\n",
    "    faces = np.asarray(mesh.faces)\n",
    "    for i in range(face_count):\n",
    "        area_list[faces[i]] += face_area[i] / 3\n",
    "    \n",
    "    # area_list /= np.mean(area_list)\n",
    "    print('Mean Area:', np.mean(area_list))\n",
    "    return area_list\n",
    "\n",
    "\n",
    "def trimesh_Generate_Laplace_matrix(mesh, is_fixed):\n",
    "    \n",
    "    print('Constructing Laplace Matrix.')\n",
    "    \n",
    "    vertices_face_indexs = [[0,1,2],[1,0,2],[2,0,1]] \n",
    "    laplace_dict = {}\n",
    "    area_list = trimesh_Generate_Area_List(mesh)\n",
    "    face_angles = np.asarray(mesh.face_angles)\n",
    "    faces = np.asarray(mesh.faces)\n",
    "    face_count = faces.shape[0]\n",
    "    vertices = np.asarray(mesh.vertices)\n",
    "    \n",
    "    with tqdm(total=face_count) as tbar:\n",
    "        for face, angles in zip(faces, face_angles):\n",
    "            for i in range(3):\n",
    "                current_angle = angles[i]\n",
    "                v0_index, v1_index, v2_index = face[vertices_face_indexs[i]]\n",
    "                # el = np.linalg.norm(vertices[v1_index] - vertices[v2_index])\n",
    "                delta = 1 / (np.tan(current_angle) + 1e-8)\n",
    "                if delta > EPS:\n",
    "                    if not is_fixed[v1_index]:\n",
    "                        laplace_dict[(v1_index, v1_index)] = laplace_dict.get((v1_index, v1_index), 0) - delta\n",
    "                        laplace_dict[(v1_index, v2_index)] = laplace_dict.get((v1_index, v2_index), 0) + delta\n",
    "                    if not is_fixed[v2_index]:\n",
    "                        laplace_dict[(v2_index, v2_index)] = laplace_dict.get((v2_index, v2_index), 0) - delta\n",
    "                        laplace_dict[(v2_index, v1_index)] = laplace_dict.get((v2_index, v1_index), 0) + delta\n",
    "            tbar.update(1)\n",
    "\n",
    "    # Construct CSR Matrix\n",
    "    rows, cols = zip(*laplace_dict.keys())\n",
    "    values = list(laplace_dict.values())\n",
    "    coo = coo_matrix((values, (rows, cols)), shape=(len(mesh.vertices), len(mesh.vertices)))\n",
    "    csr = coo.tocsr()\n",
    "\n",
    "    return csr\n",
    "\n",
    "def trimesh_Generate_Tangent_Laplace_matrix(mesh, is_fixed, T):\n",
    "    \n",
    "    print('Constructing Laplace Matrix.')\n",
    "    \n",
    "    vertices_face_indexs = [[0,1,2],[1,0,2],[2,0,1]] \n",
    "    laplace_dict = {}\n",
    "    face_angles = np.asarray(mesh.face_angles)\n",
    "    faces = np.asarray(mesh.faces)\n",
    "    face_count = faces.shape[0]\n",
    "    vertices = np.asarray(mesh.vertices)\n",
    "    \n",
    "    with tqdm(total=face_count) as tbar:\n",
    "        for face, angles in zip(faces, face_angles):\n",
    "            for i in range(3):\n",
    "                alpha0, alpha1, alpha2 = angles[vertices_face_indexs[i]]\n",
    "                v0_index, v1_index, v2_index = face[vertices_face_indexs[i]]\n",
    "                el = np.linalg.norm(vertices[v1_index] - vertices[v2_index]) + 1e-8\n",
    "                if not is_fixed[v1_index]:\n",
    "                    laplace_dict[(v1_index, v1_index)] = laplace_dict.get((v1_index, v1_index), 0) - np.tan(alpha1 / 2.) / el\n",
    "                    laplace_dict[(v1_index, v2_index)] = laplace_dict.get((v1_index, v2_index), 0) + np.tan(alpha1 / 2.) / el\n",
    "                if not is_fixed[v2_index]:\n",
    "                    laplace_dict[(v2_index, v2_index)] = laplace_dict.get((v2_index, v2_index), 0) - np.tan(alpha2 / 2.) / el\n",
    "                    laplace_dict[(v2_index, v1_index)] = laplace_dict.get((v2_index, v1_index), 0) + np.tan(alpha2 / 2.) / el\n",
    "            tbar.update(1)\n",
    "\n",
    "    # Construct CSR Matrix\n",
    "    rows, cols = zip(*laplace_dict.keys())\n",
    "    values = list(laplace_dict.values())\n",
    "    coo = coo_matrix((values, (rows, cols)), shape=(len(mesh.vertices), len(mesh.vertices)))\n",
    "    csr = coo.tocsr()\n",
    "\n",
    "    return csr"
   ]
  },
  {
   "cell_type": "code",
   "execution_count": 20,
   "metadata": {},
   "outputs": [
    {
     "data": {
      "text/plain": [
       "0.4142135623730951"
      ]
     },
     "execution_count": 20,
     "metadata": {},
     "output_type": "execute_result"
    }
   ],
   "source": [
    "np.tan(22.5/180*np.pi)"
   ]
  },
  {
   "attachments": {},
   "cell_type": "markdown",
   "metadata": {},
   "source": [
    "### Solve Equation"
   ]
  },
  {
   "cell_type": "code",
   "execution_count": 21,
   "metadata": {},
   "outputs": [],
   "source": [
    "def remove_zero_rows_sparse(sparse_matrix):\n",
    "    sparse_matrix = csr_matrix(sparse_matrix)\n",
    "    non_zero_rows = np.diff(sparse_matrix.indptr) > 0\n",
    "    filtered_matrix = sparse_matrix[non_zero_rows]\n",
    "    return filtered_matrix"
   ]
  },
  {
   "cell_type": "code",
   "execution_count": 22,
   "metadata": {},
   "outputs": [],
   "source": [
    "def construct_Equation(WL, WH, WM, vertices, L, voronoi_poles):\n",
    "    vn = vertices.shape[0]\n",
    "    A = vstack((WL * L, WH, WM))\n",
    "    b = np.vstack((np.zeros((vn, 3)), WH * vertices, WM * voronoi_poles))\n",
    "    print(A.shape, b.shape, np.sum(A), np.sum(b))\n",
    "    return A, b"
   ]
  },
  {
   "cell_type": "code",
   "execution_count": 51,
   "metadata": {},
   "outputs": [
    {
     "name": "stdout",
     "output_type": "stream",
     "text": [
      "90 99 2 2 aaaa 100\n"
     ]
    }
   ],
   "source": [
    "def f(c, d, s=1,a='1',b=\"sss\", e=90):\n",
    "    print(c, d, s,a,b, e)\n",
    "param={'b':\"aaaa\",'s':2,'a':'2'}\n",
    "f(90,99,e=100,**param)"
   ]
  },
  {
   "attachments": {},
   "cell_type": "markdown",
   "metadata": {},
   "source": [
    "### Collapse Edges"
   ]
  },
  {
   "cell_type": "code",
   "execution_count": 23,
   "metadata": {},
   "outputs": [
    {
     "name": "stdout",
     "output_type": "stream",
     "text": [
      "[[0 0]\n",
      " [2 0]\n",
      " [3 1]]\n",
      "[[1 2]\n",
      " [2 3]\n",
      " [1 6]\n",
      " [4 1]\n",
      " [1 3]]\n"
     ]
    }
   ],
   "source": [
    "def get_edges_unique_idx(edges_unique, v1, v2):\n",
    "    e = np.where((edges_unique[:, 0]==v1)&(edges_unique[:, 1]==v2))\n",
    "    if e[0].shape[0] == 0:\n",
    "        e = np.where((edges_unique[:, 0]==v2)&(edges_unique[:, 1]==v1))\n",
    "    return e[0].item()\n",
    "a = np.array([\n",
    "    [1, 2],\n",
    "    [2, 3],\n",
    "    [1, 6],\n",
    "    [4, 1]\n",
    "])\n",
    "print(np.vstack(np.where(a==1)).T)\n",
    "def cal_edge_length(vertices, v0, v1):\n",
    "    return np.linalg.norm(vertices[v0] - vertices[v1])\n",
    "b = np.array([1, 3])\n",
    "print(np.vstack((a, b)))"
   ]
  },
  {
   "cell_type": "code",
   "execution_count": 24,
   "metadata": {},
   "outputs": [],
   "source": [
    "def get_edges_unique_idx(edges_unique, v1, v2):\n",
    "    e = np.where((edges_unique[:, 0]==v1)&(edges_unique[:, 1]==v2))\n",
    "    if e[0].shape[0] == 0:\n",
    "        e = np.where((edges_unique[:, 0]==v2)&(edges_unique[:, 1]==v1))\n",
    "    return e[0].item()\n",
    "\n",
    "def get_adj_face(edges_unique, face_adjacency, v1, v2, face_index):\n",
    "    e = get_edges_unique_idx(edges_unique, v1, v2)\n",
    "    faces = face_adjacency[e].flatten()\n",
    "    return faces[faces!=face_index].item()\n",
    "\n",
    "def get_adj_face_pair(edges_unique, face_adjacency, v1, v2):\n",
    "    e = get_edges_unique_idx(edges_unique, v1, v2)\n",
    "    faces = face_adjacency[e].flatten()\n",
    "    return faces\n",
    "\n",
    "def can_be_collapsed(vertex_neighbors, v0, v1):\n",
    "    n0 = vertex_neighbors[v0]\n",
    "    n1 = vertex_neighbors[v1]\n",
    "    return np.intersect1d(n0, n1).shape[0] == 2\n",
    "\n",
    "def cal_edge_length(vertices, v0, v1):\n",
    "    return np.linalg.norm(vertices[v0] - vertices[v1])\n",
    "\n",
    "def collapser1(mesh, T, is_fixed):\n",
    "    \n",
    "    faces = np.asarray(mesh.faces.copy())\n",
    "\n",
    "    edges_length = np.asarray(mesh.edges_unique_length.copy())\n",
    "    edges_unique = np.asarray(mesh.edges_unique.copy())\n",
    "    edges_need_check = np.vstack(np.where(edges_length < T)).flatten()\n",
    "    edges_left = edges_need_check.shape[0]\n",
    "    i = 0\n",
    "\n",
    "    face_adjacency = np.asarray(mesh.face_adjacency.copy())\n",
    "    vertex_neighbors = mesh.vertex_neighbors.copy()\n",
    "\n",
    "    v_is_exist = np.ones((mesh.vertices.shape[0],), dtype=np.bool_)\n",
    "    f_is_exist = np.ones((mesh.faces.shape[0],), dtype=np.bool_)\n",
    "\n",
    "    while i < edges_left:\n",
    "        v0, v1 = edges_unique[edges_need_check[i]]\n",
    "\n",
    "        # check can be collapsed\n",
    "        if is_fixed[v0] or is_fixed[v1] or not can_be_collapsed(vertex_neighbors, v0, v1):\n",
    "            i += 1\n",
    "            continue\n",
    "\n",
    "        # reset v0\n",
    "        mesh.vertices[v0] = 0.5 * (mesh.vertices[v0] + mesh.vertices[v1])\n",
    "        v_is_exist[v0] = False\n",
    "\n",
    "        # delete adj faces\n",
    "        f0, f1 = get_adj_face_pair(edges_unique, face_adjacency, v0, v1)\n",
    "        f_is_exist[f0] = False\n",
    "        f_is_exist[f1] = False\n",
    "\n",
    "        # update topology\n",
    "\n",
    "            # 1. update face adjacency\n",
    "        \n",
    "        f0vs = faces[f0]\n",
    "        v2 = f0vs[(f0vs!=v0)&(f0vs!=v1)].item()\n",
    "        v0v2 = get_edges_unique_idx(edges_unique, v0, v2)\n",
    "        fr = get_adj_face(edges_unique, face_adjacency, v1, v2, f0)\n",
    "        fa02 = face_adjacency[v0v2]\n",
    "        fa02[fa02==f0] = fr\n",
    "\n",
    "        f1vs = faces[f1]\n",
    "        v3 = f1vs[(f1vs!=v0)&(f1vs!=v1)].item()\n",
    "        v0v3 = get_edges_unique_idx(edges_unique, v0, v3)\n",
    "        fr = get_adj_face(edges_unique, face_adjacency, v1, v3, f1)\n",
    "        fa03 = face_adjacency[v0v3]\n",
    "        fa03[fa03==f1] = fr\n",
    "        \n",
    "        faces[faces==v1] = v0 # change v1 -> v0\n",
    "\n",
    "            # 2. update edges and their neighbours\n",
    "        vertex_neighbors[v0].extend(vertex_neighbors[v1])\n",
    "        vertex_neighbors[v0].remove(v0)\n",
    "        vertex_neighbors[v0].remove(v1)\n",
    "\n",
    "        for i, j in np.vstack(np.where(edges_unique==v0)).T:\n",
    "            nv0 = edges_unique[i, 1 - j] \n",
    "            if nv0 != v1:\n",
    "                el = cal_edge_length(mesh.vertices, *edges_unique[i])\n",
    "                if el < T:\n",
    "                    edges_need_check = np.hstack((edges_need_check, i))\n",
    "                    edges_left += 1\n",
    "\n",
    "        for i, j in np.vstack(np.where(edges_unique==v1)).T:\n",
    "            nv1 = edges_unique[i, 1 - j] \n",
    "            if nv1 == v0 or nv1 == v2 or nv1 == v3:\n",
    "                edges_unique[i] = np.array([-1, -1])\n",
    "            else:\n",
    "                edges_unique[i, j] = v0\n",
    "                el = cal_edge_length(mesh.vertices, *edges_unique[i])\n",
    "                if el < T:\n",
    "                    edges_need_check = np.hstack((edges_need_check, i))\n",
    "                    edges_left += 1\n",
    "\n",
    "        i += 1\n",
    "\n",
    "    mesh.faces = faces[f_is_exist]\n",
    "    mesh.remove_unreferenced_vertices()\n",
    "    \n",
    "    return v_is_exist\n",
    "\n",
    "def collapser(mesh, T, is_fixed):\n",
    "    \n",
    "    faces = np.asarray(mesh.faces.copy())\n",
    "\n",
    "    edges_length = np.asarray(mesh.edges_unique_length.copy())\n",
    "    short_idx = edges_length < T\n",
    "    edges_unique = np.asarray(mesh.edges_unique.copy())[short_idx]\n",
    "    face_adjacency = np.asarray(mesh.face_adjacency.copy())[short_idx]\n",
    "    edges_length = edges_length[short_idx]\n",
    "    vertex_neighbors = mesh.vertex_neighbors.copy()\n",
    "\n",
    "    ignore = np.zeros((mesh.vertices.shape[0],), dtype=np.bool_)\n",
    "\n",
    "    f_is_del = np.ones((mesh.faces.shape[0],), dtype=np.bool_)\n",
    "\n",
    "    c_count = 0\n",
    "\n",
    "    collapsed = []\n",
    "\n",
    "    for edge, adj_faces in zip(edges_unique, face_adjacency):\n",
    "        v0, v1 = edge\n",
    "\n",
    "        # check can be collapsed\n",
    "        if ignore[v0] or ignore[v1] or (is_fixed[v0] and is_fixed[v1]) or not can_be_collapsed(vertex_neighbors, v0, v1):\n",
    "            continue\n",
    "        if is_fixed[v1]:\n",
    "            v0, v1 = v1, v0\n",
    "            \n",
    "        # reset v0\n",
    "        mesh.vertices[v0] = 0.5 * (mesh.vertices[v0] + mesh.vertices[v1])\n",
    "\n",
    "        # delete adj faces\n",
    "        f0, f1 = adj_faces\n",
    "        f_is_del[f0] = False\n",
    "        f_is_del[f1] = False\n",
    "\n",
    "        # change v1 -> v0\n",
    "        faces[faces==v1] = v0\n",
    "\n",
    "        c_count += 1\n",
    "\n",
    "        collapsed.append(v1)\n",
    "\n",
    "        ignore[v1] = True\n",
    "        for nv in vertex_neighbors[v1]:\n",
    "            ignore[nv] = True\n",
    "\n",
    "        ignore[v0] = True\n",
    "        for nv in vertex_neighbors[v0]:\n",
    "            ignore[nv] = True\n",
    "        \n",
    "    mesh.faces = faces[f_is_del]\n",
    "    mesh.remove_unreferenced_vertices()\n",
    "    \n",
    "    return collapsed"
   ]
  },
  {
   "attachments": {},
   "cell_type": "markdown",
   "metadata": {},
   "source": [
    "### Split Faces"
   ]
  },
  {
   "cell_type": "code",
   "execution_count": 36,
   "metadata": {},
   "outputs": [],
   "source": [
    "# v1v0 onto v1v2\n",
    "def cal_projection(v0, v1, v2):\n",
    "    v1v2 = v2 - v1\n",
    "    if np.linalg.norm(v1v2) < 1e-6:\n",
    "        return v1\n",
    "    v1v0 = v0 - v1\n",
    "    projector = v1v2 / np.linalg.norm(v1v2)\n",
    "    projectee = v1v0\n",
    "    t = np.dot(projectee, projector)\n",
    "    return v1 + t * projector\n",
    "\n",
    "def replace_vertex(face, v_old, v_new):\n",
    "    new_face = face.copy()\n",
    "    new_face[face==v_old] = v_new\n",
    "    return new_face\n",
    "\n",
    "def cal_edge_length(vertices, v0, v1):\n",
    "    return np.linalg.norm(vertices[v0] - vertices[v1])\n",
    "\n",
    "#         v0 ---------- v2\n",
    "#        /        +     /\n",
    "#      /      vn       /\n",
    "#    /     +          /   \n",
    "#  v1 ---------------v3\n",
    "v_pairs = [[0,1],[1,2],[0,2]]\n",
    "def splitter(mesh, D, voronoi_poles, is_fixed, short_edge=0.0):\n",
    "\n",
    "    faces = np.asarray(mesh.faces)\n",
    "    edges_unique = np.asarray(mesh.edges_unique)\n",
    "    face_adjacency = np.asarray(mesh.face_adjacency)\n",
    "    face_angles = np.asarray(mesh.face_angles)\n",
    "    vertices = np.asarray(mesh.vertices)\n",
    "\n",
    "    f_is_del = np.zeros((mesh.faces.shape[0],), dtype=np.bool_) # f is deleted or not\n",
    "    f_is_fixed = np.zeros((mesh.faces.shape[0],), dtype=np.bool_)\n",
    "    f_to_add = np.asarray(mesh.faces) # all v indexs. Note that here it only adds points and dont remove any.\n",
    "    v_to_add = np.asarray(mesh.vertices) # positions\n",
    "    vor_to_add = voronoi_poles.copy()\n",
    "    \n",
    "    v_count = mesh.vertices.shape[0]\n",
    "    v_count_ori = mesh.vertices.shape[0]\n",
    "    face_count = faces.shape[0]\n",
    "\n",
    "    \n",
    "    for face_index in range(face_count):\n",
    "        face = faces[face_index]\n",
    "        if not f_is_fixed[face_index] and max(face_angles[face_index]) > D: # 2.1\n",
    "            \n",
    "            # get v0,v1,v2\n",
    "            v0 = face[np.argmax(face_angles[face_index])] # obtuse_vertex\n",
    "            v1, v2 = face[face!=v0] # v1,v2 are indexes.  \n",
    "            \n",
    "            if is_fixed[v1] and is_fixed[v2]:\n",
    "                continue\n",
    "            \n",
    "            # get indexs of adj faces\n",
    "            face_adj_index = get_adj_face(edges_unique, face_adjacency, v1, v2, face_index)\n",
    "            face_adj = faces[face_adj_index]\n",
    "\n",
    "            # TODO: use short_edge\n",
    "            if cal_edge_length(vertices, v1, v2) < short_edge:\n",
    "                continue\n",
    "            \n",
    "            if face_angles[face_adj_index][np.where((face_adj!=v1)&(face_adj!=v2))] < D:\n",
    "                continue              \n",
    "\n",
    "            # add vertex vn\n",
    "            v_count += 1\n",
    "            v_new = cal_projection(*vertices[[v0, v1, v2]])\n",
    "            v_to_add = np.vstack((v_to_add, v_new))\n",
    "\n",
    "            vor_new = cal_projection(*vor_to_add[[v0, v1, v2]])\n",
    "            vor_to_add = np.vstack((vor_to_add, vor_new))\n",
    "\n",
    "            # delete face\n",
    "            f_is_del[face_index]= True\n",
    "            f_is_del[face_adj_index]= True\n",
    "\n",
    "            # fix adj faces in this iteration\n",
    "            for i, j in v_pairs:\n",
    "                f_is_fixed[get_adj_face(edges_unique, face_adjacency, \n",
    "                                        face[i], face[j], \n",
    "                                        face_index)] = True\n",
    "                f_is_fixed[get_adj_face(edges_unique, face_adjacency, \n",
    "                                        face_adj[i], face_adj[j], \n",
    "                                        face_adj_index)] = True\n",
    "\n",
    "            # # add faces\n",
    "            vn = v_count - 1\n",
    "            f_to_add = np.vstack((f_to_add, replace_vertex(face, v1, vn)))\n",
    "            f_to_add = np.vstack((f_to_add, replace_vertex(face, v2, vn))) # the order matters! if go v0v2vn, not work\n",
    "            f_to_add = np.vstack((f_to_add, replace_vertex(face_adj, v1, vn))) # why\n",
    "            f_to_add = np.vstack((f_to_add, replace_vertex(face_adj, v2, vn)))                \n",
    "            f_is_del = np.hstack((f_is_del, [False,False,False,False]))\n",
    "\n",
    "    faces_new = f_to_add[~f_is_del]\n",
    "    v_add = v_count - mesh.vertices.shape[0]\n",
    "\n",
    "    mesh.vertices = v_to_add\n",
    "    mesh.faces = faces_new\n",
    "\n",
    "    assert mesh.is_watertight\n",
    "\n",
    "    return v_add != 0, v_add, vor_to_add\n"
   ]
  },
  {
   "attachments": {},
   "cell_type": "markdown",
   "metadata": {},
   "source": [
    "### Fix skeleton vertices"
   ]
  },
  {
   "cell_type": "code",
   "execution_count": 26,
   "metadata": {},
   "outputs": [],
   "source": [
    "def detect_skeleton_vertices(mesh, T, is_fixed):\n",
    "    T = T / 10\n",
    "    vertices = np.asarray(mesh.vertices)\n",
    "    neighbours = mesh.vertex_neighbors\n",
    "\n",
    "    for v in range(vertices.shape[0]):\n",
    "        if is_fixed[v]:\n",
    "            continue\n",
    "        badCounter = 0\n",
    "        for nv in neighbours[v]:\n",
    "            el = np.linalg.norm(vertices[v] - vertices[nv])\n",
    "            if el < T and not can_be_collapsed(mesh.vertex_neighbors, v, nv):\n",
    "                badCounter += 1\n",
    "        if badCounter >= 2:\n",
    "            is_fixed[v] = True\n",
    "    \n",
    "    return is_fixed"
   ]
  },
  {
   "attachments": {},
   "cell_type": "markdown",
   "metadata": {},
   "source": [
    "TEST"
   ]
  },
  {
   "cell_type": "code",
   "execution_count": 27,
   "metadata": {},
   "outputs": [],
   "source": [
    "def construct_Laplace_Beltrami_matrix(mesh):\n",
    "    \"\"\"\n",
    "    Compute the matrix of un-uniform Laplace-Beltrami operator for a mesh.\n",
    "\n",
    "    Args:\n",
    "        mesh:       Trimesh, the data of mesh loaded by Trimesh.\n",
    "    \n",
    "    Returns:\n",
    "        csr_L:      scipy.sparse.csr_matrix, \n",
    "                    the sparse representation of the un-uniform Laplace-Beltrami matrix \n",
    "    \"\"\"\n",
    "\n",
    "    # To contruct csr_matrix\n",
    "    data = []\n",
    "    indices = []\n",
    "    indptr = [0]\n",
    "\n",
    "    vertices = mesh.vertices\n",
    "    neighbours = mesh.vertex_neighbors\n",
    "    for i, n in enumerate(neighbours):\n",
    "        n_cnt = len(n)\n",
    "        rdata = np.ones((n_cnt + 1,))\n",
    "        rdata[n_cnt] = -n_cnt\n",
    "        rindices = np.zeros((n_cnt + 1,))\n",
    "        rindices[:n_cnt] = np.array(n)\n",
    "        rindices[n_cnt] = i\n",
    "        ri = np.argsort(rindices)\n",
    "        data.extend(rdata[ri].tolist())\n",
    "        indices.extend(rindices[ri].tolist())\n",
    "        indptr.append(indptr[-1] + n_cnt + 1)\n",
    "        \n",
    "    csr_L = csr_matrix((data, indices, indptr), shape=(vertices.shape[0], vertices.shape[0]), dtype=np.float32)\n",
    "\n",
    "    return csr_L\n",
    "\n",
    "def mesh_reconstruction(mesh, k, is_fixed):\n",
    "\n",
    "    # Compute sparse Laplace-Beltrami matrix\n",
    "    csr_L = construct_Laplace_Beltrami_matrix(mesh)\n",
    "    # csr_L = trimesh_Generate_Tangent_Laplace_matrix(mesh, is_fixed, 0)\n",
    "    \n",
    "    # Compute the k-smallest eigenvalues and their eigenvectors\n",
    "    w, v = eigs(csr_L, k=k, which='SM')\n",
    "    w = w.real\n",
    "    v = v.real\n",
    "\n",
    "    # Get the vertices corrdinates\n",
    "    vertices = np.asarray(mesh.vertices)\n",
    "\n",
    "    # To store the corrdinates after reconstruction\n",
    "    smooth_vertices = np.zeros(vertices.shape)\n",
    "\n",
    "    # Reconstrction\n",
    "    ef = vertices.T @ v\n",
    "    for ch in range(3):\n",
    "        smooth_vertices[:, ch] = np.sum(np.tile(ef[ch], (vertices.shape[0], 1)) * v, axis=1)\n",
    "    \n",
    "    smooth_mesh = trimesh.Trimesh(vertices=smooth_vertices, faces=mesh.faces)\n",
    "    \n",
    "    return smooth_mesh\n",
    "\n",
    "def construct_uniform_Laplace_matrix(mesh, is_fixed):\n",
    "    \"\"\"\n",
    "    Compute the matrix of uniform Laplace-Beltrami operator for a mesh.\n",
    "\n",
    "    Args:\n",
    "        mesh:       Trimesh, the data of mesh loaded by Trimesh.\n",
    "    \n",
    "    Returns:\n",
    "        csr_L:      scipy.sparse.csr_matrix, \n",
    "                    the sparse representation of the uniform Laplace-Beltrami matrix \n",
    "    \"\"\"\n",
    "\n",
    "    # To contruct csr_matrix\n",
    "\n",
    "    print('Constructing Laplace Matrix.')\n",
    "    \n",
    "    laplace_dict = {}\n",
    "    vertices = mesh.vertices\n",
    "    neighbours = mesh.vertex_neighbors\n",
    "    for i, n in enumerate(neighbours):\n",
    "        if is_fixed[i]:\n",
    "            continue\n",
    "        nn = len(n)\n",
    "        laplace_dict[(i, i)] = -nn\n",
    "        for ni in n:\n",
    "            laplace_dict[(i, ni)] = 1\n",
    "    \n",
    "    # Construct CSR Matrix\n",
    "    rows, cols = zip(*laplace_dict.keys())\n",
    "    values = list(laplace_dict.values())\n",
    "    coo = coo_matrix((values, (rows, cols)), shape=(len(mesh.vertices), len(mesh.vertices)))\n",
    "    csr = coo.tocsr()\n",
    "\n",
    "    return csr"
   ]
  },
  {
   "attachments": {},
   "cell_type": "markdown",
   "metadata": {},
   "source": [
    "### Iteration"
   ]
  },
  {
   "cell_type": "code",
   "execution_count": 37,
   "metadata": {},
   "outputs": [],
   "source": [
    "def collapse_Edges1(mesh, T, voronoi_poles, WL, WH, WM, is_fixed, v_color):\n",
    "    can_collapse = True\n",
    "    n_collapsed = 0\n",
    "    while can_collapse:\n",
    "        v_is_exist = collapser1(mesh, T, is_fixed)\n",
    "        can_collapse = not np.all(v_is_exist)\n",
    "        voronoi_poles = voronoi_poles[v_is_exist]\n",
    "        WL = WL[v_is_exist]\n",
    "        WH = WH[v_is_exist]\n",
    "        WM = WM[v_is_exist]\n",
    "        is_fixed = is_fixed[v_is_exist]\n",
    "        n_collapsed += np.where(v_is_exist!=True)[0].shape[0]\n",
    "    print(n_collapsed, \"vertices collapsed.\")\n",
    "    assert mesh.is_watertight\n",
    "    return voronoi_poles, WL, WH, WM, is_fixed\n",
    "\n",
    "def collapse_Edges(mesh, T, voronoi_poles, WL, WH, WM, is_fixed, v_color):\n",
    "    can_collapse = True\n",
    "    n_collapsed = 0\n",
    "    n_it = 0\n",
    "    while can_collapse:\n",
    "        collapsed = collapser(mesh, T, is_fixed)\n",
    "        can_collapse = len(collapsed) != 0\n",
    "        if can_collapse:\n",
    "            voronoi_poles = np.delete(voronoi_poles, collapsed, axis=0)\n",
    "            WL = np.delete(WL, collapsed, axis=0)\n",
    "            WH = np.delete(WH, collapsed, axis=0)\n",
    "            WM = np.delete(WM, collapsed, axis=0)\n",
    "            is_fixed = np.delete(is_fixed, collapsed, axis=0)\n",
    "            v_color = np.delete(v_color, collapsed, axis=0)\n",
    "        n_collapsed += len(collapsed)\n",
    "        n_it += 1\n",
    "    print(n_collapsed, \"vertices collapsed in\", n_it, \"iterations.\")\n",
    "    assert mesh.is_watertight\n",
    "    return voronoi_poles, WL, WH, WM, is_fixed, v_color\n",
    "\n",
    "def split_Faces(mesh, D, voronoi_poles, is_fixed, short_edge):\n",
    "    n_added = 0\n",
    "    n_it = 0\n",
    "    can_split = True\n",
    "    t_is_fixed = is_fixed.copy()\n",
    "    while can_split:\n",
    "        can_split, v_count, voronoi_poles = splitter(mesh, D, voronoi_poles, t_is_fixed, short_edge)\n",
    "        n_added += v_count\n",
    "        t_is_fixed = np.hstack((is_fixed, np.zeros((n_added,), dtype=bool)))\n",
    "        n_it += 1\n",
    "    print(n_added, \"vertices added in\", n_it, \"iterations.\")\n",
    "    return n_added, voronoi_poles"
   ]
  },
  {
   "cell_type": "code",
   "execution_count": 29,
   "metadata": {},
   "outputs": [
    {
     "name": "stdout",
     "output_type": "stream",
     "text": [
      "0.0046980095824585115\n",
      "Calculating Voronoi Diagram.\n",
      "Calculating the Voronoi Pole for each vertex.\n"
     ]
    },
    {
     "name": "stderr",
     "output_type": "stream",
     "text": [
      "100%|██████████| 25193/25193 [00:00<00:00, 27031.10it/s]\n"
     ]
    },
    {
     "name": "stdout",
     "output_type": "stream",
     "text": [
      "Constructing Laplace Matrix.\n",
      "Mean Area: 0.0001513564486113351\n"
     ]
    },
    {
     "name": "stderr",
     "output_type": "stream",
     "text": [
      "100%|██████████| 50382/50382 [00:00<00:00, 72624.38it/s]\n"
     ]
    },
    {
     "name": "stdout",
     "output_type": "stream",
     "text": [
      "(75579, 25193) (75579, 3) 2519.3000000000006 2.254869999999997\n",
      "2 0.26747238964620523\n",
      "2 0.23217902754145317\n",
      "2 0.25385858518788196\n",
      "before (25193, 3)\n",
      "after (25193, 3)\n",
      "Constructing Laplace Matrix.\n",
      "Mean Area: 0.00012423223366508766\n"
     ]
    },
    {
     "name": "stderr",
     "output_type": "stream",
     "text": [
      "100%|██████████| 50382/50382 [00:00<00:00, 73407.50it/s]\n"
     ]
    },
    {
     "name": "stdout",
     "output_type": "stream",
     "text": [
      "(75579, 25193) (75579, 3) 2519.3000000000006 2.2548664558231053\n"
     ]
    },
    {
     "ename": "KeyboardInterrupt",
     "evalue": "",
     "output_type": "error",
     "traceback": [
      "\u001b[0;31m---------------------------------------------------------------------------\u001b[0m",
      "\u001b[0;31mKeyboardInterrupt\u001b[0m                         Traceback (most recent call last)",
      "Cell \u001b[0;32mIn[29], line 43\u001b[0m\n\u001b[1;32m     40\u001b[0m x0 \u001b[39m=\u001b[39m vertices\u001b[39m.\u001b[39mcopy()\n\u001b[1;32m     41\u001b[0m \u001b[39m#x0 = np.zeros_like(vertices)\u001b[39;00m\n\u001b[0;32m---> 43\u001b[0m new_vertices0 \u001b[39m=\u001b[39m lsqr(A, b[:, \u001b[39m0\u001b[39;49m], damp\u001b[39m=\u001b[39;49m\u001b[39m0.0\u001b[39;49m, atol\u001b[39m=\u001b[39;49m\u001b[39m1e-6\u001b[39;49m, btol\u001b[39m=\u001b[39;49m\u001b[39m1e-6\u001b[39;49m,\n\u001b[1;32m     44\u001b[0m             conlim\u001b[39m=\u001b[39;49m\u001b[39m1e12\u001b[39;49m, iter_lim\u001b[39m=\u001b[39;49m\u001b[39mNone\u001b[39;49;00m, show\u001b[39m=\u001b[39;49mshow_lsqr_info, calc_var\u001b[39m=\u001b[39;49m\u001b[39mFalse\u001b[39;49;00m,\n\u001b[1;32m     45\u001b[0m             x0\u001b[39m=\u001b[39;49mx0[:, \u001b[39m0\u001b[39;49m])\n\u001b[1;32m     46\u001b[0m \u001b[39mprint\u001b[39m(new_vertices0[\u001b[39m1\u001b[39m], np\u001b[39m.\u001b[39mlinalg\u001b[39m.\u001b[39mnorm(A \u001b[39m@\u001b[39m new_vertices0[\u001b[39m0\u001b[39m] \u001b[39m-\u001b[39m b[:, \u001b[39m0\u001b[39m]))\n\u001b[1;32m     47\u001b[0m new_vertices1 \u001b[39m=\u001b[39m lsqr(A, b[:, \u001b[39m1\u001b[39m], damp\u001b[39m=\u001b[39m\u001b[39m0.0\u001b[39m, atol\u001b[39m=\u001b[39m\u001b[39m1e-6\u001b[39m, btol\u001b[39m=\u001b[39m\u001b[39m1e-6\u001b[39m,\n\u001b[1;32m     48\u001b[0m             conlim\u001b[39m=\u001b[39m\u001b[39m1e12\u001b[39m, iter_lim\u001b[39m=\u001b[39m\u001b[39mNone\u001b[39;00m, show\u001b[39m=\u001b[39mshow_lsqr_info, calc_var\u001b[39m=\u001b[39m\u001b[39mFalse\u001b[39;00m,\n\u001b[1;32m     49\u001b[0m             x0\u001b[39m=\u001b[39mx0[:, \u001b[39m1\u001b[39m])\n",
      "File \u001b[0;32m~/opt/anaconda3/envs/rosetta/lib/python3.9/site-packages/scipy/sparse/linalg/_isolve/lsqr.py:428\u001b[0m, in \u001b[0;36mlsqr\u001b[0;34m(A, b, damp, atol, btol, conlim, iter_lim, show, calc_var, x0)\u001b[0m\n\u001b[1;32m    423\u001b[0m itn \u001b[39m=\u001b[39m itn \u001b[39m+\u001b[39m \u001b[39m1\u001b[39m\n\u001b[1;32m    424\u001b[0m \u001b[39m# Perform the next step of the bidiagonalization to obtain the\u001b[39;00m\n\u001b[1;32m    425\u001b[0m \u001b[39m# next  beta, u, alfa, v. These satisfy the relations\u001b[39;00m\n\u001b[1;32m    426\u001b[0m \u001b[39m#     beta*u  =  a@v   -  alfa*u,\u001b[39;00m\n\u001b[1;32m    427\u001b[0m \u001b[39m#     alfa*v  =  A'@u  -  beta*v.\u001b[39;00m\n\u001b[0;32m--> 428\u001b[0m u \u001b[39m=\u001b[39m A\u001b[39m.\u001b[39mmatvec(v) \u001b[39m-\u001b[39m alfa \u001b[39m*\u001b[39;49m u\n\u001b[1;32m    429\u001b[0m beta \u001b[39m=\u001b[39m np\u001b[39m.\u001b[39mlinalg\u001b[39m.\u001b[39mnorm(u)\n\u001b[1;32m    431\u001b[0m \u001b[39mif\u001b[39;00m beta \u001b[39m>\u001b[39m \u001b[39m0\u001b[39m:\n",
      "\u001b[0;31mKeyboardInterrupt\u001b[0m: "
     ]
    }
   ],
   "source": [
    "def cal_diag(vertices):\n",
    "    return np.max(np.linalg.norm(vertices - vertices[0], axis=1))\n",
    "\n",
    "it = 1000\n",
    "wL = 1\n",
    "wH = 0.1\n",
    "wM = 0.0\n",
    "\n",
    "new_mesh = 'armadillo_0.obj'\n",
    "mesh = read_mesh_trimesh('armadillo.obj')\n",
    "bbox = mesh.bounding_box\n",
    "scale = cal_diag(bbox.vertices) * 0.002\n",
    "print(scale)\n",
    "assert mesh.is_watertight\n",
    "\n",
    "voronoi_poles = calculate_voronoi_poles(mesh)\n",
    "\n",
    "\n",
    "WL = np.ones((mesh.vertices.shape[0])) * wL\n",
    "WH = np.ones((mesh.vertices.shape[0])) * wH\n",
    "WM = np.ones((mesh.vertices.shape[0])) * wM\n",
    "\n",
    "is_fixed = np.zeros((mesh.vertices.shape[0]), dtype=bool)\n",
    "\n",
    "v_color = np.ones_like(mesh.vertices)\n",
    "\n",
    "show_lsqr_info = False\n",
    "\n",
    "\n",
    "for i in range(it):\n",
    "\n",
    "    laplace_csr = trimesh_Generate_Laplace_matrix(mesh, is_fixed)\n",
    "    #laplace_csr = trimesh_Generate_Tangent_Laplace_matrix(mesh, is_fixed, scale)\n",
    "    #laplace_csr = construct_uniform_Laplace_matrix(mesh, is_fixed)\n",
    "\n",
    "    vertices = np.asarray(mesh.vertices.copy())\n",
    "    A, b = construct_Equation(diags(WL), diags(WH), diags(WM), vertices, laplace_csr, voronoi_poles)\n",
    "    sp.io.savemat('../data/Ab%d.mat' % (i + 1), {'A':A, 'b':b}) \n",
    "    \n",
    "    x0 = vertices.copy()\n",
    "    #x0 = np.zeros_like(vertices)\n",
    "    \n",
    "    new_vertices0 = lsqr(A, b[:, 0], damp=0.0, atol=1e-6, btol=1e-6,\n",
    "                conlim=1e12, iter_lim=None, show=show_lsqr_info, calc_var=False,\n",
    "                x0=x0[:, 0])\n",
    "    print(new_vertices0[1], np.linalg.norm(A @ new_vertices0[0] - b[:, 0]))\n",
    "    new_vertices1 = lsqr(A, b[:, 1], damp=0.0, atol=1e-6, btol=1e-6,\n",
    "                conlim=1e12, iter_lim=None, show=show_lsqr_info, calc_var=False,\n",
    "                x0=x0[:, 1])\n",
    "    print(new_vertices1[1], np.linalg.norm(A @ new_vertices1[0] - b[:, 1]))\n",
    "    new_vertices2 = lsqr(A, b[:, 2], damp=0.0, atol=1e-6, btol=1e-6,\n",
    "                conlim=1e12, iter_lim=None, show=show_lsqr_info, calc_var=False,\n",
    "                x0=x0[:, 2])\n",
    "    print(new_vertices2[1], np.linalg.norm(A @ new_vertices2[0] - b[:, 2]))\n",
    "\n",
    "    new_vertices = np.zeros(vertices.shape)\n",
    "    new_vertices[:, 0] = new_vertices0[0]\n",
    "    new_vertices[:, 1] = new_vertices1[0]\n",
    "    new_vertices[:, 2] = new_vertices2[0]\n",
    "\n",
    "    mesh.vertices = new_vertices\n",
    "\n",
    "    WL = WL * 2\n",
    "\n",
    "    write_trimesh_with_color(mesh, '../models/test/' + new_mesh, v_color)\n",
    "    print('before', mesh.vertices.shape)\n",
    "    mesh = read_mesh_trimesh('test/' + new_mesh, process=False)\n",
    "    print('after', mesh.vertices.shape)\n",
    "    new_mesh = 'armadillo_%d.obj' % (i + 1)\n",
    "\n",
    "    #wL += 0.01"
   ]
  },
  {
   "cell_type": "code",
   "execution_count": null,
   "metadata": {},
   "outputs": [],
   "source": [
    "new_mesh = 'armadillo_0.obj'\n",
    "mesh = read_mesh_trimesh('cube.obj', process=False)\n",
    "assert mesh.is_watertight\n",
    "is_fixed = np.zeros((mesh.vertices.shape[0]), dtype=bool)\n",
    "lc = trimesh_Generate_Tangent_Laplace_matrix(mesh, is_fixed, 0)\n",
    "print(lc)"
   ]
  },
  {
   "cell_type": "code",
   "execution_count": null,
   "metadata": {},
   "outputs": [],
   "source": [
    "l1 = construct_Laplace_Beltrami_matrix(mesh)\n",
    "l2 = construct_uniform_Laplace_matrix(mesh, is_fixed)\n",
    "print(np.allclose(l1.toarray(), l2.toarray()))"
   ]
  },
  {
   "cell_type": "code",
   "execution_count": null,
   "metadata": {},
   "outputs": [],
   "source": [
    "lca = lc.toarray()\n",
    "for n in mesh.vertex_neighbors:\n",
    "    print(n)\n",
    "for r in lca:\n",
    "    print(np.where(r!=0)[0].shape)"
   ]
  },
  {
   "cell_type": "code",
   "execution_count": 30,
   "metadata": {},
   "outputs": [],
   "source": [
    "def implicit_Laplacian_mesh_smoothing(mesh, lam=0.01, t=20, is_fixed=None):\n",
    "    \"\"\"\n",
    "    Implicit Laplacian mesh smoothing.\n",
    "\n",
    "    Args:\n",
    "        mesh:           Trimesh, the data of mesh loaded by Trimesh.\n",
    "        lam:            float, represents lambda\n",
    "        t:              int, iteration round\n",
    "    \n",
    "    Returns:\n",
    "        smooth_mesh:    Trimesh, smoothed mesh.\n",
    "    \"\"\"\n",
    "    \n",
    "    # Copy the original mesh\n",
    "    smooth_mesh = mesh.copy()\n",
    "    \n",
    "    # Get the vertices corrdinates\n",
    "    smooth_vertices = np.asarray(mesh.vertices)\n",
    "    vn = smooth_vertices.shape[0]\n",
    "\n",
    "    # Compute sparse uniform Laplace-Beltrami matrix\n",
    "    #csr_uL = construct_uniform_Laplace_matrix(mesh, is_fixed)\n",
    "    csr_uL = trimesh_Generate_Tangent_Laplace_matrix(mesh, is_fixed, 0)\n",
    "\n",
    "    # Iterate to smooth the mesh.\n",
    "    for _ in tqdm(range(t)):\n",
    "        # Solve the linear system\n",
    "        smooth_vertices = spsolve(identity(vn) - lam * csr_uL, smooth_vertices)\n",
    "        smooth_mesh.vertices = smooth_vertices\n",
    "\n",
    "    return smooth_mesh"
   ]
  },
  {
   "cell_type": "code",
   "execution_count": null,
   "metadata": {},
   "outputs": [],
   "source": [
    "new_mesh = 'armadillo_0.obj'\n",
    "mesh = read_mesh_trimesh('test/armadillo_20.obj', process=False)\n",
    "assert mesh.is_watertight\n",
    "is_fixed = np.zeros((mesh.vertices.shape[0]), dtype=bool)\n",
    "voronoi_poles = calculate_voronoi_poles(mesh)\n",
    "vp_cloud = mesh_reconstruction(mesh, 5, is_fixed)\n",
    "write_mesh_o3d('../models/result/skeleton_rec.obj', vp_cloud.as_open3d)"
   ]
  },
  {
   "cell_type": "code",
   "execution_count": null,
   "metadata": {},
   "outputs": [],
   "source": [
    "mesh = read_mesh_trimesh('test/armadillo_21.obj', process=False)\n",
    "assert mesh.is_watertight\n",
    "is_fixed = np.zeros((mesh.vertices.shape[0]), dtype=bool)\n",
    "smooth_mesh = implicit_Laplacian_mesh_smoothing(mesh, lam=0.01, t=1, is_fixed=is_fixed)\n",
    "write_mesh_o3d('../models/result/smooth_ske.obj', smooth_mesh.as_open3d)"
   ]
  },
  {
   "cell_type": "code",
   "execution_count": 40,
   "metadata": {},
   "outputs": [
    {
     "name": "stdout",
     "output_type": "stream",
     "text": [
      "Calculating Voronoi Diagram.\n",
      "Calculating the Voronoi Pole for each vertex.\n"
     ]
    },
    {
     "name": "stderr",
     "output_type": "stream",
     "text": [
      "100%|██████████| 25193/25193 [00:00<00:00, 25986.69it/s]\n"
     ]
    },
    {
     "name": "stdout",
     "output_type": "stream",
     "text": [
      "162 vertices collapsed in 8 iterations.\n",
      "1 vertices added in 2 iterations.\n",
      "Constructing Laplace Matrix.\n"
     ]
    },
    {
     "name": "stderr",
     "output_type": "stream",
     "text": [
      "100%|██████████| 50060/50060 [00:02<00:00, 23967.23it/s]\n"
     ]
    },
    {
     "name": "stdout",
     "output_type": "stream",
     "text": [
      "(75096, 25032) (75096, 3) 750940.0 -1766.625606640629\n",
      "Constructing Laplace Matrix.\n"
     ]
    },
    {
     "name": "stderr",
     "output_type": "stream",
     "text": [
      "100%|██████████| 50060/50060 [00:02<00:00, 23527.27it/s]\n",
      "100%|██████████| 1/1 [00:00<00:00,  5.13it/s]\n"
     ]
    },
    {
     "name": "stdout",
     "output_type": "stream",
     "text": [
      "6000 vertices collapsed in 18 iterations.\n",
      "5028 vertices added in 5 iterations.\n",
      "Constructing Laplace Matrix.\n"
     ]
    },
    {
     "name": "stderr",
     "output_type": "stream",
     "text": [
      "100%|██████████| 48116/48116 [00:01<00:00, 24155.19it/s]\n"
     ]
    },
    {
     "name": "stdout",
     "output_type": "stream",
     "text": [
      "(72180, 24060) (72180, 3) 621160.0 7381.733679762587\n",
      "Constructing Laplace Matrix.\n"
     ]
    },
    {
     "name": "stderr",
     "output_type": "stream",
     "text": [
      "100%|██████████| 48116/48116 [00:02<00:00, 23926.27it/s]\n",
      "100%|██████████| 1/1 [00:00<00:00,  6.71it/s]\n"
     ]
    },
    {
     "name": "stdout",
     "output_type": "stream",
     "text": [
      "12603 vertices collapsed in 20 iterations.\n",
      "3066 vertices added in 4 iterations.\n",
      "Constructing Laplace Matrix.\n"
     ]
    },
    {
     "name": "stderr",
     "output_type": "stream",
     "text": [
      "100%|██████████| 29042/29042 [00:01<00:00, 23091.65it/s]\n"
     ]
    },
    {
     "name": "stdout",
     "output_type": "stream",
     "text": [
      "(43569, 14523) (43569, 3) 365549.99999992765 11024.519113999631\n",
      "Constructing Laplace Matrix.\n"
     ]
    },
    {
     "name": "stderr",
     "output_type": "stream",
     "text": [
      "100%|██████████| 29042/29042 [00:01<00:00, 24726.53it/s]\n",
      "100%|██████████| 1/1 [00:00<00:00, 16.60it/s]\n"
     ]
    },
    {
     "name": "stdout",
     "output_type": "stream",
     "text": [
      "5118 vertices collapsed in 15 iterations.\n",
      "1178 vertices added in 5 iterations.\n",
      "Constructing Laplace Matrix.\n"
     ]
    },
    {
     "name": "stderr",
     "output_type": "stream",
     "text": [
      "100%|██████████| 21162/21162 [00:00<00:00, 24524.03it/s]\n"
     ]
    },
    {
     "name": "stdout",
     "output_type": "stream",
     "text": [
      "(31749, 10583) (31749, 3) 276610.0000000362 17351.75623864294\n",
      "Constructing Laplace Matrix.\n"
     ]
    },
    {
     "name": "stderr",
     "output_type": "stream",
     "text": [
      "100%|██████████| 21162/21162 [00:00<00:00, 24326.57it/s]\n",
      "100%|██████████| 1/1 [00:00<00:00, 31.06it/s]\n"
     ]
    },
    {
     "name": "stdout",
     "output_type": "stream",
     "text": [
      "2847 vertices collapsed in 12 iterations.\n",
      "1182 vertices added in 4 iterations.\n",
      "Constructing Laplace Matrix.\n"
     ]
    },
    {
     "name": "stderr",
     "output_type": "stream",
     "text": [
      "100%|██████████| 17832/17832 [00:00<00:00, 24405.36it/s]\n"
     ]
    },
    {
     "name": "stdout",
     "output_type": "stream",
     "text": [
      "(26754, 8918) (26754, 3) 225010.00000011647 22192.656766879212\n",
      "Constructing Laplace Matrix.\n"
     ]
    },
    {
     "name": "stderr",
     "output_type": "stream",
     "text": [
      "100%|██████████| 17832/17832 [00:00<00:00, 24389.67it/s]\n",
      "100%|██████████| 1/1 [00:00<00:00, 41.30it/s]\n"
     ]
    },
    {
     "name": "stdout",
     "output_type": "stream",
     "text": [
      "2361 vertices collapsed in 12 iterations.\n",
      "1116 vertices added in 4 iterations.\n",
      "Constructing Laplace Matrix.\n"
     ]
    },
    {
     "name": "stderr",
     "output_type": "stream",
     "text": [
      "100%|██████████| 15342/15342 [00:00<00:00, 24996.65it/s]\n"
     ]
    },
    {
     "name": "stdout",
     "output_type": "stream",
     "text": [
      "(23019, 7673) (23019, 3) 182849.9999999498 25559.579399900966\n",
      "Constructing Laplace Matrix.\n"
     ]
    },
    {
     "name": "stderr",
     "output_type": "stream",
     "text": [
      "100%|██████████| 15342/15342 [00:00<00:00, 25076.01it/s]\n",
      "100%|██████████| 1/1 [00:00<00:00, 48.79it/s]\n"
     ]
    },
    {
     "name": "stdout",
     "output_type": "stream",
     "text": [
      "1639 vertices collapsed in 11 iterations.\n",
      "1045 vertices added in 4 iterations.\n",
      "Constructing Laplace Matrix.\n"
     ]
    },
    {
     "name": "stderr",
     "output_type": "stream",
     "text": [
      "100%|██████████| 14154/14154 [00:00<00:00, 25558.00it/s]\n"
     ]
    },
    {
     "name": "stdout",
     "output_type": "stream",
     "text": [
      "(21237, 7079) (21237, 3) 159510.0000000248 26362.15544676064\n",
      "Constructing Laplace Matrix.\n"
     ]
    },
    {
     "name": "stderr",
     "output_type": "stream",
     "text": [
      "100%|██████████| 14154/14154 [00:00<00:00, 26146.65it/s]\n",
      "100%|██████████| 1/1 [00:00<00:00, 42.89it/s]\n"
     ]
    },
    {
     "name": "stdout",
     "output_type": "stream",
     "text": [
      "1296 vertices collapsed in 9 iterations.\n",
      "964 vertices added in 4 iterations.\n",
      "Constructing Laplace Matrix.\n"
     ]
    },
    {
     "name": "stderr",
     "output_type": "stream",
     "text": [
      "100%|██████████| 13490/13490 [00:00<00:00, 26498.88it/s]\n"
     ]
    },
    {
     "name": "stdout",
     "output_type": "stream",
     "text": [
      "(20241, 6747) (20241, 3) 142189.99999994028 26245.451689606096\n",
      "Constructing Laplace Matrix.\n"
     ]
    },
    {
     "name": "stderr",
     "output_type": "stream",
     "text": [
      "100%|██████████| 13490/13490 [00:00<00:00, 27086.93it/s]\n",
      "100%|██████████| 1/1 [00:00<00:00, 65.60it/s]\n"
     ]
    },
    {
     "name": "stdout",
     "output_type": "stream",
     "text": [
      "1164 vertices collapsed in 9 iterations.\n",
      "794 vertices added in 4 iterations.\n",
      "Constructing Laplace Matrix.\n"
     ]
    },
    {
     "name": "stderr",
     "output_type": "stream",
     "text": [
      "100%|██████████| 12750/12750 [00:00<00:00, 26838.72it/s]\n"
     ]
    },
    {
     "name": "stdout",
     "output_type": "stream",
     "text": [
      "(19131, 6377) (19131, 3) 126920.00000010518 25886.230806355936\n",
      "Constructing Laplace Matrix.\n"
     ]
    },
    {
     "name": "stderr",
     "output_type": "stream",
     "text": [
      "100%|██████████| 12750/12750 [00:00<00:00, 27474.37it/s]\n",
      "100%|██████████| 1/1 [00:00<00:00, 66.93it/s]\n"
     ]
    },
    {
     "name": "stdout",
     "output_type": "stream",
     "text": [
      "971 vertices collapsed in 10 iterations.\n",
      "585 vertices added in 4 iterations.\n",
      "Constructing Laplace Matrix.\n"
     ]
    },
    {
     "name": "stderr",
     "output_type": "stream",
     "text": [
      "100%|██████████| 11978/11978 [00:00<00:00, 29911.78it/s]\n"
     ]
    },
    {
     "name": "stdout",
     "output_type": "stream",
     "text": [
      "(17973, 5991) (17973, 3) 114480.00000001151 25545.662328709655\n",
      "Constructing Laplace Matrix.\n"
     ]
    },
    {
     "name": "stderr",
     "output_type": "stream",
     "text": [
      "100%|██████████| 11978/11978 [00:00<00:00, 27898.19it/s]\n",
      "100%|██████████| 1/1 [00:00<00:00, 74.73it/s]\n"
     ]
    },
    {
     "name": "stdout",
     "output_type": "stream",
     "text": [
      "778 vertices collapsed in 10 iterations.\n",
      "453 vertices added in 4 iterations.\n",
      "Constructing Laplace Matrix.\n"
     ]
    },
    {
     "name": "stderr",
     "output_type": "stream",
     "text": [
      "100%|██████████| 11328/11328 [00:00<00:00, 26958.60it/s]\n"
     ]
    },
    {
     "name": "stdout",
     "output_type": "stream",
     "text": [
      "(16998, 5666) (16998, 3) 104450.0000000254 24632.811805475467\n",
      "Constructing Laplace Matrix.\n"
     ]
    },
    {
     "name": "stderr",
     "output_type": "stream",
     "text": [
      "100%|██████████| 11328/11328 [00:00<00:00, 27235.21it/s]\n",
      "100%|██████████| 1/1 [00:00<00:00, 81.63it/s]\n"
     ]
    },
    {
     "name": "stdout",
     "output_type": "stream",
     "text": [
      "696 vertices collapsed in 12 iterations.\n",
      "393 vertices added in 4 iterations.\n",
      "Constructing Laplace Matrix.\n"
     ]
    },
    {
     "name": "stderr",
     "output_type": "stream",
     "text": [
      "100%|██████████| 10722/10722 [00:00<00:00, 27704.12it/s]\n"
     ]
    },
    {
     "name": "stdout",
     "output_type": "stream",
     "text": [
      "(16089, 5363) (16089, 3) 94750.00000009092 22862.16641064278\n",
      "Constructing Laplace Matrix.\n"
     ]
    },
    {
     "name": "stderr",
     "output_type": "stream",
     "text": [
      "100%|██████████| 10722/10722 [00:00<00:00, 27449.38it/s]\n",
      "100%|██████████| 1/1 [00:00<00:00, 89.19it/s]\n"
     ]
    },
    {
     "name": "stdout",
     "output_type": "stream",
     "text": [
      "555 vertices collapsed in 11 iterations.\n",
      "298 vertices added in 3 iterations.\n",
      "Constructing Laplace Matrix.\n"
     ]
    },
    {
     "name": "stderr",
     "output_type": "stream",
     "text": [
      "100%|██████████| 10208/10208 [00:00<00:00, 30640.93it/s]\n"
     ]
    },
    {
     "name": "stdout",
     "output_type": "stream",
     "text": [
      "(15318, 5106) (15318, 3) 87059.99999997168 21475.764269576768\n",
      "Constructing Laplace Matrix.\n"
     ]
    },
    {
     "name": "stderr",
     "output_type": "stream",
     "text": [
      "100%|██████████| 10208/10208 [00:00<00:00, 27627.87it/s]\n",
      "100%|██████████| 1/1 [00:00<00:00, 99.52it/s]\n"
     ]
    },
    {
     "name": "stdout",
     "output_type": "stream",
     "text": [
      "484 vertices collapsed in 9 iterations.\n",
      "275 vertices added in 4 iterations.\n",
      "Constructing Laplace Matrix.\n"
     ]
    },
    {
     "name": "stderr",
     "output_type": "stream",
     "text": [
      "100%|██████████| 9790/9790 [00:00<00:00, 31334.62it/s]\n"
     ]
    },
    {
     "name": "stdout",
     "output_type": "stream",
     "text": [
      "(14691, 4897) (14691, 3) 79800.00000003884 20022.434596579566\n",
      "Constructing Laplace Matrix.\n"
     ]
    },
    {
     "name": "stderr",
     "output_type": "stream",
     "text": [
      "100%|██████████| 9790/9790 [00:00<00:00, 27827.05it/s]\n",
      "100%|██████████| 1/1 [00:00<00:00, 112.60it/s]\n"
     ]
    },
    {
     "name": "stdout",
     "output_type": "stream",
     "text": [
      "432 vertices collapsed in 9 iterations.\n",
      "214 vertices added in 4 iterations.\n",
      "Constructing Laplace Matrix.\n"
     ]
    },
    {
     "name": "stderr",
     "output_type": "stream",
     "text": [
      "100%|██████████| 9354/9354 [00:00<00:00, 33485.87it/s]\n"
     ]
    },
    {
     "name": "stdout",
     "output_type": "stream",
     "text": [
      "(14037, 4679) (14037, 3) 73179.99999986892 18647.292420994883\n",
      "Constructing Laplace Matrix.\n"
     ]
    },
    {
     "name": "stderr",
     "output_type": "stream",
     "text": [
      "100%|██████████| 9354/9354 [00:00<00:00, 31695.79it/s]\n",
      "100%|██████████| 1/1 [00:00<00:00, 118.33it/s]\n"
     ]
    },
    {
     "name": "stdout",
     "output_type": "stream",
     "text": [
      "367 vertices collapsed in 8 iterations.\n",
      "209 vertices added in 4 iterations.\n",
      "Constructing Laplace Matrix.\n"
     ]
    },
    {
     "name": "stderr",
     "output_type": "stream",
     "text": [
      "100%|██████████| 9038/9038 [00:00<00:00, 32072.74it/s]\n"
     ]
    },
    {
     "name": "stdout",
     "output_type": "stream",
     "text": [
      "(13563, 4521) (13563, 3) 67869.99999994235 17483.866745493524\n",
      "Constructing Laplace Matrix.\n"
     ]
    },
    {
     "name": "stderr",
     "output_type": "stream",
     "text": [
      "100%|██████████| 9038/9038 [00:00<00:00, 35060.67it/s]\n",
      "100%|██████████| 1/1 [00:00<00:00, 123.76it/s]\n"
     ]
    },
    {
     "name": "stdout",
     "output_type": "stream",
     "text": [
      "342 vertices collapsed in 12 iterations.\n",
      "186 vertices added in 4 iterations.\n",
      "Constructing Laplace Matrix.\n"
     ]
    },
    {
     "name": "stderr",
     "output_type": "stream",
     "text": [
      "100%|██████████| 8726/8726 [00:00<00:00, 31939.38it/s]\n"
     ]
    },
    {
     "name": "stdout",
     "output_type": "stream",
     "text": [
      "(13095, 4365) (13095, 3) 62579.99999988544 16239.02702598229\n",
      "Constructing Laplace Matrix.\n"
     ]
    },
    {
     "name": "stderr",
     "output_type": "stream",
     "text": [
      "100%|██████████| 8726/8726 [00:00<00:00, 32711.65it/s]\n",
      "100%|██████████| 1/1 [00:00<00:00, 135.85it/s]\n"
     ]
    },
    {
     "name": "stdout",
     "output_type": "stream",
     "text": [
      "292 vertices collapsed in 9 iterations.\n",
      "169 vertices added in 4 iterations.\n",
      "Constructing Laplace Matrix.\n"
     ]
    },
    {
     "name": "stderr",
     "output_type": "stream",
     "text": [
      "100%|██████████| 8480/8480 [00:00<00:00, 32066.43it/s]\n"
     ]
    },
    {
     "name": "stdout",
     "output_type": "stream",
     "text": [
      "(12726, 4242) (12726, 3) 58170.00000000396 15036.308957061057\n",
      "Constructing Laplace Matrix.\n"
     ]
    },
    {
     "name": "stderr",
     "output_type": "stream",
     "text": [
      "100%|██████████| 8480/8480 [00:00<00:00, 32100.55it/s]\n",
      "100%|██████████| 1/1 [00:00<00:00, 136.59it/s]\n"
     ]
    },
    {
     "name": "stdout",
     "output_type": "stream",
     "text": [
      "265 vertices collapsed in 8 iterations.\n",
      "143 vertices added in 4 iterations.\n",
      "Constructing Laplace Matrix.\n"
     ]
    },
    {
     "name": "stderr",
     "output_type": "stream",
     "text": [
      "100%|██████████| 8236/8236 [00:00<00:00, 31706.29it/s]\n"
     ]
    },
    {
     "name": "stdout",
     "output_type": "stream",
     "text": [
      "(12360, 4120) (12360, 3) 54409.999999961925 13994.119517681283\n",
      "Constructing Laplace Matrix.\n"
     ]
    },
    {
     "name": "stderr",
     "output_type": "stream",
     "text": [
      "100%|██████████| 8236/8236 [00:00<00:00, 36711.01it/s]\n",
      "100%|██████████| 1/1 [00:00<00:00, 149.59it/s]\n"
     ]
    },
    {
     "name": "stdout",
     "output_type": "stream",
     "text": [
      "244 vertices collapsed in 7 iterations.\n",
      "126 vertices added in 4 iterations.\n",
      "Constructing Laplace Matrix.\n"
     ]
    },
    {
     "name": "stderr",
     "output_type": "stream",
     "text": [
      "100%|██████████| 8000/8000 [00:00<00:00, 34235.58it/s]\n"
     ]
    },
    {
     "name": "stdout",
     "output_type": "stream",
     "text": [
      "(12006, 4002) (12006, 3) 50659.99999993946 12786.783802196285\n",
      "Constructing Laplace Matrix.\n"
     ]
    },
    {
     "name": "stderr",
     "output_type": "stream",
     "text": [
      "100%|██████████| 8000/8000 [00:00<00:00, 36015.25it/s]\n",
      "100%|██████████| 1/1 [00:00<00:00, 151.81it/s]\n"
     ]
    },
    {
     "name": "stdout",
     "output_type": "stream",
     "text": [
      "209 vertices collapsed in 8 iterations.\n",
      "94 vertices added in 3 iterations.\n",
      "Constructing Laplace Matrix.\n"
     ]
    },
    {
     "name": "stderr",
     "output_type": "stream",
     "text": [
      "100%|██████████| 7770/7770 [00:00<00:00, 34605.62it/s]\n"
     ]
    },
    {
     "name": "stdout",
     "output_type": "stream",
     "text": [
      "(11661, 3887) (11661, 3) 47279.999999880514 11726.486229998396\n",
      "Constructing Laplace Matrix.\n"
     ]
    },
    {
     "name": "stderr",
     "output_type": "stream",
     "text": [
      "100%|██████████| 7770/7770 [00:00<00:00, 39792.45it/s]\n",
      "100%|██████████| 1/1 [00:00<00:00, 169.47it/s]\n"
     ]
    },
    {
     "name": "stdout",
     "output_type": "stream",
     "text": [
      "157 vertices collapsed in 5 iterations.\n",
      "110 vertices added in 3 iterations.\n",
      "Constructing Laplace Matrix.\n"
     ]
    },
    {
     "name": "stderr",
     "output_type": "stream",
     "text": [
      "100%|██████████| 7676/7676 [00:00<00:00, 35283.84it/s]\n"
     ]
    },
    {
     "name": "stdout",
     "output_type": "stream",
     "text": [
      "(11520, 3840) (11520, 3) 45190.00000009197 11066.911602393515\n",
      "Constructing Laplace Matrix.\n"
     ]
    },
    {
     "name": "stderr",
     "output_type": "stream",
     "text": [
      "100%|██████████| 7676/7676 [00:00<00:00, 31602.12it/s]\n",
      "100%|██████████| 1/1 [00:00<00:00, 179.11it/s]\n"
     ]
    },
    {
     "name": "stdout",
     "output_type": "stream",
     "text": [
      "178 vertices collapsed in 8 iterations.\n",
      "91 vertices added in 3 iterations.\n",
      "Constructing Laplace Matrix.\n"
     ]
    },
    {
     "name": "stderr",
     "output_type": "stream",
     "text": [
      "100%|██████████| 7502/7502 [00:00<00:00, 33250.31it/s]\n"
     ]
    },
    {
     "name": "stdout",
     "output_type": "stream",
     "text": [
      "(11259, 3753) (11259, 3) 42389.999999895765 10241.49016876007\n",
      "Constructing Laplace Matrix.\n"
     ]
    },
    {
     "name": "stderr",
     "output_type": "stream",
     "text": [
      "100%|██████████| 7502/7502 [00:00<00:00, 38550.66it/s]\n",
      "100%|██████████| 1/1 [00:00<00:00, 180.41it/s]\n"
     ]
    },
    {
     "name": "stdout",
     "output_type": "stream",
     "text": [
      "157 vertices collapsed in 7 iterations.\n",
      "87 vertices added in 4 iterations.\n",
      "Constructing Laplace Matrix.\n"
     ]
    },
    {
     "name": "stderr",
     "output_type": "stream",
     "text": [
      "100%|██████████| 7362/7362 [00:00<00:00, 35456.26it/s]\n"
     ]
    },
    {
     "name": "stdout",
     "output_type": "stream",
     "text": [
      "(11049, 3683) (11049, 3) 39839.99999996997 9406.89758365718\n",
      "Constructing Laplace Matrix.\n"
     ]
    },
    {
     "name": "stderr",
     "output_type": "stream",
     "text": [
      "100%|██████████| 7362/7362 [00:00<00:00, 37375.53it/s]\n",
      "100%|██████████| 1/1 [00:00<00:00, 197.58it/s]\n"
     ]
    },
    {
     "name": "stdout",
     "output_type": "stream",
     "text": [
      "179 vertices collapsed in 8 iterations.\n",
      "72 vertices added in 4 iterations.\n",
      "Constructing Laplace Matrix.\n"
     ]
    },
    {
     "name": "stderr",
     "output_type": "stream",
     "text": [
      "100%|██████████| 7148/7148 [00:00<00:00, 36176.86it/s]\n"
     ]
    },
    {
     "name": "stdout",
     "output_type": "stream",
     "text": [
      "(10728, 3576) (10728, 3) 36609.9999998908 8318.073934095688\n",
      "Constructing Laplace Matrix.\n"
     ]
    },
    {
     "name": "stderr",
     "output_type": "stream",
     "text": [
      "100%|██████████| 7148/7148 [00:00<00:00, 36191.66it/s]\n",
      "100%|██████████| 1/1 [00:00<00:00, 239.92it/s]\n"
     ]
    },
    {
     "name": "stdout",
     "output_type": "stream",
     "text": [
      "161 vertices collapsed in 7 iterations.\n",
      "58 vertices added in 4 iterations.\n",
      "Constructing Laplace Matrix.\n"
     ]
    },
    {
     "name": "stderr",
     "output_type": "stream",
     "text": [
      "100%|██████████| 6942/6942 [00:00<00:00, 36975.67it/s]\n"
     ]
    },
    {
     "name": "stdout",
     "output_type": "stream",
     "text": [
      "(10419, 3473) (10419, 3) 33439.99999997034 7206.943831907431\n",
      "Constructing Laplace Matrix.\n"
     ]
    },
    {
     "name": "stderr",
     "output_type": "stream",
     "text": [
      "100%|██████████| 6942/6942 [00:00<00:00, 37910.80it/s]\n",
      "100%|██████████| 1/1 [00:00<00:00, 220.65it/s]\n"
     ]
    },
    {
     "name": "stdout",
     "output_type": "stream",
     "text": [
      "153 vertices collapsed in 6 iterations.\n",
      "64 vertices added in 3 iterations.\n",
      "Constructing Laplace Matrix.\n"
     ]
    },
    {
     "name": "stderr",
     "output_type": "stream",
     "text": [
      "100%|██████████| 6764/6764 [00:00<00:00, 38240.18it/s]"
     ]
    },
    {
     "name": "stdout",
     "output_type": "stream",
     "text": [
      "(10152, 3384) (10152, 3) 30469.999999968102 6189.395311002458\n"
     ]
    },
    {
     "name": "stderr",
     "output_type": "stream",
     "text": [
      "\n"
     ]
    },
    {
     "name": "stdout",
     "output_type": "stream",
     "text": [
      "Constructing Laplace Matrix.\n"
     ]
    },
    {
     "name": "stderr",
     "output_type": "stream",
     "text": [
      "100%|██████████| 6764/6764 [00:00<00:00, 39167.17it/s]\n",
      "100%|██████████| 1/1 [00:00<00:00, 253.36it/s]\n"
     ]
    },
    {
     "name": "stdout",
     "output_type": "stream",
     "text": [
      "145 vertices collapsed in 7 iterations.\n",
      "55 vertices added in 3 iterations.\n",
      "Constructing Laplace Matrix.\n"
     ]
    },
    {
     "name": "stderr",
     "output_type": "stream",
     "text": [
      "100%|██████████| 6584/6584 [00:00<00:00, 38264.18it/s]"
     ]
    },
    {
     "name": "stdout",
     "output_type": "stream",
     "text": [
      "(9882, 3294) (9882, 3) 27500.000000017055 5126.697959096286\n"
     ]
    },
    {
     "name": "stderr",
     "output_type": "stream",
     "text": [
      "\n"
     ]
    },
    {
     "name": "stdout",
     "output_type": "stream",
     "text": [
      "Constructing Laplace Matrix.\n"
     ]
    },
    {
     "name": "stderr",
     "output_type": "stream",
     "text": [
      "100%|██████████| 6584/6584 [00:00<00:00, 37973.11it/s]\n",
      "100%|██████████| 1/1 [00:00<00:00, 270.04it/s]\n"
     ]
    },
    {
     "name": "stdout",
     "output_type": "stream",
     "text": [
      "152 vertices collapsed in 6 iterations.\n",
      "48 vertices added in 3 iterations.\n",
      "Constructing Laplace Matrix.\n"
     ]
    },
    {
     "name": "stderr",
     "output_type": "stream",
     "text": [
      "100%|██████████| 6376/6376 [00:00<00:00, 40938.77it/s]\n"
     ]
    },
    {
     "name": "stdout",
     "output_type": "stream",
     "text": [
      "(9570, 3190) (9570, 3) 24240.000000002936 3985.107998646827\n",
      "Constructing Laplace Matrix.\n"
     ]
    },
    {
     "name": "stderr",
     "output_type": "stream",
     "text": [
      "100%|██████████| 6376/6376 [00:00<00:00, 39941.58it/s]\n",
      "100%|██████████| 1/1 [00:00<00:00, 293.16it/s]\n"
     ]
    },
    {
     "name": "stdout",
     "output_type": "stream",
     "text": [
      "130 vertices collapsed in 8 iterations.\n",
      "52 vertices added in 3 iterations.\n",
      "Constructing Laplace Matrix.\n"
     ]
    },
    {
     "name": "stderr",
     "output_type": "stream",
     "text": [
      "100%|██████████| 6220/6220 [00:00<00:00, 41663.05it/s]"
     ]
    },
    {
     "name": "stdout",
     "output_type": "stream",
     "text": [
      "(9336, 3112) (9336, 3) 21539.999999985004 3005.8369693510103\n"
     ]
    },
    {
     "name": "stderr",
     "output_type": "stream",
     "text": [
      "\n"
     ]
    },
    {
     "name": "stdout",
     "output_type": "stream",
     "text": [
      "Constructing Laplace Matrix.\n"
     ]
    },
    {
     "name": "stderr",
     "output_type": "stream",
     "text": [
      "100%|██████████| 6220/6220 [00:00<00:00, 41263.65it/s]\n",
      "100%|██████████| 1/1 [00:00<00:00, 284.26it/s]\n"
     ]
    },
    {
     "name": "stdout",
     "output_type": "stream",
     "text": [
      "127 vertices collapsed in 7 iterations.\n",
      "54 vertices added in 3 iterations.\n",
      "Constructing Laplace Matrix.\n"
     ]
    },
    {
     "name": "stderr",
     "output_type": "stream",
     "text": [
      "100%|██████████| 6074/6074 [00:00<00:00, 40669.00it/s]\n"
     ]
    },
    {
     "name": "stdout",
     "output_type": "stream",
     "text": [
      "(9117, 3039) (9117, 3) 18879.999999895736 2066.683940052812\n",
      "Constructing Laplace Matrix.\n"
     ]
    },
    {
     "name": "stderr",
     "output_type": "stream",
     "text": [
      "100%|██████████| 6074/6074 [00:00<00:00, 44434.64it/s]\n",
      "100%|██████████| 1/1 [00:00<00:00, 355.99it/s]\n"
     ]
    },
    {
     "name": "stdout",
     "output_type": "stream",
     "text": [
      "129 vertices collapsed in 6 iterations.\n",
      "47 vertices added in 4 iterations.\n",
      "Constructing Laplace Matrix.\n"
     ]
    },
    {
     "name": "stderr",
     "output_type": "stream",
     "text": [
      "100%|██████████| 5910/5910 [00:00<00:00, 41141.03it/s]\n"
     ]
    },
    {
     "name": "stdout",
     "output_type": "stream",
     "text": [
      "(8871, 2957) (8871, 3) 16239.999999928365 1182.8333728499374\n",
      "Constructing Laplace Matrix.\n"
     ]
    },
    {
     "name": "stderr",
     "output_type": "stream",
     "text": [
      "100%|██████████| 5910/5910 [00:00<00:00, 43218.16it/s]\n",
      "100%|██████████| 1/1 [00:00<00:00, 329.40it/s]\n"
     ]
    },
    {
     "name": "stdout",
     "output_type": "stream",
     "text": [
      "124 vertices collapsed in 7 iterations.\n",
      "41 vertices added in 4 iterations.\n",
      "Constructing Laplace Matrix.\n"
     ]
    },
    {
     "name": "stderr",
     "output_type": "stream",
     "text": [
      "100%|██████████| 5744/5744 [00:00<00:00, 45171.07it/s]\n"
     ]
    },
    {
     "name": "stdout",
     "output_type": "stream",
     "text": [
      "(8622, 2874) (8622, 3) 13529.999999934265 265.9161635541185\n",
      "Constructing Laplace Matrix.\n"
     ]
    },
    {
     "name": "stderr",
     "output_type": "stream",
     "text": [
      "100%|██████████| 5744/5744 [00:00<00:00, 43578.92it/s]\n",
      "100%|██████████| 1/1 [00:00<00:00, 354.70it/s]\n"
     ]
    },
    {
     "name": "stdout",
     "output_type": "stream",
     "text": [
      "90 vertices collapsed in 9 iterations.\n",
      "39 vertices added in 4 iterations.\n",
      "Constructing Laplace Matrix.\n"
     ]
    },
    {
     "name": "stderr",
     "output_type": "stream",
     "text": [
      "100%|██████████| 5642/5642 [00:00<00:00, 32955.42it/s]\n"
     ]
    },
    {
     "name": "stdout",
     "output_type": "stream",
     "text": [
      "(8469, 2823) (8469, 3) 11819.999999889003 -346.4992247725441\n",
      "Constructing Laplace Matrix.\n"
     ]
    },
    {
     "name": "stderr",
     "output_type": "stream",
     "text": [
      "100%|██████████| 5642/5642 [00:00<00:00, 41349.62it/s]\n",
      "100%|██████████| 1/1 [00:00<00:00, 457.49it/s]\n"
     ]
    },
    {
     "name": "stdout",
     "output_type": "stream",
     "text": [
      "62 vertices collapsed in 9 iterations.\n",
      "40 vertices added in 3 iterations.\n",
      "Constructing Laplace Matrix.\n"
     ]
    },
    {
     "name": "stderr",
     "output_type": "stream",
     "text": [
      "100%|██████████| 5598/5598 [00:00<00:00, 45179.01it/s]"
     ]
    },
    {
     "name": "stdout",
     "output_type": "stream",
     "text": [
      "(8403, 2801) (8403, 3) 10739.999999872885 -730.1687962950225\n"
     ]
    },
    {
     "name": "stderr",
     "output_type": "stream",
     "text": [
      "\n"
     ]
    },
    {
     "name": "stdout",
     "output_type": "stream",
     "text": [
      "Constructing Laplace Matrix.\n"
     ]
    },
    {
     "name": "stderr",
     "output_type": "stream",
     "text": [
      "100%|██████████| 5598/5598 [00:00<00:00, 44163.27it/s]\n",
      "100%|██████████| 1/1 [00:00<00:00, 424.78it/s]\n"
     ]
    },
    {
     "name": "stdout",
     "output_type": "stream",
     "text": [
      "38 vertices collapsed in 5 iterations.\n",
      "44 vertices added in 3 iterations.\n",
      "Constructing Laplace Matrix.\n"
     ]
    },
    {
     "name": "stderr",
     "output_type": "stream",
     "text": [
      "100%|██████████| 5610/5610 [00:00<00:00, 49800.62it/s]"
     ]
    },
    {
     "name": "stdout",
     "output_type": "stream",
     "text": [
      "(8421, 2807) (8421, 3) 10539.999999941396 -826.5337964512439\n"
     ]
    },
    {
     "name": "stderr",
     "output_type": "stream",
     "text": [
      "\n"
     ]
    },
    {
     "name": "stdout",
     "output_type": "stream",
     "text": [
      "Constructing Laplace Matrix.\n"
     ]
    },
    {
     "name": "stderr",
     "output_type": "stream",
     "text": [
      "100%|██████████| 5610/5610 [00:00<00:00, 42907.58it/s]\n",
      "100%|██████████| 1/1 [00:00<00:00, 375.83it/s]\n"
     ]
    },
    {
     "name": "stdout",
     "output_type": "stream",
     "text": [
      "40 vertices collapsed in 7 iterations.\n",
      "38 vertices added in 3 iterations.\n",
      "Constructing Laplace Matrix.\n"
     ]
    },
    {
     "name": "stderr",
     "output_type": "stream",
     "text": [
      "100%|██████████| 5606/5606 [00:00<00:00, 48038.52it/s]"
     ]
    },
    {
     "name": "stdout",
     "output_type": "stream",
     "text": [
      "(8415, 2805) (8415, 3) 10329.999999924235 -875.4910273513822\n"
     ]
    },
    {
     "name": "stderr",
     "output_type": "stream",
     "text": [
      "\n"
     ]
    },
    {
     "name": "stdout",
     "output_type": "stream",
     "text": [
      "Constructing Laplace Matrix.\n"
     ]
    },
    {
     "name": "stderr",
     "output_type": "stream",
     "text": [
      "100%|██████████| 5606/5606 [00:00<00:00, 43555.59it/s]\n",
      "100%|██████████| 1/1 [00:00<00:00, 466.66it/s]\n"
     ]
    },
    {
     "name": "stdout",
     "output_type": "stream",
     "text": [
      "35 vertices collapsed in 6 iterations.\n",
      "24 vertices added in 3 iterations.\n",
      "Constructing Laplace Matrix.\n"
     ]
    },
    {
     "name": "stderr",
     "output_type": "stream",
     "text": [
      "100%|██████████| 5584/5584 [00:00<00:00, 47366.62it/s]"
     ]
    },
    {
     "name": "stdout",
     "output_type": "stream",
     "text": [
      "(8382, 2794) (8382, 3) 10099.999999980548 -950.5587367973764\n"
     ]
    },
    {
     "name": "stderr",
     "output_type": "stream",
     "text": [
      "\n"
     ]
    },
    {
     "name": "stdout",
     "output_type": "stream",
     "text": [
      "Constructing Laplace Matrix.\n"
     ]
    },
    {
     "name": "stderr",
     "output_type": "stream",
     "text": [
      "100%|██████████| 5584/5584 [00:00<00:00, 46223.61it/s]\n",
      "100%|██████████| 1/1 [00:00<00:00, 373.69it/s]\n"
     ]
    },
    {
     "name": "stdout",
     "output_type": "stream",
     "text": [
      "19 vertices collapsed in 3 iterations.\n",
      "23 vertices added in 3 iterations.\n",
      "Constructing Laplace Matrix.\n"
     ]
    },
    {
     "name": "stderr",
     "output_type": "stream",
     "text": [
      "100%|██████████| 5592/5592 [00:00<00:00, 43518.08it/s]"
     ]
    },
    {
     "name": "stdout",
     "output_type": "stream",
     "text": [
      "(8394, 2798) (8394, 3) 10010.000000032966 -992.102112462102\n"
     ]
    },
    {
     "name": "stderr",
     "output_type": "stream",
     "text": [
      "\n"
     ]
    },
    {
     "name": "stdout",
     "output_type": "stream",
     "text": [
      "Constructing Laplace Matrix.\n"
     ]
    },
    {
     "name": "stderr",
     "output_type": "stream",
     "text": [
      "100%|██████████| 5592/5592 [00:00<00:00, 44191.16it/s]\n",
      "100%|██████████| 1/1 [00:00<00:00, 430.85it/s]\n"
     ]
    },
    {
     "name": "stdout",
     "output_type": "stream",
     "text": [
      "19 vertices collapsed in 4 iterations.\n",
      "23 vertices added in 3 iterations.\n",
      "Constructing Laplace Matrix.\n"
     ]
    },
    {
     "name": "stderr",
     "output_type": "stream",
     "text": [
      "100%|██████████| 5600/5600 [00:00<00:00, 46025.77it/s]"
     ]
    },
    {
     "name": "stdout",
     "output_type": "stream",
     "text": [
      "(8406, 2802) (8406, 3) 9969.999999989463 -997.3074804932712\n"
     ]
    },
    {
     "name": "stderr",
     "output_type": "stream",
     "text": [
      "\n"
     ]
    },
    {
     "name": "stdout",
     "output_type": "stream",
     "text": [
      "Constructing Laplace Matrix.\n"
     ]
    },
    {
     "name": "stderr",
     "output_type": "stream",
     "text": [
      "100%|██████████| 5600/5600 [00:00<00:00, 43369.51it/s]\n",
      "100%|██████████| 1/1 [00:00<00:00, 399.19it/s]\n"
     ]
    },
    {
     "name": "stdout",
     "output_type": "stream",
     "text": [
      "17 vertices collapsed in 3 iterations.\n",
      "15 vertices added in 3 iterations.\n",
      "Constructing Laplace Matrix.\n"
     ]
    },
    {
     "name": "stderr",
     "output_type": "stream",
     "text": [
      "100%|██████████| 5596/5596 [00:00<00:00, 48846.90it/s]"
     ]
    },
    {
     "name": "stdout",
     "output_type": "stream",
     "text": [
      "(8400, 2800) (8400, 3) 9919.99999990721 -1018.3052270932712\n"
     ]
    },
    {
     "name": "stderr",
     "output_type": "stream",
     "text": [
      "\n"
     ]
    },
    {
     "name": "stdout",
     "output_type": "stream",
     "text": [
      "Constructing Laplace Matrix.\n"
     ]
    },
    {
     "name": "stderr",
     "output_type": "stream",
     "text": [
      "100%|██████████| 5596/5596 [00:00<00:00, 43334.21it/s]\n",
      "100%|██████████| 1/1 [00:00<00:00, 420.69it/s]\n"
     ]
    },
    {
     "name": "stdout",
     "output_type": "stream",
     "text": [
      "12 vertices collapsed in 3 iterations.\n",
      "15 vertices added in 3 iterations.\n",
      "Constructing Laplace Matrix.\n"
     ]
    },
    {
     "name": "stderr",
     "output_type": "stream",
     "text": [
      "100%|██████████| 5602/5602 [00:00<00:00, 48061.39it/s]"
     ]
    },
    {
     "name": "stdout",
     "output_type": "stream",
     "text": [
      "(8409, 2803) (8409, 3) 9929.999999926056 -1015.9335182932713\n"
     ]
    },
    {
     "name": "stderr",
     "output_type": "stream",
     "text": [
      "\n"
     ]
    },
    {
     "name": "stdout",
     "output_type": "stream",
     "text": [
      "Constructing Laplace Matrix.\n"
     ]
    },
    {
     "name": "stderr",
     "output_type": "stream",
     "text": [
      "100%|██████████| 5602/5602 [00:00<00:00, 47508.83it/s]\n",
      "100%|██████████| 1/1 [00:00<00:00, 433.83it/s]\n"
     ]
    },
    {
     "name": "stdout",
     "output_type": "stream",
     "text": [
      "13 vertices collapsed in 3 iterations.\n",
      "11 vertices added in 2 iterations.\n",
      "Constructing Laplace Matrix.\n"
     ]
    },
    {
     "name": "stderr",
     "output_type": "stream",
     "text": [
      "100%|██████████| 5598/5598 [00:00<00:00, 44430.36it/s]\n"
     ]
    },
    {
     "name": "stdout",
     "output_type": "stream",
     "text": [
      "(8403, 2801) (8403, 3) 9849.999999926595 -1028.4373944395843\n",
      "Constructing Laplace Matrix.\n"
     ]
    },
    {
     "name": "stderr",
     "output_type": "stream",
     "text": [
      "100%|██████████| 5598/5598 [00:00<00:00, 45522.64it/s]\n",
      "100%|██████████| 1/1 [00:00<00:00, 386.57it/s]\n"
     ]
    },
    {
     "name": "stdout",
     "output_type": "stream",
     "text": [
      "9 vertices collapsed in 3 iterations.\n",
      "13 vertices added in 3 iterations.\n",
      "Constructing Laplace Matrix.\n"
     ]
    },
    {
     "name": "stderr",
     "output_type": "stream",
     "text": [
      "100%|██████████| 5606/5606 [00:00<00:00, 46945.51it/s]"
     ]
    },
    {
     "name": "stdout",
     "output_type": "stream",
     "text": [
      "(8415, 2805) (8415, 3) 9869.999999946544 -1020.1144856395844\n"
     ]
    },
    {
     "name": "stderr",
     "output_type": "stream",
     "text": [
      "\n"
     ]
    },
    {
     "name": "stdout",
     "output_type": "stream",
     "text": [
      "Constructing Laplace Matrix.\n"
     ]
    },
    {
     "name": "stderr",
     "output_type": "stream",
     "text": [
      "100%|██████████| 5606/5606 [00:00<00:00, 44426.85it/s]\n",
      "100%|██████████| 1/1 [00:00<00:00, 436.32it/s]\n"
     ]
    },
    {
     "name": "stdout",
     "output_type": "stream",
     "text": [
      "11 vertices collapsed in 3 iterations.\n",
      "13 vertices added in 2 iterations.\n",
      "Constructing Laplace Matrix.\n"
     ]
    },
    {
     "name": "stderr",
     "output_type": "stream",
     "text": [
      "100%|██████████| 5610/5610 [00:00<00:00, 41031.14it/s]\n"
     ]
    },
    {
     "name": "stdout",
     "output_type": "stream",
     "text": [
      "(8421, 2807) (8421, 3) 9869.99999992198 -1031.4532486395842\n",
      "Constructing Laplace Matrix.\n"
     ]
    },
    {
     "name": "stderr",
     "output_type": "stream",
     "text": [
      "100%|██████████| 5610/5610 [00:00<00:00, 46633.86it/s]\n",
      "100%|██████████| 1/1 [00:00<00:00, 398.93it/s]\n"
     ]
    },
    {
     "name": "stdout",
     "output_type": "stream",
     "text": [
      "11 vertices collapsed in 3 iterations.\n",
      "11 vertices added in 2 iterations.\n",
      "Constructing Laplace Matrix.\n"
     ]
    },
    {
     "name": "stderr",
     "output_type": "stream",
     "text": [
      "100%|██████████| 5610/5610 [00:00<00:00, 49542.99it/s]\n"
     ]
    },
    {
     "name": "stdout",
     "output_type": "stream",
     "text": [
      "(8421, 2807) (8421, 3) 9849.999999962522 -1026.507290439584\n",
      "Constructing Laplace Matrix.\n"
     ]
    },
    {
     "name": "stderr",
     "output_type": "stream",
     "text": [
      "100%|██████████| 5610/5610 [00:00<00:00, 47161.96it/s]\n",
      "100%|██████████| 1/1 [00:00<00:00, 425.60it/s]\n"
     ]
    },
    {
     "name": "stdout",
     "output_type": "stream",
     "text": [
      "9 vertices collapsed in 3 iterations.\n",
      "12 vertices added in 2 iterations.\n",
      "Constructing Laplace Matrix.\n"
     ]
    },
    {
     "name": "stderr",
     "output_type": "stream",
     "text": [
      "100%|██████████| 5616/5616 [00:00<00:00, 49671.80it/s]\n"
     ]
    },
    {
     "name": "stdout",
     "output_type": "stream",
     "text": [
      "(8430, 2810) (8430, 3) 9859.999999958342 -1024.9852312395842\n",
      "Constructing Laplace Matrix.\n"
     ]
    },
    {
     "name": "stderr",
     "output_type": "stream",
     "text": [
      "100%|██████████| 5616/5616 [00:00<00:00, 42465.92it/s]\n",
      "100%|██████████| 1/1 [00:00<00:00, 371.21it/s]\n"
     ]
    },
    {
     "name": "stdout",
     "output_type": "stream",
     "text": [
      "10 vertices collapsed in 3 iterations.\n",
      "10 vertices added in 2 iterations.\n",
      "Constructing Laplace Matrix.\n"
     ]
    },
    {
     "name": "stderr",
     "output_type": "stream",
     "text": [
      "100%|██████████| 5616/5616 [00:00<00:00, 42769.34it/s]\n"
     ]
    },
    {
     "name": "stdout",
     "output_type": "stream",
     "text": [
      "(8430, 2810) (8430, 3) 9839.999999983289 -1029.6398460395842\n",
      "Constructing Laplace Matrix.\n"
     ]
    },
    {
     "name": "stderr",
     "output_type": "stream",
     "text": [
      "100%|██████████| 5616/5616 [00:00<00:00, 46783.22it/s]\n",
      "100%|██████████| 1/1 [00:00<00:00, 453.54it/s]\n"
     ]
    },
    {
     "name": "stdout",
     "output_type": "stream",
     "text": [
      "8 vertices collapsed in 3 iterations.\n",
      "11 vertices added in 2 iterations.\n",
      "Constructing Laplace Matrix.\n"
     ]
    },
    {
     "name": "stderr",
     "output_type": "stream",
     "text": [
      "100%|██████████| 5622/5622 [00:00<00:00, 46160.28it/s]\n"
     ]
    },
    {
     "name": "stdout",
     "output_type": "stream",
     "text": [
      "(8439, 2813) (8439, 3) 9849.9999999546 -1028.4335896395844\n",
      "Constructing Laplace Matrix.\n"
     ]
    },
    {
     "name": "stderr",
     "output_type": "stream",
     "text": [
      "100%|██████████| 5622/5622 [00:00<00:00, 50665.60it/s]\n",
      "100%|██████████| 1/1 [00:00<00:00, 380.06it/s]\n"
     ]
    },
    {
     "name": "stdout",
     "output_type": "stream",
     "text": [
      "9 vertices collapsed in 3 iterations.\n",
      "10 vertices added in 2 iterations.\n",
      "Constructing Laplace Matrix.\n"
     ]
    },
    {
     "name": "stderr",
     "output_type": "stream",
     "text": [
      "100%|██████████| 5624/5624 [00:00<00:00, 46420.69it/s]\n"
     ]
    },
    {
     "name": "stdout",
     "output_type": "stream",
     "text": [
      "(8442, 2814) (8442, 3) 9839.99999998621 -1029.6379953395842\n",
      "Constructing Laplace Matrix.\n"
     ]
    },
    {
     "name": "stderr",
     "output_type": "stream",
     "text": [
      "100%|██████████| 5624/5624 [00:00<00:00, 44367.72it/s]\n",
      "100%|██████████| 1/1 [00:00<00:00, 431.60it/s]\n"
     ]
    },
    {
     "name": "stdout",
     "output_type": "stream",
     "text": [
      "8 vertices collapsed in 3 iterations.\n",
      "11 vertices added in 2 iterations.\n",
      "Constructing Laplace Matrix.\n"
     ]
    },
    {
     "name": "stderr",
     "output_type": "stream",
     "text": [
      "100%|██████████| 5630/5630 [00:00<00:00, 48534.91it/s]\n"
     ]
    },
    {
     "name": "stdout",
     "output_type": "stream",
     "text": [
      "(8451, 2817) (8451, 3) 9849.999999929452 -1028.4318838395843\n",
      "Constructing Laplace Matrix.\n"
     ]
    },
    {
     "name": "stderr",
     "output_type": "stream",
     "text": [
      "100%|██████████| 5630/5630 [00:00<00:00, 45434.30it/s]\n",
      "100%|██████████| 1/1 [00:00<00:00, 394.61it/s]\n"
     ]
    },
    {
     "name": "stdout",
     "output_type": "stream",
     "text": [
      "9 vertices collapsed in 3 iterations.\n",
      "10 vertices added in 2 iterations.\n",
      "Constructing Laplace Matrix.\n"
     ]
    },
    {
     "name": "stderr",
     "output_type": "stream",
     "text": [
      "100%|██████████| 5632/5632 [00:00<00:00, 48884.62it/s]\n"
     ]
    },
    {
     "name": "stdout",
     "output_type": "stream",
     "text": [
      "(8454, 2818) (8454, 3) 9839.999999991915 -1029.6363014395843\n",
      "Constructing Laplace Matrix.\n"
     ]
    },
    {
     "name": "stderr",
     "output_type": "stream",
     "text": [
      "100%|██████████| 5632/5632 [00:00<00:00, 45377.27it/s]\n",
      "100%|██████████| 1/1 [00:00<00:00, 426.99it/s]\n"
     ]
    },
    {
     "name": "stdout",
     "output_type": "stream",
     "text": [
      "8 vertices collapsed in 3 iterations.\n",
      "12 vertices added in 2 iterations.\n",
      "Constructing Laplace Matrix.\n"
     ]
    },
    {
     "name": "stderr",
     "output_type": "stream",
     "text": [
      "100%|██████████| 5640/5640 [00:00<00:00, 48300.07it/s]\n"
     ]
    },
    {
     "name": "stdout",
     "output_type": "stream",
     "text": [
      "(8466, 2822) (8466, 3) 9859.999999961425 -1025.1084440395844\n",
      "Constructing Laplace Matrix.\n"
     ]
    },
    {
     "name": "stderr",
     "output_type": "stream",
     "text": [
      "100%|██████████| 5640/5640 [00:00<00:00, 48459.76it/s]\n",
      "100%|██████████| 1/1 [00:00<00:00, 411.89it/s]\n"
     ]
    },
    {
     "name": "stdout",
     "output_type": "stream",
     "text": [
      "11 vertices collapsed in 3 iterations.\n",
      "10 vertices added in 2 iterations.\n",
      "Constructing Laplace Matrix.\n"
     ]
    },
    {
     "name": "stderr",
     "output_type": "stream",
     "text": [
      "100%|██████████| 5638/5638 [00:00<00:00, 47830.77it/s]\n"
     ]
    },
    {
     "name": "stdout",
     "output_type": "stream",
     "text": [
      "(8463, 2821) (8463, 3) 9809.999999986929 -1036.9133466551227\n",
      "Constructing Laplace Matrix.\n"
     ]
    },
    {
     "name": "stderr",
     "output_type": "stream",
     "text": [
      "100%|██████████| 5638/5638 [00:00<00:00, 43701.32it/s]\n",
      "100%|██████████| 1/1 [00:00<00:00, 420.90it/s]\n"
     ]
    },
    {
     "name": "stdout",
     "output_type": "stream",
     "text": [
      "8 vertices collapsed in 3 iterations.\n",
      "11 vertices added in 2 iterations.\n",
      "Constructing Laplace Matrix.\n"
     ]
    },
    {
     "name": "stderr",
     "output_type": "stream",
     "text": [
      "100%|██████████| 5644/5644 [00:00<00:00, 42150.21it/s]\n"
     ]
    },
    {
     "name": "stdout",
     "output_type": "stream",
     "text": [
      "(8472, 2824) (8472, 3) 9819.999999956759 -1035.7079080551227\n",
      "Constructing Laplace Matrix.\n"
     ]
    },
    {
     "name": "stderr",
     "output_type": "stream",
     "text": [
      "100%|██████████| 5644/5644 [00:00<00:00, 45331.84it/s]\n",
      "100%|██████████| 1/1 [00:00<00:00, 466.86it/s]\n"
     ]
    },
    {
     "name": "stdout",
     "output_type": "stream",
     "text": [
      "9 vertices collapsed in 3 iterations.\n",
      "10 vertices added in 2 iterations.\n",
      "Constructing Laplace Matrix.\n"
     ]
    },
    {
     "name": "stderr",
     "output_type": "stream",
     "text": [
      "100%|██████████| 5646/5646 [00:00<00:00, 48623.37it/s]\n"
     ]
    },
    {
     "name": "stdout",
     "output_type": "stream",
     "text": [
      "(8475, 2825) (8475, 3) 9809.999999978634 -1036.9141736551228\n",
      "Constructing Laplace Matrix.\n"
     ]
    },
    {
     "name": "stderr",
     "output_type": "stream",
     "text": [
      "100%|██████████| 5646/5646 [00:00<00:00, 51414.13it/s]\n",
      "100%|██████████| 1/1 [00:00<00:00, 395.47it/s]\n"
     ]
    },
    {
     "name": "stdout",
     "output_type": "stream",
     "text": [
      "8 vertices collapsed in 3 iterations.\n",
      "12 vertices added in 2 iterations.\n",
      "Constructing Laplace Matrix.\n"
     ]
    },
    {
     "name": "stderr",
     "output_type": "stream",
     "text": [
      "100%|██████████| 5654/5654 [00:00<00:00, 48911.30it/s]\n"
     ]
    },
    {
     "name": "stdout",
     "output_type": "stream",
     "text": [
      "(8487, 2829) (8487, 3) 9829.999999958876 -1041.8742151551228\n",
      "Constructing Laplace Matrix.\n"
     ]
    },
    {
     "name": "stderr",
     "output_type": "stream",
     "text": [
      "100%|██████████| 5654/5654 [00:00<00:00, 45137.38it/s]\n",
      "100%|██████████| 1/1 [00:00<00:00, 422.64it/s]\n"
     ]
    },
    {
     "name": "stdout",
     "output_type": "stream",
     "text": [
      "10 vertices collapsed in 3 iterations.\n",
      "11 vertices added in 2 iterations.\n",
      "Constructing Laplace Matrix.\n"
     ]
    },
    {
     "name": "stderr",
     "output_type": "stream",
     "text": [
      "100%|██████████| 5656/5656 [00:00<00:00, 48126.77it/s]\n"
     ]
    },
    {
     "name": "stdout",
     "output_type": "stream",
     "text": [
      "(8490, 2830) (8490, 3) 9779.99999997066 -1018.2776763708799\n",
      "Constructing Laplace Matrix.\n"
     ]
    },
    {
     "name": "stderr",
     "output_type": "stream",
     "text": [
      "100%|██████████| 5656/5656 [00:00<00:00, 40740.14it/s]\n",
      "100%|██████████| 1/1 [00:00<00:00, 348.57it/s]\n"
     ]
    },
    {
     "name": "stdout",
     "output_type": "stream",
     "text": [
      "8 vertices collapsed in 3 iterations.\n",
      "15 vertices added in 3 iterations.\n",
      "Constructing Laplace Matrix.\n"
     ]
    },
    {
     "name": "stderr",
     "output_type": "stream",
     "text": [
      "100%|██████████| 5670/5670 [00:00<00:00, 42203.48it/s]"
     ]
    },
    {
     "name": "stdout",
     "output_type": "stream",
     "text": [
      "(8511, 2837) (8511, 3) 9829.999999965543 -1001.9641034708799\n"
     ]
    },
    {
     "name": "stderr",
     "output_type": "stream",
     "text": [
      "\n"
     ]
    },
    {
     "name": "stdout",
     "output_type": "stream",
     "text": [
      "Constructing Laplace Matrix.\n"
     ]
    },
    {
     "name": "stderr",
     "output_type": "stream",
     "text": [
      "100%|██████████| 5670/5670 [00:00<00:00, 40683.99it/s]\n",
      "100%|██████████| 1/1 [00:00<00:00, 423.32it/s]\n"
     ]
    },
    {
     "name": "stdout",
     "output_type": "stream",
     "text": [
      "13 vertices collapsed in 3 iterations.\n",
      "10 vertices added in 2 iterations.\n",
      "Constructing Laplace Matrix.\n"
     ]
    },
    {
     "name": "stderr",
     "output_type": "stream",
     "text": [
      "100%|██████████| 5664/5664 [00:00<00:00, 46907.22it/s]\n"
     ]
    },
    {
     "name": "stdout",
     "output_type": "stream",
     "text": [
      "(8502, 2834) (8502, 3) 9779.99999996372 -1018.27793717088\n",
      "Constructing Laplace Matrix.\n"
     ]
    },
    {
     "name": "stderr",
     "output_type": "stream",
     "text": [
      "100%|██████████| 5664/5664 [00:00<00:00, 39140.33it/s]\n",
      "100%|██████████| 1/1 [00:00<00:00, 418.05it/s]\n"
     ]
    },
    {
     "name": "stdout",
     "output_type": "stream",
     "text": [
      "8 vertices collapsed in 3 iterations.\n",
      "11 vertices added in 2 iterations.\n",
      "Constructing Laplace Matrix.\n"
     ]
    },
    {
     "name": "stderr",
     "output_type": "stream",
     "text": [
      "100%|██████████| 5670/5670 [00:00<00:00, 47035.11it/s]\n"
     ]
    },
    {
     "name": "stdout",
     "output_type": "stream",
     "text": [
      "(8511, 2837) (8511, 3) 9789.999999951684 -1017.0725724708798\n",
      "Constructing Laplace Matrix.\n"
     ]
    },
    {
     "name": "stderr",
     "output_type": "stream",
     "text": [
      "100%|██████████| 5670/5670 [00:00<00:00, 46132.02it/s]\n",
      "100%|██████████| 1/1 [00:00<00:00, 416.35it/s]\n"
     ]
    },
    {
     "name": "stdout",
     "output_type": "stream",
     "text": [
      "9 vertices collapsed in 3 iterations.\n",
      "10 vertices added in 2 iterations.\n",
      "Constructing Laplace Matrix.\n"
     ]
    },
    {
     "name": "stderr",
     "output_type": "stream",
     "text": [
      "100%|██████████| 5672/5672 [00:00<00:00, 44183.37it/s]\n"
     ]
    },
    {
     "name": "stdout",
     "output_type": "stream",
     "text": [
      "(8514, 2838) (8514, 3) 9779.999999967073 -1018.27790077088\n",
      "Constructing Laplace Matrix.\n"
     ]
    },
    {
     "name": "stderr",
     "output_type": "stream",
     "text": [
      "100%|██████████| 5672/5672 [00:00<00:00, 44732.18it/s]\n",
      "100%|██████████| 1/1 [00:00<00:00, 402.56it/s]\n"
     ]
    },
    {
     "name": "stdout",
     "output_type": "stream",
     "text": [
      "8 vertices collapsed in 3 iterations.\n",
      "11 vertices added in 2 iterations.\n",
      "Constructing Laplace Matrix.\n"
     ]
    },
    {
     "name": "stderr",
     "output_type": "stream",
     "text": [
      "100%|██████████| 5678/5678 [00:00<00:00, 46059.61it/s]\n"
     ]
    },
    {
     "name": "stdout",
     "output_type": "stream",
     "text": [
      "(8523, 2841) (8523, 3) 9789.999999940854 -1017.0724961708798\n",
      "Constructing Laplace Matrix.\n"
     ]
    },
    {
     "name": "stderr",
     "output_type": "stream",
     "text": [
      "100%|██████████| 5678/5678 [00:00<00:00, 46093.30it/s]\n",
      "100%|██████████| 1/1 [00:00<00:00, 496.25it/s]\n"
     ]
    },
    {
     "name": "stdout",
     "output_type": "stream",
     "text": [
      "9 vertices collapsed in 3 iterations.\n",
      "10 vertices added in 2 iterations.\n",
      "Constructing Laplace Matrix.\n"
     ]
    },
    {
     "name": "stderr",
     "output_type": "stream",
     "text": [
      "100%|██████████| 5680/5680 [00:00<00:00, 49321.36it/s]\n"
     ]
    },
    {
     "name": "stdout",
     "output_type": "stream",
     "text": [
      "(8526, 2842) (8526, 3) 9779.999999963118 -1018.2776727708799\n",
      "Constructing Laplace Matrix.\n"
     ]
    },
    {
     "name": "stderr",
     "output_type": "stream",
     "text": [
      "100%|██████████| 5680/5680 [00:00<00:00, 46641.79it/s]\n",
      "100%|██████████| 1/1 [00:00<00:00, 391.52it/s]\n"
     ]
    },
    {
     "name": "stdout",
     "output_type": "stream",
     "text": [
      "8 vertices collapsed in 3 iterations.\n",
      "11 vertices added in 2 iterations.\n",
      "Constructing Laplace Matrix.\n"
     ]
    },
    {
     "name": "stderr",
     "output_type": "stream",
     "text": [
      "100%|██████████| 5686/5686 [00:00<00:00, 45713.65it/s]\n"
     ]
    },
    {
     "name": "stdout",
     "output_type": "stream",
     "text": [
      "(8535, 2845) (8535, 3) 9789.999999948739 -1017.07232907088\n",
      "Constructing Laplace Matrix.\n"
     ]
    },
    {
     "name": "stderr",
     "output_type": "stream",
     "text": [
      "100%|██████████| 5686/5686 [00:00<00:00, 45932.62it/s]\n",
      "100%|██████████| 1/1 [00:00<00:00, 476.19it/s]\n"
     ]
    },
    {
     "name": "stdout",
     "output_type": "stream",
     "text": [
      "9 vertices collapsed in 3 iterations.\n",
      "10 vertices added in 2 iterations.\n",
      "Constructing Laplace Matrix.\n"
     ]
    },
    {
     "name": "stderr",
     "output_type": "stream",
     "text": [
      "100%|██████████| 5688/5688 [00:00<00:00, 42942.23it/s]\n"
     ]
    },
    {
     "name": "stdout",
     "output_type": "stream",
     "text": [
      "(8538, 2846) (8538, 3) 9779.99999995918 -1018.2776514708801\n",
      "Constructing Laplace Matrix.\n"
     ]
    },
    {
     "name": "stderr",
     "output_type": "stream",
     "text": [
      "100%|██████████| 5688/5688 [00:00<00:00, 45608.39it/s]\n",
      "100%|██████████| 1/1 [00:00<00:00, 408.68it/s]\n"
     ]
    },
    {
     "name": "stdout",
     "output_type": "stream",
     "text": [
      "8 vertices collapsed in 3 iterations.\n",
      "11 vertices added in 2 iterations.\n",
      "Constructing Laplace Matrix.\n"
     ]
    },
    {
     "name": "stderr",
     "output_type": "stream",
     "text": [
      "100%|██████████| 5694/5694 [00:00<00:00, 44125.53it/s]\n"
     ]
    },
    {
     "name": "stdout",
     "output_type": "stream",
     "text": [
      "(8547, 2849) (8547, 3) 9789.999999946236 -1017.0722457708799\n",
      "Constructing Laplace Matrix.\n"
     ]
    },
    {
     "name": "stderr",
     "output_type": "stream",
     "text": [
      "100%|██████████| 5694/5694 [00:00<00:00, 47126.45it/s]\n",
      "100%|██████████| 1/1 [00:00<00:00, 461.06it/s]\n"
     ]
    },
    {
     "name": "stdout",
     "output_type": "stream",
     "text": [
      "10 vertices collapsed in 3 iterations.\n",
      "11 vertices added in 2 iterations.\n",
      "Constructing Laplace Matrix.\n"
     ]
    },
    {
     "name": "stderr",
     "output_type": "stream",
     "text": [
      "100%|██████████| 5696/5696 [00:00<00:00, 47780.36it/s]\n"
     ]
    },
    {
     "name": "stdout",
     "output_type": "stream",
     "text": [
      "(8550, 2850) (8550, 3) 9759.999999949643 -1010.5843667992154\n",
      "Constructing Laplace Matrix.\n"
     ]
    },
    {
     "name": "stderr",
     "output_type": "stream",
     "text": [
      "100%|██████████| 5696/5696 [00:00<00:00, 46101.66it/s]\n",
      "100%|██████████| 1/1 [00:00<00:00, 385.19it/s]\n"
     ]
    },
    {
     "name": "stdout",
     "output_type": "stream",
     "text": [
      "9 vertices collapsed in 3 iterations.\n",
      "27 vertices added in 3 iterations.\n",
      "Constructing Laplace Matrix.\n"
     ]
    },
    {
     "name": "stderr",
     "output_type": "stream",
     "text": [
      "100%|██████████| 5732/5732 [00:00<00:00, 48061.01it/s]"
     ]
    },
    {
     "name": "stdout",
     "output_type": "stream",
     "text": [
      "(8604, 2868) (8604, 3) 9889.999999962016 -1019.2914582992154\n"
     ]
    },
    {
     "name": "stderr",
     "output_type": "stream",
     "text": [
      "\n"
     ]
    },
    {
     "name": "stdout",
     "output_type": "stream",
     "text": [
      "Constructing Laplace Matrix.\n"
     ]
    },
    {
     "name": "stderr",
     "output_type": "stream",
     "text": [
      "100%|██████████| 5732/5732 [00:00<00:00, 46303.15it/s]\n",
      "100%|██████████| 1/1 [00:00<00:00, 336.59it/s]\n"
     ]
    },
    {
     "name": "stdout",
     "output_type": "stream",
     "text": [
      "22 vertices collapsed in 3 iterations.\n",
      "17 vertices added in 3 iterations.\n",
      "Constructing Laplace Matrix.\n"
     ]
    },
    {
     "name": "stderr",
     "output_type": "stream",
     "text": [
      "100%|██████████| 5722/5722 [00:00<00:00, 46545.26it/s]"
     ]
    },
    {
     "name": "stdout",
     "output_type": "stream",
     "text": [
      "(8589, 2863) (8589, 3) 9779.99999997425 -985.7597149085893\n"
     ]
    },
    {
     "name": "stderr",
     "output_type": "stream",
     "text": [
      "\n"
     ]
    },
    {
     "name": "stdout",
     "output_type": "stream",
     "text": [
      "Constructing Laplace Matrix.\n"
     ]
    },
    {
     "name": "stderr",
     "output_type": "stream",
     "text": [
      "100%|██████████| 5722/5722 [00:00<00:00, 50392.77it/s]\n",
      "100%|██████████| 1/1 [00:00<00:00, 296.73it/s]\n"
     ]
    },
    {
     "name": "stdout",
     "output_type": "stream",
     "text": [
      "14 vertices collapsed in 3 iterations.\n",
      "13 vertices added in 2 iterations.\n",
      "Constructing Laplace Matrix.\n"
     ]
    },
    {
     "name": "stderr",
     "output_type": "stream",
     "text": [
      "100%|██████████| 5720/5720 [00:00<00:00, 41417.50it/s]\n"
     ]
    },
    {
     "name": "stdout",
     "output_type": "stream",
     "text": [
      "(8586, 2862) (8586, 3) 9749.999999978114 -991.5160880085893\n",
      "Constructing Laplace Matrix.\n"
     ]
    },
    {
     "name": "stderr",
     "output_type": "stream",
     "text": [
      "100%|██████████| 5720/5720 [00:00<00:00, 40648.40it/s]\n",
      "100%|██████████| 1/1 [00:00<00:00, 431.60it/s]\n"
     ]
    },
    {
     "name": "stdout",
     "output_type": "stream",
     "text": [
      "11 vertices collapsed in 3 iterations.\n",
      "11 vertices added in 2 iterations.\n",
      "Constructing Laplace Matrix.\n"
     ]
    },
    {
     "name": "stderr",
     "output_type": "stream",
     "text": [
      "100%|██████████| 5720/5720 [00:00<00:00, 49167.48it/s]\n"
     ]
    },
    {
     "name": "stdout",
     "output_type": "stream",
     "text": [
      "(8586, 2862) (8586, 3) 9729.999999989164 -990.3492631085893\n",
      "Constructing Laplace Matrix.\n"
     ]
    },
    {
     "name": "stderr",
     "output_type": "stream",
     "text": [
      "100%|██████████| 5720/5720 [00:00<00:00, 42847.71it/s]\n",
      "100%|██████████| 1/1 [00:00<00:00, 458.09it/s]\n"
     ]
    },
    {
     "name": "stdout",
     "output_type": "stream",
     "text": [
      "9 vertices collapsed in 3 iterations.\n",
      "11 vertices added in 2 iterations.\n",
      "Constructing Laplace Matrix.\n"
     ]
    },
    {
     "name": "stderr",
     "output_type": "stream",
     "text": [
      "100%|██████████| 5724/5724 [00:00<00:00, 44410.28it/s]\n"
     ]
    },
    {
     "name": "stdout",
     "output_type": "stream",
     "text": [
      "(8592, 2864) (8592, 3) 9729.999999955251 -989.8617162085892\n",
      "Constructing Laplace Matrix.\n"
     ]
    },
    {
     "name": "stderr",
     "output_type": "stream",
     "text": [
      "100%|██████████| 5724/5724 [00:00<00:00, 40382.08it/s]\n",
      "100%|██████████| 1/1 [00:00<00:00, 477.55it/s]\n"
     ]
    },
    {
     "name": "stdout",
     "output_type": "stream",
     "text": [
      "9 vertices collapsed in 3 iterations.\n",
      "14 vertices added in 2 iterations.\n",
      "Constructing Laplace Matrix.\n"
     ]
    },
    {
     "name": "stderr",
     "output_type": "stream",
     "text": [
      "100%|██████████| 5734/5734 [00:00<00:00, 48944.17it/s]\n"
     ]
    },
    {
     "name": "stdout",
     "output_type": "stream",
     "text": [
      "(8607, 2869) (8607, 3) 9759.999999974776 -984.0653512085892\n",
      "Constructing Laplace Matrix.\n"
     ]
    },
    {
     "name": "stderr",
     "output_type": "stream",
     "text": [
      "100%|██████████| 5734/5734 [00:00<00:00, 44933.71it/s]\n",
      "100%|██████████| 1/1 [00:00<00:00, 429.57it/s]\n"
     ]
    },
    {
     "name": "stdout",
     "output_type": "stream",
     "text": [
      "12 vertices collapsed in 3 iterations.\n",
      "11 vertices added in 2 iterations.\n",
      "Constructing Laplace Matrix.\n"
     ]
    },
    {
     "name": "stderr",
     "output_type": "stream",
     "text": [
      "100%|██████████| 5732/5732 [00:00<00:00, 48571.25it/s]\n"
     ]
    },
    {
     "name": "stdout",
     "output_type": "stream",
     "text": [
      "(8604, 2868) (8604, 3) 9729.999999979995 -989.8600132085892\n",
      "Constructing Laplace Matrix.\n"
     ]
    },
    {
     "name": "stderr",
     "output_type": "stream",
     "text": [
      "100%|██████████| 5732/5732 [00:00<00:00, 46284.34it/s]\n",
      "100%|██████████| 1/1 [00:00<00:00, 404.19it/s]\n"
     ]
    },
    {
     "name": "stdout",
     "output_type": "stream",
     "text": [
      "9 vertices collapsed in 3 iterations.\n",
      "12 vertices added in 2 iterations.\n",
      "Constructing Laplace Matrix.\n"
     ]
    },
    {
     "name": "stderr",
     "output_type": "stream",
     "text": [
      "100%|██████████| 5738/5738 [00:00<00:00, 48419.51it/s]\n"
     ]
    },
    {
     "name": "stdout",
     "output_type": "stream",
     "text": [
      "(8613, 2871) (8613, 3) 9739.999999989068 -984.8766764085892\n",
      "Constructing Laplace Matrix.\n"
     ]
    },
    {
     "name": "stderr",
     "output_type": "stream",
     "text": [
      "100%|██████████| 5738/5738 [00:00<00:00, 40681.20it/s]\n",
      "100%|██████████| 1/1 [00:00<00:00, 405.52it/s]\n"
     ]
    },
    {
     "name": "stdout",
     "output_type": "stream",
     "text": [
      "10 vertices collapsed in 3 iterations.\n",
      "11 vertices added in 2 iterations.\n",
      "Constructing Laplace Matrix.\n"
     ]
    },
    {
     "name": "stderr",
     "output_type": "stream",
     "text": [
      "100%|██████████| 5740/5740 [00:00<00:00, 48193.12it/s]\n"
     ]
    },
    {
     "name": "stdout",
     "output_type": "stream",
     "text": [
      "(8616, 2872) (8616, 3) 9729.999999966618 -989.8589156085892\n",
      "Constructing Laplace Matrix.\n"
     ]
    },
    {
     "name": "stderr",
     "output_type": "stream",
     "text": [
      "100%|██████████| 5740/5740 [00:00<00:00, 44921.31it/s]\n",
      "100%|██████████| 1/1 [00:00<00:00, 466.66it/s]\n"
     ]
    },
    {
     "name": "stdout",
     "output_type": "stream",
     "text": [
      "9 vertices collapsed in 3 iterations.\n",
      "12 vertices added in 2 iterations.\n",
      "Constructing Laplace Matrix.\n"
     ]
    },
    {
     "name": "stderr",
     "output_type": "stream",
     "text": [
      "100%|██████████| 5746/5746 [00:00<00:00, 45340.50it/s]\n"
     ]
    },
    {
     "name": "stdout",
     "output_type": "stream",
     "text": [
      "(8625, 2875) (8625, 3) 9739.999999989474 -984.8758500085892\n",
      "Constructing Laplace Matrix.\n"
     ]
    },
    {
     "name": "stderr",
     "output_type": "stream",
     "text": [
      "100%|██████████| 5746/5746 [00:00<00:00, 45478.34it/s]\n",
      "100%|██████████| 1/1 [00:00<00:00, 386.68it/s]\n"
     ]
    },
    {
     "name": "stdout",
     "output_type": "stream",
     "text": [
      "10 vertices collapsed in 3 iterations.\n",
      "12 vertices added in 2 iterations.\n",
      "Constructing Laplace Matrix.\n"
     ]
    },
    {
     "name": "stderr",
     "output_type": "stream",
     "text": [
      "100%|██████████| 5750/5750 [00:00<00:00, 43255.84it/s]\n"
     ]
    },
    {
     "name": "stdout",
     "output_type": "stream",
     "text": [
      "(8631, 2877) (8631, 3) 9739.999999981314 -986.5365353085892\n",
      "Constructing Laplace Matrix.\n"
     ]
    },
    {
     "name": "stderr",
     "output_type": "stream",
     "text": [
      "100%|██████████| 5750/5750 [00:00<00:00, 46223.05it/s]\n",
      "100%|██████████| 1/1 [00:00<00:00, 447.82it/s]\n"
     ]
    },
    {
     "name": "stdout",
     "output_type": "stream",
     "text": [
      "10 vertices collapsed in 3 iterations.\n",
      "12 vertices added in 2 iterations.\n",
      "Constructing Laplace Matrix.\n"
     ]
    },
    {
     "name": "stderr",
     "output_type": "stream",
     "text": [
      "100%|██████████| 5754/5754 [00:00<00:00, 43347.35it/s]"
     ]
    },
    {
     "name": "stdout",
     "output_type": "stream",
     "text": [
      "(8637, 2879) (8637, 3) 9739.999999989603 -984.8756477085892\n"
     ]
    },
    {
     "name": "stderr",
     "output_type": "stream",
     "text": [
      "\n"
     ]
    },
    {
     "name": "stdout",
     "output_type": "stream",
     "text": [
      "Constructing Laplace Matrix.\n"
     ]
    },
    {
     "name": "stderr",
     "output_type": "stream",
     "text": [
      "100%|██████████| 5754/5754 [00:00<00:00, 46646.25it/s]\n",
      "100%|██████████| 1/1 [00:00<00:00, 425.77it/s]\n"
     ]
    },
    {
     "name": "stdout",
     "output_type": "stream",
     "text": [
      "10 vertices collapsed in 3 iterations.\n",
      "11 vertices added in 2 iterations.\n",
      "Constructing Laplace Matrix.\n"
     ]
    },
    {
     "name": "stderr",
     "output_type": "stream",
     "text": [
      "100%|██████████| 5756/5756 [00:00<00:00, 48711.54it/s]\n"
     ]
    },
    {
     "name": "stdout",
     "output_type": "stream",
     "text": [
      "(8640, 2880) (8640, 3) 9729.99999997356 -989.8582740085892\n",
      "Constructing Laplace Matrix.\n"
     ]
    },
    {
     "name": "stderr",
     "output_type": "stream",
     "text": [
      "100%|██████████| 5756/5756 [00:00<00:00, 44904.51it/s]\n",
      "100%|██████████| 1/1 [00:00<00:00, 416.51it/s]\n"
     ]
    },
    {
     "name": "stdout",
     "output_type": "stream",
     "text": [
      "9 vertices collapsed in 3 iterations.\n",
      "12 vertices added in 2 iterations.\n",
      "Constructing Laplace Matrix.\n"
     ]
    },
    {
     "name": "stderr",
     "output_type": "stream",
     "text": [
      "100%|██████████| 5762/5762 [00:00<00:00, 40969.50it/s]\n"
     ]
    },
    {
     "name": "stdout",
     "output_type": "stream",
     "text": [
      "(8649, 2883) (8649, 3) 9739.999999990147 -984.8757273085893\n",
      "Constructing Laplace Matrix.\n"
     ]
    },
    {
     "name": "stderr",
     "output_type": "stream",
     "text": [
      "100%|██████████| 5762/5762 [00:00<00:00, 44769.04it/s]\n",
      "100%|██████████| 1/1 [00:00<00:00, 447.63it/s]\n"
     ]
    },
    {
     "name": "stdout",
     "output_type": "stream",
     "text": [
      "11 vertices collapsed in 3 iterations.\n",
      "11 vertices added in 2 iterations.\n",
      "Constructing Laplace Matrix.\n"
     ]
    },
    {
     "name": "stderr",
     "output_type": "stream",
     "text": [
      "100%|██████████| 5762/5762 [00:00<00:00, 41812.13it/s]\n"
     ]
    },
    {
     "name": "stdout",
     "output_type": "stream",
     "text": [
      "(8649, 2883) (8649, 3) 9699.99999991079 -1010.9017642204701\n",
      "Constructing Laplace Matrix.\n"
     ]
    },
    {
     "name": "stderr",
     "output_type": "stream",
     "text": [
      "100%|██████████| 5762/5762 [00:00<00:00, 43562.38it/s]\n",
      "100%|██████████| 1/1 [00:00<00:00, 413.39it/s]\n"
     ]
    },
    {
     "name": "stdout",
     "output_type": "stream",
     "text": [
      "9 vertices collapsed in 3 iterations.\n",
      "12 vertices added in 2 iterations.\n",
      "Constructing Laplace Matrix.\n"
     ]
    },
    {
     "name": "stderr",
     "output_type": "stream",
     "text": [
      "100%|██████████| 5768/5768 [00:00<00:00, 45411.24it/s]\n"
     ]
    },
    {
     "name": "stdout",
     "output_type": "stream",
     "text": [
      "(8658, 2886) (8658, 3) 9709.999999926813 -1005.9176364204702\n",
      "Constructing Laplace Matrix.\n"
     ]
    },
    {
     "name": "stderr",
     "output_type": "stream",
     "text": [
      "100%|██████████| 5768/5768 [00:00<00:00, 47729.40it/s]\n",
      "100%|██████████| 1/1 [00:00<00:00, 418.55it/s]\n"
     ]
    },
    {
     "name": "stdout",
     "output_type": "stream",
     "text": [
      "10 vertices collapsed in 3 iterations.\n",
      "12 vertices added in 2 iterations.\n",
      "Constructing Laplace Matrix.\n"
     ]
    },
    {
     "name": "stderr",
     "output_type": "stream",
     "text": [
      "100%|██████████| 5772/5772 [00:00<00:00, 49611.20it/s]\n"
     ]
    },
    {
     "name": "stdout",
     "output_type": "stream",
     "text": [
      "(8664, 2888) (8664, 3) 9709.999999960233 -1012.5232516204701\n",
      "Constructing Laplace Matrix.\n"
     ]
    },
    {
     "name": "stderr",
     "output_type": "stream",
     "text": [
      "100%|██████████| 5772/5772 [00:00<00:00, 47324.25it/s]\n",
      "100%|██████████| 1/1 [00:00<00:00, 382.69it/s]\n"
     ]
    },
    {
     "name": "stdout",
     "output_type": "stream",
     "text": [
      "11 vertices collapsed in 3 iterations.\n",
      "13 vertices added in 2 iterations.\n",
      "Constructing Laplace Matrix.\n"
     ]
    },
    {
     "name": "stderr",
     "output_type": "stream",
     "text": [
      "100%|██████████| 5776/5776 [00:00<00:00, 40587.95it/s]\n"
     ]
    },
    {
     "name": "stdout",
     "output_type": "stream",
     "text": [
      "(8670, 2890) (8670, 3) 9689.999999980944 -1005.1971553037948\n",
      "Constructing Laplace Matrix.\n"
     ]
    },
    {
     "name": "stderr",
     "output_type": "stream",
     "text": [
      "100%|██████████| 5776/5776 [00:00<00:00, 46249.46it/s]\n",
      "100%|██████████| 1/1 [00:00<00:00, 417.01it/s]\n"
     ]
    },
    {
     "name": "stdout",
     "output_type": "stream",
     "text": [
      "11 vertices collapsed in 3 iterations.\n",
      "11 vertices added in 2 iterations.\n",
      "Constructing Laplace Matrix.\n"
     ]
    },
    {
     "name": "stderr",
     "output_type": "stream",
     "text": [
      "100%|██████████| 5776/5776 [00:00<00:00, 43794.76it/s]\n"
     ]
    },
    {
     "name": "stdout",
     "output_type": "stream",
     "text": [
      "(8670, 2890) (8670, 3) 9670.000000021424 -1013.5005675037949\n",
      "Constructing Laplace Matrix.\n"
     ]
    },
    {
     "name": "stderr",
     "output_type": "stream",
     "text": [
      "100%|██████████| 5776/5776 [00:00<00:00, 41361.15it/s]\n",
      "100%|██████████| 1/1 [00:00<00:00, 407.65it/s]\n"
     ]
    },
    {
     "name": "stdout",
     "output_type": "stream",
     "text": [
      "9 vertices collapsed in 3 iterations.\n",
      "12 vertices added in 2 iterations.\n",
      "Constructing Laplace Matrix.\n"
     ]
    },
    {
     "name": "stderr",
     "output_type": "stream",
     "text": [
      "100%|██████████| 5782/5782 [00:00<00:00, 49350.48it/s]\n"
     ]
    },
    {
     "name": "stdout",
     "output_type": "stream",
     "text": [
      "(8679, 2893) (8679, 3) 9679.99999993027 -1008.516617703795\n",
      "Constructing Laplace Matrix.\n"
     ]
    },
    {
     "name": "stderr",
     "output_type": "stream",
     "text": [
      "100%|██████████| 5782/5782 [00:00<00:00, 49033.67it/s]\n",
      "100%|██████████| 1/1 [00:00<00:00, 458.09it/s]\n"
     ]
    },
    {
     "name": "stdout",
     "output_type": "stream",
     "text": [
      "10 vertices collapsed in 3 iterations.\n",
      "11 vertices added in 2 iterations.\n",
      "Constructing Laplace Matrix.\n"
     ]
    },
    {
     "name": "stderr",
     "output_type": "stream",
     "text": [
      "100%|██████████| 5784/5784 [00:00<00:00, 48499.05it/s]\n"
     ]
    },
    {
     "name": "stdout",
     "output_type": "stream",
     "text": [
      "(8682, 2894) (8682, 3) 9669.999999879552 -1013.4981389037948\n",
      "Constructing Laplace Matrix.\n"
     ]
    },
    {
     "name": "stderr",
     "output_type": "stream",
     "text": [
      "100%|██████████| 5784/5784 [00:00<00:00, 44925.99it/s]\n",
      "100%|██████████| 1/1 [00:00<00:00, 395.06it/s]\n"
     ]
    },
    {
     "name": "stdout",
     "output_type": "stream",
     "text": [
      "9 vertices collapsed in 3 iterations.\n",
      "12 vertices added in 2 iterations.\n",
      "Constructing Laplace Matrix.\n"
     ]
    },
    {
     "name": "stderr",
     "output_type": "stream",
     "text": [
      "100%|██████████| 5790/5790 [00:00<00:00, 48003.98it/s]\n"
     ]
    },
    {
     "name": "stdout",
     "output_type": "stream",
     "text": [
      "(8691, 2897) (8691, 3) 9680.000000079703 -1008.5142431037949\n",
      "Constructing Laplace Matrix.\n"
     ]
    },
    {
     "name": "stderr",
     "output_type": "stream",
     "text": [
      "100%|██████████| 5790/5790 [00:00<00:00, 44418.27it/s]\n",
      "100%|██████████| 1/1 [00:00<00:00, 395.91it/s]\n"
     ]
    },
    {
     "name": "stdout",
     "output_type": "stream",
     "text": [
      "10 vertices collapsed in 3 iterations.\n",
      "11 vertices added in 2 iterations.\n",
      "Constructing Laplace Matrix.\n"
     ]
    },
    {
     "name": "stderr",
     "output_type": "stream",
     "text": [
      "100%|██████████| 5792/5792 [00:00<00:00, 44089.83it/s]\n"
     ]
    },
    {
     "name": "stdout",
     "output_type": "stream",
     "text": [
      "(8694, 2898) (8694, 3) 9669.999999903632 -1013.495828303795\n",
      "Constructing Laplace Matrix.\n"
     ]
    },
    {
     "name": "stderr",
     "output_type": "stream",
     "text": [
      "100%|██████████| 5792/5792 [00:00<00:00, 47605.29it/s]\n",
      "100%|██████████| 1/1 [00:00<00:00, 440.72it/s]\n"
     ]
    },
    {
     "name": "stdout",
     "output_type": "stream",
     "text": [
      "9 vertices collapsed in 3 iterations.\n",
      "12 vertices added in 2 iterations.\n",
      "Constructing Laplace Matrix.\n"
     ]
    },
    {
     "name": "stderr",
     "output_type": "stream",
     "text": [
      "100%|██████████| 5798/5798 [00:00<00:00, 43354.34it/s]\n"
     ]
    },
    {
     "name": "stdout",
     "output_type": "stream",
     "text": [
      "(8703, 2901) (8703, 3) 9679.999999990587 -1008.511889603795\n",
      "Constructing Laplace Matrix.\n"
     ]
    },
    {
     "name": "stderr",
     "output_type": "stream",
     "text": [
      "100%|██████████| 5798/5798 [00:00<00:00, 48123.86it/s]\n",
      "100%|██████████| 1/1 [00:00<00:00, 404.50it/s]\n"
     ]
    },
    {
     "name": "stdout",
     "output_type": "stream",
     "text": [
      "10 vertices collapsed in 3 iterations.\n",
      "12 vertices added in 2 iterations.\n",
      "Constructing Laplace Matrix.\n"
     ]
    },
    {
     "name": "stderr",
     "output_type": "stream",
     "text": [
      "100%|██████████| 5802/5802 [00:00<00:00, 48137.91it/s]\n"
     ]
    },
    {
     "name": "stdout",
     "output_type": "stream",
     "text": [
      "(8709, 2903) (8709, 3) 9679.999999981059 -1010.1713978037949\n",
      "Constructing Laplace Matrix.\n"
     ]
    },
    {
     "name": "stderr",
     "output_type": "stream",
     "text": [
      "100%|██████████| 5802/5802 [00:00<00:00, 48271.98it/s]\n",
      "100%|██████████| 1/1 [00:00<00:00, 412.38it/s]\n"
     ]
    },
    {
     "name": "stdout",
     "output_type": "stream",
     "text": [
      "10 vertices collapsed in 3 iterations.\n",
      "12 vertices added in 2 iterations.\n",
      "Constructing Laplace Matrix.\n"
     ]
    },
    {
     "name": "stderr",
     "output_type": "stream",
     "text": [
      "100%|██████████| 5806/5806 [00:00<00:00, 47038.80it/s]\n"
     ]
    },
    {
     "name": "stdout",
     "output_type": "stream",
     "text": [
      "(8715, 2905) (8715, 3) 9680.00000000651 -1008.509411203795\n",
      "Constructing Laplace Matrix.\n"
     ]
    },
    {
     "name": "stderr",
     "output_type": "stream",
     "text": [
      "100%|██████████| 5806/5806 [00:00<00:00, 44218.39it/s]\n",
      "100%|██████████| 1/1 [00:00<00:00, 473.02it/s]\n"
     ]
    },
    {
     "name": "stdout",
     "output_type": "stream",
     "text": [
      "10 vertices collapsed in 3 iterations.\n",
      "11 vertices added in 2 iterations.\n",
      "Constructing Laplace Matrix.\n"
     ]
    },
    {
     "name": "stderr",
     "output_type": "stream",
     "text": [
      "100%|██████████| 5808/5808 [00:00<00:00, 41399.32it/s]\n"
     ]
    },
    {
     "name": "stdout",
     "output_type": "stream",
     "text": [
      "(8718, 2906) (8718, 3) 9669.999999990672 -1013.490886503795\n",
      "Constructing Laplace Matrix.\n"
     ]
    },
    {
     "name": "stderr",
     "output_type": "stream",
     "text": [
      "100%|██████████| 5808/5808 [00:00<00:00, 50705.55it/s]\n",
      "100%|██████████| 1/1 [00:00<00:00, 463.82it/s]\n"
     ]
    },
    {
     "name": "stdout",
     "output_type": "stream",
     "text": [
      "9 vertices collapsed in 3 iterations.\n",
      "12 vertices added in 2 iterations.\n",
      "Constructing Laplace Matrix.\n"
     ]
    },
    {
     "name": "stderr",
     "output_type": "stream",
     "text": [
      "100%|██████████| 5814/5814 [00:00<00:00, 38479.85it/s]"
     ]
    },
    {
     "name": "stdout",
     "output_type": "stream",
     "text": [
      "(8727, 2909) (8727, 3) 9680.000000010721 -1008.506881703795\n"
     ]
    },
    {
     "name": "stderr",
     "output_type": "stream",
     "text": [
      "\n"
     ]
    },
    {
     "name": "stdout",
     "output_type": "stream",
     "text": [
      "Constructing Laplace Matrix.\n"
     ]
    },
    {
     "name": "stderr",
     "output_type": "stream",
     "text": [
      "100%|██████████| 5814/5814 [00:00<00:00, 46176.96it/s]\n",
      "100%|██████████| 1/1 [00:00<00:00, 425.56it/s]\n"
     ]
    },
    {
     "name": "stdout",
     "output_type": "stream",
     "text": [
      "10 vertices collapsed in 3 iterations.\n",
      "11 vertices added in 2 iterations.\n",
      "Constructing Laplace Matrix.\n"
     ]
    },
    {
     "name": "stderr",
     "output_type": "stream",
     "text": [
      "100%|██████████| 5816/5816 [00:00<00:00, 44720.54it/s]\n"
     ]
    },
    {
     "name": "stdout",
     "output_type": "stream",
     "text": [
      "(8730, 2910) (8730, 3) 9669.999999977124 -1013.488363903795\n",
      "Constructing Laplace Matrix.\n"
     ]
    },
    {
     "name": "stderr",
     "output_type": "stream",
     "text": [
      "100%|██████████| 5816/5816 [00:00<00:00, 40590.96it/s]\n",
      "100%|██████████| 1/1 [00:00<00:00, 446.06it/s]\n"
     ]
    },
    {
     "name": "stdout",
     "output_type": "stream",
     "text": [
      "9 vertices collapsed in 3 iterations.\n",
      "12 vertices added in 2 iterations.\n",
      "Constructing Laplace Matrix.\n"
     ]
    },
    {
     "name": "stderr",
     "output_type": "stream",
     "text": [
      "100%|██████████| 5822/5822 [00:00<00:00, 49758.92it/s]\n"
     ]
    },
    {
     "name": "stdout",
     "output_type": "stream",
     "text": [
      "(8739, 2913) (8739, 3) 9679.999999992839 -1008.504337003795\n",
      "Constructing Laplace Matrix.\n"
     ]
    },
    {
     "name": "stderr",
     "output_type": "stream",
     "text": [
      "100%|██████████| 5822/5822 [00:00<00:00, 47303.39it/s]\n",
      "100%|██████████| 1/1 [00:00<00:00, 410.84it/s]\n"
     ]
    },
    {
     "name": "stdout",
     "output_type": "stream",
     "text": [
      "10 vertices collapsed in 3 iterations.\n",
      "11 vertices added in 2 iterations.\n",
      "Constructing Laplace Matrix.\n"
     ]
    },
    {
     "name": "stderr",
     "output_type": "stream",
     "text": [
      "100%|██████████| 5824/5824 [00:00<00:00, 47348.80it/s]\n"
     ]
    },
    {
     "name": "stdout",
     "output_type": "stream",
     "text": [
      "(8742, 2914) (8742, 3) 9669.999999981701 -1013.485752203795\n",
      "Constructing Laplace Matrix.\n"
     ]
    },
    {
     "name": "stderr",
     "output_type": "stream",
     "text": [
      "100%|██████████| 5824/5824 [00:00<00:00, 40604.63it/s]\n",
      "100%|██████████| 1/1 [00:00<00:00, 405.83it/s]\n"
     ]
    },
    {
     "name": "stdout",
     "output_type": "stream",
     "text": [
      "9 vertices collapsed in 3 iterations.\n",
      "13 vertices added in 2 iterations.\n",
      "Constructing Laplace Matrix.\n"
     ]
    },
    {
     "name": "stderr",
     "output_type": "stream",
     "text": [
      "100%|██████████| 5832/5832 [00:00<00:00, 44428.51it/s]\n"
     ]
    },
    {
     "name": "stdout",
     "output_type": "stream",
     "text": [
      "(8754, 2918) (8754, 3) 9689.999999996498 -1005.1796884037949\n",
      "Constructing Laplace Matrix.\n"
     ]
    },
    {
     "name": "stderr",
     "output_type": "stream",
     "text": [
      "100%|██████████| 5832/5832 [00:00<00:00, 40681.58it/s]\n",
      "100%|██████████| 1/1 [00:00<00:00, 438.41it/s]\n"
     ]
    },
    {
     "name": "stdout",
     "output_type": "stream",
     "text": [
      "11 vertices collapsed in 3 iterations.\n",
      "11 vertices added in 2 iterations.\n",
      "Constructing Laplace Matrix.\n"
     ]
    },
    {
     "name": "stderr",
     "output_type": "stream",
     "text": [
      "100%|██████████| 5832/5832 [00:00<00:00, 42731.58it/s]\n"
     ]
    },
    {
     "name": "stdout",
     "output_type": "stream",
     "text": [
      "(8754, 2918) (8754, 3) 9669.999999981199 -1013.4830686037949\n",
      "Constructing Laplace Matrix.\n"
     ]
    },
    {
     "name": "stderr",
     "output_type": "stream",
     "text": [
      "100%|██████████| 5832/5832 [00:00<00:00, 48538.52it/s]\n",
      "100%|██████████| 1/1 [00:00<00:00, 408.80it/s]\n"
     ]
    },
    {
     "name": "stdout",
     "output_type": "stream",
     "text": [
      "9 vertices collapsed in 3 iterations.\n",
      "12 vertices added in 2 iterations.\n",
      "Constructing Laplace Matrix.\n"
     ]
    },
    {
     "name": "stderr",
     "output_type": "stream",
     "text": [
      "100%|██████████| 5838/5838 [00:00<00:00, 48581.23it/s]\n"
     ]
    },
    {
     "name": "stdout",
     "output_type": "stream",
     "text": [
      "(8763, 2921) (8763, 3) 9679.999999980413 -1008.498885803795\n",
      "Constructing Laplace Matrix.\n"
     ]
    },
    {
     "name": "stderr",
     "output_type": "stream",
     "text": [
      "100%|██████████| 5838/5838 [00:00<00:00, 48607.94it/s]\n",
      "100%|██████████| 1/1 [00:00<00:00, 444.83it/s]\n"
     ]
    },
    {
     "name": "stdout",
     "output_type": "stream",
     "text": [
      "10 vertices collapsed in 3 iterations.\n",
      "11 vertices added in 2 iterations.\n",
      "Constructing Laplace Matrix.\n"
     ]
    },
    {
     "name": "stderr",
     "output_type": "stream",
     "text": [
      "100%|██████████| 5840/5840 [00:00<00:00, 41675.93it/s]\n"
     ]
    },
    {
     "name": "stdout",
     "output_type": "stream",
     "text": [
      "(8766, 2922) (8766, 3) 9669.999999971766 -1013.480141003795\n",
      "Constructing Laplace Matrix.\n"
     ]
    },
    {
     "name": "stderr",
     "output_type": "stream",
     "text": [
      "100%|██████████| 5840/5840 [00:00<00:00, 45266.82it/s]\n",
      "100%|██████████| 1/1 [00:00<00:00, 405.01it/s]\n"
     ]
    },
    {
     "name": "stdout",
     "output_type": "stream",
     "text": [
      "9 vertices collapsed in 3 iterations.\n",
      "12 vertices added in 2 iterations.\n",
      "Constructing Laplace Matrix.\n"
     ]
    },
    {
     "name": "stderr",
     "output_type": "stream",
     "text": [
      "100%|██████████| 5846/5846 [00:00<00:00, 46003.65it/s]\n"
     ]
    },
    {
     "name": "stdout",
     "output_type": "stream",
     "text": [
      "(8775, 2925) (8775, 3) 9679.999999991544 -1008.4960292037949\n",
      "Constructing Laplace Matrix.\n"
     ]
    },
    {
     "name": "stderr",
     "output_type": "stream",
     "text": [
      "100%|██████████| 5846/5846 [00:00<00:00, 42123.90it/s]\n",
      "100%|██████████| 1/1 [00:00<00:00, 427.16it/s]\n"
     ]
    },
    {
     "name": "stdout",
     "output_type": "stream",
     "text": [
      "10 vertices collapsed in 3 iterations.\n",
      "11 vertices added in 2 iterations.\n",
      "Constructing Laplace Matrix.\n"
     ]
    },
    {
     "name": "stderr",
     "output_type": "stream",
     "text": [
      "100%|██████████| 5848/5848 [00:00<00:00, 49785.44it/s]\n"
     ]
    },
    {
     "name": "stdout",
     "output_type": "stream",
     "text": [
      "(8778, 2926) (8778, 3) 9669.999999964202 -1013.4774567037949\n",
      "Constructing Laplace Matrix.\n"
     ]
    },
    {
     "name": "stderr",
     "output_type": "stream",
     "text": [
      "100%|██████████| 5848/5848 [00:00<00:00, 46547.93it/s]\n",
      "100%|██████████| 1/1 [00:00<00:00, 264.69it/s]\n"
     ]
    },
    {
     "name": "stdout",
     "output_type": "stream",
     "text": [
      "9 vertices collapsed in 3 iterations.\n",
      "12 vertices added in 2 iterations.\n",
      "Constructing Laplace Matrix.\n"
     ]
    },
    {
     "name": "stderr",
     "output_type": "stream",
     "text": [
      "100%|██████████| 5854/5854 [00:00<00:00, 44700.03it/s]\n"
     ]
    },
    {
     "name": "stdout",
     "output_type": "stream",
     "text": [
      "(8787, 2929) (8787, 3) 9679.999999984415 -1008.4934619037949\n",
      "Constructing Laplace Matrix.\n"
     ]
    },
    {
     "name": "stderr",
     "output_type": "stream",
     "text": [
      "100%|██████████| 5854/5854 [00:00<00:00, 48286.71it/s]\n",
      "100%|██████████| 1/1 [00:00<00:00, 441.46it/s]\n"
     ]
    },
    {
     "name": "stdout",
     "output_type": "stream",
     "text": [
      "10 vertices collapsed in 3 iterations.\n",
      "12 vertices added in 2 iterations.\n",
      "Constructing Laplace Matrix.\n"
     ]
    },
    {
     "name": "stderr",
     "output_type": "stream",
     "text": [
      "100%|██████████| 5858/5858 [00:00<00:00, 40718.97it/s]\n"
     ]
    },
    {
     "name": "stdout",
     "output_type": "stream",
     "text": [
      "(8793, 2931) (8793, 3) 9679.99999997116 -1015.099264303795\n",
      "Constructing Laplace Matrix.\n"
     ]
    },
    {
     "name": "stderr",
     "output_type": "stream",
     "text": [
      "100%|██████████| 5858/5858 [00:00<00:00, 43883.49it/s]\n",
      "100%|██████████| 1/1 [00:00<00:00, 404.39it/s]\n"
     ]
    },
    {
     "name": "stdout",
     "output_type": "stream",
     "text": [
      "10 vertices collapsed in 3 iterations.\n",
      "13 vertices added in 2 iterations.\n",
      "Constructing Laplace Matrix.\n"
     ]
    },
    {
     "name": "stderr",
     "output_type": "stream",
     "text": [
      "100%|██████████| 5864/5864 [00:00<00:00, 43789.69it/s]\n"
     ]
    },
    {
     "name": "stdout",
     "output_type": "stream",
     "text": [
      "(8802, 2934) (8802, 3) 9689.99999999055 -1005.168960603795\n",
      "Constructing Laplace Matrix.\n"
     ]
    },
    {
     "name": "stderr",
     "output_type": "stream",
     "text": [
      "100%|██████████| 5864/5864 [00:00<00:00, 43854.10it/s]\n",
      "100%|██████████| 1/1 [00:00<00:00, 407.77it/s]\n"
     ]
    },
    {
     "name": "stdout",
     "output_type": "stream",
     "text": [
      "11 vertices collapsed in 3 iterations.\n",
      "11 vertices added in 2 iterations.\n",
      "Constructing Laplace Matrix.\n"
     ]
    },
    {
     "name": "stderr",
     "output_type": "stream",
     "text": [
      "100%|██████████| 5864/5864 [00:00<00:00, 45311.67it/s]\n"
     ]
    },
    {
     "name": "stdout",
     "output_type": "stream",
     "text": [
      "(8802, 2934) (8802, 3) 9669.999999977734 -1013.4723588037949\n",
      "Constructing Laplace Matrix.\n"
     ]
    },
    {
     "name": "stderr",
     "output_type": "stream",
     "text": [
      "100%|██████████| 5864/5864 [00:00<00:00, 44523.81it/s]\n",
      "100%|██████████| 1/1 [00:00<00:00, 388.65it/s]\n"
     ]
    },
    {
     "name": "stdout",
     "output_type": "stream",
     "text": [
      "9 vertices collapsed in 3 iterations.\n",
      "12 vertices added in 2 iterations.\n",
      "Constructing Laplace Matrix.\n"
     ]
    },
    {
     "name": "stderr",
     "output_type": "stream",
     "text": [
      "100%|██████████| 5870/5870 [00:00<00:00, 49700.16it/s]\n"
     ]
    },
    {
     "name": "stdout",
     "output_type": "stream",
     "text": [
      "(8811, 2937) (8811, 3) 9679.999999979378 -1008.4883329037949\n",
      "Constructing Laplace Matrix.\n"
     ]
    },
    {
     "name": "stderr",
     "output_type": "stream",
     "text": [
      "100%|██████████| 5870/5870 [00:00<00:00, 49815.80it/s]\n",
      "100%|██████████| 1/1 [00:00<00:00, 499.68it/s]\n"
     ]
    },
    {
     "name": "stdout",
     "output_type": "stream",
     "text": [
      "10 vertices collapsed in 3 iterations.\n",
      "11 vertices added in 2 iterations.\n",
      "Constructing Laplace Matrix.\n"
     ]
    },
    {
     "name": "stderr",
     "output_type": "stream",
     "text": [
      "100%|██████████| 5872/5872 [00:00<00:00, 41993.82it/s]\n"
     ]
    },
    {
     "name": "stdout",
     "output_type": "stream",
     "text": [
      "(8814, 2938) (8814, 3) 9669.999999976559 -1013.4697661037949\n",
      "Constructing Laplace Matrix.\n"
     ]
    },
    {
     "name": "stderr",
     "output_type": "stream",
     "text": [
      "100%|██████████| 5872/5872 [00:00<00:00, 45486.19it/s]\n",
      "100%|██████████| 1/1 [00:00<00:00, 417.14it/s]\n"
     ]
    },
    {
     "name": "stdout",
     "output_type": "stream",
     "text": [
      "9 vertices collapsed in 3 iterations.\n",
      "12 vertices added in 2 iterations.\n",
      "Constructing Laplace Matrix.\n"
     ]
    },
    {
     "name": "stderr",
     "output_type": "stream",
     "text": [
      "100%|██████████| 5878/5878 [00:00<00:00, 43423.33it/s]"
     ]
    },
    {
     "name": "stdout",
     "output_type": "stream",
     "text": [
      "(8823, 2941) (8823, 3) 9679.999999984944 -1008.485680203795\n"
     ]
    },
    {
     "name": "stderr",
     "output_type": "stream",
     "text": [
      "\n"
     ]
    },
    {
     "name": "stdout",
     "output_type": "stream",
     "text": [
      "Constructing Laplace Matrix.\n"
     ]
    },
    {
     "name": "stderr",
     "output_type": "stream",
     "text": [
      "100%|██████████| 5878/5878 [00:00<00:00, 36658.87it/s]\n",
      "100%|██████████| 1/1 [00:00<00:00, 405.68it/s]\n"
     ]
    },
    {
     "name": "stdout",
     "output_type": "stream",
     "text": [
      "10 vertices collapsed in 3 iterations.\n",
      "11 vertices added in 2 iterations.\n",
      "Constructing Laplace Matrix.\n"
     ]
    },
    {
     "name": "stderr",
     "output_type": "stream",
     "text": [
      "100%|██████████| 5880/5880 [00:00<00:00, 47787.41it/s]\n"
     ]
    },
    {
     "name": "stdout",
     "output_type": "stream",
     "text": [
      "(8826, 2942) (8826, 3) 9669.99999998664 -1013.466755203795\n",
      "Constructing Laplace Matrix.\n"
     ]
    },
    {
     "name": "stderr",
     "output_type": "stream",
     "text": [
      "100%|██████████| 5880/5880 [00:00<00:00, 44731.45it/s]\n",
      "100%|██████████| 1/1 [00:00<00:00, 428.56it/s]\n"
     ]
    },
    {
     "name": "stdout",
     "output_type": "stream",
     "text": [
      "9 vertices collapsed in 3 iterations.\n",
      "12 vertices added in 2 iterations.\n",
      "Constructing Laplace Matrix.\n"
     ]
    },
    {
     "name": "stderr",
     "output_type": "stream",
     "text": [
      "100%|██████████| 5886/5886 [00:00<00:00, 46734.74it/s]\n"
     ]
    },
    {
     "name": "stdout",
     "output_type": "stream",
     "text": [
      "(8835, 2945) (8835, 3) 9679.99999998333 -1008.4825192037949\n",
      "Constructing Laplace Matrix.\n"
     ]
    },
    {
     "name": "stderr",
     "output_type": "stream",
     "text": [
      "100%|██████████| 5886/5886 [00:00<00:00, 48640.68it/s]\n",
      "100%|██████████| 1/1 [00:00<00:00, 481.66it/s]\n"
     ]
    },
    {
     "name": "stdout",
     "output_type": "stream",
     "text": [
      "10 vertices collapsed in 3 iterations.\n",
      "11 vertices added in 2 iterations.\n",
      "Constructing Laplace Matrix.\n"
     ]
    },
    {
     "name": "stderr",
     "output_type": "stream",
     "text": [
      "100%|██████████| 5888/5888 [00:00<00:00, 48760.29it/s]\n"
     ]
    },
    {
     "name": "stdout",
     "output_type": "stream",
     "text": [
      "(8838, 2946) (8838, 3) 9669.999999963075 -1013.4636714037949\n",
      "Constructing Laplace Matrix.\n"
     ]
    },
    {
     "name": "stderr",
     "output_type": "stream",
     "text": [
      "100%|██████████| 5888/5888 [00:00<00:00, 39325.94it/s]\n",
      "100%|██████████| 1/1 [00:00<00:00, 447.39it/s]\n"
     ]
    },
    {
     "name": "stdout",
     "output_type": "stream",
     "text": [
      "9 vertices collapsed in 3 iterations.\n",
      "13 vertices added in 2 iterations.\n",
      "Constructing Laplace Matrix.\n"
     ]
    },
    {
     "name": "stderr",
     "output_type": "stream",
     "text": [
      "100%|██████████| 5896/5896 [00:00<00:00, 43728.83it/s]\n"
     ]
    },
    {
     "name": "stdout",
     "output_type": "stream",
     "text": [
      "(8850, 2950) (8850, 3) 9689.999999974072 -1005.1573527037949\n",
      "Constructing Laplace Matrix.\n"
     ]
    },
    {
     "name": "stderr",
     "output_type": "stream",
     "text": [
      "100%|██████████| 5896/5896 [00:00<00:00, 45774.73it/s]\n",
      "100%|██████████| 1/1 [00:00<00:00, 438.41it/s]\n"
     ]
    },
    {
     "name": "stdout",
     "output_type": "stream",
     "text": [
      "11 vertices collapsed in 3 iterations.\n",
      "11 vertices added in 2 iterations.\n",
      "Constructing Laplace Matrix.\n"
     ]
    },
    {
     "name": "stderr",
     "output_type": "stream",
     "text": [
      "100%|██████████| 5896/5896 [00:00<00:00, 49296.46it/s]\n"
     ]
    },
    {
     "name": "stdout",
     "output_type": "stream",
     "text": [
      "(8850, 2950) (8850, 3) 9669.999999962696 -1013.460810803795\n",
      "Constructing Laplace Matrix.\n"
     ]
    },
    {
     "name": "stderr",
     "output_type": "stream",
     "text": [
      "100%|██████████| 5896/5896 [00:00<00:00, 50181.75it/s]\n",
      "100%|██████████| 1/1 [00:00<00:00, 437.27it/s]\n"
     ]
    },
    {
     "name": "stdout",
     "output_type": "stream",
     "text": [
      "9 vertices collapsed in 3 iterations.\n",
      "12 vertices added in 2 iterations.\n",
      "Constructing Laplace Matrix.\n"
     ]
    },
    {
     "name": "stderr",
     "output_type": "stream",
     "text": [
      "100%|██████████| 5902/5902 [00:00<00:00, 47355.55it/s]\n"
     ]
    },
    {
     "name": "stdout",
     "output_type": "stream",
     "text": [
      "(8859, 2953) (8859, 3) 9679.999999969217 -1008.4766860037951\n",
      "Constructing Laplace Matrix.\n"
     ]
    },
    {
     "name": "stderr",
     "output_type": "stream",
     "text": [
      "100%|██████████| 5902/5902 [00:00<00:00, 40559.67it/s]\n",
      "100%|██████████| 1/1 [00:00<00:00, 390.79it/s]\n"
     ]
    },
    {
     "name": "stdout",
     "output_type": "stream",
     "text": [
      "10 vertices collapsed in 3 iterations.\n",
      "11 vertices added in 2 iterations.\n",
      "Constructing Laplace Matrix.\n"
     ]
    },
    {
     "name": "stderr",
     "output_type": "stream",
     "text": [
      "100%|██████████| 5904/5904 [00:00<00:00, 39200.84it/s]\n"
     ]
    },
    {
     "name": "stdout",
     "output_type": "stream",
     "text": [
      "(8862, 2954) (8862, 3) 9669.999999960954 -1013.4580560037949\n",
      "Constructing Laplace Matrix.\n"
     ]
    },
    {
     "name": "stderr",
     "output_type": "stream",
     "text": [
      "100%|██████████| 5904/5904 [00:00<00:00, 47135.08it/s]\n",
      "100%|██████████| 1/1 [00:00<00:00, 441.51it/s]\n"
     ]
    },
    {
     "name": "stdout",
     "output_type": "stream",
     "text": [
      "9 vertices collapsed in 3 iterations.\n",
      "12 vertices added in 2 iterations.\n",
      "Constructing Laplace Matrix.\n"
     ]
    },
    {
     "name": "stderr",
     "output_type": "stream",
     "text": [
      "100%|██████████| 5910/5910 [00:00<00:00, 46135.52it/s]\n"
     ]
    },
    {
     "name": "stdout",
     "output_type": "stream",
     "text": [
      "(8871, 2957) (8871, 3) 9679.999999988875 -1008.4736451037949\n",
      "Constructing Laplace Matrix.\n"
     ]
    },
    {
     "name": "stderr",
     "output_type": "stream",
     "text": [
      "100%|██████████| 5910/5910 [00:00<00:00, 44536.56it/s]\n",
      "100%|██████████| 1/1 [00:00<00:00, 455.36it/s]\n"
     ]
    },
    {
     "name": "stdout",
     "output_type": "stream",
     "text": [
      "10 vertices collapsed in 3 iterations.\n",
      "11 vertices added in 2 iterations.\n",
      "Constructing Laplace Matrix.\n"
     ]
    },
    {
     "name": "stderr",
     "output_type": "stream",
     "text": [
      "100%|██████████| 5912/5912 [00:00<00:00, 45759.62it/s]\n"
     ]
    },
    {
     "name": "stdout",
     "output_type": "stream",
     "text": [
      "(8874, 2958) (8874, 3) 9669.999999981277 -1013.454688103795\n",
      "Constructing Laplace Matrix.\n"
     ]
    },
    {
     "name": "stderr",
     "output_type": "stream",
     "text": [
      "100%|██████████| 5912/5912 [00:00<00:00, 43572.74it/s]\n",
      "100%|██████████| 1/1 [00:00<00:00, 439.75it/s]\n"
     ]
    },
    {
     "name": "stdout",
     "output_type": "stream",
     "text": [
      "9 vertices collapsed in 3 iterations.\n",
      "12 vertices added in 2 iterations.\n",
      "Constructing Laplace Matrix.\n"
     ]
    },
    {
     "name": "stderr",
     "output_type": "stream",
     "text": [
      "100%|██████████| 5918/5918 [00:00<00:00, 46825.10it/s]\n"
     ]
    },
    {
     "name": "stdout",
     "output_type": "stream",
     "text": [
      "(8883, 2961) (8883, 3) 9679.999999970969 -1008.4703170037949\n",
      "Constructing Laplace Matrix.\n"
     ]
    },
    {
     "name": "stderr",
     "output_type": "stream",
     "text": [
      "100%|██████████| 5918/5918 [00:00<00:00, 40346.30it/s]\n",
      "100%|██████████| 1/1 [00:00<00:00, 438.41it/s]\n"
     ]
    },
    {
     "name": "stdout",
     "output_type": "stream",
     "text": [
      "10 vertices collapsed in 3 iterations.\n",
      "11 vertices added in 2 iterations.\n",
      "Constructing Laplace Matrix.\n"
     ]
    },
    {
     "name": "stderr",
     "output_type": "stream",
     "text": [
      "100%|██████████| 5920/5920 [00:00<00:00, 48795.32it/s]\n"
     ]
    },
    {
     "name": "stdout",
     "output_type": "stream",
     "text": [
      "(8886, 2962) (8886, 3) 9669.999999974203 -1013.4512160037949\n",
      "Constructing Laplace Matrix.\n"
     ]
    },
    {
     "name": "stderr",
     "output_type": "stream",
     "text": [
      "100%|██████████| 5920/5920 [00:00<00:00, 39023.10it/s]\n",
      "100%|██████████| 1/1 [00:00<00:00, 405.48it/s]\n"
     ]
    },
    {
     "name": "stdout",
     "output_type": "stream",
     "text": [
      "9 vertices collapsed in 3 iterations.\n",
      "13 vertices added in 2 iterations.\n",
      "Constructing Laplace Matrix.\n"
     ]
    },
    {
     "name": "stderr",
     "output_type": "stream",
     "text": [
      "100%|██████████| 5928/5928 [00:00<00:00, 48411.65it/s]\n"
     ]
    },
    {
     "name": "stdout",
     "output_type": "stream",
     "text": [
      "(8898, 2966) (8898, 3) 9689.999999975982 -1005.1444959037949\n",
      "Constructing Laplace Matrix.\n"
     ]
    },
    {
     "name": "stderr",
     "output_type": "stream",
     "text": [
      "100%|██████████| 5928/5928 [00:00<00:00, 42605.19it/s]\n",
      "100%|██████████| 1/1 [00:00<00:00, 489.76it/s]\n"
     ]
    },
    {
     "name": "stdout",
     "output_type": "stream",
     "text": [
      "11 vertices collapsed in 3 iterations.\n",
      "11 vertices added in 2 iterations.\n",
      "Constructing Laplace Matrix.\n"
     ]
    },
    {
     "name": "stderr",
     "output_type": "stream",
     "text": [
      "100%|██████████| 5928/5928 [00:00<00:00, 47993.47it/s]\n"
     ]
    },
    {
     "name": "stdout",
     "output_type": "stream",
     "text": [
      "(8898, 2966) (8898, 3) 9669.999999965225 -1013.4473059037948\n",
      "Constructing Laplace Matrix.\n"
     ]
    },
    {
     "name": "stderr",
     "output_type": "stream",
     "text": [
      "100%|██████████| 5928/5928 [00:00<00:00, 49648.73it/s]\n",
      "100%|██████████| 1/1 [00:00<00:00, 443.23it/s]\n"
     ]
    },
    {
     "name": "stdout",
     "output_type": "stream",
     "text": [
      "9 vertices collapsed in 3 iterations.\n",
      "12 vertices added in 2 iterations.\n",
      "Constructing Laplace Matrix.\n"
     ]
    },
    {
     "name": "stderr",
     "output_type": "stream",
     "text": [
      "100%|██████████| 5934/5934 [00:00<00:00, 41047.32it/s]\n"
     ]
    },
    {
     "name": "stdout",
     "output_type": "stream",
     "text": [
      "(8907, 2969) (8907, 3) 9679.99999997989 -1008.4627161037951\n",
      "Constructing Laplace Matrix.\n"
     ]
    },
    {
     "name": "stderr",
     "output_type": "stream",
     "text": [
      "100%|██████████| 5934/5934 [00:00<00:00, 44682.82it/s]\n",
      "100%|██████████| 1/1 [00:00<00:00, 419.81it/s]\n"
     ]
    },
    {
     "name": "stdout",
     "output_type": "stream",
     "text": [
      "10 vertices collapsed in 3 iterations.\n",
      "11 vertices added in 2 iterations.\n",
      "Constructing Laplace Matrix.\n"
     ]
    },
    {
     "name": "stderr",
     "output_type": "stream",
     "text": [
      "100%|██████████| 5936/5936 [00:00<00:00, 41631.57it/s]\n"
     ]
    },
    {
     "name": "stdout",
     "output_type": "stream",
     "text": [
      "(8910, 2970) (8910, 3) 9669.99999997647 -1013.4435424037949\n",
      "Constructing Laplace Matrix.\n"
     ]
    },
    {
     "name": "stderr",
     "output_type": "stream",
     "text": [
      "100%|██████████| 5936/5936 [00:00<00:00, 44423.92it/s]\n",
      "100%|██████████| 1/1 [00:00<00:00, 397.79it/s]\n"
     ]
    },
    {
     "name": "stdout",
     "output_type": "stream",
     "text": [
      "9 vertices collapsed in 3 iterations.\n",
      "13 vertices added in 2 iterations.\n",
      "Constructing Laplace Matrix.\n"
     ]
    },
    {
     "name": "stderr",
     "output_type": "stream",
     "text": [
      "100%|██████████| 5944/5944 [00:00<00:00, 43023.48it/s]\n"
     ]
    },
    {
     "name": "stdout",
     "output_type": "stream",
     "text": [
      "(8922, 2974) (8922, 3) 9689.99999998833 -1010.083122403795\n",
      "Constructing Laplace Matrix.\n"
     ]
    },
    {
     "name": "stderr",
     "output_type": "stream",
     "text": [
      "100%|██████████| 5944/5944 [00:00<00:00, 48970.62it/s]\n",
      "100%|██████████| 1/1 [00:00<00:00, 451.24it/s]\n"
     ]
    },
    {
     "name": "stdout",
     "output_type": "stream",
     "text": [
      "11 vertices collapsed in 3 iterations.\n",
      "11 vertices added in 2 iterations.\n",
      "Constructing Laplace Matrix.\n"
     ]
    },
    {
     "name": "stderr",
     "output_type": "stream",
     "text": [
      "100%|██████████| 5944/5944 [00:00<00:00, 49881.74it/s]\n"
     ]
    },
    {
     "name": "stdout",
     "output_type": "stream",
     "text": [
      "(8922, 2974) (8922, 3) 9669.999999963253 -1013.439456403795\n",
      "Constructing Laplace Matrix.\n"
     ]
    },
    {
     "name": "stderr",
     "output_type": "stream",
     "text": [
      "100%|██████████| 5944/5944 [00:00<00:00, 48508.88it/s]\n",
      "100%|██████████| 1/1 [00:00<00:00, 408.01it/s]\n"
     ]
    },
    {
     "name": "stdout",
     "output_type": "stream",
     "text": [
      "9 vertices collapsed in 3 iterations.\n",
      "12 vertices added in 2 iterations.\n",
      "Constructing Laplace Matrix.\n"
     ]
    },
    {
     "name": "stderr",
     "output_type": "stream",
     "text": [
      "100%|██████████| 5950/5950 [00:00<00:00, 48615.83it/s]\n"
     ]
    },
    {
     "name": "stdout",
     "output_type": "stream",
     "text": [
      "(8931, 2977) (8931, 3) 9679.999999978507 -1008.454735403795\n",
      "Constructing Laplace Matrix.\n"
     ]
    },
    {
     "name": "stderr",
     "output_type": "stream",
     "text": [
      "100%|██████████| 5950/5950 [00:00<00:00, 45229.93it/s]\n",
      "100%|██████████| 1/1 [00:00<00:00, 383.88it/s]\n"
     ]
    },
    {
     "name": "stdout",
     "output_type": "stream",
     "text": [
      "10 vertices collapsed in 3 iterations.\n",
      "12 vertices added in 2 iterations.\n",
      "Constructing Laplace Matrix.\n"
     ]
    },
    {
     "name": "stderr",
     "output_type": "stream",
     "text": [
      "100%|██████████| 5954/5954 [00:00<00:00, 48468.45it/s]\n"
     ]
    },
    {
     "name": "stdout",
     "output_type": "stream",
     "text": [
      "(8937, 2979) (8937, 3) 9679.999999955624 -1010.113252303795\n",
      "Constructing Laplace Matrix.\n"
     ]
    },
    {
     "name": "stderr",
     "output_type": "stream",
     "text": [
      "100%|██████████| 5954/5954 [00:00<00:00, 41557.06it/s]\n",
      "100%|██████████| 1/1 [00:00<00:00, 341.31it/s]\n"
     ]
    },
    {
     "name": "stdout",
     "output_type": "stream",
     "text": [
      "10 vertices collapsed in 3 iterations.\n",
      "12 vertices added in 2 iterations.\n",
      "Constructing Laplace Matrix.\n"
     ]
    },
    {
     "name": "stderr",
     "output_type": "stream",
     "text": [
      "100%|██████████| 5958/5958 [00:00<00:00, 40675.60it/s]\n"
     ]
    },
    {
     "name": "stdout",
     "output_type": "stream",
     "text": [
      "(8943, 2981) (8943, 3) 9679.999999979033 -1008.4509163037949\n",
      "Constructing Laplace Matrix.\n"
     ]
    },
    {
     "name": "stderr",
     "output_type": "stream",
     "text": [
      "100%|██████████| 5958/5958 [00:00<00:00, 45911.98it/s]\n",
      "100%|██████████| 1/1 [00:00<00:00, 417.34it/s]\n"
     ]
    },
    {
     "name": "stdout",
     "output_type": "stream",
     "text": [
      "10 vertices collapsed in 3 iterations.\n",
      "11 vertices added in 2 iterations.\n",
      "Constructing Laplace Matrix.\n"
     ]
    },
    {
     "name": "stderr",
     "output_type": "stream",
     "text": [
      "100%|██████████| 5960/5960 [00:00<00:00, 46339.89it/s]"
     ]
    },
    {
     "name": "stdout",
     "output_type": "stream",
     "text": [
      "(8946, 2982) (8946, 3) 9669.999999988666 -1013.4318673037949\n"
     ]
    },
    {
     "name": "stderr",
     "output_type": "stream",
     "text": [
      "\n"
     ]
    },
    {
     "name": "stdout",
     "output_type": "stream",
     "text": [
      "Constructing Laplace Matrix.\n"
     ]
    },
    {
     "name": "stderr",
     "output_type": "stream",
     "text": [
      "100%|██████████| 5960/5960 [00:00<00:00, 44437.43it/s]\n",
      "100%|██████████| 1/1 [00:00<00:00, 427.51it/s]\n"
     ]
    },
    {
     "name": "stdout",
     "output_type": "stream",
     "text": [
      "9 vertices collapsed in 3 iterations.\n",
      "12 vertices added in 2 iterations.\n",
      "Constructing Laplace Matrix.\n"
     ]
    },
    {
     "name": "stderr",
     "output_type": "stream",
     "text": [
      "100%|██████████| 5966/5966 [00:00<00:00, 45864.76it/s]\n"
     ]
    },
    {
     "name": "stdout",
     "output_type": "stream",
     "text": [
      "(8955, 2985) (8955, 3) 9679.999999994694 -1008.4473234037949\n",
      "Constructing Laplace Matrix.\n"
     ]
    },
    {
     "name": "stderr",
     "output_type": "stream",
     "text": [
      "100%|██████████| 5966/5966 [00:00<00:00, 38556.52it/s]\n",
      "100%|██████████| 1/1 [00:00<00:00, 359.84it/s]\n"
     ]
    },
    {
     "name": "stdout",
     "output_type": "stream",
     "text": [
      "10 vertices collapsed in 3 iterations.\n",
      "11 vertices added in 2 iterations.\n",
      "Constructing Laplace Matrix.\n"
     ]
    },
    {
     "name": "stderr",
     "output_type": "stream",
     "text": [
      "100%|██████████| 5968/5968 [00:00<00:00, 47678.43it/s]"
     ]
    },
    {
     "name": "stdout",
     "output_type": "stream",
     "text": [
      "(8958, 2986) (8958, 3) 9669.999999963557 -1013.4281696037949\n"
     ]
    },
    {
     "name": "stderr",
     "output_type": "stream",
     "text": [
      "\n"
     ]
    },
    {
     "name": "stdout",
     "output_type": "stream",
     "text": [
      "Constructing Laplace Matrix.\n"
     ]
    },
    {
     "name": "stderr",
     "output_type": "stream",
     "text": [
      "100%|██████████| 5968/5968 [00:00<00:00, 43001.43it/s]\n",
      "100%|██████████| 1/1 [00:00<00:00, 419.14it/s]\n"
     ]
    },
    {
     "name": "stdout",
     "output_type": "stream",
     "text": [
      "9 vertices collapsed in 3 iterations.\n",
      "12 vertices added in 2 iterations.\n",
      "Constructing Laplace Matrix.\n"
     ]
    },
    {
     "name": "stderr",
     "output_type": "stream",
     "text": [
      "100%|██████████| 5974/5974 [00:00<00:00, 45099.80it/s]\n"
     ]
    },
    {
     "name": "stdout",
     "output_type": "stream",
     "text": [
      "(8967, 2989) (8967, 3) 9679.999999995263 -1008.4435034037949\n",
      "Constructing Laplace Matrix.\n"
     ]
    },
    {
     "name": "stderr",
     "output_type": "stream",
     "text": [
      "100%|██████████| 5974/5974 [00:00<00:00, 44285.88it/s]\n",
      "100%|██████████| 1/1 [00:00<00:00, 396.55it/s]\n"
     ]
    },
    {
     "name": "stdout",
     "output_type": "stream",
     "text": [
      "10 vertices collapsed in 3 iterations.\n",
      "11 vertices added in 2 iterations.\n",
      "Constructing Laplace Matrix.\n"
     ]
    },
    {
     "name": "stderr",
     "output_type": "stream",
     "text": [
      "100%|██████████| 5976/5976 [00:00<00:00, 45447.75it/s]\n"
     ]
    },
    {
     "name": "stdout",
     "output_type": "stream",
     "text": [
      "(8970, 2990) (8970, 3) 9669.999999971576 -1013.4243025037949\n",
      "Constructing Laplace Matrix.\n"
     ]
    },
    {
     "name": "stderr",
     "output_type": "stream",
     "text": [
      "100%|██████████| 5976/5976 [00:00<00:00, 47409.76it/s]\n",
      "100%|██████████| 1/1 [00:00<00:00, 379.51it/s]\n"
     ]
    },
    {
     "name": "stdout",
     "output_type": "stream",
     "text": [
      "9 vertices collapsed in 3 iterations.\n",
      "13 vertices added in 2 iterations.\n",
      "Constructing Laplace Matrix.\n"
     ]
    },
    {
     "name": "stderr",
     "output_type": "stream",
     "text": [
      "100%|██████████| 5984/5984 [00:00<00:00, 41806.46it/s]\n"
     ]
    },
    {
     "name": "stdout",
     "output_type": "stream",
     "text": [
      "(8982, 2994) (8982, 3) 9689.99999997612 -1005.117221303795\n",
      "Constructing Laplace Matrix.\n"
     ]
    },
    {
     "name": "stderr",
     "output_type": "stream",
     "text": [
      "100%|██████████| 5984/5984 [00:00<00:00, 41273.79it/s]\n",
      "100%|██████████| 1/1 [00:00<00:00, 331.59it/s]\n"
     ]
    },
    {
     "name": "stdout",
     "output_type": "stream",
     "text": [
      "12 vertices collapsed in 3 iterations.\n",
      "11 vertices added in 2 iterations.\n",
      "Constructing Laplace Matrix.\n"
     ]
    },
    {
     "name": "stderr",
     "output_type": "stream",
     "text": [
      "100%|██████████| 5982/5982 [00:00<00:00, 44023.75it/s]\n"
     ]
    },
    {
     "name": "stdout",
     "output_type": "stream",
     "text": [
      "(8979, 2993) (8979, 3) 9639.99999997446 -1015.771711853172\n",
      "Constructing Laplace Matrix.\n"
     ]
    },
    {
     "name": "stderr",
     "output_type": "stream",
     "text": [
      "100%|██████████| 5982/5982 [00:00<00:00, 46175.14it/s]\n",
      "100%|██████████| 1/1 [00:00<00:00, 473.93it/s]\n"
     ]
    },
    {
     "name": "stdout",
     "output_type": "stream",
     "text": [
      "9 vertices collapsed in 3 iterations.\n",
      "12 vertices added in 2 iterations.\n",
      "Constructing Laplace Matrix.\n"
     ]
    },
    {
     "name": "stderr",
     "output_type": "stream",
     "text": [
      "100%|██████████| 5988/5988 [00:00<00:00, 36757.25it/s]\n"
     ]
    },
    {
     "name": "stdout",
     "output_type": "stream",
     "text": [
      "(8988, 2996) (8988, 3) 9649.99999998257 -1010.7876396531718\n",
      "Constructing Laplace Matrix.\n"
     ]
    },
    {
     "name": "stderr",
     "output_type": "stream",
     "text": [
      "100%|██████████| 5988/5988 [00:00<00:00, 40985.95it/s]\n",
      "100%|██████████| 1/1 [00:00<00:00, 424.48it/s]\n"
     ]
    },
    {
     "name": "stdout",
     "output_type": "stream",
     "text": [
      "10 vertices collapsed in 3 iterations.\n",
      "11 vertices added in 2 iterations.\n",
      "Constructing Laplace Matrix.\n"
     ]
    },
    {
     "name": "stderr",
     "output_type": "stream",
     "text": [
      "100%|██████████| 5990/5990 [00:00<00:00, 37125.63it/s]\n"
     ]
    },
    {
     "name": "stdout",
     "output_type": "stream",
     "text": [
      "(8991, 2997) (8991, 3) 9639.999999980391 -1015.769092453172\n",
      "Constructing Laplace Matrix.\n"
     ]
    },
    {
     "name": "stderr",
     "output_type": "stream",
     "text": [
      "100%|██████████| 5990/5990 [00:00<00:00, 43413.37it/s]\n",
      "100%|██████████| 1/1 [00:00<00:00, 463.87it/s]\n"
     ]
    },
    {
     "name": "stdout",
     "output_type": "stream",
     "text": [
      "9 vertices collapsed in 3 iterations.\n",
      "13 vertices added in 2 iterations.\n",
      "Constructing Laplace Matrix.\n"
     ]
    },
    {
     "name": "stderr",
     "output_type": "stream",
     "text": [
      "100%|██████████| 5998/5998 [00:00<00:00, 49736.73it/s]\n"
     ]
    },
    {
     "name": "stdout",
     "output_type": "stream",
     "text": [
      "(9003, 3001) (9003, 3) 9659.999999974509 -1009.9159646531718\n",
      "Constructing Laplace Matrix.\n"
     ]
    },
    {
     "name": "stderr",
     "output_type": "stream",
     "text": [
      "100%|██████████| 5998/5998 [00:00<00:00, 46871.42it/s]\n",
      "100%|██████████| 1/1 [00:00<00:00, 455.16it/s]\n"
     ]
    },
    {
     "name": "stdout",
     "output_type": "stream",
     "text": [
      "11 vertices collapsed in 3 iterations.\n",
      "11 vertices added in 2 iterations.\n",
      "Constructing Laplace Matrix.\n"
     ]
    },
    {
     "name": "stderr",
     "output_type": "stream",
     "text": [
      "100%|██████████| 5998/5998 [00:00<00:00, 47988.58it/s]"
     ]
    },
    {
     "name": "stdout",
     "output_type": "stream",
     "text": [
      "(9003, 3001) (9003, 3) 9639.999999975136 -1015.7662834531719\n"
     ]
    },
    {
     "name": "stderr",
     "output_type": "stream",
     "text": [
      "\n"
     ]
    },
    {
     "name": "stdout",
     "output_type": "stream",
     "text": [
      "Constructing Laplace Matrix.\n"
     ]
    },
    {
     "name": "stderr",
     "output_type": "stream",
     "text": [
      "100%|██████████| 5998/5998 [00:00<00:00, 45302.84it/s]\n",
      "100%|██████████| 1/1 [00:00<00:00, 385.97it/s]\n"
     ]
    },
    {
     "name": "stdout",
     "output_type": "stream",
     "text": [
      "9 vertices collapsed in 3 iterations.\n",
      "12 vertices added in 2 iterations.\n",
      "Constructing Laplace Matrix.\n"
     ]
    },
    {
     "name": "stderr",
     "output_type": "stream",
     "text": [
      "100%|██████████| 6004/6004 [00:00<00:00, 45846.73it/s]\n"
     ]
    },
    {
     "name": "stdout",
     "output_type": "stream",
     "text": [
      "(9012, 3004) (9012, 3) 9649.999999988077 -1010.7820283531718\n",
      "Constructing Laplace Matrix.\n"
     ]
    },
    {
     "name": "stderr",
     "output_type": "stream",
     "text": [
      "100%|██████████| 6004/6004 [00:00<00:00, 48565.00it/s]\n",
      "100%|██████████| 1/1 [00:00<00:00, 397.79it/s]\n"
     ]
    },
    {
     "name": "stdout",
     "output_type": "stream",
     "text": [
      "10 vertices collapsed in 3 iterations.\n",
      "12 vertices added in 2 iterations.\n",
      "Constructing Laplace Matrix.\n"
     ]
    },
    {
     "name": "stderr",
     "output_type": "stream",
     "text": [
      "100%|██████████| 6008/6008 [00:00<00:00, 45073.26it/s]\n"
     ]
    },
    {
     "name": "stdout",
     "output_type": "stream",
     "text": [
      "(9018, 3006) (9018, 3) 9649.999999975606 -1012.440910253172\n",
      "Constructing Laplace Matrix.\n"
     ]
    },
    {
     "name": "stderr",
     "output_type": "stream",
     "text": [
      "100%|██████████| 6008/6008 [00:00<00:00, 49166.83it/s]\n",
      "100%|██████████| 1/1 [00:00<00:00, 405.95it/s]\n"
     ]
    },
    {
     "name": "stdout",
     "output_type": "stream",
     "text": [
      "10 vertices collapsed in 3 iterations.\n",
      "12 vertices added in 2 iterations.\n",
      "Constructing Laplace Matrix.\n"
     ]
    },
    {
     "name": "stderr",
     "output_type": "stream",
     "text": [
      "100%|██████████| 6012/6012 [00:00<00:00, 43355.33it/s]\n"
     ]
    },
    {
     "name": "stdout",
     "output_type": "stream",
     "text": [
      "(9024, 3008) (9024, 3) 9650.000000006341 -1010.7786602531719\n",
      "Constructing Laplace Matrix.\n"
     ]
    },
    {
     "name": "stderr",
     "output_type": "stream",
     "text": [
      "100%|██████████| 6012/6012 [00:00<00:00, 46906.80it/s]\n",
      "100%|██████████| 1/1 [00:00<00:00, 307.03it/s]\n"
     ]
    },
    {
     "name": "stdout",
     "output_type": "stream",
     "text": [
      "10 vertices collapsed in 3 iterations.\n",
      "11 vertices added in 2 iterations.\n",
      "Constructing Laplace Matrix.\n"
     ]
    },
    {
     "name": "stderr",
     "output_type": "stream",
     "text": [
      "100%|██████████| 6014/6014 [00:00<00:00, 46071.97it/s]\n"
     ]
    },
    {
     "name": "stdout",
     "output_type": "stream",
     "text": [
      "(9027, 3009) (9027, 3) 9639.999999981841 -1015.7595543531719\n",
      "Constructing Laplace Matrix.\n"
     ]
    },
    {
     "name": "stderr",
     "output_type": "stream",
     "text": [
      "100%|██████████| 6014/6014 [00:00<00:00, 41171.50it/s]\n",
      "100%|██████████| 1/1 [00:00<00:00, 398.74it/s]\n"
     ]
    },
    {
     "name": "stdout",
     "output_type": "stream",
     "text": [
      "9 vertices collapsed in 3 iterations.\n",
      "12 vertices added in 2 iterations.\n",
      "Constructing Laplace Matrix.\n"
     ]
    },
    {
     "name": "stderr",
     "output_type": "stream",
     "text": [
      "100%|██████████| 6020/6020 [00:00<00:00, 47719.11it/s]\n"
     ]
    },
    {
     "name": "stdout",
     "output_type": "stream",
     "text": [
      "(9036, 3012) (9036, 3) 9649.99999996474 -1010.7748152531719\n",
      "Constructing Laplace Matrix.\n"
     ]
    },
    {
     "name": "stderr",
     "output_type": "stream",
     "text": [
      "100%|██████████| 6020/6020 [00:00<00:00, 41065.85it/s]\n",
      "100%|██████████| 1/1 [00:00<00:00, 399.84it/s]\n"
     ]
    },
    {
     "name": "stdout",
     "output_type": "stream",
     "text": [
      "10 vertices collapsed in 3 iterations.\n",
      "11 vertices added in 2 iterations.\n",
      "Constructing Laplace Matrix.\n"
     ]
    },
    {
     "name": "stderr",
     "output_type": "stream",
     "text": [
      "100%|██████████| 6022/6022 [00:00<00:00, 42818.83it/s]\n"
     ]
    },
    {
     "name": "stdout",
     "output_type": "stream",
     "text": [
      "(9039, 3013) (9039, 3) 9639.999999966565 -1015.7555270531719\n",
      "Constructing Laplace Matrix.\n"
     ]
    },
    {
     "name": "stderr",
     "output_type": "stream",
     "text": [
      "100%|██████████| 6022/6022 [00:00<00:00, 37066.91it/s]\n",
      "100%|██████████| 1/1 [00:00<00:00, 437.64it/s]\n"
     ]
    },
    {
     "name": "stdout",
     "output_type": "stream",
     "text": [
      "9 vertices collapsed in 3 iterations.\n",
      "13 vertices added in 2 iterations.\n",
      "Constructing Laplace Matrix.\n"
     ]
    },
    {
     "name": "stderr",
     "output_type": "stream",
     "text": [
      "100%|██████████| 6030/6030 [00:00<00:00, 42807.50it/s]\n"
     ]
    },
    {
     "name": "stdout",
     "output_type": "stream",
     "text": [
      "(9051, 3017) (9051, 3) 9659.99999998719 -1012.3953529531719\n",
      "Constructing Laplace Matrix.\n"
     ]
    },
    {
     "name": "stderr",
     "output_type": "stream",
     "text": [
      "100%|██████████| 6030/6030 [00:00<00:00, 48944.83it/s]\n",
      "100%|██████████| 1/1 [00:00<00:00, 373.29it/s]\n"
     ]
    },
    {
     "name": "stdout",
     "output_type": "stream",
     "text": [
      "11 vertices collapsed in 3 iterations.\n",
      "11 vertices added in 2 iterations.\n",
      "Constructing Laplace Matrix.\n"
     ]
    },
    {
     "name": "stderr",
     "output_type": "stream",
     "text": [
      "100%|██████████| 6030/6030 [00:00<00:00, 42934.96it/s]\n"
     ]
    },
    {
     "name": "stdout",
     "output_type": "stream",
     "text": [
      "(9051, 3017) (9051, 3) 9639.999999969772 -1015.751958753172\n",
      "Constructing Laplace Matrix.\n"
     ]
    },
    {
     "name": "stderr",
     "output_type": "stream",
     "text": [
      "100%|██████████| 6030/6030 [00:00<00:00, 44363.38it/s]\n",
      "100%|██████████| 1/1 [00:00<00:00, 361.70it/s]\n"
     ]
    },
    {
     "name": "stdout",
     "output_type": "stream",
     "text": [
      "9 vertices collapsed in 3 iterations.\n",
      "13 vertices added in 2 iterations.\n",
      "Constructing Laplace Matrix.\n"
     ]
    },
    {
     "name": "stderr",
     "output_type": "stream",
     "text": [
      "100%|██████████| 6038/6038 [00:00<00:00, 34269.24it/s]\n"
     ]
    },
    {
     "name": "stdout",
     "output_type": "stream",
     "text": [
      "(9063, 3021) (9063, 3) 9659.999999970743 -1007.4451048531719\n",
      "Constructing Laplace Matrix.\n"
     ]
    },
    {
     "name": "stderr",
     "output_type": "stream",
     "text": [
      "100%|██████████| 6038/6038 [00:00<00:00, 46222.49it/s]\n",
      "100%|██████████| 1/1 [00:00<00:00, 451.73it/s]\n"
     ]
    },
    {
     "name": "stdout",
     "output_type": "stream",
     "text": [
      "11 vertices collapsed in 3 iterations.\n",
      "11 vertices added in 2 iterations.\n",
      "Constructing Laplace Matrix.\n"
     ]
    },
    {
     "name": "stderr",
     "output_type": "stream",
     "text": [
      "100%|██████████| 6038/6038 [00:00<00:00, 47672.77it/s]\n"
     ]
    },
    {
     "name": "stdout",
     "output_type": "stream",
     "text": [
      "(9063, 3021) (9063, 3) 9639.999999957254 -1015.7481206531719\n",
      "Constructing Laplace Matrix.\n"
     ]
    },
    {
     "name": "stderr",
     "output_type": "stream",
     "text": [
      "100%|██████████| 6038/6038 [00:00<00:00, 42120.37it/s]\n",
      "100%|██████████| 1/1 [00:00<00:00, 382.80it/s]\n"
     ]
    },
    {
     "name": "stdout",
     "output_type": "stream",
     "text": [
      "9 vertices collapsed in 3 iterations.\n",
      "12 vertices added in 2 iterations.\n",
      "Constructing Laplace Matrix.\n"
     ]
    },
    {
     "name": "stderr",
     "output_type": "stream",
     "text": [
      "100%|██████████| 6044/6044 [00:00<00:00, 49233.11it/s]\n"
     ]
    },
    {
     "name": "stdout",
     "output_type": "stream",
     "text": [
      "(9072, 3024) (9072, 3) 9650.000000000215 -1010.763318553172\n",
      "Constructing Laplace Matrix.\n"
     ]
    },
    {
     "name": "stderr",
     "output_type": "stream",
     "text": [
      "100%|██████████| 6044/6044 [00:00<00:00, 39876.45it/s]\n",
      "100%|██████████| 1/1 [00:00<00:00, 457.24it/s]\n"
     ]
    },
    {
     "name": "stdout",
     "output_type": "stream",
     "text": [
      "10 vertices collapsed in 3 iterations.\n",
      "11 vertices added in 2 iterations.\n",
      "Constructing Laplace Matrix.\n"
     ]
    },
    {
     "name": "stderr",
     "output_type": "stream",
     "text": [
      "100%|██████████| 6046/6046 [00:00<00:00, 43845.00it/s]\n"
     ]
    },
    {
     "name": "stdout",
     "output_type": "stream",
     "text": [
      "(9075, 3025) (9075, 3) 9639.999999971831 -1015.743862653172\n",
      "Constructing Laplace Matrix.\n"
     ]
    },
    {
     "name": "stderr",
     "output_type": "stream",
     "text": [
      "100%|██████████| 6046/6046 [00:00<00:00, 39821.36it/s]\n",
      "100%|██████████| 1/1 [00:00<00:00, 424.95it/s]\n"
     ]
    },
    {
     "name": "stdout",
     "output_type": "stream",
     "text": [
      "9 vertices collapsed in 3 iterations.\n",
      "12 vertices added in 2 iterations.\n",
      "Constructing Laplace Matrix.\n"
     ]
    },
    {
     "name": "stderr",
     "output_type": "stream",
     "text": [
      "100%|██████████| 6052/6052 [00:00<00:00, 42703.33it/s]\n"
     ]
    },
    {
     "name": "stdout",
     "output_type": "stream",
     "text": [
      "(9084, 3028) (9084, 3) 9650.00000001324 -1010.7592406531719\n",
      "Constructing Laplace Matrix.\n"
     ]
    },
    {
     "name": "stderr",
     "output_type": "stream",
     "text": [
      "100%|██████████| 6052/6052 [00:00<00:00, 45010.40it/s]\n",
      "100%|██████████| 1/1 [00:00<00:00, 343.40it/s]\n"
     ]
    },
    {
     "name": "stdout",
     "output_type": "stream",
     "text": [
      "10 vertices collapsed in 3 iterations.\n",
      "11 vertices added in 2 iterations.\n",
      "Constructing Laplace Matrix.\n"
     ]
    },
    {
     "name": "stderr",
     "output_type": "stream",
     "text": [
      "100%|██████████| 6054/6054 [00:00<00:00, 44655.80it/s]"
     ]
    },
    {
     "name": "stdout",
     "output_type": "stream",
     "text": [
      "(9087, 3029) (9087, 3) 9639.99999996174 -1015.7403914531717\n"
     ]
    },
    {
     "name": "stderr",
     "output_type": "stream",
     "text": [
      "\n"
     ]
    },
    {
     "name": "stdout",
     "output_type": "stream",
     "text": [
      "Constructing Laplace Matrix.\n"
     ]
    },
    {
     "name": "stderr",
     "output_type": "stream",
     "text": [
      "100%|██████████| 6054/6054 [00:00<00:00, 47451.90it/s]\n",
      "100%|██████████| 1/1 [00:00<00:00, 428.47it/s]\n"
     ]
    },
    {
     "name": "stdout",
     "output_type": "stream",
     "text": [
      "9 vertices collapsed in 3 iterations.\n",
      "13 vertices added in 2 iterations.\n",
      "Constructing Laplace Matrix.\n"
     ]
    },
    {
     "name": "stderr",
     "output_type": "stream",
     "text": [
      "100%|██████████| 6062/6062 [00:00<00:00, 41415.27it/s]\n"
     ]
    },
    {
     "name": "stdout",
     "output_type": "stream",
     "text": [
      "(9099, 3033) (9099, 3) 9659.999999982745 -1007.4337792531719\n",
      "Constructing Laplace Matrix.\n"
     ]
    },
    {
     "name": "stderr",
     "output_type": "stream",
     "text": [
      "100%|██████████| 6062/6062 [00:00<00:00, 42555.61it/s]\n",
      "100%|██████████| 1/1 [00:00<00:00, 343.51it/s]\n"
     ]
    },
    {
     "name": "stdout",
     "output_type": "stream",
     "text": [
      "11 vertices collapsed in 3 iterations.\n",
      "11 vertices added in 2 iterations.\n",
      "Constructing Laplace Matrix.\n"
     ]
    },
    {
     "name": "stderr",
     "output_type": "stream",
     "text": [
      "100%|██████████| 6062/6062 [00:00<00:00, 44896.73it/s]\n"
     ]
    },
    {
     "name": "stdout",
     "output_type": "stream",
     "text": [
      "(9099, 3033) (9099, 3) 9639.999999958178 -1015.7371080531719\n",
      "Constructing Laplace Matrix.\n"
     ]
    },
    {
     "name": "stderr",
     "output_type": "stream",
     "text": [
      "100%|██████████| 6062/6062 [00:00<00:00, 38798.58it/s]\n",
      "100%|██████████| 1/1 [00:00<00:00, 418.55it/s]\n"
     ]
    },
    {
     "name": "stdout",
     "output_type": "stream",
     "text": [
      "9 vertices collapsed in 3 iterations.\n",
      "12 vertices added in 2 iterations.\n",
      "Constructing Laplace Matrix.\n"
     ]
    },
    {
     "name": "stderr",
     "output_type": "stream",
     "text": [
      "100%|██████████| 6068/6068 [00:00<00:00, 46124.83it/s]\n"
     ]
    },
    {
     "name": "stdout",
     "output_type": "stream",
     "text": [
      "(9108, 3036) (9108, 3) 9649.999999982749 -1010.752658853172\n",
      "Constructing Laplace Matrix.\n"
     ]
    },
    {
     "name": "stderr",
     "output_type": "stream",
     "text": [
      "100%|██████████| 6068/6068 [00:00<00:00, 46852.52it/s]\n",
      "100%|██████████| 1/1 [00:00<00:00, 399.72it/s]\n"
     ]
    },
    {
     "name": "stdout",
     "output_type": "stream",
     "text": [
      "10 vertices collapsed in 3 iterations.\n",
      "11 vertices added in 2 iterations.\n",
      "Constructing Laplace Matrix.\n"
     ]
    },
    {
     "name": "stderr",
     "output_type": "stream",
     "text": [
      "100%|██████████| 6070/6070 [00:00<00:00, 45826.19it/s]\n"
     ]
    },
    {
     "name": "stdout",
     "output_type": "stream",
     "text": [
      "(9111, 3037) (9111, 3) 9639.999999970796 -1015.7330356531719\n",
      "Constructing Laplace Matrix.\n"
     ]
    },
    {
     "name": "stderr",
     "output_type": "stream",
     "text": [
      "100%|██████████| 6070/6070 [00:00<00:00, 46025.68it/s]\n",
      "100%|██████████| 1/1 [00:00<00:00, 423.54it/s]\n"
     ]
    },
    {
     "name": "stdout",
     "output_type": "stream",
     "text": [
      "9 vertices collapsed in 3 iterations.\n",
      "12 vertices added in 2 iterations.\n",
      "Constructing Laplace Matrix.\n"
     ]
    },
    {
     "name": "stderr",
     "output_type": "stream",
     "text": [
      "100%|██████████| 6076/6076 [00:00<00:00, 44190.99it/s]\n"
     ]
    },
    {
     "name": "stdout",
     "output_type": "stream",
     "text": [
      "(9120, 3040) (9120, 3) 9649.999999983082 -1010.7479124531719\n",
      "Constructing Laplace Matrix.\n"
     ]
    },
    {
     "name": "stderr",
     "output_type": "stream",
     "text": [
      "100%|██████████| 6076/6076 [00:00<00:00, 46314.57it/s]\n",
      "100%|██████████| 1/1 [00:00<00:00, 368.86it/s]\n"
     ]
    },
    {
     "name": "stdout",
     "output_type": "stream",
     "text": [
      "10 vertices collapsed in 3 iterations.\n",
      "11 vertices added in 2 iterations.\n",
      "Constructing Laplace Matrix.\n"
     ]
    },
    {
     "name": "stderr",
     "output_type": "stream",
     "text": [
      "100%|██████████| 6078/6078 [00:00<00:00, 45870.32it/s]\n"
     ]
    },
    {
     "name": "stdout",
     "output_type": "stream",
     "text": [
      "(9123, 3041) (9123, 3) 9639.999999968019 -1015.728152253172\n",
      "Constructing Laplace Matrix.\n"
     ]
    },
    {
     "name": "stderr",
     "output_type": "stream",
     "text": [
      "100%|██████████| 6078/6078 [00:00<00:00, 45782.26it/s]\n",
      "100%|██████████| 1/1 [00:00<00:00, 407.97it/s]\n"
     ]
    },
    {
     "name": "stdout",
     "output_type": "stream",
     "text": [
      "9 vertices collapsed in 3 iterations.\n",
      "12 vertices added in 2 iterations.\n",
      "Constructing Laplace Matrix.\n"
     ]
    },
    {
     "name": "stderr",
     "output_type": "stream",
     "text": [
      "100%|██████████| 6084/6084 [00:00<00:00, 45633.88it/s]\n"
     ]
    },
    {
     "name": "stdout",
     "output_type": "stream",
     "text": [
      "(9132, 3044) (9132, 3) 9649.999999977625 -1010.7429150531719\n",
      "Constructing Laplace Matrix.\n"
     ]
    },
    {
     "name": "stderr",
     "output_type": "stream",
     "text": [
      "100%|██████████| 6084/6084 [00:00<00:00, 44258.23it/s]\n",
      "100%|██████████| 1/1 [00:00<00:00, 444.45it/s]\n"
     ]
    },
    {
     "name": "stdout",
     "output_type": "stream",
     "text": [
      "10 vertices collapsed in 3 iterations.\n",
      "12 vertices added in 2 iterations.\n",
      "Constructing Laplace Matrix.\n"
     ]
    },
    {
     "name": "stderr",
     "output_type": "stream",
     "text": [
      "100%|██████████| 6088/6088 [00:00<00:00, 45151.16it/s]\n"
     ]
    },
    {
     "name": "stdout",
     "output_type": "stream",
     "text": [
      "(9138, 3046) (9138, 3) 9649.999999961188 -1012.400796953172\n",
      "Constructing Laplace Matrix.\n"
     ]
    },
    {
     "name": "stderr",
     "output_type": "stream",
     "text": [
      "100%|██████████| 6088/6088 [00:00<00:00, 41661.51it/s]\n",
      "100%|██████████| 1/1 [00:00<00:00, 384.48it/s]\n"
     ]
    },
    {
     "name": "stdout",
     "output_type": "stream",
     "text": [
      "11 vertices collapsed in 3 iterations.\n",
      "13 vertices added in 2 iterations.\n",
      "Constructing Laplace Matrix.\n"
     ]
    },
    {
     "name": "stderr",
     "output_type": "stream",
     "text": [
      "100%|██████████| 6092/6092 [00:00<00:00, 42826.93it/s]\n"
     ]
    },
    {
     "name": "stdout",
     "output_type": "stream",
     "text": [
      "(9144, 3048) (9144, 3) 9599.999999948235 -979.4965336781383\n",
      "Constructing Laplace Matrix.\n"
     ]
    },
    {
     "name": "stderr",
     "output_type": "stream",
     "text": [
      "100%|██████████| 6092/6092 [00:00<00:00, 44997.59it/s]\n",
      "100%|██████████| 1/1 [00:00<00:00, 427.55it/s]\n"
     ]
    },
    {
     "name": "stdout",
     "output_type": "stream",
     "text": [
      "11 vertices collapsed in 3 iterations.\n",
      "11 vertices added in 2 iterations.\n",
      "Constructing Laplace Matrix.\n"
     ]
    },
    {
     "name": "stderr",
     "output_type": "stream",
     "text": [
      "100%|██████████| 6092/6092 [00:00<00:00, 45881.04it/s]\n"
     ]
    },
    {
     "name": "stdout",
     "output_type": "stream",
     "text": [
      "(9144, 3048) (9144, 3) 9579.999999953456 -979.3298036781384\n",
      "Constructing Laplace Matrix.\n"
     ]
    },
    {
     "name": "stderr",
     "output_type": "stream",
     "text": [
      "100%|██████████| 6092/6092 [00:00<00:00, 39374.09it/s]\n",
      "100%|██████████| 1/1 [00:00<00:00, 373.72it/s]\n"
     ]
    },
    {
     "name": "stdout",
     "output_type": "stream",
     "text": [
      "9 vertices collapsed in 3 iterations.\n",
      "12 vertices added in 2 iterations.\n",
      "Constructing Laplace Matrix.\n"
     ]
    },
    {
     "name": "stderr",
     "output_type": "stream",
     "text": [
      "100%|██████████| 6098/6098 [00:00<00:00, 44587.35it/s]\n"
     ]
    },
    {
     "name": "stdout",
     "output_type": "stream",
     "text": [
      "(9153, 3051) (9153, 3) 9589.999999978538 -974.3460745781384\n",
      "Constructing Laplace Matrix.\n"
     ]
    },
    {
     "name": "stderr",
     "output_type": "stream",
     "text": [
      "100%|██████████| 6098/6098 [00:00<00:00, 47340.37it/s]\n",
      "100%|██████████| 1/1 [00:00<00:00, 382.31it/s]\n"
     ]
    },
    {
     "name": "stdout",
     "output_type": "stream",
     "text": [
      "10 vertices collapsed in 3 iterations.\n",
      "11 vertices added in 2 iterations.\n",
      "Constructing Laplace Matrix.\n"
     ]
    },
    {
     "name": "stderr",
     "output_type": "stream",
     "text": [
      "100%|██████████| 6100/6100 [00:00<00:00, 43286.63it/s]\n"
     ]
    },
    {
     "name": "stdout",
     "output_type": "stream",
     "text": [
      "(9156, 3052) (9156, 3) 9579.999999961641 -979.3277753781384\n",
      "Constructing Laplace Matrix.\n"
     ]
    },
    {
     "name": "stderr",
     "output_type": "stream",
     "text": [
      "100%|██████████| 6100/6100 [00:00<00:00, 42693.96it/s]\n",
      "100%|██████████| 1/1 [00:00<00:00, 401.45it/s]\n"
     ]
    },
    {
     "name": "stdout",
     "output_type": "stream",
     "text": [
      "9 vertices collapsed in 3 iterations.\n",
      "14 vertices added in 3 iterations.\n",
      "Constructing Laplace Matrix.\n"
     ]
    },
    {
     "name": "stderr",
     "output_type": "stream",
     "text": [
      "100%|██████████| 6110/6110 [00:00<00:00, 45928.85it/s]"
     ]
    },
    {
     "name": "stdout",
     "output_type": "stream",
     "text": [
      "(9171, 3057) (9171, 3) 9609.999999980344 -968.0861743781385\n"
     ]
    },
    {
     "name": "stderr",
     "output_type": "stream",
     "text": [
      "\n"
     ]
    },
    {
     "name": "stdout",
     "output_type": "stream",
     "text": [
      "Constructing Laplace Matrix.\n"
     ]
    },
    {
     "name": "stderr",
     "output_type": "stream",
     "text": [
      "100%|██████████| 6110/6110 [00:00<00:00, 40549.56it/s]\n",
      "100%|██████████| 1/1 [00:00<00:00, 463.82it/s]\n"
     ]
    },
    {
     "name": "stdout",
     "output_type": "stream",
     "text": [
      "11 vertices collapsed in 3 iterations.\n",
      "14 vertices added in 3 iterations.\n",
      "Constructing Laplace Matrix.\n"
     ]
    },
    {
     "name": "stderr",
     "output_type": "stream",
     "text": [
      "100%|██████████| 6116/6116 [00:00<00:00, 47075.47it/s]"
     ]
    },
    {
     "name": "stdout",
     "output_type": "stream",
     "text": [
      "(9180, 3060) (9180, 3) 9579.99999995184 -979.0796643598226\n"
     ]
    },
    {
     "name": "stderr",
     "output_type": "stream",
     "text": [
      "\n"
     ]
    },
    {
     "name": "stdout",
     "output_type": "stream",
     "text": [
      "Constructing Laplace Matrix.\n"
     ]
    },
    {
     "name": "stderr",
     "output_type": "stream",
     "text": [
      "100%|██████████| 6116/6116 [00:00<00:00, 42004.30it/s]\n",
      "100%|██████████| 1/1 [00:00<00:00, 395.99it/s]\n"
     ]
    },
    {
     "name": "stdout",
     "output_type": "stream",
     "text": [
      "12 vertices collapsed in 3 iterations.\n",
      "15 vertices added in 3 iterations.\n",
      "Constructing Laplace Matrix.\n"
     ]
    },
    {
     "name": "stderr",
     "output_type": "stream",
     "text": [
      "100%|██████████| 6122/6122 [00:00<00:00, 47001.93it/s]"
     ]
    },
    {
     "name": "stdout",
     "output_type": "stream",
     "text": [
      "(9189, 3063) (9189, 3) 9579.999999964743 -977.4186779598226\n"
     ]
    },
    {
     "name": "stderr",
     "output_type": "stream",
     "text": [
      "\n"
     ]
    },
    {
     "name": "stdout",
     "output_type": "stream",
     "text": [
      "Constructing Laplace Matrix.\n"
     ]
    },
    {
     "name": "stderr",
     "output_type": "stream",
     "text": [
      "100%|██████████| 6122/6122 [00:00<00:00, 43982.08it/s]\n",
      "100%|██████████| 1/1 [00:00<00:00, 402.10it/s]\n"
     ]
    },
    {
     "name": "stdout",
     "output_type": "stream",
     "text": [
      "12 vertices collapsed in 3 iterations.\n",
      "13 vertices added in 3 iterations.\n",
      "Constructing Laplace Matrix.\n"
     ]
    },
    {
     "name": "stderr",
     "output_type": "stream",
     "text": [
      "100%|██████████| 6124/6124 [00:00<00:00, 49877.12it/s]"
     ]
    },
    {
     "name": "stdout",
     "output_type": "stream",
     "text": [
      "(9192, 3064) (9192, 3) 9569.999999974867 -982.4007556598226\n"
     ]
    },
    {
     "name": "stderr",
     "output_type": "stream",
     "text": [
      "\n"
     ]
    },
    {
     "name": "stdout",
     "output_type": "stream",
     "text": [
      "Constructing Laplace Matrix.\n"
     ]
    },
    {
     "name": "stderr",
     "output_type": "stream",
     "text": [
      "100%|██████████| 6124/6124 [00:00<00:00, 45993.62it/s]\n",
      "100%|██████████| 1/1 [00:00<00:00, 326.51it/s]\n"
     ]
    },
    {
     "name": "stdout",
     "output_type": "stream",
     "text": [
      "11 vertices collapsed in 3 iterations.\n",
      "13 vertices added in 2 iterations.\n",
      "Constructing Laplace Matrix.\n"
     ]
    },
    {
     "name": "stderr",
     "output_type": "stream",
     "text": [
      "100%|██████████| 6128/6128 [00:00<00:00, 44002.80it/s]\n"
     ]
    },
    {
     "name": "stdout",
     "output_type": "stream",
     "text": [
      "(9198, 3066) (9198, 3) 9539.999999994976 -975.5802575990471\n",
      "Constructing Laplace Matrix.\n"
     ]
    },
    {
     "name": "stderr",
     "output_type": "stream",
     "text": [
      "100%|██████████| 6128/6128 [00:00<00:00, 41983.80it/s]\n",
      "100%|██████████| 1/1 [00:00<00:00, 434.01it/s]\n"
     ]
    },
    {
     "name": "stdout",
     "output_type": "stream",
     "text": [
      "11 vertices collapsed in 3 iterations.\n",
      "11 vertices added in 2 iterations.\n",
      "Constructing Laplace Matrix.\n"
     ]
    },
    {
     "name": "stderr",
     "output_type": "stream",
     "text": [
      "100%|██████████| 6128/6128 [00:00<00:00, 42739.31it/s]\n"
     ]
    },
    {
     "name": "stdout",
     "output_type": "stream",
     "text": [
      "(9198, 3066) (9198, 3) 9519.999999975884 -983.6913372990471\n",
      "Constructing Laplace Matrix.\n"
     ]
    },
    {
     "name": "stderr",
     "output_type": "stream",
     "text": [
      "100%|██████████| 6128/6128 [00:00<00:00, 47425.88it/s]\n",
      "100%|██████████| 1/1 [00:00<00:00, 384.16it/s]\n"
     ]
    },
    {
     "name": "stdout",
     "output_type": "stream",
     "text": [
      "9 vertices collapsed in 3 iterations.\n",
      "14 vertices added in 2 iterations.\n",
      "Constructing Laplace Matrix.\n"
     ]
    },
    {
     "name": "stderr",
     "output_type": "stream",
     "text": [
      "100%|██████████| 6138/6138 [00:00<00:00, 44051.38it/s]\n"
     ]
    },
    {
     "name": "stdout",
     "output_type": "stream",
     "text": [
      "(9213, 3071) (9213, 3) 9550.000000014195 -972.2565329990471\n",
      "Constructing Laplace Matrix.\n"
     ]
    },
    {
     "name": "stderr",
     "output_type": "stream",
     "text": [
      "100%|██████████| 6138/6138 [00:00<00:00, 38870.45it/s]\n",
      "100%|██████████| 1/1 [00:00<00:00, 394.02it/s]\n"
     ]
    },
    {
     "name": "stdout",
     "output_type": "stream",
     "text": [
      "12 vertices collapsed in 3 iterations.\n",
      "13 vertices added in 3 iterations.\n",
      "Constructing Laplace Matrix.\n"
     ]
    },
    {
     "name": "stderr",
     "output_type": "stream",
     "text": [
      "100%|██████████| 6140/6140 [00:00<00:00, 49802.12it/s]"
     ]
    },
    {
     "name": "stdout",
     "output_type": "stream",
     "text": [
      "(9216, 3072) (9216, 3) 9539.999999989557 -977.4566963990469\n"
     ]
    },
    {
     "name": "stderr",
     "output_type": "stream",
     "text": [
      "\n"
     ]
    },
    {
     "name": "stdout",
     "output_type": "stream",
     "text": [
      "Constructing Laplace Matrix.\n"
     ]
    },
    {
     "name": "stderr",
     "output_type": "stream",
     "text": [
      "100%|██████████| 6140/6140 [00:00<00:00, 48693.79it/s]\n",
      "100%|██████████| 1/1 [00:00<00:00, 440.76it/s]\n"
     ]
    },
    {
     "name": "stdout",
     "output_type": "stream",
     "text": [
      "11 vertices collapsed in 3 iterations.\n",
      "12 vertices added in 2 iterations.\n",
      "Constructing Laplace Matrix.\n"
     ]
    },
    {
     "name": "stderr",
     "output_type": "stream",
     "text": [
      "100%|██████████| 6142/6142 [00:00<00:00, 51631.36it/s]\n"
     ]
    },
    {
     "name": "stdout",
     "output_type": "stream",
     "text": [
      "(9219, 3073) (9219, 3) 9460.000000013324 -1000.537525541825\n",
      "Constructing Laplace Matrix.\n"
     ]
    },
    {
     "name": "stderr",
     "output_type": "stream",
     "text": [
      "100%|██████████| 6142/6142 [00:00<00:00, 47243.60it/s]\n",
      "100%|██████████| 1/1 [00:00<00:00, 413.52it/s]\n"
     ]
    },
    {
     "name": "stdout",
     "output_type": "stream",
     "text": [
      "10 vertices collapsed in 3 iterations.\n",
      "11 vertices added in 2 iterations.\n",
      "Constructing Laplace Matrix.\n"
     ]
    },
    {
     "name": "stderr",
     "output_type": "stream",
     "text": [
      "100%|██████████| 6144/6144 [00:00<00:00, 45189.17it/s]\n"
     ]
    },
    {
     "name": "stdout",
     "output_type": "stream",
     "text": [
      "(9222, 3074) (9222, 3) 9449.999999975691 -1005.519394641825\n",
      "Constructing Laplace Matrix.\n"
     ]
    },
    {
     "name": "stderr",
     "output_type": "stream",
     "text": [
      "100%|██████████| 6144/6144 [00:00<00:00, 39728.24it/s]\n",
      "100%|██████████| 1/1 [00:00<00:00, 367.24it/s]\n"
     ]
    },
    {
     "name": "stdout",
     "output_type": "stream",
     "text": [
      "9 vertices collapsed in 3 iterations.\n",
      "12 vertices added in 2 iterations.\n",
      "Constructing Laplace Matrix.\n"
     ]
    },
    {
     "name": "stderr",
     "output_type": "stream",
     "text": [
      "100%|██████████| 6150/6150 [00:00<00:00, 41963.51it/s]\n"
     ]
    },
    {
     "name": "stdout",
     "output_type": "stream",
     "text": [
      "(9231, 3077) (9231, 3) 9459.999999992162 -1000.5357480418248\n"
     ]
    },
    {
     "ename": "KeyboardInterrupt",
     "evalue": "",
     "output_type": "error",
     "traceback": [
      "\u001b[0;31m---------------------------------------------------------------------------\u001b[0m",
      "\u001b[0;31mKeyboardInterrupt\u001b[0m                         Traceback (most recent call last)",
      "Cell \u001b[0;32mIn[40], line 70\u001b[0m\n\u001b[1;32m     67\u001b[0m x0 \u001b[39m=\u001b[39m vertices\u001b[39m.\u001b[39mcopy()\n\u001b[1;32m     68\u001b[0m \u001b[39m#x0 = np.zeros_like(vertices)\u001b[39;00m\n\u001b[0;32m---> 70\u001b[0m new_vertices0 \u001b[39m=\u001b[39m lsqr(A, b[:, \u001b[39m0\u001b[39;49m], damp\u001b[39m=\u001b[39;49m\u001b[39m0.0\u001b[39;49m, atol\u001b[39m=\u001b[39;49m\u001b[39m1e-6\u001b[39;49m, btol\u001b[39m=\u001b[39;49m\u001b[39m1e-6\u001b[39;49m,\n\u001b[1;32m     71\u001b[0m             conlim\u001b[39m=\u001b[39;49m\u001b[39m1e12\u001b[39;49m, iter_lim\u001b[39m=\u001b[39;49m\u001b[39mNone\u001b[39;49;00m, show\u001b[39m=\u001b[39;49mshow_lsqr_info, calc_var\u001b[39m=\u001b[39;49m\u001b[39mFalse\u001b[39;49;00m,\n\u001b[1;32m     72\u001b[0m             x0\u001b[39m=\u001b[39;49mx0[:, \u001b[39m0\u001b[39;49m])\n\u001b[1;32m     73\u001b[0m \u001b[39mprint\u001b[39m(new_vertices0[\u001b[39m1\u001b[39m], np\u001b[39m.\u001b[39mlinalg\u001b[39m.\u001b[39mnorm(A \u001b[39m@\u001b[39m new_vertices0[\u001b[39m0\u001b[39m] \u001b[39m-\u001b[39m b[:, \u001b[39m0\u001b[39m]), file\u001b[39m=\u001b[39mlogfile)\n\u001b[1;32m     74\u001b[0m new_vertices1 \u001b[39m=\u001b[39m lsqr(A, b[:, \u001b[39m1\u001b[39m], damp\u001b[39m=\u001b[39m\u001b[39m0.0\u001b[39m, atol\u001b[39m=\u001b[39m\u001b[39m1e-6\u001b[39m, btol\u001b[39m=\u001b[39m\u001b[39m1e-6\u001b[39m,\n\u001b[1;32m     75\u001b[0m             conlim\u001b[39m=\u001b[39m\u001b[39m1e12\u001b[39m, iter_lim\u001b[39m=\u001b[39m\u001b[39mNone\u001b[39;00m, show\u001b[39m=\u001b[39mshow_lsqr_info, calc_var\u001b[39m=\u001b[39m\u001b[39mFalse\u001b[39;00m,\n\u001b[1;32m     76\u001b[0m             x0\u001b[39m=\u001b[39mx0[:, \u001b[39m1\u001b[39m])\n",
      "File \u001b[0;32m~/opt/anaconda3/envs/rosetta/lib/python3.9/site-packages/scipy/sparse/linalg/_isolve/lsqr.py:428\u001b[0m, in \u001b[0;36mlsqr\u001b[0;34m(A, b, damp, atol, btol, conlim, iter_lim, show, calc_var, x0)\u001b[0m\n\u001b[1;32m    423\u001b[0m itn \u001b[39m=\u001b[39m itn \u001b[39m+\u001b[39m \u001b[39m1\u001b[39m\n\u001b[1;32m    424\u001b[0m \u001b[39m# Perform the next step of the bidiagonalization to obtain the\u001b[39;00m\n\u001b[1;32m    425\u001b[0m \u001b[39m# next  beta, u, alfa, v. These satisfy the relations\u001b[39;00m\n\u001b[1;32m    426\u001b[0m \u001b[39m#     beta*u  =  a@v   -  alfa*u,\u001b[39;00m\n\u001b[1;32m    427\u001b[0m \u001b[39m#     alfa*v  =  A'@u  -  beta*v.\u001b[39;00m\n\u001b[0;32m--> 428\u001b[0m u \u001b[39m=\u001b[39m A\u001b[39m.\u001b[39;49mmatvec(v) \u001b[39m-\u001b[39m alfa \u001b[39m*\u001b[39m u\n\u001b[1;32m    429\u001b[0m beta \u001b[39m=\u001b[39m np\u001b[39m.\u001b[39mlinalg\u001b[39m.\u001b[39mnorm(u)\n\u001b[1;32m    431\u001b[0m \u001b[39mif\u001b[39;00m beta \u001b[39m>\u001b[39m \u001b[39m0\u001b[39m:\n",
      "File \u001b[0;32m~/opt/anaconda3/envs/rosetta/lib/python3.9/site-packages/scipy/sparse/linalg/_interface.py:232\u001b[0m, in \u001b[0;36mLinearOperator.matvec\u001b[0;34m(self, x)\u001b[0m\n\u001b[1;32m    229\u001b[0m \u001b[39mif\u001b[39;00m x\u001b[39m.\u001b[39mshape \u001b[39m!=\u001b[39m (N,) \u001b[39mand\u001b[39;00m x\u001b[39m.\u001b[39mshape \u001b[39m!=\u001b[39m (N,\u001b[39m1\u001b[39m):\n\u001b[1;32m    230\u001b[0m     \u001b[39mraise\u001b[39;00m \u001b[39mValueError\u001b[39;00m(\u001b[39m'\u001b[39m\u001b[39mdimension mismatch\u001b[39m\u001b[39m'\u001b[39m)\n\u001b[0;32m--> 232\u001b[0m y \u001b[39m=\u001b[39m \u001b[39mself\u001b[39;49m\u001b[39m.\u001b[39;49m_matvec(x)\n\u001b[1;32m    234\u001b[0m \u001b[39mif\u001b[39;00m \u001b[39misinstance\u001b[39m(x, np\u001b[39m.\u001b[39mmatrix):\n\u001b[1;32m    235\u001b[0m     y \u001b[39m=\u001b[39m asmatrix(y)\n",
      "File \u001b[0;32m~/opt/anaconda3/envs/rosetta/lib/python3.9/site-packages/scipy/sparse/linalg/_interface.py:199\u001b[0m, in \u001b[0;36mLinearOperator._matvec\u001b[0;34m(self, x)\u001b[0m\n\u001b[1;32m    189\u001b[0m \u001b[39mdef\u001b[39;00m \u001b[39m_matvec\u001b[39m(\u001b[39mself\u001b[39m, x):\n\u001b[1;32m    190\u001b[0m \u001b[39m    \u001b[39m\u001b[39m\"\"\"Default matrix-vector multiplication handler.\u001b[39;00m\n\u001b[1;32m    191\u001b[0m \n\u001b[1;32m    192\u001b[0m \u001b[39m    If self is a linear operator of shape (M, N), then this method will\u001b[39;00m\n\u001b[0;32m   (...)\u001b[0m\n\u001b[1;32m    197\u001b[0m \u001b[39m    will define matrix-vector multiplication as well.\u001b[39;00m\n\u001b[1;32m    198\u001b[0m \u001b[39m    \"\"\"\u001b[39;00m\n\u001b[0;32m--> 199\u001b[0m     \u001b[39mreturn\u001b[39;00m \u001b[39mself\u001b[39;49m\u001b[39m.\u001b[39;49mmatmat(x\u001b[39m.\u001b[39;49mreshape(\u001b[39m-\u001b[39;49m\u001b[39m1\u001b[39;49m, \u001b[39m1\u001b[39;49m))\n",
      "File \u001b[0;32m~/opt/anaconda3/envs/rosetta/lib/python3.9/site-packages/scipy/sparse/linalg/_interface.py:337\u001b[0m, in \u001b[0;36mLinearOperator.matmat\u001b[0;34m(self, X)\u001b[0m\n\u001b[1;32m    333\u001b[0m \u001b[39mif\u001b[39;00m X\u001b[39m.\u001b[39mshape[\u001b[39m0\u001b[39m] \u001b[39m!=\u001b[39m \u001b[39mself\u001b[39m\u001b[39m.\u001b[39mshape[\u001b[39m1\u001b[39m]:\n\u001b[1;32m    334\u001b[0m     \u001b[39mraise\u001b[39;00m \u001b[39mValueError\u001b[39;00m(\u001b[39m'\u001b[39m\u001b[39mdimension mismatch: \u001b[39m\u001b[39m%r\u001b[39;00m\u001b[39m, \u001b[39m\u001b[39m%r\u001b[39;00m\u001b[39m'\u001b[39m\n\u001b[1;32m    335\u001b[0m                      \u001b[39m%\u001b[39m (\u001b[39mself\u001b[39m\u001b[39m.\u001b[39mshape, X\u001b[39m.\u001b[39mshape))\n\u001b[0;32m--> 337\u001b[0m Y \u001b[39m=\u001b[39m \u001b[39mself\u001b[39;49m\u001b[39m.\u001b[39;49m_matmat(X)\n\u001b[1;32m    339\u001b[0m \u001b[39mif\u001b[39;00m \u001b[39misinstance\u001b[39m(Y, np\u001b[39m.\u001b[39mmatrix):\n\u001b[1;32m    340\u001b[0m     Y \u001b[39m=\u001b[39m asmatrix(Y)\n",
      "File \u001b[0;32m~/opt/anaconda3/envs/rosetta/lib/python3.9/site-packages/scipy/sparse/linalg/_interface.py:733\u001b[0m, in \u001b[0;36mMatrixLinearOperator._matmat\u001b[0;34m(self, X)\u001b[0m\n\u001b[1;32m    732\u001b[0m \u001b[39mdef\u001b[39;00m \u001b[39m_matmat\u001b[39m(\u001b[39mself\u001b[39m, X):\n\u001b[0;32m--> 733\u001b[0m     \u001b[39mreturn\u001b[39;00m \u001b[39mself\u001b[39;49m\u001b[39m.\u001b[39;49mA\u001b[39m.\u001b[39;49mdot(X)\n",
      "File \u001b[0;32m~/opt/anaconda3/envs/rosetta/lib/python3.9/site-packages/scipy/sparse/_base.py:416\u001b[0m, in \u001b[0;36mspmatrix.dot\u001b[0;34m(self, other)\u001b[0m\n\u001b[1;32m    414\u001b[0m     \u001b[39mreturn\u001b[39;00m \u001b[39mself\u001b[39m \u001b[39m*\u001b[39m other\n\u001b[1;32m    415\u001b[0m \u001b[39melse\u001b[39;00m:\n\u001b[0;32m--> 416\u001b[0m     \u001b[39mreturn\u001b[39;00m \u001b[39mself\u001b[39;49m \u001b[39m@\u001b[39;49m other\n",
      "File \u001b[0;32m~/opt/anaconda3/envs/rosetta/lib/python3.9/site-packages/scipy/sparse/_base.py:630\u001b[0m, in \u001b[0;36mspmatrix.__matmul__\u001b[0;34m(self, other)\u001b[0m\n\u001b[1;32m    627\u001b[0m \u001b[39mif\u001b[39;00m isscalarlike(other):\n\u001b[1;32m    628\u001b[0m     \u001b[39mraise\u001b[39;00m \u001b[39mValueError\u001b[39;00m(\u001b[39m\"\u001b[39m\u001b[39mScalar operands are not allowed, \u001b[39m\u001b[39m\"\u001b[39m\n\u001b[1;32m    629\u001b[0m                      \u001b[39m\"\u001b[39m\u001b[39muse \u001b[39m\u001b[39m'\u001b[39m\u001b[39m*\u001b[39m\u001b[39m'\u001b[39m\u001b[39m instead\u001b[39m\u001b[39m\"\u001b[39m)\n\u001b[0;32m--> 630\u001b[0m \u001b[39mreturn\u001b[39;00m \u001b[39mself\u001b[39;49m\u001b[39m.\u001b[39;49m_mul_dispatch(other)\n",
      "File \u001b[0;32m~/opt/anaconda3/envs/rosetta/lib/python3.9/site-packages/scipy/sparse/_base.py:530\u001b[0m, in \u001b[0;36mspmatrix._mul_dispatch\u001b[0;34m(self, other)\u001b[0m\n\u001b[1;32m    528\u001b[0m     \u001b[39mreturn\u001b[39;00m \u001b[39mself\u001b[39m\u001b[39m.\u001b[39m_mul_vector(other)\n\u001b[1;32m    529\u001b[0m \u001b[39melif\u001b[39;00m other\u001b[39m.\u001b[39mshape \u001b[39m==\u001b[39m (N, \u001b[39m1\u001b[39m):\n\u001b[0;32m--> 530\u001b[0m     \u001b[39mreturn\u001b[39;00m \u001b[39mself\u001b[39;49m\u001b[39m.\u001b[39;49m_mul_vector(other\u001b[39m.\u001b[39;49mravel())\u001b[39m.\u001b[39mreshape(M, \u001b[39m1\u001b[39m)\n\u001b[1;32m    531\u001b[0m \u001b[39melif\u001b[39;00m other\u001b[39m.\u001b[39mndim \u001b[39m==\u001b[39m \u001b[39m2\u001b[39m \u001b[39mand\u001b[39;00m other\u001b[39m.\u001b[39mshape[\u001b[39m0\u001b[39m] \u001b[39m==\u001b[39m N:\n\u001b[1;32m    532\u001b[0m     \u001b[39mreturn\u001b[39;00m \u001b[39mself\u001b[39m\u001b[39m.\u001b[39m_mul_multivector(other)\n",
      "File \u001b[0;32m~/opt/anaconda3/envs/rosetta/lib/python3.9/site-packages/scipy/sparse/_coo.py:579\u001b[0m, in \u001b[0;36mcoo_matrix._mul_vector\u001b[0;34m(self, other)\u001b[0m\n\u001b[1;32m    575\u001b[0m \u001b[39mdef\u001b[39;00m \u001b[39m_mul_vector\u001b[39m(\u001b[39mself\u001b[39m, other):\n\u001b[1;32m    576\u001b[0m     \u001b[39m#output array\u001b[39;00m\n\u001b[1;32m    577\u001b[0m     result \u001b[39m=\u001b[39m np\u001b[39m.\u001b[39mzeros(\u001b[39mself\u001b[39m\u001b[39m.\u001b[39mshape[\u001b[39m0\u001b[39m], dtype\u001b[39m=\u001b[39mupcast_char(\u001b[39mself\u001b[39m\u001b[39m.\u001b[39mdtype\u001b[39m.\u001b[39mchar,\n\u001b[1;32m    578\u001b[0m                                                         other\u001b[39m.\u001b[39mdtype\u001b[39m.\u001b[39mchar))\n\u001b[0;32m--> 579\u001b[0m     coo_matvec(\u001b[39mself\u001b[39;49m\u001b[39m.\u001b[39;49mnnz, \u001b[39mself\u001b[39;49m\u001b[39m.\u001b[39;49mrow, \u001b[39mself\u001b[39;49m\u001b[39m.\u001b[39;49mcol, \u001b[39mself\u001b[39;49m\u001b[39m.\u001b[39;49mdata, other, result)\n\u001b[1;32m    580\u001b[0m     \u001b[39mreturn\u001b[39;00m result\n",
      "\u001b[0;31mKeyboardInterrupt\u001b[0m: "
     ]
    }
   ],
   "source": [
    "def cal_diag(vertices):\n",
    "    return np.max(np.linalg.norm(vertices - vertices[0], axis=1))\n",
    "\n",
    "import time\n",
    "nt = time.strftime(\"%Y-%m-%d-%H:%M:%S\", time.localtime()) \n",
    "logfile = open(nt+'.txt', \"w\")\n",
    "\n",
    "it = 1000\n",
    "wL = 1\n",
    "wH = 10\n",
    "wM = 20\n",
    "\n",
    "new_mesh = 'armadillo_0.obj'\n",
    "mesh = read_mesh_trimesh('armadillo.obj')\n",
    "bbox = mesh.bounding_box\n",
    "scale_start = cal_diag(bbox.vertices) * 0.002\n",
    "scale = cal_diag(bbox.vertices) * 0.002\n",
    "scale_delta = cal_diag(bbox.vertices) * 0.001\n",
    "print(it, wL, wH, wM, scale_start, scale, scale_delta, file=logfile)\n",
    "assert mesh.is_watertight\n",
    "\n",
    "is_fixed = np.zeros((mesh.vertices.shape[0]), dtype=bool)\n",
    "\n",
    "#write_mesh_o3d('../models/result/rec' + new_mesh, mesh.as_open3d)\n",
    "voronoi_poles = calculate_voronoi_poles(mesh_reconstruction(mesh, 200, is_fixed))\n",
    "#vc_true = read_mesh_trimesh('armadillo/Voronoi.off', process=False)\n",
    "#voronoi_poles = np.asarray(vc_true.vertices.copy())\n",
    "#voronoi_poles = calculate_voronoi_poles(mesh_reconstruction(mesh, 300))\n",
    "vp_cloud = trimesh.Trimesh(vertices=voronoi_poles, faces=mesh.faces)\n",
    "write_mesh_o3d('../models/result/rec_vpcloud.obj', vp_cloud.as_open3d)\n",
    "\n",
    "\n",
    "WL = np.ones((mesh.vertices.shape[0])) * wL\n",
    "WH = np.ones((mesh.vertices.shape[0])) * wH\n",
    "WM = np.ones((mesh.vertices.shape[0])) * wM\n",
    "\n",
    "\n",
    "v_color = np.ones_like(mesh.vertices)\n",
    "\n",
    "show_lsqr_info = False\n",
    "\n",
    "print(mesh.vertices.shape, voronoi_poles.shape, WL.shape, file=logfile)\n",
    "\n",
    "voronoi_poles, WL, WH, WM, is_fixed, v_color = collapse_Edges(mesh, scale, voronoi_poles, WL, WH, WM, is_fixed, v_color)\n",
    "\n",
    "print(mesh.vertices.shape, voronoi_poles.shape, WL.shape, file=logfile)\n",
    "\n",
    "n_added, voronoi_poles = split_Faces(mesh, (110/180)*np.pi, voronoi_poles, is_fixed, scale_start / 10)\n",
    "# voronoi_poles = np.vstack((voronoi_poles, np.zeros((n_added, 3))))\n",
    "WL = np.hstack((WL, np.ones((n_added,)) * wL))\n",
    "WH = np.hstack((WH, np.ones((n_added,)) * wH))\n",
    "WM = np.hstack((WM, np.zeros((n_added,))))\n",
    "is_fixed = np.hstack((is_fixed, np.zeros((n_added,), dtype=bool)))\n",
    "for j in range(n_added):\n",
    "    v_color = np.vstack((v_color, np.array([0., 0., 1.])))\n",
    "\n",
    "for i in range(it):\n",
    "\n",
    "    #laplace_csr = trimesh_Generate_Laplace_matrix(mesh, is_fixed)\n",
    "    laplace_csr = trimesh_Generate_Tangent_Laplace_matrix(mesh, is_fixed, scale)\n",
    "    #laplace_csr = construct_uniform_Laplace_matrix(mesh, is_fixed)\n",
    "\n",
    "    vertices = np.asarray(mesh.vertices.copy())\n",
    "    A, b = construct_Equation(diags(WL), diags(WH), diags(WM), vertices, laplace_csr, voronoi_poles)\n",
    "    # sp.io.savemat('../data/Ab%d.mat' % (i + 1), {'A':A, 'b':b}) \n",
    "    \n",
    "    x0 = vertices.copy()\n",
    "    #x0 = np.zeros_like(vertices)\n",
    "    \n",
    "    new_vertices0 = lsqr(A, b[:, 0], damp=0.0, atol=1e-6, btol=1e-6,\n",
    "                conlim=1e12, iter_lim=None, show=show_lsqr_info, calc_var=False,\n",
    "                x0=x0[:, 0])\n",
    "    print(new_vertices0[1], np.linalg.norm(A @ new_vertices0[0] - b[:, 0]), file=logfile)\n",
    "    new_vertices1 = lsqr(A, b[:, 1], damp=0.0, atol=1e-6, btol=1e-6,\n",
    "                conlim=1e12, iter_lim=None, show=show_lsqr_info, calc_var=False,\n",
    "                x0=x0[:, 1])\n",
    "    print(new_vertices1[1], np.linalg.norm(A @ new_vertices1[0] - b[:, 1]), file=logfile)\n",
    "    new_vertices2 = lsqr(A, b[:, 2], damp=0.0, atol=1e-6, btol=1e-6,\n",
    "                conlim=1e12, iter_lim=None, show=show_lsqr_info, calc_var=False,\n",
    "                x0=x0[:, 2])\n",
    "    print(new_vertices2[1], np.linalg.norm(A @ new_vertices2[0] - b[:, 2]), file=logfile)\n",
    "\n",
    "    new_vertices = np.zeros(vertices.shape)\n",
    "    new_vertices[:, 0] = new_vertices0[0]\n",
    "    new_vertices[:, 1] = new_vertices1[0]\n",
    "    new_vertices[:, 2] = new_vertices2[0]\n",
    "\n",
    "    mesh.vertices = new_vertices\n",
    "\n",
    "    mesh = implicit_Laplacian_mesh_smoothing(mesh, lam=0.01, t=1, is_fixed=is_fixed)\n",
    "\n",
    "    write_trimesh_with_color(mesh, '../models/test/middle_' + new_mesh, v_color)\n",
    "    \n",
    "    print(mesh.vertices.shape, voronoi_poles.shape, WL.shape, file=logfile)\n",
    "\n",
    "    voronoi_poles, WL, WH, WM, is_fixed, v_color = collapse_Edges(mesh, scale, voronoi_poles, WL, WH, WM, is_fixed, v_color)\n",
    "\n",
    "    print(mesh.vertices.shape, voronoi_poles.shape, WL.shape, file=logfile)\n",
    "\n",
    "    n_added, voronoi_poles = split_Faces(mesh, (110/180)*np.pi, voronoi_poles, is_fixed, scale_start / 10)\n",
    "    # voronoi_poles = np.vstack((voronoi_poles, mesh.vertices[voronoi_poles.shape[0]:]))\n",
    "    WL = np.hstack((WL, np.ones((n_added,)) * wL))\n",
    "    WH = np.hstack((WH, np.ones((n_added,)) * wH))\n",
    "    WM = np.hstack((WM, np.zeros((n_added,))))\n",
    "    is_fixed = np.hstack((is_fixed, np.zeros((n_added,), dtype=bool)))\n",
    "    for j in range(n_added):\n",
    "        v_color = np.vstack((v_color, np.array([0., 0., 1.])))\n",
    "\n",
    "    is_fixed = detect_skeleton_vertices(mesh, scale_start, is_fixed)\n",
    "    WL[is_fixed] = 0\n",
    "    WH[is_fixed] = 0\n",
    "    WM[is_fixed] = 0\n",
    "    \n",
    "    # scale += scale_delta / 10\n",
    "    # if scale > 8 * scale_start:\n",
    "    #     scale = scale_start\n",
    "\n",
    "    #wL += 10\n",
    "    #WL[~is_fixed] = wL\n",
    "\n",
    "    v_color[is_fixed] = np.array([1., 0., 0.])\n",
    "\n",
    "    print(mesh.vertices.shape, voronoi_poles.shape, WL.shape, file=logfile)\n",
    "    #print(mesh.vertex_attributes['vor_idx'].shape, mesh.vertex_attributes['vor_idx'])\n",
    "    vp_mesh = trimesh.Trimesh(vertices=voronoi_poles, faces=mesh.faces)\n",
    "    write_mesh_o3d('../models/test/vpcloud_mesh%d.obj' % (i + 1), vp_mesh.as_open3d)\n",
    "\n",
    "    print(np.where(is_fixed==True)[0].shape, file=logfile)\n",
    "    write_trimesh_with_color(mesh, '../models/test/' + new_mesh, v_color)\n",
    "    print('before', mesh.vertices.shape, file=logfile)\n",
    "    mesh = read_mesh_trimesh('test/' + new_mesh, process=False)\n",
    "    assert mesh.is_watertight\n",
    "    print('after', mesh.vertices.shape, file=logfile)\n",
    "    new_mesh = 'armadillo_%d.obj' % (i + 1)\n",
    "    print('---------------------------', file=logfile)"
   ]
  },
  {
   "attachments": {},
   "cell_type": "markdown",
   "metadata": {},
   "source": [
    "# Testing Blocks"
   ]
  },
  {
   "cell_type": "code",
   "execution_count": null,
   "metadata": {},
   "outputs": [],
   "source": [
    "mesh = read_mesh_trimesh('armadillo.obj')"
   ]
  },
  {
   "cell_type": "code",
   "execution_count": null,
   "metadata": {},
   "outputs": [],
   "source": [
    "voronoi_poles = calculate_voronoi_poles(mesh)"
   ]
  },
  {
   "cell_type": "code",
   "execution_count": null,
   "metadata": {},
   "outputs": [],
   "source": [
    "laplace_csr = trimesh_Generate_Laplace_matrix(mesh)"
   ]
  },
  {
   "cell_type": "code",
   "execution_count": null,
   "metadata": {},
   "outputs": [],
   "source": [
    "laplace = laplace_csr.toarray()"
   ]
  },
  {
   "cell_type": "code",
   "execution_count": null,
   "metadata": {},
   "outputs": [],
   "source": [
    "non0idx = np.where(laplace>EPS)\n",
    "laplace_non0 = laplace[non0idx]\n",
    "print(np.mean(laplace[non0idx]))"
   ]
  },
  {
   "cell_type": "code",
   "execution_count": null,
   "metadata": {},
   "outputs": [],
   "source": [
    "areas = trimesh_Generate_Area_List(mesh)"
   ]
  },
  {
   "cell_type": "code",
   "execution_count": null,
   "metadata": {},
   "outputs": [],
   "source": [
    "print(np.mean(areas))"
   ]
  },
  {
   "cell_type": "code",
   "execution_count": null,
   "metadata": {},
   "outputs": [],
   "source": [
    "vertices = get_vertices_from_trimesh(mesh)\n",
    "edges = np.asarray(mesh.edges_unique)\n",
    "sumlen = 0\n",
    "for e in edges:\n",
    "    v0, v1 = vertices[e]\n",
    "    sumlen += np.linalg.norm(v0 - v1)\n",
    "print(sumlen/edges.shape[0])"
   ]
  },
  {
   "cell_type": "code",
   "execution_count": null,
   "metadata": {},
   "outputs": [],
   "source": [
    "mesh = read_mesh_trimesh('armadillo.obj')\n",
    "voronoi_poles = calculate_voronoi_poles(mesh)\n",
    "laplace_csr = trimesh_Generate_Laplace_matrix(mesh)\n",
    "wL = 1\n",
    "wH = 0.1\n",
    "wM = 0.2\n",
    "vertices = get_vertices_from_trimesh(mesh)\n",
    "A, b = construct_Equation(wL, wH, wM, vertices, laplace_csr, voronoi_poles)\n",
    "\n",
    "new_vertices0 = lsqr(A, b[:, 0])\n",
    "new_vertices1 = lsqr(A, b[:, 1])\n",
    "new_vertices2 = lsqr(A, b[:, 2])\n",
    "\n",
    "new_vertices = np.zeros(vertices.shape)\n",
    "new_vertices[:, 0] = new_vertices0[0]\n",
    "new_vertices[:, 1] = new_vertices1[0]\n",
    "new_vertices[:, 2] = new_vertices2[0]\n",
    "\n",
    "mesh.vertices = new_vertices\n",
    "write_mesh_o3d('../models/result/test.obj', mesh.as_open3d)"
   ]
  },
  {
   "cell_type": "code",
   "execution_count": null,
   "metadata": {},
   "outputs": [],
   "source": []
  },
  {
   "cell_type": "code",
   "execution_count": null,
   "metadata": {},
   "outputs": [],
   "source": [
    "name = 'armadillo.obj'\n",
    "mesh = read_mesh_trimesh(name)\n",
    "c_count = 0\n",
    "print(mesh.vertices.shape)\n",
    "voronoi_poles = calculate_voronoi_poles(mesh)\n",
    "#voronoi_poles = calculate_voronoi_poles(mesh_reconstruction(mesh, 300))\n",
    "vp_cloud = trimesh.Trimesh(vertices=voronoi_poles)\n",
    "write_mesh_o3d('../models/result/rec_vpcloud.obj', vp_cloud.as_open3d)\n",
    "WL = np.ones((mesh.vertices.shape[0])) * wL\n",
    "WH = np.ones((mesh.vertices.shape[0])) * wH\n",
    "WM = np.ones((mesh.vertices.shape[0])) * wM\n",
    "is_fixed = np.zeros((mesh.vertices.shape[0]), dtype=bool)\n",
    "voronoi_poles, WL, WH, WM, is_fixed = collapse_Edges1(mesh, 5e-2, voronoi_poles, WL, WH, WM, is_fixed)\n",
    "print(np.where(f!=True)[0].shape)\n",
    "print(mesh.is_watertight)\n",
    "print(mesh.vertices.shape)"
   ]
  },
  {
   "cell_type": "code",
   "execution_count": null,
   "metadata": {},
   "outputs": [],
   "source": [
    "a = np.array([1, 2, 3])\n",
    "print(np.where((a!=1)&(a!=2)))"
   ]
  },
  {
   "cell_type": "code",
   "execution_count": null,
   "metadata": {},
   "outputs": [],
   "source": [
    "print(mesh.faces.shape[0])\n",
    "v_count = splitter(mesh, (110/180)*np.pi, 0)\n",
    "print(v_count)\n",
    "print(mesh.faces.shape[0])"
   ]
  },
  {
   "cell_type": "code",
   "execution_count": null,
   "metadata": {},
   "outputs": [],
   "source": [
    "mesh = read_mesh_trimesh('armadillo.obj')\n",
    "print(mesh.vertices.shape[0])\n",
    "voronoi_poles = calculate_voronoi_poles(mesh)\n",
    "mesh.vertices = voronoi_poles\n",
    "write_mesh_o3d('../models/result/vpcloud_mesh.obj', mesh.as_open3d)\n",
    "print(mesh.is_watertight)"
   ]
  },
  {
   "cell_type": "code",
   "execution_count": null,
   "metadata": {},
   "outputs": [],
   "source": [
    "vc_true = read_mesh_trimesh('armadillo/Voronoi.off', process=False)\n",
    "print(vc_true.vertices.shape[0])\n",
    "print(vc_true.is_watertight)\n",
    "print(np.allclose(vc_true.edges_unique, mesh.edges_unique))"
   ]
  },
  {
   "cell_type": "code",
   "execution_count": null,
   "metadata": {},
   "outputs": [],
   "source": [
    "a = np.linalg.norm(vc_true.vertices - mesh.vertices, axis=1)\n",
    "print(a.tolist())\n",
    "idx = np.where(a > 1e-3)[0]\n",
    "print(idx.shape)\n",
    "print(idx.tolist())\n",
    "print(a[idx].tolist())"
   ]
  }
 ],
 "metadata": {
  "kernelspec": {
   "display_name": "rosetta",
   "language": "python",
   "name": "python3"
  },
  "language_info": {
   "codemirror_mode": {
    "name": "ipython",
    "version": 3
   },
   "file_extension": ".py",
   "mimetype": "text/x-python",
   "name": "python",
   "nbconvert_exporter": "python",
   "pygments_lexer": "ipython3",
   "version": "3.9.15"
  },
  "orig_nbformat": 4
 },
 "nbformat": 4,
 "nbformat_minor": 2
}
