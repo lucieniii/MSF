{
 "cells": [
  {
   "cell_type": "code",
   "execution_count": 26,
   "metadata": {},
   "outputs": [],
   "source": [
    "import sys, os, time\n",
    "\n",
    "import open3d as o3d\n",
    "import trimesh\n",
    "import openmesh as om\n",
    "\n",
    "import cv2\n",
    "\n",
    "import scipy as sp\n",
    "from scipy.sparse.linalg import eigs\n",
    "from scipy.sparse import csr_matrix, identity\n",
    "from scipy.sparse.linalg import spsolve\n",
    "from scipy.spatial import Delaunay, Voronoi\n",
    "\n",
    "import numpy as np\n",
    "\n",
    "import matplotlib.pyplot as plt\n",
    "\n",
    "from tqdm import tqdm\n",
    "\n",
    "%matplotlib inline"
   ]
  },
  {
   "cell_type": "code",
   "execution_count": 27,
   "metadata": {},
   "outputs": [],
   "source": [
    "\n",
    "def read_mesh_om(path_in_models):\n",
    "    return om.read_trimesh(os.path.join('..', 'models', path_in_models))\n",
    "def write_mesh_om(mesh, path_in_models):\n",
    "    om.write_mesh(os.path.join('..', 'models', path_in_models), mesh, vertex_color=True)\n",
    "def show_mesh_o3d(plys):\n",
    "    o3d.visualization.draw_geometries(plys)\n",
    "def write_mesh_o3d(path, mesh):\n",
    "    o3d.io.write_triangle_mesh(path, mesh)\n",
    "def read_mesh_o3d(mesh_fp):\n",
    "    return o3d.io.read_triangle_mesh(mesh_fp)\n",
    "def read_mesh_trimesh(path_in_models):\n",
    "    return trimesh.load(os.path.join('..', 'models', path_in_models))\n",
    "def get_vertices_from_trimesh(mesh):\n",
    "    return np.asarray(mesh.vertices)\n",
    "def get_vertice_normals_from_trimesh(mesh):\n",
    "    return np.asarray(mesh.vertex_normals)\n",
    "def write_trimesh_with_color(mesh, path, colors):\n",
    "    o3d_mesh = mesh.as_open3d\n",
    "    o3d_mesh.vertex_colors = o3d.utility.Vector3dVector(colors)\n",
    "    write_mesh_o3d(path, o3d_mesh)"
   ]
  },
  {
   "cell_type": "code",
   "execution_count": 28,
   "metadata": {},
   "outputs": [
    {
     "name": "stdout",
     "output_type": "stream",
     "text": [
      "Help on built-in function write_mesh in module openmesh:\n",
      "\n",
      "write_mesh(...) method of builtins.PyCapsule instance\n",
      "    write_mesh(*args, **kwargs)\n",
      "    Overloaded function.\n",
      "    \n",
      "    1. write_mesh(filename: str, mesh: openmesh.TriMesh, binary: bool = False, msb: bool = False, lsb: bool = False, swap: bool = False, vertex_normal: bool = False, vertex_color: bool = False, vertex_tex_coord: bool = False, halfedge_tex_coord: bool = False, edge_color: bool = False, face_normal: bool = False, face_color: bool = False, color_alpha: bool = False, color_float: bool = False, status: bool = False, texture_file: str = '', material_file_extension: str = '.mat') -> None\n",
      "    \n",
      "    2. write_mesh(filename: str, mesh: openmesh.PolyMesh, binary: bool = False, msb: bool = False, lsb: bool = False, swap: bool = False, vertex_normal: bool = False, vertex_color: bool = False, vertex_tex_coord: bool = False, halfedge_tex_coord: bool = False, edge_color: bool = False, face_normal: bool = False, face_color: bool = False, color_alpha: bool = False, color_float: bool = False, status: bool = False, texture_file: str = '', material_file_extension: str = '.mat') -> None\n",
      "\n"
     ]
    }
   ],
   "source": [
    "help(om.write_mesh)"
   ]
  },
  {
   "cell_type": "code",
   "execution_count": 29,
   "metadata": {},
   "outputs": [],
   "source": [
    "mesh = read_mesh_om('cube.obj')"
   ]
  },
  {
   "cell_type": "code",
   "execution_count": 30,
   "metadata": {},
   "outputs": [],
   "source": [
    "# write_mesh_om(mesh, 'test/cube-copy.obj')"
   ]
  },
  {
   "cell_type": "code",
   "execution_count": 31,
   "metadata": {},
   "outputs": [
    {
     "data": {
      "text/plain": [
       "False"
      ]
     },
     "execution_count": 31,
     "metadata": {},
     "output_type": "execute_result"
    }
   ],
   "source": [
    "mesh.has_vertex_colors()"
   ]
  },
  {
   "cell_type": "code",
   "execution_count": 32,
   "metadata": {},
   "outputs": [
    {
     "name": "stdout",
     "output_type": "stream",
     "text": [
      "<openmesh.VertexIter object at 0x1abf22bf0>\n",
      "[-1. -1.  1.] <class 'numpy.ndarray'>\n",
      "[ 0.5 -0.5  0.5] <class 'numpy.ndarray'>\n",
      "[-0.5  0.5  0.5] <class 'numpy.ndarray'>\n",
      "[0.5 0.5 0.5] <class 'numpy.ndarray'>\n",
      "[-0.5  0.5 -0.5] <class 'numpy.ndarray'>\n",
      "[ 0.5  0.5 -0.5] <class 'numpy.ndarray'>\n",
      "[-0.5 -0.5 -0.5] <class 'numpy.ndarray'>\n",
      "[ 0.5 -0.5 -0.5] <class 'numpy.ndarray'>\n"
     ]
    }
   ],
   "source": [
    "print(mesh.vertices())\n",
    "set = False\n",
    "for v_it in mesh.vertices():\n",
    "    if not set:\n",
    "        mesh.set_point(v_it, np.array([-1, -1 , 1]))\n",
    "        set = True\n",
    "    print(mesh.point(v_it), type(mesh.point(v_it)))\n",
    "    mesh.set_color(v_it, np.array([255.,182.,193.,255.])/255.)\n",
    "\n",
    "# for f_it in mesh.faces():\n",
    "#     mesh.set_color(f_it, np.array([255.,182.,193.,255.])/255.)\n",
    "# for c_it in mesh.face_colors():\n",
    "#     print(c_it, type(c_it))\n",
    "write_mesh_om(mesh, 'test/cube-copy.off')"
   ]
  },
  {
   "cell_type": "code",
   "execution_count": 33,
   "metadata": {},
   "outputs": [],
   "source": [
    "INFINITY = 1e9\n",
    "\n",
    "def get_vertices_from_trimesh(mesh):\n",
    "    return np.asarray(mesh.vertices)\n",
    "\n",
    "def get_vertice_normals_from_trimesh(mesh):\n",
    "    return np.asarray(mesh.vertex_normals)\n",
    "\n",
    "def calculate_voronoi_poles(mesh):\n",
    "    \n",
    "    vertices = get_vertices_from_trimesh(mesh)\n",
    "    vertice_normals = get_vertice_normals_from_trimesh(mesh)\n",
    "\n",
    "    print(\"Calculating Voronoi Diagram.\")\n",
    "    vor = Voronoi(vertices)\n",
    "    vor_centers = vor.vertices\n",
    "    cells = vor.regions\n",
    "    cell_indices = vor.point_region\n",
    "\n",
    "    vertices_total = vertices.shape[0]\n",
    "    voronoi_poles = np.zeros(vertices.shape)\n",
    "    print(\"Calculating the Voronoi Pole for each vertex.\")\n",
    "    for vi in tqdm(range(vertices_total)):\n",
    "        vor_cell = cells[cell_indices[vi]]\n",
    "        vertice = vertices[vi]\n",
    "        vertice_normal = vertice_normals[vi]\n",
    "        max_neg_proj = INFINITY\n",
    "        voronoi_pole = None\n",
    "        for vci in vor_cell:\n",
    "            vor_center = vor_centers[vci]\n",
    "            if vci == -1:\n",
    "                continue\n",
    "            proj = np.dot(vor_center - vertice, vertice_normal)\n",
    "            if proj < max_neg_proj:\n",
    "                max_neg_proj = proj\n",
    "                voronoi_pole = vor_center\n",
    "        voronoi_poles[vi] = voronoi_pole\n",
    "\n",
    "    return voronoi_poles"
   ]
  },
  {
   "cell_type": "code",
   "execution_count": 34,
   "metadata": {},
   "outputs": [
    {
     "name": "stdout",
     "output_type": "stream",
     "text": [
      "Calculating Voronoi Diagram.\n",
      "Calculating the Voronoi Pole for each vertex.\n"
     ]
    },
    {
     "name": "stderr",
     "output_type": "stream",
     "text": [
      "100%|██████████| 25193/25193 [00:00<00:00, 27287.21it/s]\n"
     ]
    }
   ],
   "source": [
    "mesh = read_mesh_trimesh('armadillo.obj')\n",
    "voronoi_poles = calculate_voronoi_poles(mesh)\n",
    "# print(voronoi_poles)"
   ]
  },
  {
   "cell_type": "code",
   "execution_count": 35,
   "metadata": {},
   "outputs": [],
   "source": [
    "#         v0 ---------- v2\n",
    "#        /        +     /\n",
    "#      /      vn       /\n",
    "#    /     +          /   \n",
    "#  v1 ---------------v3\n",
    "def reduce_Angles(mesh):\n",
    "\n",
    "    faces = np.asarray(mesh.faces)\n",
    "    edges_unique = np.asarray(mesh.edges_unique)\n",
    "    face_adjacency = np.asarray(mesh.face_adjacency)\n",
    "    face_angles = np.asarray(mesh.face_angles)\n",
    "    vertices = np.asarray(mesh.vertices)\n",
    "\n",
    "    f_is_del = np.zeros((len(mesh.faces)),dtype=bool) # f is deleted or not\n",
    "    f_to_add = np.asarray(mesh.faces) # all v indexs. Note that here it only adds points and dont remove any.\n",
    "    v_to_add = np.asarray(mesh.vertices) # positions\n",
    "    \n",
    "    v_count = mesh.vertices.shape[0]\n",
    "    face_count = faces.shape[0]\n",
    "    \n",
    "    for face_index in range(face_count):\n",
    "        face = faces[face_index]\n",
    "        if not f_is_del[face_index] and max(face_angles[face_index]) > (2./3.)*np.pi: # 2.1\n",
    "            \n",
    "            # get v0,v1,v2\n",
    "            v0 = face[np.argmax(face_angles[face_index])] # obtuse_vertex\n",
    "            v1, v2 = face[face!=v0] # v1,v2 are indexes.                \n",
    "\n",
    "            # add vertex vn\n",
    "            v_count += 1\n",
    "            \n",
    "            v_new = cal_projection(*vertices[[v0, v1, v2]])\n",
    "            v_to_add = np.vstack((v_to_add, v_new))\n",
    "\n",
    "            # get indexs of faces to be deleted\n",
    "            # shared_faces_index = get_shared_face_index(mesh, v1, v2)\n",
    "            shared_faces_index = get_adj_face(edges_unique, face_adjacency, v1, v2)\n",
    "            f_is_del[shared_faces_index]= True\n",
    "\n",
    "            # # get v3 from the faces\n",
    "            v_vertices = np.asarray(np.unique(faces[shared_faces_index]))\n",
    "            #print((v0,v1,v2))\n",
    "            #print(v_vertices)\n",
    "            #print(np.setdiff1d(v_vertices, (v0,v1,v2)))\n",
    "            v3 = int(np.setdiff1d(v_vertices, (v0,v1,v2))) # ----may cause problems----                \n",
    "\n",
    "            # # add faces\n",
    "            vn = v_count - 1\n",
    "            f_to_add = np.vstack((f_to_add, [v0,v1,vn]))\n",
    "            f_to_add = np.vstack((f_to_add, [v0,vn,v2])) # the order matters! if go v0v2vn, not work\n",
    "            f_to_add = np.vstack((f_to_add, [vn,v1,v3])) # why\n",
    "            f_to_add = np.vstack((f_to_add, [v2,vn,v3]))                \n",
    "            f_is_del = np.hstack((f_is_del, [False,False,False,False]))\n",
    "\n",
    "    faces_new = f_to_add[~f_is_del]\n",
    "    print(f_to_add.shape[0], faces_new.shape[0])\n",
    "    #print(np.where(f_is_del))\n",
    "    v_add = v_count - mesh.vertices.shape[0]\n",
    "    mesh.vertices = v_to_add\n",
    "    print(mesh.vertices.shape, v_to_add.shape)\n",
    "    mesh.faces = faces_new\n",
    "\n",
    "    return v_add\n",
    "    "
   ]
  },
  {
   "cell_type": "code",
   "execution_count": 36,
   "metadata": {},
   "outputs": [
    {
     "name": "stdout",
     "output_type": "stream",
     "text": [
      "(array([3]),)\n"
     ]
    }
   ],
   "source": [
    "a = np.array([\n",
    "    [0, 1],\n",
    "    [1, 2],\n",
    "    [1, 3],\n",
    "    [2, 3]\n",
    "])\n",
    "print(np.where((a[:, 0]==2)&(a[:, 1]==3)))"
   ]
  },
  {
   "cell_type": "code",
   "execution_count": 137,
   "metadata": {},
   "outputs": [
    {
     "name": "stdout",
     "output_type": "stream",
     "text": [
      "[[ 0.  0.  0.]\n",
      " [ 0.  1.  1.]\n",
      " [ 1.  2.  3.]\n",
      " [ 2.  0.  4.]\n",
      " [-1. -1. -1.]]\n",
      "[2.12132034 1.82574186]\n"
     ]
    }
   ],
   "source": [
    "vertices = np.array([\n",
    "    [0,0,0],\n",
    "    [0,1,1],\n",
    "    [1,2,3],\n",
    "    [1,2,300],\n",
    "    [2,0,4],\n",
    "    [-1,-1,-1]\n",
    "])\n",
    "faces = np.array([\n",
    "    [0, 1, 2],\n",
    "    [1, 2, 4],\n",
    "])\n",
    "t = trimesh.Trimesh(vertices=vertices, faces=faces)\n",
    "mesh.remove_unreferenced_vertices()\n",
    "print(mesh.vertices)\n",
    "mesh.vertices = np.array([\n",
    "    [0,0,0],\n",
    "    [0,1,1],\n",
    "    [1,2,3],\n",
    "    [2,0,4],\n",
    "    [-1,-1,-1]\n",
    "])\n",
    "mesh.faces = np.array([\n",
    "    [0,1,2],\n",
    "    [1,2,3],\n",
    "    [0,1,4]\n",
    "])\n",
    "#print(mesh.edges_unique)\n",
    "#mesh = read_mesh_trimesh('cube.obj')\n",
    "#print(np.all(mesh.edges_unique[:, 0] < mesh.edges_unique[:, 1]))\n",
    "print(mesh.face_adjacency_span)\n",
    "#print(mesh.edges_unique_length)\n",
    "#print(mesh.faces)\n",
    "#print(mesh.face_adjacency)\n",
    "#print(mesh.face_neighborhood)"
   ]
  },
  {
   "cell_type": "code",
   "execution_count": 130,
   "metadata": {},
   "outputs": [],
   "source": [
    "def can_be_collapsed(mesh, v0, v1):\n",
    "    n0 = mesh.vertex_neighbors[v0]\n",
    "    n1 = mesh.vertex_neighbors[v1]\n",
    "    return np.intersect1d(n0, n1).shape[0] == 2\n",
    "\n",
    "def collapse_Edges(mesh, T):\n",
    "    \n",
    "    faces = np.asarray(mesh.faces)\n",
    "\n",
    "    edges_length = np.asarray(mesh.edges_unique_length)\n",
    "    short_idx = edges_length < T\n",
    "    edges_unique = np.asarray(mesh.edges_unique)[short_idx]\n",
    "    face_adjacency = np.asarray(mesh.face_adjacency)[short_idx]\n",
    "    edges_length = edges_length[short_idx]\n",
    "\n",
    "    f_is_del = np.ones((mesh.faces.shape[0],), dtype=np.bool_)\n",
    "\n",
    "    c_count = 0\n",
    "\n",
    "    for edge, adj_faces in zip(edges_unique, face_adjacency):\n",
    "        v0, v1 = edge\n",
    "\n",
    "        # check can be collapsed\n",
    "        if not can_be_collapsed(mesh, v0, v1):\n",
    "            continue\n",
    "\n",
    "        # reset v0\n",
    "        mesh.vertices[v0] = 0.5 * (mesh.vertices[v0] + mesh.vertices[v1])\n",
    "\n",
    "        # delete adj faces\n",
    "        f0, f1 = adj_faces\n",
    "        f_is_del[f0] = False\n",
    "        f_is_del[f1] = False\n",
    "\n",
    "        # change v1 -> v0\n",
    "        faces[faces==v1] = v0\n",
    "\n",
    "        c_count += 1\n",
    "\n",
    "        mesh.faces = faces[f_is_del]\n",
    "        mesh.remove_unreferenced_vertices()\n",
    "\n",
    "        return True\n",
    "    \n",
    "    return False"
   ]
  },
  {
   "cell_type": "code",
   "execution_count": 82,
   "metadata": {},
   "outputs": [],
   "source": [
    "def paint_not_watertight(mesh, save_path):\n",
    "\n",
    "    def get_edge(mesh, v1, v2):\n",
    "        edges_unique = np.asarray(mesh.edges_unique)\n",
    "        if v1 > v2:\n",
    "            v1, v2 = v2, v1\n",
    "        e = np.where((edges_unique[:, 0]==v1)&(edges_unique[:, 1]==v2))\n",
    "        return e[0].item()\n",
    "\n",
    "    v_color = np.ones_like(mesh.vertices)\n",
    "    c = np.array([1., 1., 0.])\n",
    "\n",
    "    faces = np.asarray(mesh.faces)\n",
    "    elist = []\n",
    "    for face_adj in tqdm(mesh.face_adjacency):\n",
    "        if np.intersect1d(*faces[face_adj]).shape[0] != 2:\n",
    "            v_color[np.intersect1d(*faces[face_adj])] = c\n",
    "            print(np.intersect1d(*faces[face_adj]))\n",
    "        else:\n",
    "            ei = get_edge(mesh, *np.intersect1d(*faces[face_adj]))\n",
    "            elist.append(ei)\n",
    "    \n",
    "    earray = np.array(elist)\n",
    "    eindices = np.arange(0, mesh.edges_unique.shape[0])\n",
    "    de = np.setdiff1d(eindices, earray)\n",
    "    c = np.array([1., 0., 0.])\n",
    "    print(de)\n",
    "    for e in de:\n",
    "        v1, v2 = mesh.edges_unique[e]\n",
    "        v_color[v1] = c\n",
    "        v_color[v2] = c\n",
    "\n",
    "    write_trimesh_with_color(mesh, save_path, v_color)"
   ]
  },
  {
   "cell_type": "code",
   "execution_count": 41,
   "metadata": {},
   "outputs": [
    {
     "name": "stdout",
     "output_type": "stream",
     "text": [
      "[[  0   1 100]\n",
      " [  1 100   3]\n",
      " [  0   1   4]]\n"
     ]
    }
   ],
   "source": [
    "f = np.array([\n",
    "    [0,1,2],\n",
    "    [1,2,3],\n",
    "    [0,1,4]\n",
    "])\n",
    "f[f==2]=100\n",
    "print(f)"
   ]
  },
  {
   "cell_type": "code",
   "execution_count": 132,
   "metadata": {},
   "outputs": [
    {
     "name": "stdout",
     "output_type": "stream",
     "text": [
      "(25193, 3)\n",
      "46\n",
      "True\n",
      "(25147, 3)\n"
     ]
    }
   ],
   "source": [
    "name = 'result/armadillo_0.obj'\n",
    "mesh = read_mesh_trimesh(name)\n",
    "#c_count, v_is_del = collapse_Edges(mesh, 1e-2)\n",
    "c_count = 0\n",
    "print(mesh.vertices.shape)\n",
    "while collapse_Edges(mesh, 5e-4):\n",
    "    c_count += 1\n",
    "print(c_count)\n",
    "print(mesh.is_watertight)\n",
    "print(mesh.vertices.shape)"
   ]
  },
  {
   "cell_type": "code",
   "execution_count": 133,
   "metadata": {},
   "outputs": [],
   "source": [
    "write_mesh_o3d('../models/result/test_collapse.obj', mesh.as_open3d)"
   ]
  },
  {
   "cell_type": "code",
   "execution_count": 93,
   "metadata": {},
   "outputs": [
    {
     "name": "stderr",
     "output_type": "stream",
     "text": [
      " 22%|██▏       | 10616/47432 [00:00<00:03, 11940.15it/s]"
     ]
    },
    {
     "name": "stdout",
     "output_type": "stream",
     "text": [
      "[ 622 5827 6317]\n",
      "[ 622 5827 6317]\n",
      "[2112 5827 6318]\n",
      "[2112 5827 6318]\n",
      "[6400 6463 6464]\n",
      "[6400 6463 6464]\n"
     ]
    },
    {
     "name": "stderr",
     "output_type": "stream",
     "text": [
      " 27%|██▋       | 13012/47432 [00:01<00:02, 11960.49it/s]"
     ]
    },
    {
     "name": "stdout",
     "output_type": "stream",
     "text": [
      "[2436 2443 7190]\n",
      "[2436 2443 7190]\n",
      "[7564 7593 7594]\n",
      "[7564 7593 7594]\n"
     ]
    },
    {
     "name": "stderr",
     "output_type": "stream",
     "text": [
      " 38%|███▊      | 17818/47432 [00:01<00:02, 12005.51it/s]"
     ]
    },
    {
     "name": "stdout",
     "output_type": "stream",
     "text": [
      "[3077 8290 8359]\n",
      "[3077 8290 8359]\n"
     ]
    },
    {
     "name": "stderr",
     "output_type": "stream",
     "text": [
      " 45%|████▌     | 21410/47432 [00:01<00:02, 11888.15it/s]"
     ]
    },
    {
     "name": "stdout",
     "output_type": "stream",
     "text": [
      "[  16   33 9518]\n",
      "[  16   33 9518]\n",
      "[3238 7329 9996]\n",
      "[3238 7329 9996]\n"
     ]
    },
    {
     "name": "stderr",
     "output_type": "stream",
     "text": [
      " 53%|█████▎    | 25004/47432 [00:02<00:01, 11942.78it/s]"
     ]
    },
    {
     "name": "stdout",
     "output_type": "stream",
     "text": [
      "[ 2147 10290 10291]\n",
      "[ 2147 10290 10291]\n"
     ]
    },
    {
     "name": "stderr",
     "output_type": "stream",
     "text": [
      " 96%|█████████▌| 45442/47432 [00:03<00:00, 11825.66it/s]"
     ]
    },
    {
     "name": "stdout",
     "output_type": "stream",
     "text": [
      "[   21 15076 15077]\n",
      "[   21 15076 15077]\n"
     ]
    },
    {
     "name": "stderr",
     "output_type": "stream",
     "text": [
      "100%|██████████| 47432/47432 [00:03<00:00, 11896.37it/s]\n"
     ]
    },
    {
     "name": "stdout",
     "output_type": "stream",
     "text": [
      "[   15  3113 15602]\n",
      "[   15  3113 15602]\n",
      "[    6  1210  2041  6871  6872  8405  8406  8407  8408  8883  8884  8885\n",
      " 11351 11352 11802 12754 12755 12756 15224 15487 15488 19993 19994 21882\n",
      " 21883 23081 23083 23084 43909 43912 43913 46371 46372]\n"
     ]
    }
   ],
   "source": [
    "paint_not_watertight(mesh, '../models/result/test_collapse_color.obj')"
   ]
  }
 ],
 "metadata": {
  "kernelspec": {
   "display_name": "rosetta",
   "language": "python",
   "name": "python3"
  },
  "language_info": {
   "codemirror_mode": {
    "name": "ipython",
    "version": 3
   },
   "file_extension": ".py",
   "mimetype": "text/x-python",
   "name": "python",
   "nbconvert_exporter": "python",
   "pygments_lexer": "ipython3",
   "version": "3.9.15"
  },
  "orig_nbformat": 4
 },
 "nbformat": 4,
 "nbformat_minor": 2
}
