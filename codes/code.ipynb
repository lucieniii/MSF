{
 "cells": [
  {
   "cell_type": "code",
   "execution_count": 243,
   "metadata": {},
   "outputs": [],
   "source": [
    "import sys, os, time\n",
    "\n",
    "import open3d as o3d\n",
    "import trimesh\n",
    "import openmesh as om\n",
    "\n",
    "import cv2\n",
    "\n",
    "import scipy as sp\n",
    "from scipy.sparse.linalg import eigs\n",
    "from scipy.sparse import csr_matrix, coo_matrix, identity, vstack, diags\n",
    "from scipy.sparse.linalg import spsolve, lsqr\n",
    "from scipy.spatial import Delaunay, Voronoi\n",
    "\n",
    "import numpy as np\n",
    "\n",
    "import matplotlib.pyplot as plt\n",
    "\n",
    "from tqdm import tqdm\n",
    "\n",
    "%matplotlib inline"
   ]
  },
  {
   "cell_type": "code",
   "execution_count": 244,
   "metadata": {},
   "outputs": [],
   "source": [
    "# Tests of Openmesh\n",
    "# https://gitlab.vci.rwth-aachen.de:9000/OpenMesh/openmesh-python/tree/master/tests"
   ]
  },
  {
   "cell_type": "code",
   "execution_count": 245,
   "metadata": {},
   "outputs": [],
   "source": [
    "\n",
    "def read_mesh_om(path_in_models):\n",
    "    return om.read_trimesh(os.path.join('..', 'models', path_in_models))\n",
    "def write_mesh_om(mesh, path_in_models):\n",
    "    om.write_mesh(os.path.join('..', 'models', path_in_models), mesh, vertex_color=True)\n",
    "def show_mesh_o3d(plys):\n",
    "    o3d.visualization.draw_geometries(plys)\n",
    "def write_mesh_o3d(path, mesh):\n",
    "    o3d.io.write_triangle_mesh(path, mesh)\n",
    "def read_mesh_o3d(mesh_fp):\n",
    "    return o3d.io.read_triangle_mesh(mesh_fp)\n",
    "def read_mesh_trimesh(path_in_models):\n",
    "    return trimesh.load(os.path.join('..', 'models', path_in_models))\n",
    "def get_vertices_from_trimesh(mesh):\n",
    "    return np.asarray(mesh.vertices)\n",
    "def get_vertice_normals_from_trimesh(mesh):\n",
    "    return np.asarray(mesh.vertex_normals)\n",
    "def write_trimesh_with_color(mesh, path, colors):\n",
    "    o3d_mesh = mesh.as_open3d\n",
    "    o3d_mesh.vertex_colors = o3d.utility.Vector3dVector(colors)\n",
    "    write_mesh_o3d(path, o3d_mesh)"
   ]
  },
  {
   "attachments": {},
   "cell_type": "markdown",
   "metadata": {},
   "source": [
    "### Calculate Voronoi Poles"
   ]
  },
  {
   "cell_type": "code",
   "execution_count": 246,
   "metadata": {},
   "outputs": [],
   "source": [
    "INFINITY = 1e9\n",
    "EPS = 1e-9\n",
    "def calculate_voronoi_poles(mesh):\n",
    "    \n",
    "    vertices = get_vertices_from_trimesh(mesh)\n",
    "    vertice_normals = get_vertice_normals_from_trimesh(mesh)\n",
    "\n",
    "    print(\"Calculating Voronoi Diagram.\")\n",
    "    vor = Voronoi(vertices)\n",
    "    vor_centers = vor.vertices\n",
    "    cells = vor.regions\n",
    "    cell_indices = vor.point_region\n",
    "\n",
    "    vertices_total = vertices.shape[0]\n",
    "    voronoi_poles = np.zeros(vertices.shape)\n",
    "    print(\"Calculating the Voronoi Pole for each vertex.\")\n",
    "    for vi in tqdm(range(vertices_total)):\n",
    "        vor_cell = cells[cell_indices[vi]]\n",
    "        vertice = vertices[vi]\n",
    "        vertice_normal = vertice_normals[vi]\n",
    "        max_neg_proj = INFINITY\n",
    "        voronoi_pole = None\n",
    "        for vci in vor_cell:\n",
    "            vor_center = vor_centers[vci]\n",
    "            if vci == -1:\n",
    "                continue\n",
    "            proj = np.dot(vor_center - vertice, vertice_normal)\n",
    "            if proj < max_neg_proj:\n",
    "                max_neg_proj = proj\n",
    "                voronoi_pole = vor_center\n",
    "        voronoi_poles[vi] = voronoi_pole\n",
    "\n",
    "    return voronoi_poles"
   ]
  },
  {
   "attachments": {},
   "cell_type": "markdown",
   "metadata": {},
   "source": [
    "### Calculate Cotangent Laplace Operator"
   ]
  },
  {
   "cell_type": "code",
   "execution_count": 288,
   "metadata": {},
   "outputs": [],
   "source": [
    "def trimesh_Generate_Area_List(mesh):\n",
    "\n",
    "    area_list = np.zeros((len(mesh.vertices)))\n",
    "    face_count = mesh.faces.shape[0]\n",
    "    face_area = np.asarray(mesh.area_faces)\n",
    "    faces = np.asarray(mesh.faces)\n",
    "    for i in range(face_count):\n",
    "        area_list[faces[i]] += face_area[i] / 3\n",
    "    \n",
    "    area_list /= np.mean(area_list)\n",
    "    return area_list\n",
    "\n",
    "\n",
    "def trimesh_Generate_Laplace_matrix(mesh):\n",
    "    \n",
    "    print('Constructing Laplace Matrix.')\n",
    "    \n",
    "    vertices_face_indexs = [[0,1,2],[1,0,2],[2,0,1]] \n",
    "    laplace_dict = {}\n",
    "    area_list = trimesh_Generate_Area_List(mesh)\n",
    "    face_angles = np.asarray(mesh.face_angles)\n",
    "    faces = np.asarray(mesh.faces)\n",
    "    face_count = faces.shape[0]\n",
    "    \n",
    "    with tqdm(total=face_count) as tbar:\n",
    "        for face, angles in zip(faces, face_angles):\n",
    "            for i in range(3):\n",
    "                current_angle = angles[i]\n",
    "                v0_index, v1_index, v2_index = face[vertices_face_indexs[i]]\n",
    "                delta = 0.5 / area_list[v0_index] / np.tan(current_angle)\n",
    "                if delta > EPS:\n",
    "                    laplace_dict[(v1_index, v1_index)] = laplace_dict.get((v1_index, v1_index), 0) - delta\n",
    "                    laplace_dict[(v2_index, v2_index)] = laplace_dict.get((v2_index, v2_index), 0) - delta\n",
    "                    laplace_dict[(v1_index, v2_index)] = laplace_dict.get((v1_index, v2_index), 0) + delta\n",
    "                    laplace_dict[(v2_index, v1_index)] = laplace_dict.get((v2_index, v1_index), 0) + delta\n",
    "            tbar.update(1)\n",
    "\n",
    "    # Construct CSR Matrix\n",
    "    rows, cols = zip(*laplace_dict.keys())\n",
    "    values = list(laplace_dict.values())\n",
    "    coo = coo_matrix((values, (rows, cols)), shape=(len(mesh.vertices), len(mesh.vertices)))\n",
    "    csr = coo.tocsr()\n",
    "\n",
    "    return csr"
   ]
  },
  {
   "attachments": {},
   "cell_type": "markdown",
   "metadata": {},
   "source": [
    "### Solve Equation"
   ]
  },
  {
   "cell_type": "code",
   "execution_count": 248,
   "metadata": {},
   "outputs": [],
   "source": [
    "def construct_Equation(WL, WH, WM, vertices, L, voronoi_poles):\n",
    "    vn = vertices.shape[0]\n",
    "    A = vstack((WL * L, WH, WM))\n",
    "    b = np.vstack((np.zeros((vn, 3)), WH * vertices, WM * voronoi_poles))\n",
    "    return A, b"
   ]
  },
  {
   "attachments": {},
   "cell_type": "markdown",
   "metadata": {},
   "source": [
    "### Collapse Edges"
   ]
  },
  {
   "cell_type": "code",
   "execution_count": 249,
   "metadata": {},
   "outputs": [],
   "source": [
    "def can_be_collapsed(mesh, v0, v1):\n",
    "    n0 = mesh.vertex_neighbors[v0]\n",
    "    n1 = mesh.vertex_neighbors[v1]\n",
    "    return np.intersect1d(n0, n1).shape[0] == 2\n",
    "\n",
    "def collapser(mesh, T, is_fixed):\n",
    "    \n",
    "    faces = np.asarray(mesh.faces)\n",
    "\n",
    "    edges_length = np.asarray(mesh.edges_unique_length)\n",
    "    short_idx = edges_length < T\n",
    "    edges_unique = np.asarray(mesh.edges_unique)[short_idx]\n",
    "    face_adjacency = np.asarray(mesh.face_adjacency)[short_idx]\n",
    "    edges_length = edges_length[short_idx]\n",
    "    vertex_neighbors = mesh.vertex_neighbors\n",
    "\n",
    "    ignore = np.zeros((mesh.vertices.shape[0],), dtype=np.bool_)\n",
    "\n",
    "    f_is_del = np.ones((mesh.faces.shape[0],), dtype=np.bool_)\n",
    "\n",
    "    c_count = 0\n",
    "\n",
    "    collapsed = []\n",
    "\n",
    "    for edge, adj_faces in zip(edges_unique, face_adjacency):\n",
    "        v0, v1 = edge\n",
    "\n",
    "        # check can be collapsed\n",
    "        if ignore[v0] or ignore[v1] or is_fixed[v0] or is_fixed[v1] or not can_be_collapsed(mesh, v0, v1):\n",
    "            continue\n",
    "\n",
    "        # reset v0\n",
    "        mesh.vertices[v0] = 0.5 * (mesh.vertices[v0] + mesh.vertices[v1])\n",
    "\n",
    "        # delete adj faces\n",
    "        f0, f1 = adj_faces\n",
    "        f_is_del[f0] = False\n",
    "        f_is_del[f1] = False\n",
    "\n",
    "        # change v1 -> v0\n",
    "        faces[faces==v1] = v0\n",
    "\n",
    "        c_count += 1\n",
    "\n",
    "        collapsed.append(v1)\n",
    "\n",
    "        ignore[v1] = True\n",
    "        for nv in vertex_neighbors[v1]:\n",
    "            ignore[nv] = True\n",
    "\n",
    "        ignore[v0] = True\n",
    "        for nv in vertex_neighbors[v0]:\n",
    "            ignore[nv] = True\n",
    "        \n",
    "    mesh.faces = faces[f_is_del]\n",
    "    mesh.remove_unreferenced_vertices()\n",
    "    \n",
    "    return collapsed"
   ]
  },
  {
   "attachments": {},
   "cell_type": "markdown",
   "metadata": {},
   "source": [
    "### Split Faces"
   ]
  },
  {
   "cell_type": "code",
   "execution_count": 250,
   "metadata": {},
   "outputs": [],
   "source": [
    "def get_adj_face(edges_unique, face_adjacency, v1, v2, face_index):\n",
    "    if v1 > v2:\n",
    "        v1, v2 = v2, v1\n",
    "    e = np.where((edges_unique[:, 0]==v1)&(edges_unique[:, 1]==v2))\n",
    "    faces = face_adjacency[e[0]].flatten()\n",
    "    return faces[faces!=face_index].item()\n",
    "\n",
    "# v1v0 onto v1v2\n",
    "def cal_projection(v0, v1, v2):\n",
    "    v1v2 = v2 - v1\n",
    "    v1v0 = v0 - v1\n",
    "    projector = v1v2 / np.linalg.norm(v1v2)\n",
    "    projectee = v1v0\n",
    "    t = np.dot(projectee, projector)\n",
    "    return v1 + t * projector\n",
    "\n",
    "def replace_vertex(face, v_old, v_new):\n",
    "    new_face = face.copy()\n",
    "    new_face[face==v_old] = v_new\n",
    "    return new_face\n",
    "\n",
    "\n",
    "#         v0 ---------- v2\n",
    "#        /        +     /\n",
    "#      /      vn       /\n",
    "#    /     +          /   \n",
    "#  v1 ---------------v3\n",
    "v_pairs = [[0,1],[1,2],[0,2]]\n",
    "def splitter(mesh, D, short_edge):\n",
    "\n",
    "    faces = np.asarray(mesh.faces)\n",
    "    edges_unique = np.asarray(mesh.edges_unique)\n",
    "    face_adjacency = np.asarray(mesh.face_adjacency)\n",
    "    face_angles = np.asarray(mesh.face_angles)\n",
    "    vertices = np.asarray(mesh.vertices)\n",
    "\n",
    "    f_is_del = np.zeros((mesh.faces.shape[0],), dtype=np.bool_) # f is deleted or not\n",
    "    f_is_fixed = np.zeros((mesh.faces.shape[0],), dtype=np.bool_)\n",
    "    f_to_add = np.asarray(mesh.faces) # all v indexs. Note that here it only adds points and dont remove any.\n",
    "    v_to_add = np.asarray(mesh.vertices) # positions\n",
    "    \n",
    "    v_count = mesh.vertices.shape[0]\n",
    "    face_count = faces.shape[0]\n",
    "    \n",
    "    for face_index in range(face_count):\n",
    "        face = faces[face_index]\n",
    "        if not f_is_fixed[face_index] and max(face_angles[face_index]) > D: # 2.1\n",
    "            \n",
    "            # get v0,v1,v2\n",
    "            v0 = face[np.argmax(face_angles[face_index])] # obtuse_vertex\n",
    "            v1, v2 = face[face!=v0] # v1,v2 are indexes.  \n",
    "            \n",
    "            # get indexs of adj faces\n",
    "            face_adj_index = get_adj_face(edges_unique, face_adjacency, v1, v2, face_index)\n",
    "            face_adj = faces[face_adj_index]\n",
    "\n",
    "            # TODO: use short_edge\n",
    "            \n",
    "            if face_angles[face_adj_index][np.where((face_adj!=v1)&(face_adj!=v2))] < D:\n",
    "                continue              \n",
    "\n",
    "            # add vertex vn\n",
    "            v_count += 1\n",
    "            v_new = cal_projection(*vertices[[v0, v1, v2]])\n",
    "            v_to_add = np.vstack((v_to_add, v_new))\n",
    "\n",
    "            # delete face\n",
    "            f_is_del[face_index]= True\n",
    "            f_is_del[face_adj_index]= True\n",
    "\n",
    "            # fix adj faces in this iteration\n",
    "            for i, j in v_pairs:\n",
    "                f_is_fixed[get_adj_face(edges_unique, face_adjacency, \n",
    "                                        face[i], face[j], \n",
    "                                        face_index)] = True\n",
    "                f_is_fixed[get_adj_face(edges_unique, face_adjacency, \n",
    "                                        face_adj[i], face_adj[j], \n",
    "                                        face_adj_index)] = True\n",
    "\n",
    "            # # add faces\n",
    "            vn = v_count - 1\n",
    "            f_to_add = np.vstack((f_to_add, replace_vertex(face, v1, vn)))\n",
    "            f_to_add = np.vstack((f_to_add, replace_vertex(face, v2, vn))) # the order matters! if go v0v2vn, not work\n",
    "            f_to_add = np.vstack((f_to_add, replace_vertex(face_adj, v1, vn))) # why\n",
    "            f_to_add = np.vstack((f_to_add, replace_vertex(face_adj, v2, vn)))                \n",
    "            f_is_del = np.hstack((f_is_del, [False,False,False,False]))\n",
    "\n",
    "    faces_new = f_to_add[~f_is_del]\n",
    "    v_add = v_count - mesh.vertices.shape[0]\n",
    "\n",
    "    mesh.vertices = v_to_add\n",
    "    mesh.faces = faces_new\n",
    "\n",
    "    assert mesh.is_watertight\n",
    "\n",
    "    return v_add != 0, v_add\n"
   ]
  },
  {
   "attachments": {},
   "cell_type": "markdown",
   "metadata": {},
   "source": [
    "### Fix skeleton vertices"
   ]
  },
  {
   "cell_type": "code",
   "execution_count": 251,
   "metadata": {},
   "outputs": [],
   "source": [
    "def detect_skeleton_vertices(mesh, T, is_fixed):\n",
    "    T = T / 10\n",
    "    vertices = np.asarray(mesh.vertices)\n",
    "    neighbours = mesh.vertex_neighbors\n",
    "\n",
    "    for v in range(vertices.shape[0]):\n",
    "        if is_fixed[v]:\n",
    "            continue\n",
    "        badCounter = 0\n",
    "        for nv in neighbours[v]:\n",
    "            el = np.linalg.norm(vertices[v] - vertices[nv])\n",
    "            if el < T and not can_be_collapsed(mesh, v, nv):\n",
    "                badCounter += 1\n",
    "        if badCounter >= 2:\n",
    "            is_fixed[v] = True\n",
    "    \n",
    "    return is_fixed"
   ]
  },
  {
   "attachments": {},
   "cell_type": "markdown",
   "metadata": {},
   "source": [
    "TEST"
   ]
  },
  {
   "cell_type": "code",
   "execution_count": 252,
   "metadata": {},
   "outputs": [],
   "source": [
    "def construct_Laplace_Beltrami_matrix(mesh):\n",
    "    \"\"\"\n",
    "    Compute the matrix of un-uniform Laplace-Beltrami operator for a mesh.\n",
    "\n",
    "    Args:\n",
    "        mesh:       Trimesh, the data of mesh loaded by Trimesh.\n",
    "    \n",
    "    Returns:\n",
    "        csr_L:      scipy.sparse.csr_matrix, \n",
    "                    the sparse representation of the un-uniform Laplace-Beltrami matrix \n",
    "    \"\"\"\n",
    "\n",
    "    # To contruct csr_matrix\n",
    "    data = []\n",
    "    indices = []\n",
    "    indptr = [0]\n",
    "\n",
    "    vertices = mesh.vertices\n",
    "    neighbours = mesh.vertex_neighbors\n",
    "    for i, n in enumerate(neighbours):\n",
    "        n_cnt = len(n)\n",
    "        rdata = np.ones((n_cnt + 1,))\n",
    "        rdata[n_cnt] = -n_cnt\n",
    "        rindices = np.zeros((n_cnt + 1,))\n",
    "        rindices[:n_cnt] = np.array(n)\n",
    "        rindices[n_cnt] = i\n",
    "        ri = np.argsort(rindices)\n",
    "        data.extend(rdata[ri].tolist())\n",
    "        indices.extend(rindices[ri].tolist())\n",
    "        indptr.append(indptr[-1] + n_cnt + 1)\n",
    "        \n",
    "    csr_L = csr_matrix((data, indices, indptr), shape=(vertices.shape[0], vertices.shape[0]), dtype=np.float32)\n",
    "\n",
    "    return csr_L\n",
    "\n",
    "def mesh_reconstruction(mesh, k):\n",
    "\n",
    "    # Compute sparse Laplace-Beltrami matrix\n",
    "    csr_L = construct_Laplace_Beltrami_matrix(mesh)\n",
    "\n",
    "    # Compute the k-smallest eigenvalues and their eigenvectors\n",
    "    w, v = eigs(csr_L, k=k, which='SM')\n",
    "    w = w.real\n",
    "    v = v.real\n",
    "\n",
    "    # Copy the origin mesh\n",
    "    smooth_mesh = mesh.copy()\n",
    "\n",
    "    # Get the vertices corrdinates\n",
    "    vertices = np.asarray(smooth_mesh.vertices)\n",
    "\n",
    "    # To store the corrdinates after reconstruction\n",
    "    smooth_vertices = np.zeros(vertices.shape)\n",
    "\n",
    "    # Reconstrction\n",
    "    ef = vertices.T @ v\n",
    "    for ch in range(3):\n",
    "        smooth_vertices[:, ch] = np.sum(np.tile(ef[ch], (vertices.shape[0], 1)) * v, axis=1)\n",
    "    smooth_mesh.vertices = smooth_vertices\n",
    "    \n",
    "    return smooth_mesh"
   ]
  },
  {
   "attachments": {},
   "cell_type": "markdown",
   "metadata": {},
   "source": [
    "### Iteration"
   ]
  },
  {
   "cell_type": "code",
   "execution_count": 37,
   "metadata": {},
   "outputs": [
    {
     "name": "stdout",
     "output_type": "stream",
     "text": [
      "Calculating Voronoi Diagram.\n",
      "Calculating the Voronoi Pole for each vertex.\n"
     ]
    },
    {
     "name": "stderr",
     "output_type": "stream",
     "text": [
      "100%|██████████| 25193/25193 [00:00<00:00, 27886.68it/s]\n"
     ]
    }
   ],
   "source": [
    "mesh = read_mesh_trimesh('armadillo.obj')\n",
    "voronoi_poles = calculate_voronoi_poles(mesh)\n",
    "vp_cloud = trimesh.Trimesh(vertices=voronoi_poles)\n",
    "mesh.vertices = voronoi_poles\n",
    "write_mesh_o3d('../models/result/vpcloud.obj', mesh.as_open3d)"
   ]
  },
  {
   "cell_type": "code",
   "execution_count": 258,
   "metadata": {},
   "outputs": [],
   "source": [
    "def collapse_Edges(mesh, T, voronoi_poles, WL, WH, WM, is_fixed):\n",
    "    can_collapse = True\n",
    "    n_collapsed = 0\n",
    "    while can_collapse:\n",
    "        collapsed = collapser(mesh, T, is_fixed)\n",
    "        can_collapse = len(collapsed) != 0\n",
    "        if can_collapse:\n",
    "            voronoi_poles = np.delete(voronoi_poles, collapsed, axis=0)\n",
    "            WL = np.delete(WL, collapsed, axis=0)\n",
    "            WH = np.delete(WH, collapsed, axis=0)\n",
    "            WM = np.delete(WM, collapsed, axis=0)\n",
    "            is_fixed = np.delete(is_fixed, collapsed, axis=0)\n",
    "        n_collapsed += len(collapsed)\n",
    "    print(n_collapsed, \"vertices collapsed.\")\n",
    "    assert mesh.is_watertight\n",
    "    return voronoi_poles, WL, WH, WM, is_fixed\n",
    "\n",
    "def split_Faces(mesh, D):\n",
    "    n_added = 0\n",
    "    can_split = True\n",
    "    while can_split:\n",
    "        can_split, v_count = splitter(mesh, D, 0)\n",
    "        n_added += v_count\n",
    "    print(n_added, \"vertices added.\")\n",
    "    return n_added"
   ]
  },
  {
   "cell_type": "code",
   "execution_count": 289,
   "metadata": {},
   "outputs": [
    {
     "name": "stdout",
     "output_type": "stream",
     "text": [
      "Calculating Voronoi Diagram.\n",
      "Calculating the Voronoi Pole for each vertex.\n"
     ]
    },
    {
     "name": "stderr",
     "output_type": "stream",
     "text": [
      "100%|██████████| 25193/25193 [00:01<00:00, 13266.15it/s]\n"
     ]
    },
    {
     "name": "stdout",
     "output_type": "stream",
     "text": [
      "Constructing Laplace Matrix.\n"
     ]
    },
    {
     "name": "stderr",
     "output_type": "stream",
     "text": [
      "100%|██████████| 50382/50382 [00:00<00:00, 59948.94it/s]\n"
     ]
    },
    {
     "name": "stdout",
     "output_type": "stream",
     "text": [
      "(25193, 3) (25193, 3) (25193,)\n"
     ]
    },
    {
     "ename": "KeyboardInterrupt",
     "evalue": "",
     "output_type": "error",
     "traceback": [
      "\u001b[0;31m---------------------------------------------------------------------------\u001b[0m",
      "\u001b[0;31mKeyboardInterrupt\u001b[0m                         Traceback (most recent call last)",
      "Cell \u001b[0;32mIn[289], line 41\u001b[0m\n\u001b[1;32m     37\u001b[0m write_trimesh_with_color(mesh, \u001b[39m'\u001b[39m\u001b[39m../models/result/middle_\u001b[39m\u001b[39m'\u001b[39m \u001b[39m+\u001b[39m new_mesh, v_color)\n\u001b[1;32m     39\u001b[0m \u001b[39mprint\u001b[39m(mesh\u001b[39m.\u001b[39mvertices\u001b[39m.\u001b[39mshape, voronoi_poles\u001b[39m.\u001b[39mshape, WL\u001b[39m.\u001b[39mshape)\n\u001b[0;32m---> 41\u001b[0m voronoi_poles, WL, WH, WM, is_fixed \u001b[39m=\u001b[39m collapse_Edges(mesh, \u001b[39m5e-3\u001b[39;49m, voronoi_poles, WL, WH, WM, is_fixed)\n\u001b[1;32m     43\u001b[0m \u001b[39mprint\u001b[39m(mesh\u001b[39m.\u001b[39mvertices\u001b[39m.\u001b[39mshape, voronoi_poles\u001b[39m.\u001b[39mshape, WL\u001b[39m.\u001b[39mshape)\n\u001b[1;32m     45\u001b[0m n_added \u001b[39m=\u001b[39m split_Faces(mesh, (\u001b[39m110\u001b[39m\u001b[39m/\u001b[39m\u001b[39m180\u001b[39m)\u001b[39m*\u001b[39mnp\u001b[39m.\u001b[39mpi)\n",
      "Cell \u001b[0;32mIn[258], line 5\u001b[0m, in \u001b[0;36mcollapse_Edges\u001b[0;34m(mesh, T, voronoi_poles, WL, WH, WM, is_fixed)\u001b[0m\n\u001b[1;32m      3\u001b[0m n_collapsed \u001b[39m=\u001b[39m \u001b[39m0\u001b[39m\n\u001b[1;32m      4\u001b[0m \u001b[39mwhile\u001b[39;00m can_collapse:\n\u001b[0;32m----> 5\u001b[0m     collapsed \u001b[39m=\u001b[39m collapser(mesh, T, is_fixed)\n\u001b[1;32m      6\u001b[0m     can_collapse \u001b[39m=\u001b[39m \u001b[39mlen\u001b[39m(collapsed) \u001b[39m!=\u001b[39m \u001b[39m0\u001b[39m\n\u001b[1;32m      7\u001b[0m     \u001b[39mif\u001b[39;00m can_collapse:\n",
      "Cell \u001b[0;32mIn[249], line 29\u001b[0m, in \u001b[0;36mcollapser\u001b[0;34m(mesh, T, is_fixed)\u001b[0m\n\u001b[1;32m     26\u001b[0m v0, v1 \u001b[39m=\u001b[39m edge\n\u001b[1;32m     28\u001b[0m \u001b[39m# check can be collapsed\u001b[39;00m\n\u001b[0;32m---> 29\u001b[0m \u001b[39mif\u001b[39;00m ignore[v0] \u001b[39mor\u001b[39;00m ignore[v1] \u001b[39mor\u001b[39;00m is_fixed[v0] \u001b[39mor\u001b[39;00m is_fixed[v1] \u001b[39mor\u001b[39;00m \u001b[39mnot\u001b[39;00m can_be_collapsed(mesh, v0, v1):\n\u001b[1;32m     30\u001b[0m     \u001b[39mcontinue\u001b[39;00m\n\u001b[1;32m     32\u001b[0m \u001b[39m# reset v0\u001b[39;00m\n",
      "Cell \u001b[0;32mIn[249], line 2\u001b[0m, in \u001b[0;36mcan_be_collapsed\u001b[0;34m(mesh, v0, v1)\u001b[0m\n\u001b[1;32m      1\u001b[0m \u001b[39mdef\u001b[39;00m \u001b[39mcan_be_collapsed\u001b[39m(mesh, v0, v1):\n\u001b[0;32m----> 2\u001b[0m     n0 \u001b[39m=\u001b[39m mesh\u001b[39m.\u001b[39;49mvertex_neighbors[v0]\n\u001b[1;32m      3\u001b[0m     n1 \u001b[39m=\u001b[39m mesh\u001b[39m.\u001b[39mvertex_neighbors[v1]\n\u001b[1;32m      4\u001b[0m     \u001b[39mreturn\u001b[39;00m np\u001b[39m.\u001b[39mintersect1d(n0, n1)\u001b[39m.\u001b[39mshape[\u001b[39m0\u001b[39m] \u001b[39m==\u001b[39m \u001b[39m2\u001b[39m\n",
      "File \u001b[0;32m~/opt/anaconda3/envs/rosetta/lib/python3.9/site-packages/trimesh/caching.py:139\u001b[0m, in \u001b[0;36mcache_decorator.<locals>.get_cached\u001b[0;34m(*args, **kwargs)\u001b[0m\n\u001b[1;32m    137\u001b[0m     \u001b[39mreturn\u001b[39;00m \u001b[39mself\u001b[39m\u001b[39m.\u001b[39m_cache\u001b[39m.\u001b[39mcache[name]\n\u001b[1;32m    138\u001b[0m \u001b[39m# value not in cache so execute the function\u001b[39;00m\n\u001b[0;32m--> 139\u001b[0m value \u001b[39m=\u001b[39m function(\u001b[39m*\u001b[39;49margs, \u001b[39m*\u001b[39;49m\u001b[39m*\u001b[39;49mkwargs)\n\u001b[1;32m    140\u001b[0m \u001b[39m# store the value\u001b[39;00m\n\u001b[1;32m    141\u001b[0m \u001b[39mif\u001b[39;00m \u001b[39mself\u001b[39m\u001b[39m.\u001b[39m_cache\u001b[39m.\u001b[39mforce_immutable \u001b[39mand\u001b[39;00m \u001b[39mhasattr\u001b[39m(\n\u001b[1;32m    142\u001b[0m         value, \u001b[39m'\u001b[39m\u001b[39mflags\u001b[39m\u001b[39m'\u001b[39m) \u001b[39mand\u001b[39;00m \u001b[39mlen\u001b[39m(value\u001b[39m.\u001b[39mshape) \u001b[39m>\u001b[39m \u001b[39m0\u001b[39m:\n",
      "File \u001b[0;32m~/opt/anaconda3/envs/rosetta/lib/python3.9/site-packages/trimesh/base.py:1507\u001b[0m, in \u001b[0;36mTrimesh.vertex_neighbors\u001b[0;34m(self)\u001b[0m\n\u001b[1;32m   1486\u001b[0m \u001b[39m@caching\u001b[39m\u001b[39m.\u001b[39mcache_decorator\n\u001b[1;32m   1487\u001b[0m \u001b[39mdef\u001b[39;00m \u001b[39mvertex_neighbors\u001b[39m(\u001b[39mself\u001b[39m):\n\u001b[1;32m   1488\u001b[0m \u001b[39m    \u001b[39m\u001b[39m\"\"\"\u001b[39;00m\n\u001b[1;32m   1489\u001b[0m \u001b[39m    The vertex neighbors of each vertex of the mesh, determined from\u001b[39;00m\n\u001b[1;32m   1490\u001b[0m \u001b[39m    the cached vertex_adjacency_graph, if already existent.\u001b[39;00m\n\u001b[0;32m   (...)\u001b[0m\n\u001b[1;32m   1505\u001b[0m \u001b[39m    [1, 2, 3, 4]\u001b[39;00m\n\u001b[1;32m   1506\u001b[0m \u001b[39m    \"\"\"\u001b[39;00m\n\u001b[0;32m-> 1507\u001b[0m     \u001b[39mreturn\u001b[39;00m graph\u001b[39m.\u001b[39;49mneighbors(\n\u001b[1;32m   1508\u001b[0m         edges\u001b[39m=\u001b[39;49m\u001b[39mself\u001b[39;49m\u001b[39m.\u001b[39;49medges_unique,\n\u001b[1;32m   1509\u001b[0m         max_index\u001b[39m=\u001b[39;49m\u001b[39mlen\u001b[39;49m(\u001b[39mself\u001b[39;49m\u001b[39m.\u001b[39;49mvertices))\n",
      "File \u001b[0;32m~/opt/anaconda3/envs/rosetta/lib/python3.9/site-packages/trimesh/graph.py:766\u001b[0m, in \u001b[0;36mneighbors\u001b[0;34m(edges, max_index, directed)\u001b[0m\n\u001b[1;32m    763\u001b[0m     [neighbors[edge[\u001b[39m0\u001b[39m]]\u001b[39m.\u001b[39madd(edge[\u001b[39m1\u001b[39m])\n\u001b[1;32m    764\u001b[0m      \u001b[39mfor\u001b[39;00m edge \u001b[39min\u001b[39;00m edges]\n\u001b[1;32m    765\u001b[0m \u001b[39melse\u001b[39;00m:\n\u001b[0;32m--> 766\u001b[0m     [(neighbors[edge[\u001b[39m0\u001b[39m]]\u001b[39m.\u001b[39madd(edge[\u001b[39m1\u001b[39m]),\n\u001b[1;32m    767\u001b[0m       neighbors[edge[\u001b[39m1\u001b[39m]]\u001b[39m.\u001b[39madd(edge[\u001b[39m0\u001b[39m]))\n\u001b[1;32m    768\u001b[0m      \u001b[39mfor\u001b[39;00m edge \u001b[39min\u001b[39;00m edges]\n\u001b[1;32m    770\u001b[0m \u001b[39mif\u001b[39;00m max_index \u001b[39mis\u001b[39;00m \u001b[39mNone\u001b[39;00m:\n\u001b[1;32m    771\u001b[0m     max_index \u001b[39m=\u001b[39m edges\u001b[39m.\u001b[39mmax() \u001b[39m+\u001b[39m \u001b[39m1\u001b[39m\n",
      "File \u001b[0;32m~/opt/anaconda3/envs/rosetta/lib/python3.9/site-packages/trimesh/graph.py:766\u001b[0m, in \u001b[0;36m<listcomp>\u001b[0;34m(.0)\u001b[0m\n\u001b[1;32m    763\u001b[0m     [neighbors[edge[\u001b[39m0\u001b[39m]]\u001b[39m.\u001b[39madd(edge[\u001b[39m1\u001b[39m])\n\u001b[1;32m    764\u001b[0m      \u001b[39mfor\u001b[39;00m edge \u001b[39min\u001b[39;00m edges]\n\u001b[1;32m    765\u001b[0m \u001b[39melse\u001b[39;00m:\n\u001b[0;32m--> 766\u001b[0m     [(neighbors[edge[\u001b[39m0\u001b[39;49m]]\u001b[39m.\u001b[39;49madd(edge[\u001b[39m1\u001b[39;49m]),\n\u001b[1;32m    767\u001b[0m       neighbors[edge[\u001b[39m1\u001b[39m]]\u001b[39m.\u001b[39madd(edge[\u001b[39m0\u001b[39m]))\n\u001b[1;32m    768\u001b[0m      \u001b[39mfor\u001b[39;00m edge \u001b[39min\u001b[39;00m edges]\n\u001b[1;32m    770\u001b[0m \u001b[39mif\u001b[39;00m max_index \u001b[39mis\u001b[39;00m \u001b[39mNone\u001b[39;00m:\n\u001b[1;32m    771\u001b[0m     max_index \u001b[39m=\u001b[39m edges\u001b[39m.\u001b[39mmax() \u001b[39m+\u001b[39m \u001b[39m1\u001b[39m\n",
      "\u001b[0;31mKeyboardInterrupt\u001b[0m: "
     ]
    }
   ],
   "source": [
    "it = 5\n",
    "wL = 1\n",
    "wH = 0.1\n",
    "wM = 0.1\n",
    "\n",
    "new_mesh = 'armadillo_0.obj'\n",
    "mesh = read_mesh_trimesh('armadillo.obj')\n",
    "#mesh = mesh_reconstruction(mesh, 200)\n",
    "#write_mesh_o3d('../models/result/rec' + new_mesh, mesh.as_open3d)\n",
    "voronoi_poles = calculate_voronoi_poles(mesh)\n",
    "\n",
    "WL = np.ones((mesh.vertices.shape[0])) * wL\n",
    "WH = np.ones((mesh.vertices.shape[0])) * wH\n",
    "WM = np.ones((mesh.vertices.shape[0])) * wM\n",
    "\n",
    "is_fixed = np.zeros((mesh.vertices.shape[0]), dtype=bool)\n",
    "\n",
    "for i in range(it):\n",
    "    \n",
    "    laplace_csr = trimesh_Generate_Laplace_matrix(mesh)\n",
    "    #laplace_csr = construct_uniform_Laplace_matrix(mesh)\n",
    "\n",
    "    vertices = get_vertices_from_trimesh(mesh)\n",
    "    A, b = construct_Equation(diags(WL), diags(WH), diags(WM), vertices, laplace_csr, voronoi_poles)\n",
    "\n",
    "    new_vertices0 = lsqr(A, b[:, 0])\n",
    "    new_vertices1 = lsqr(A, b[:, 1])\n",
    "    new_vertices2 = lsqr(A, b[:, 2])\n",
    "\n",
    "    new_vertices = np.zeros(vertices.shape)\n",
    "    new_vertices[:, 0] = new_vertices0[0]\n",
    "    new_vertices[:, 1] = new_vertices1[0]\n",
    "    new_vertices[:, 2] = new_vertices2[0]\n",
    "\n",
    "    mesh.vertices = new_vertices\n",
    "\n",
    "    write_trimesh_with_color(mesh, '../models/result/middle_' + new_mesh, v_color)\n",
    "\n",
    "    print(mesh.vertices.shape, voronoi_poles.shape, WL.shape)\n",
    "\n",
    "    voronoi_poles, WL, WH, WM, is_fixed = collapse_Edges(mesh, 5e-3, voronoi_poles, WL, WH, WM, is_fixed)\n",
    "\n",
    "    print(mesh.vertices.shape, voronoi_poles.shape, WL.shape)\n",
    "\n",
    "    n_added = split_Faces(mesh, (110/180)*np.pi)\n",
    "    voronoi_poles = np.vstack((voronoi_poles, np.zeros((n_added, 3))))\n",
    "    WL = np.hstack((WL, np.ones((n_added,)) * wL))\n",
    "    WH = np.hstack((WH, np.ones((n_added,)) * wH))\n",
    "    WM = np.hstack((WM, np.zeros((n_added,))))\n",
    "    is_fixed = np.hstack((is_fixed, np.zeros((n_added,), dtype=bool)))\n",
    "\n",
    "    is_fixed = detect_skeleton_vertices(mesh, 5e-3, is_fixed)\n",
    "    WL[is_fixed] = 0\n",
    "    WH[is_fixed] = 1e9\n",
    "    WM[is_fixed] = 0\n",
    "\n",
    "    print(mesh.vertices.shape, voronoi_poles.shape, WL.shape)\n",
    "    \n",
    "    v_color = np.ones_like(mesh.vertices)\n",
    "    v_color[is_fixed] = np.array([1., 0., 0.])\n",
    "    print((is_fixed==True).shape)\n",
    "    write_trimesh_with_color(mesh, '../models/result/' + new_mesh, v_color)\n",
    "    mesh = read_mesh_trimesh('result/' + new_mesh)\n",
    "    new_mesh = 'armadillo_%d.obj' % (i + 1)"
   ]
  },
  {
   "attachments": {},
   "cell_type": "markdown",
   "metadata": {},
   "source": [
    "# Testing Blocks"
   ]
  },
  {
   "cell_type": "code",
   "execution_count": 176,
   "metadata": {},
   "outputs": [],
   "source": [
    "mesh = read_mesh_trimesh('armadillo.obj')"
   ]
  },
  {
   "cell_type": "code",
   "execution_count": 178,
   "metadata": {},
   "outputs": [
    {
     "name": "stdout",
     "output_type": "stream",
     "text": [
      "Calculating Voronoi Diagram.\n",
      "Calculating the Voronoi Pole for each vertex.\n"
     ]
    },
    {
     "name": "stderr",
     "output_type": "stream",
     "text": [
      "100%|██████████| 25193/25193 [00:01<00:00, 13358.45it/s]\n"
     ]
    }
   ],
   "source": [
    "voronoi_poles = calculate_voronoi_poles(mesh)"
   ]
  },
  {
   "cell_type": "code",
   "execution_count": 177,
   "metadata": {},
   "outputs": [
    {
     "name": "stdout",
     "output_type": "stream",
     "text": [
      "Constructing Laplace Matrix.\n"
     ]
    },
    {
     "name": "stderr",
     "output_type": "stream",
     "text": [
      "100%|██████████| 50382/50382 [00:00<00:00, 59028.61it/s]\n"
     ]
    }
   ],
   "source": [
    "laplace_csr = trimesh_Generate_Laplace_matrix(mesh)"
   ]
  },
  {
   "cell_type": "code",
   "execution_count": 163,
   "metadata": {},
   "outputs": [],
   "source": [
    "laplace = laplace_csr.toarray()"
   ]
  },
  {
   "cell_type": "code",
   "execution_count": 164,
   "metadata": {},
   "outputs": [
    {
     "name": "stdout",
     "output_type": "stream",
     "text": [
      "0.6261663245916762\n"
     ]
    }
   ],
   "source": [
    "non0idx = np.where(laplace>EPS)\n",
    "laplace_non0 = laplace[non0idx]\n",
    "print(np.mean(laplace[non0idx]))"
   ]
  },
  {
   "cell_type": "code",
   "execution_count": 155,
   "metadata": {},
   "outputs": [],
   "source": [
    "areas = trimesh_Generate_Area_List(mesh)"
   ]
  },
  {
   "cell_type": "code",
   "execution_count": 156,
   "metadata": {},
   "outputs": [
    {
     "name": "stdout",
     "output_type": "stream",
     "text": [
      "0.9999999999999997\n"
     ]
    }
   ],
   "source": [
    "print(np.mean(areas))"
   ]
  },
  {
   "cell_type": "code",
   "execution_count": 152,
   "metadata": {},
   "outputs": [
    {
     "name": "stdout",
     "output_type": "stream",
     "text": [
      "0.011086547901621214\n"
     ]
    }
   ],
   "source": [
    "vertices = get_vertices_from_trimesh(mesh)\n",
    "edges = np.asarray(mesh.edges_unique)\n",
    "sumlen = 0\n",
    "for e in edges:\n",
    "    v0, v1 = vertices[e]\n",
    "    sumlen += np.linalg.norm(v0 - v1)\n",
    "print(sumlen/edges.shape[0])"
   ]
  },
  {
   "cell_type": "code",
   "execution_count": 182,
   "metadata": {},
   "outputs": [
    {
     "name": "stdout",
     "output_type": "stream",
     "text": [
      "Calculating Voronoi Diagram.\n",
      "Calculating the Voronoi Pole for each vertex.\n"
     ]
    },
    {
     "name": "stderr",
     "output_type": "stream",
     "text": [
      "100%|██████████| 25193/25193 [00:01<00:00, 13350.63it/s]\n"
     ]
    },
    {
     "name": "stdout",
     "output_type": "stream",
     "text": [
      "Constructing Laplace Matrix.\n"
     ]
    },
    {
     "name": "stderr",
     "output_type": "stream",
     "text": [
      "100%|██████████| 50382/50382 [00:00<00:00, 61910.31it/s]\n"
     ]
    }
   ],
   "source": [
    "mesh = read_mesh_trimesh('armadillo.obj')\n",
    "voronoi_poles = calculate_voronoi_poles(mesh)\n",
    "laplace_csr = trimesh_Generate_Laplace_matrix(mesh)\n",
    "wL = 1\n",
    "wH = 0.1\n",
    "wM = 0.2\n",
    "vertices = get_vertices_from_trimesh(mesh)\n",
    "A, b = construct_Equation(wL, wH, wM, vertices, laplace_csr, voronoi_poles)\n",
    "\n",
    "new_vertices0 = lsqr(A, b[:, 0])\n",
    "new_vertices1 = lsqr(A, b[:, 1])\n",
    "new_vertices2 = lsqr(A, b[:, 2])\n",
    "\n",
    "new_vertices = np.zeros(vertices.shape)\n",
    "new_vertices[:, 0] = new_vertices0[0]\n",
    "new_vertices[:, 1] = new_vertices1[0]\n",
    "new_vertices[:, 2] = new_vertices2[0]\n",
    "\n",
    "mesh.vertices = new_vertices\n",
    "write_mesh_o3d('../models/result/test.obj', mesh.as_open3d)"
   ]
  },
  {
   "cell_type": "code",
   "execution_count": 155,
   "metadata": {},
   "outputs": [],
   "source": [
    "name = 'result/armadillo_0.obj'\n",
    "mesh = read_mesh_trimesh(name)"
   ]
  },
  {
   "cell_type": "code",
   "execution_count": 156,
   "metadata": {},
   "outputs": [
    {
     "name": "stdout",
     "output_type": "stream",
     "text": [
      "(25193, 3)\n",
      "46\n",
      "True\n",
      "(25147, 3)\n"
     ]
    }
   ],
   "source": [
    "c_count = 0\n",
    "print(mesh.vertices.shape)\n",
    "while collapser(mesh, 5e-4):\n",
    "    c_count += 1\n",
    "print(c_count)\n",
    "print(mesh.is_watertight)\n",
    "print(mesh.vertices.shape)"
   ]
  },
  {
   "cell_type": "code",
   "execution_count": 149,
   "metadata": {},
   "outputs": [
    {
     "name": "stdout",
     "output_type": "stream",
     "text": [
      "(array([2]),)\n"
     ]
    }
   ],
   "source": [
    "a = np.array([1, 2, 3])\n",
    "print(np.where((a!=1)&(a!=2)))"
   ]
  },
  {
   "cell_type": "code",
   "execution_count": 160,
   "metadata": {},
   "outputs": [
    {
     "name": "stdout",
     "output_type": "stream",
     "text": [
      "54534\n",
      "0\n",
      "54534\n"
     ]
    }
   ],
   "source": [
    "print(mesh.faces.shape[0])\n",
    "v_count = splitter(mesh, (110/180)*np.pi, 0)\n",
    "print(v_count)\n",
    "print(mesh.faces.shape[0])"
   ]
  }
 ],
 "metadata": {
  "kernelspec": {
   "display_name": "rosetta",
   "language": "python",
   "name": "python3"
  },
  "language_info": {
   "codemirror_mode": {
    "name": "ipython",
    "version": 3
   },
   "file_extension": ".py",
   "mimetype": "text/x-python",
   "name": "python",
   "nbconvert_exporter": "python",
   "pygments_lexer": "ipython3",
   "version": "3.9.15"
  },
  "orig_nbformat": 4
 },
 "nbformat": 4,
 "nbformat_minor": 2
}
