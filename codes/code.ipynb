{
 "cells": [
  {
   "cell_type": "code",
   "execution_count": 1,
   "metadata": {},
   "outputs": [],
   "source": [
    "import sys, os, time\n",
    "\n",
    "import open3d as o3d\n",
    "import trimesh\n",
    "import openmesh as om\n",
    "\n",
    "import cv2\n",
    "\n",
    "import scipy as sp\n",
    "from scipy.sparse.linalg import eigs\n",
    "from scipy.sparse import csr_matrix, identity\n",
    "from scipy.sparse.linalg import spsolve\n",
    "\n",
    "import numpy as np\n",
    "\n",
    "import matplotlib.pyplot as plt\n",
    "\n",
    "from tqdm import tqdm\n",
    "\n",
    "%matplotlib inline"
   ]
  },
  {
   "cell_type": "code",
   "execution_count": 4,
   "metadata": {},
   "outputs": [],
   "source": [
    "def read_mesh_om(path_in_models):\n",
    "    return om.read_trimesh(os.path.join('..', 'models', path_in_models))\n",
    "def write_mesh_om(mesh, path_in_models):\n",
    "    om.write_mesh(os.path.join('..', 'models', path_in_models), mesh)\n"
   ]
  },
  {
   "cell_type": "code",
   "execution_count": 32,
   "metadata": {},
   "outputs": [],
   "source": [
    "mesh = read_mesh_om('cube.obj')"
   ]
  },
  {
   "cell_type": "code",
   "execution_count": 26,
   "metadata": {},
   "outputs": [],
   "source": [
    "write_mesh_om(mesh, 'test/cube-copy.obj')"
   ]
  },
  {
   "cell_type": "code",
   "execution_count": 24,
   "metadata": {},
   "outputs": [
    {
     "data": {
      "text/plain": [
       "True"
      ]
     },
     "execution_count": 24,
     "metadata": {},
     "output_type": "execute_result"
    }
   ],
   "source": [
    "mesh.has_vertex_colors()"
   ]
  },
  {
   "cell_type": "code",
   "execution_count": 33,
   "metadata": {},
   "outputs": [
    {
     "name": "stdout",
     "output_type": "stream",
     "text": [
      "<openmesh.VertexIter object at 0x1a74723b0>\n",
      "[-1. -1.  1.] <class 'numpy.ndarray'>\n",
      "[ 0.5 -0.5  0.5] <class 'numpy.ndarray'>\n",
      "[-0.5  0.5  0.5] <class 'numpy.ndarray'>\n",
      "[0.5 0.5 0.5] <class 'numpy.ndarray'>\n",
      "[-0.5  0.5 -0.5] <class 'numpy.ndarray'>\n",
      "[ 0.5  0.5 -0.5] <class 'numpy.ndarray'>\n",
      "[-0.5 -0.5 -0.5] <class 'numpy.ndarray'>\n",
      "[ 0.5 -0.5 -0.5] <class 'numpy.ndarray'>\n",
      "[1.         0.7137255  0.75686276 1.        ] <class 'numpy.ndarray'>\n",
      "[1.         0.7137255  0.75686276 1.        ] <class 'numpy.ndarray'>\n",
      "[1.         0.7137255  0.75686276 1.        ] <class 'numpy.ndarray'>\n",
      "[1.         0.7137255  0.75686276 1.        ] <class 'numpy.ndarray'>\n",
      "[1.         0.7137255  0.75686276 1.        ] <class 'numpy.ndarray'>\n",
      "[1.         0.7137255  0.75686276 1.        ] <class 'numpy.ndarray'>\n",
      "[1.         0.7137255  0.75686276 1.        ] <class 'numpy.ndarray'>\n",
      "[1.         0.7137255  0.75686276 1.        ] <class 'numpy.ndarray'>\n",
      "[1.         0.7137255  0.75686276 1.        ] <class 'numpy.ndarray'>\n",
      "[1.         0.7137255  0.75686276 1.        ] <class 'numpy.ndarray'>\n",
      "[1.         0.7137255  0.75686276 1.        ] <class 'numpy.ndarray'>\n",
      "[1.         0.7137255  0.75686276 1.        ] <class 'numpy.ndarray'>\n"
     ]
    }
   ],
   "source": [
    "print(mesh.vertices())\n",
    "set = False\n",
    "for v_it in mesh.vertices():\n",
    "    if not set:\n",
    "        mesh.set_point(v_it, np.array([-1, -1 , 1]))\n",
    "        set = True\n",
    "    print(mesh.point(v_it), type(mesh.point(v_it)))\n",
    "    mesh.set_color(v_it, np.array([255.,182.,193.,255.])/255.)\n",
    "\n",
    "for f_it in mesh.faces():\n",
    "    mesh.set_color(f_it, np.array([255.,182.,193.,255.])/255.)\n",
    "for c_it in mesh.face_colors():\n",
    "    print(c_it, type(c_it))\n",
    "write_mesh_om(mesh, 'test/cube-copy.obj')"
   ]
  }
 ],
 "metadata": {
  "kernelspec": {
   "display_name": "rosetta",
   "language": "python",
   "name": "python3"
  },
  "language_info": {
   "codemirror_mode": {
    "name": "ipython",
    "version": 3
   },
   "file_extension": ".py",
   "mimetype": "text/x-python",
   "name": "python",
   "nbconvert_exporter": "python",
   "pygments_lexer": "ipython3",
   "version": "3.9.15"
  },
  "orig_nbformat": 4
 },
 "nbformat": 4,
 "nbformat_minor": 2
}
