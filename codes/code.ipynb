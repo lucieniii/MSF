{
 "cells": [
  {
   "cell_type": "code",
   "execution_count": 2,
   "metadata": {},
   "outputs": [],
   "source": [
    "import sys, os, time\n",
    "\n",
    "import open3d as o3d\n",
    "import trimesh\n",
    "import openmesh as om\n",
    "\n",
    "import cv2\n",
    "\n",
    "import scipy as sp\n",
    "from scipy.sparse.linalg import eigs\n",
    "from scipy.sparse import csr_matrix, coo_matrix, identity, vstack\n",
    "from scipy.sparse.linalg import spsolve, lsqr\n",
    "from scipy.spatial import Delaunay, Voronoi\n",
    "\n",
    "import numpy as np\n",
    "\n",
    "import matplotlib.pyplot as plt\n",
    "\n",
    "from tqdm import tqdm\n",
    "\n",
    "%matplotlib inline"
   ]
  },
  {
   "cell_type": "code",
   "execution_count": 3,
   "metadata": {},
   "outputs": [],
   "source": [
    "# Tests of Openmesh\n",
    "# https://gitlab.vci.rwth-aachen.de:9000/OpenMesh/openmesh-python/tree/master/tests"
   ]
  },
  {
   "cell_type": "code",
   "execution_count": 4,
   "metadata": {},
   "outputs": [],
   "source": [
    "def read_mesh_om(path_in_models):\n",
    "    return om.read_trimesh(os.path.join('..', 'models', path_in_models))\n",
    "def write_mesh_om(mesh, path_in_models):\n",
    "    om.write_mesh(os.path.join('..', 'models', path_in_models), mesh, vertex_color=True)\n",
    "def show_mesh_o3d(plys):\n",
    "    o3d.visualization.draw_geometries(plys)\n",
    "def write_mesh_o3d(path, mesh):\n",
    "    o3d.io.write_triangle_mesh(path, mesh)\n",
    "def read_mesh_o3d(mesh_fp):\n",
    "    return o3d.io.read_triangle_mesh(mesh_fp)\n",
    "def read_mesh_trimesh(path_in_models):\n",
    "    return trimesh.load(os.path.join('..', 'models', path_in_models))\n",
    "def get_vertices_from_trimesh(mesh):\n",
    "    return np.asarray(mesh.vertices)\n",
    "def get_vertice_normals_from_trimesh(mesh):\n",
    "    return np.asarray(mesh.vertex_normals)"
   ]
  },
  {
   "attachments": {},
   "cell_type": "markdown",
   "metadata": {},
   "source": [
    "### Calculate Voronoi Poles"
   ]
  },
  {
   "cell_type": "code",
   "execution_count": 25,
   "metadata": {},
   "outputs": [],
   "source": [
    "INFINITY = 1e9\n",
    "EPS = 1e-9\n",
    "def calculate_voronoi_poles(mesh):\n",
    "    \n",
    "    vertices = get_vertices_from_trimesh(mesh)\n",
    "    vertice_normals = get_vertice_normals_from_trimesh(mesh)\n",
    "\n",
    "    print(\"Calculating Voronoi Diagram.\")\n",
    "    vor = Voronoi(vertices)\n",
    "    vor_centers = vor.vertices\n",
    "    cells = vor.regions\n",
    "    cell_indices = vor.point_region\n",
    "\n",
    "    vertices_total = vertices.shape[0]\n",
    "    voronoi_poles = np.zeros(vertices.shape)\n",
    "    print(\"Calculating the Voronoi Pole for each vertex.\")\n",
    "    for vi in tqdm(range(vertices_total)):\n",
    "        vor_cell = cells[cell_indices[vi]]\n",
    "        vertice = vertices[vi]\n",
    "        vertice_normal = vertice_normals[vi]\n",
    "        max_neg_proj = INFINITY\n",
    "        voronoi_pole = None\n",
    "        for vci in vor_cell:\n",
    "            vor_center = vor_centers[vci]\n",
    "            if vci == -1:\n",
    "                continue\n",
    "            proj = np.dot(vor_center - vertice, vertice_normal)\n",
    "            if proj < max_neg_proj:\n",
    "                max_neg_proj = proj\n",
    "                voronoi_pole = vor_center\n",
    "        voronoi_poles[vi] = voronoi_pole\n",
    "\n",
    "    return voronoi_poles"
   ]
  },
  {
   "attachments": {},
   "cell_type": "markdown",
   "metadata": {},
   "source": [
    "### Calculate Cotangent Laplace Operator"
   ]
  },
  {
   "cell_type": "code",
   "execution_count": 11,
   "metadata": {},
   "outputs": [],
   "source": [
    "def trimesh_Generate_Area_List(mesh):\n",
    "\n",
    "    area_list = np.zeros((len(mesh.vertices)))\n",
    "    face_count = mesh.faces.shape[0]\n",
    "    face_area = np.asarray(mesh.area_faces)\n",
    "    faces = np.asarray(mesh.faces)\n",
    "    for i in range(face_count):\n",
    "        area_list[faces[i]] += face_area[i] / 3\n",
    "    \n",
    "    area_list /= np.mean(area_list)\n",
    "    return area_list\n",
    "\n",
    "\n",
    "def trimesh_Generate_Laplace_matrix(mesh):\n",
    "    \n",
    "    print('Constructing Laplace Matrix.')\n",
    "    \n",
    "    vertices_face_indexs = [[0,1,2],[1,0,2],[2,0,1]] \n",
    "    laplace_dict = {}\n",
    "    area_list = trimesh_Generate_Area_List(mesh)\n",
    "    face_angles = np.asarray(mesh.face_angles)\n",
    "    faces = np.asarray(mesh.faces)\n",
    "    face_count = faces.shape[0]\n",
    "    \n",
    "    with tqdm(total=face_count) as tbar:\n",
    "        for face, angles in zip(faces, face_angles):\n",
    "            for i in range(3):\n",
    "                current_angle = angles[i]\n",
    "                v0_index, v1_index, v2_index = face[vertices_face_indexs[i]]\n",
    "                delta = 0.5 / area_list[v0_index] / np.tan(current_angle)\n",
    "                if delta > EPS:\n",
    "                    laplace_dict[(v1_index, v1_index)] = laplace_dict.get((v1_index, v1_index), 0) - delta\n",
    "                    laplace_dict[(v2_index, v2_index)] = laplace_dict.get((v2_index, v2_index), 0) - delta\n",
    "                    laplace_dict[(v1_index, v2_index)] = laplace_dict.get((v1_index, v2_index), 0) + delta\n",
    "                    laplace_dict[(v2_index, v1_index)] = laplace_dict.get((v2_index, v1_index), 0) + delta\n",
    "            tbar.update(1)\n",
    "\n",
    "    # Construct CSR Matrix\n",
    "    rows, cols = zip(*laplace_dict.keys())\n",
    "    values = list(laplace_dict.values())\n",
    "    coo = coo_matrix((values, (rows, cols)), shape=(len(mesh.vertices), len(mesh.vertices)))\n",
    "    csr = coo.tocsr()\n",
    "\n",
    "    return csr"
   ]
  },
  {
   "attachments": {},
   "cell_type": "markdown",
   "metadata": {},
   "source": [
    "### Solve Equation"
   ]
  },
  {
   "cell_type": "code",
   "execution_count": 7,
   "metadata": {},
   "outputs": [],
   "source": [
    "def construct_Equation(wL, wH, wM, vertices, L, voronoi_poles):\n",
    "    vn = vertices.shape[0]\n",
    "    WH_L = wH * identity(vn)\n",
    "    WM_L = wM * identity(vn)\n",
    "    A = vstack((wL * L, WH_L, WM_L))\n",
    "    b = np.vstack((np.zeros((vn, 3)), wH * vertices, wM * voronoi_poles))\n",
    "    return A, b"
   ]
  },
  {
   "attachments": {},
   "cell_type": "markdown",
   "metadata": {},
   "source": [
    "### Collapse Edges"
   ]
  },
  {
   "cell_type": "code",
   "execution_count": null,
   "metadata": {},
   "outputs": [],
   "source": [
    "def can_be_collapsed(mesh, v0, v1):\n",
    "    n0 = mesh.vertex_neighbors[v0]\n",
    "    n1 = mesh.vertex_neighbors[v1]\n",
    "    return np.intersect1d(n0, n1).shape[0] == 2\n",
    "\n",
    "def collapser(mesh, T):\n",
    "    \n",
    "    faces = np.asarray(mesh.faces)\n",
    "\n",
    "    edges_length = np.asarray(mesh.edges_unique_length)\n",
    "    short_idx = edges_length < T\n",
    "    edges_unique = np.asarray(mesh.edges_unique)[short_idx]\n",
    "    face_adjacency = np.asarray(mesh.face_adjacency)[short_idx]\n",
    "    edges_length = edges_length[short_idx]\n",
    "\n",
    "    f_is_del = np.ones((mesh.faces.shape[0],), dtype=np.bool_)\n",
    "\n",
    "    c_count = 0\n",
    "\n",
    "    for edge, adj_faces in zip(edges_unique, face_adjacency):\n",
    "        v0, v1 = edge\n",
    "\n",
    "        # check can be collapsed\n",
    "        if not can_be_collapsed(mesh, v0, v1):\n",
    "            continue\n",
    "\n",
    "        # reset v0\n",
    "        mesh.vertices[v0] = 0.5 * (mesh.vertices[v0] + mesh.vertices[v1])\n",
    "\n",
    "        # delete adj faces\n",
    "        f0, f1 = adj_faces\n",
    "        f_is_del[f0] = False\n",
    "        f_is_del[f1] = False\n",
    "\n",
    "        # change v1 -> v0\n",
    "        faces[faces==v1] = v0\n",
    "\n",
    "        c_count += 1\n",
    "\n",
    "        mesh.faces = faces[f_is_del]\n",
    "        mesh.remove_unreferenced_vertices()\n",
    "\n",
    "        return True\n",
    "    \n",
    "    return False"
   ]
  },
  {
   "attachments": {},
   "cell_type": "markdown",
   "metadata": {},
   "source": [
    "### Split Faces"
   ]
  },
  {
   "cell_type": "code",
   "execution_count": 106,
   "metadata": {},
   "outputs": [],
   "source": [
    "def get_adj_face(edges_unique, face_adjacency, v1, v2, face_index):\n",
    "    if v1 > v2:\n",
    "        v1, v2 = v2, v1\n",
    "    e = np.where((edges_unique[:, 0]==v1)&(edges_unique[:, 1]==v2))\n",
    "    faces = face_adjacency[e[0]].flatten()\n",
    "    return faces[faces!=face_index].item()\n",
    "\n",
    "# v1v0 onto v1v2\n",
    "def cal_projection(v0, v1, v2):\n",
    "    v1v2 = v2 - v1\n",
    "    v1v0 = v0 - v1\n",
    "    projector = v1v2 / np.linalg.norm(v1v2)\n",
    "    projectee = v1v0\n",
    "    t = np.dot(projectee, projector)\n",
    "    return v1 + t * projector\n",
    "\n",
    "def replace_vertex(face, v_old, v_new):\n",
    "    new_face = face.copy()\n",
    "    new_face[face==v_old] = v_new\n",
    "    return new_face\n",
    "\n",
    "\n",
    "#         v0 ---------- v2\n",
    "#        /        +     /\n",
    "#      /      vn       /\n",
    "#    /     +          /   \n",
    "#  v1 ---------------v3\n",
    "v_pairs = [[0,1],[1,2],[0,2]]\n",
    "def splitter(mesh, D):\n",
    "\n",
    "    faces = np.asarray(mesh.faces)\n",
    "    edges_unique = np.asarray(mesh.edges_unique)\n",
    "    face_adjacency = np.asarray(mesh.face_adjacency)\n",
    "    face_angles = np.asarray(mesh.face_angles)\n",
    "    vertices = np.asarray(mesh.vertices)\n",
    "\n",
    "    f_is_del = np.zeros((mesh.faces.shape[0],), dtype=np.bool_) # f is deleted or not\n",
    "    f_is_fixed = np.zeros((mesh.faces.shape[0],), dtype=np.bool_)\n",
    "    f_to_add = np.asarray(mesh.faces) # all v indexs. Note that here it only adds points and dont remove any.\n",
    "    v_to_add = np.asarray(mesh.vertices) # positions\n",
    "    \n",
    "    v_count = mesh.vertices.shape[0]\n",
    "    face_count = faces.shape[0]\n",
    "    \n",
    "    for face_index in range(face_count):\n",
    "        face = faces[face_index]\n",
    "        if not f_is_fixed[face_index] and max(face_angles[face_index]) > D: # 2.1\n",
    "            \n",
    "            # get v0,v1,v2\n",
    "            v0 = face[np.argmax(face_angles[face_index])] # obtuse_vertex\n",
    "            v1, v2 = face[face!=v0] # v1,v2 are indexes.                \n",
    "\n",
    "            # add vertex vn\n",
    "            v_count += 1\n",
    "            \n",
    "            v_new = cal_projection(*vertices[[v0, v1, v2]])\n",
    "            v_to_add = np.vstack((v_to_add, v_new))\n",
    "\n",
    "            # get indexs of faces to be deleted\n",
    "            face_adj_index = get_adj_face(edges_unique, face_adjacency, v1, v2, face_index)\n",
    "            f_is_del[face_index]= True\n",
    "            f_is_del[face_adj_index]= True\n",
    "            face_adj = faces[face_adj_index]\n",
    "\n",
    "            # fix adj faces in this iteration\n",
    "            for i, j in v_pairs:\n",
    "                f_is_fixed[get_adj_face(edges_unique, face_adjacency, \n",
    "                                        face[i], face[j], \n",
    "                                        face_index)] = True\n",
    "                f_is_fixed[get_adj_face(edges_unique, face_adjacency, \n",
    "                                        face_adj[i], face_adj[j], \n",
    "                                        face_adj_index)] = True\n",
    "\n",
    "            # # add faces\n",
    "            vn = v_count - 1\n",
    "            f_to_add = np.vstack((f_to_add, replace_vertex(face, v1, vn)))\n",
    "            f_to_add = np.vstack((f_to_add, replace_vertex(face, v2, vn))) # the order matters! if go v0v2vn, not work\n",
    "            f_to_add = np.vstack((f_to_add, replace_vertex(face_adj, v1, vn))) # why\n",
    "            f_to_add = np.vstack((f_to_add, replace_vertex(face_adj, v2, vn)))                \n",
    "            f_is_del = np.hstack((f_is_del, [False,False,False,False]))\n",
    "\n",
    "    faces_new = f_to_add[~f_is_del]\n",
    "    v_add = v_count - mesh.vertices.shape[0]\n",
    "\n",
    "    mesh.vertices = v_to_add\n",
    "    mesh.faces = faces_new\n",
    "\n",
    "    assert mesh.is_watertight\n",
    "\n",
    "    return v_add\n"
   ]
  },
  {
   "attachments": {},
   "cell_type": "markdown",
   "metadata": {},
   "source": [
    "### Iteration"
   ]
  },
  {
   "cell_type": "code",
   "execution_count": 37,
   "metadata": {},
   "outputs": [
    {
     "name": "stdout",
     "output_type": "stream",
     "text": [
      "Calculating Voronoi Diagram.\n",
      "Calculating the Voronoi Pole for each vertex.\n"
     ]
    },
    {
     "name": "stderr",
     "output_type": "stream",
     "text": [
      "100%|██████████| 25193/25193 [00:00<00:00, 27886.68it/s]\n"
     ]
    }
   ],
   "source": [
    "mesh = read_mesh_trimesh('armadillo.obj')\n",
    "voronoi_poles = calculate_voronoi_poles(mesh)\n",
    "vp_cloud = trimesh.Trimesh(vertices=voronoi_poles)\n",
    "mesh.vertices = voronoi_poles\n",
    "write_mesh_o3d('../models/result/vpcloud.obj', mesh.as_open3d)"
   ]
  },
  {
   "cell_type": "code",
   "execution_count": 107,
   "metadata": {},
   "outputs": [
    {
     "name": "stdout",
     "output_type": "stream",
     "text": [
      "Calculating Voronoi Diagram.\n",
      "Calculating the Voronoi Pole for each vertex.\n"
     ]
    },
    {
     "name": "stderr",
     "output_type": "stream",
     "text": [
      "100%|██████████| 25193/25193 [00:00<00:00, 28277.69it/s]\n"
     ]
    },
    {
     "name": "stdout",
     "output_type": "stream",
     "text": [
      "Constructing Laplace Matrix.\n"
     ]
    },
    {
     "name": "stderr",
     "output_type": "stream",
     "text": [
      "100%|██████████| 50382/50382 [00:00<00:00, 79820.53it/s]\n"
     ]
    }
   ],
   "source": [
    "it = 1\n",
    "wL = 1\n",
    "wH = 0.1\n",
    "wM = 0.2\n",
    "\n",
    "new_mesh = 'armadillo_0.obj'\n",
    "mesh = read_mesh_trimesh('armadillo.obj')\n",
    "voronoi_poles = calculate_voronoi_poles(mesh)\n",
    "\n",
    "for i in range(it):\n",
    "\n",
    "    laplace_csr = trimesh_Generate_Laplace_matrix(mesh)\n",
    "\n",
    "    vertices = get_vertices_from_trimesh(mesh)\n",
    "    A, b = construct_Equation(wL, wH, wM, vertices, laplace_csr, voronoi_poles)\n",
    "\n",
    "    new_vertices0 = lsqr(A, b[:, 0])\n",
    "    new_vertices1 = lsqr(A, b[:, 1])\n",
    "    new_vertices2 = lsqr(A, b[:, 2])\n",
    "\n",
    "    new_vertices = np.zeros(vertices.shape)\n",
    "    new_vertices[:, 0] = new_vertices0[0]\n",
    "    new_vertices[:, 1] = new_vertices1[0]\n",
    "    new_vertices[:, 2] = new_vertices2[0]\n",
    "\n",
    "    mesh.vertices = new_vertices\n",
    "    \n",
    "\n",
    "    write_mesh_o3d('../models/result/' + new_mesh, mesh.as_open3d)\n",
    "    mesh = read_mesh_trimesh('result/' + new_mesh)\n",
    "    new_mesh = 'armadillo_%d.obj' % (i + 1)"
   ]
  },
  {
   "attachments": {},
   "cell_type": "markdown",
   "metadata": {},
   "source": [
    "# Testing Blocks"
   ]
  },
  {
   "cell_type": "code",
   "execution_count": 176,
   "metadata": {},
   "outputs": [],
   "source": [
    "mesh = read_mesh_trimesh('armadillo.obj')"
   ]
  },
  {
   "cell_type": "code",
   "execution_count": 178,
   "metadata": {},
   "outputs": [
    {
     "name": "stdout",
     "output_type": "stream",
     "text": [
      "Calculating Voronoi Diagram.\n",
      "Calculating the Voronoi Pole for each vertex.\n"
     ]
    },
    {
     "name": "stderr",
     "output_type": "stream",
     "text": [
      "100%|██████████| 25193/25193 [00:01<00:00, 13358.45it/s]\n"
     ]
    }
   ],
   "source": [
    "voronoi_poles = calculate_voronoi_poles(mesh)"
   ]
  },
  {
   "cell_type": "code",
   "execution_count": 177,
   "metadata": {},
   "outputs": [
    {
     "name": "stdout",
     "output_type": "stream",
     "text": [
      "Constructing Laplace Matrix.\n"
     ]
    },
    {
     "name": "stderr",
     "output_type": "stream",
     "text": [
      "100%|██████████| 50382/50382 [00:00<00:00, 59028.61it/s]\n"
     ]
    }
   ],
   "source": [
    "laplace_csr = trimesh_Generate_Laplace_matrix(mesh)"
   ]
  },
  {
   "cell_type": "code",
   "execution_count": 163,
   "metadata": {},
   "outputs": [],
   "source": [
    "laplace = laplace_csr.toarray()"
   ]
  },
  {
   "cell_type": "code",
   "execution_count": 164,
   "metadata": {},
   "outputs": [
    {
     "name": "stdout",
     "output_type": "stream",
     "text": [
      "0.6261663245916762\n"
     ]
    }
   ],
   "source": [
    "non0idx = np.where(laplace>EPS)\n",
    "laplace_non0 = laplace[non0idx]\n",
    "print(np.mean(laplace[non0idx]))"
   ]
  },
  {
   "cell_type": "code",
   "execution_count": 155,
   "metadata": {},
   "outputs": [],
   "source": [
    "areas = trimesh_Generate_Area_List(mesh)"
   ]
  },
  {
   "cell_type": "code",
   "execution_count": 156,
   "metadata": {},
   "outputs": [
    {
     "name": "stdout",
     "output_type": "stream",
     "text": [
      "0.9999999999999997\n"
     ]
    }
   ],
   "source": [
    "print(np.mean(areas))"
   ]
  },
  {
   "cell_type": "code",
   "execution_count": 152,
   "metadata": {},
   "outputs": [
    {
     "name": "stdout",
     "output_type": "stream",
     "text": [
      "0.011086547901621214\n"
     ]
    }
   ],
   "source": [
    "vertices = get_vertices_from_trimesh(mesh)\n",
    "edges = np.asarray(mesh.edges_unique)\n",
    "sumlen = 0\n",
    "for e in edges:\n",
    "    v0, v1 = vertices[e]\n",
    "    sumlen += np.linalg.norm(v0 - v1)\n",
    "print(sumlen/edges.shape[0])"
   ]
  },
  {
   "cell_type": "code",
   "execution_count": 182,
   "metadata": {},
   "outputs": [
    {
     "name": "stdout",
     "output_type": "stream",
     "text": [
      "Calculating Voronoi Diagram.\n",
      "Calculating the Voronoi Pole for each vertex.\n"
     ]
    },
    {
     "name": "stderr",
     "output_type": "stream",
     "text": [
      "100%|██████████| 25193/25193 [00:01<00:00, 13350.63it/s]\n"
     ]
    },
    {
     "name": "stdout",
     "output_type": "stream",
     "text": [
      "Constructing Laplace Matrix.\n"
     ]
    },
    {
     "name": "stderr",
     "output_type": "stream",
     "text": [
      "100%|██████████| 50382/50382 [00:00<00:00, 61910.31it/s]\n"
     ]
    }
   ],
   "source": [
    "mesh = read_mesh_trimesh('armadillo.obj')\n",
    "voronoi_poles = calculate_voronoi_poles(mesh)\n",
    "laplace_csr = trimesh_Generate_Laplace_matrix(mesh)\n",
    "wL = 1\n",
    "wH = 0.1\n",
    "wM = 0.2\n",
    "vertices = get_vertices_from_trimesh(mesh)\n",
    "A, b = construct_Equation(wL, wH, wM, vertices, laplace_csr, voronoi_poles)\n",
    "\n",
    "new_vertices0 = lsqr(A, b[:, 0])\n",
    "new_vertices1 = lsqr(A, b[:, 1])\n",
    "new_vertices2 = lsqr(A, b[:, 2])\n",
    "\n",
    "new_vertices = np.zeros(vertices.shape)\n",
    "new_vertices[:, 0] = new_vertices0[0]\n",
    "new_vertices[:, 1] = new_vertices1[0]\n",
    "new_vertices[:, 2] = new_vertices2[0]\n",
    "\n",
    "mesh.vertices = new_vertices\n",
    "write_mesh_o3d('../models/result/test.obj', mesh.as_open3d)"
   ]
  },
  {
   "cell_type": "code",
   "execution_count": 104,
   "metadata": {},
   "outputs": [],
   "source": [
    "name = 'result/armadillo_0.obj'\n",
    "mesh = read_mesh_trimesh(name)"
   ]
  },
  {
   "cell_type": "code",
   "execution_count": 105,
   "metadata": {},
   "outputs": [
    {
     "name": "stdout",
     "output_type": "stream",
     "text": [
      "50382\n",
      "3754\n",
      "57890\n"
     ]
    }
   ],
   "source": [
    "print(mesh.faces.shape[0])\n",
    "v_count = split_Faces(mesh, (110/180)*np.pi)\n",
    "print(v_count)\n",
    "print(mesh.faces.shape[0])"
   ]
  }
 ],
 "metadata": {
  "kernelspec": {
   "display_name": "rosetta",
   "language": "python",
   "name": "python3"
  },
  "language_info": {
   "codemirror_mode": {
    "name": "ipython",
    "version": 3
   },
   "file_extension": ".py",
   "mimetype": "text/x-python",
   "name": "python",
   "nbconvert_exporter": "python",
   "pygments_lexer": "ipython3",
   "version": "3.9.15"
  },
  "orig_nbformat": 4
 },
 "nbformat": 4,
 "nbformat_minor": 2
}
