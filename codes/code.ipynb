{
 "cells": [
  {
   "cell_type": "code",
   "execution_count": 1,
   "metadata": {},
   "outputs": [],
   "source": [
    "import sys, os, time\n",
    "\n",
    "import open3d as o3d\n",
    "import trimesh\n",
    "import openmesh as om\n",
    "\n",
    "import cv2\n",
    "\n",
    "import scipy as sp\n",
    "from scipy.sparse.linalg import eigs\n",
    "from scipy.sparse import csr_matrix, identity\n",
    "from scipy.sparse.linalg import spsolve\n",
    "\n",
    "import numpy as np\n",
    "\n",
    "import matplotlib.pyplot as plt\n",
    "\n",
    "from tqdm import tqdm\n",
    "\n",
    "%matplotlib inline"
   ]
  },
  {
   "cell_type": "code",
   "execution_count": null,
   "metadata": {},
   "outputs": [],
   "source": [
    "# Tests of Openmesh\n",
    "# https://gitlab.vci.rwth-aachen.de:9000/OpenMesh/openmesh-python/tree/master/tests"
   ]
  },
  {
   "cell_type": "code",
   "execution_count": 44,
   "metadata": {},
   "outputs": [],
   "source": [
    "def read_mesh_om(path_in_models):\n",
    "    return om.read_trimesh(os.path.join('..', 'models', path_in_models))\n",
    "def write_mesh_om(mesh, path_in_models):\n",
    "    om.write_mesh(os.path.join('..', 'models', path_in_models), mesh, vertex_color=True)\n",
    "def show_mesh_o3d(plys):\n",
    "    o3d.visualization.draw_geometries(plys)\n",
    "def write_mesh_o3d(path, mesh):\n",
    "    o3d.io.write_triangle_mesh(path, mesh)\n",
    "def read_mesh_o3d(mesh_fp):\n",
    "    return o3d.io.read_triangle_mesh(mesh_fp)"
   ]
  },
  {
   "cell_type": "code",
   "execution_count": 39,
   "metadata": {},
   "outputs": [
    {
     "name": "stdout",
     "output_type": "stream",
     "text": [
      "Help on built-in function write_mesh in module openmesh:\n",
      "\n",
      "write_mesh(...) method of builtins.PyCapsule instance\n",
      "    write_mesh(*args, **kwargs)\n",
      "    Overloaded function.\n",
      "    \n",
      "    1. write_mesh(filename: str, mesh: openmesh.TriMesh, binary: bool = False, msb: bool = False, lsb: bool = False, swap: bool = False, vertex_normal: bool = False, vertex_color: bool = False, vertex_tex_coord: bool = False, halfedge_tex_coord: bool = False, edge_color: bool = False, face_normal: bool = False, face_color: bool = False, color_alpha: bool = False, color_float: bool = False, status: bool = False, texture_file: str = '', material_file_extension: str = '.mat') -> None\n",
      "    \n",
      "    2. write_mesh(filename: str, mesh: openmesh.PolyMesh, binary: bool = False, msb: bool = False, lsb: bool = False, swap: bool = False, vertex_normal: bool = False, vertex_color: bool = False, vertex_tex_coord: bool = False, halfedge_tex_coord: bool = False, edge_color: bool = False, face_normal: bool = False, face_color: bool = False, color_alpha: bool = False, color_float: bool = False, status: bool = False, texture_file: str = '', material_file_extension: str = '.mat') -> None\n",
      "\n"
     ]
    }
   ],
   "source": [
    "help(om.write_mesh)"
   ]
  },
  {
   "cell_type": "code",
   "execution_count": 32,
   "metadata": {},
   "outputs": [],
   "source": [
    "mesh = read_mesh_om('cube.obj')"
   ]
  },
  {
   "cell_type": "code",
   "execution_count": 26,
   "metadata": {},
   "outputs": [],
   "source": [
    "write_mesh_om(mesh, 'test/cube-copy.obj')"
   ]
  },
  {
   "cell_type": "code",
   "execution_count": 24,
   "metadata": {},
   "outputs": [
    {
     "data": {
      "text/plain": [
       "True"
      ]
     },
     "execution_count": 24,
     "metadata": {},
     "output_type": "execute_result"
    }
   ],
   "source": [
    "mesh.has_vertex_colors()"
   ]
  },
  {
   "cell_type": "code",
   "execution_count": 48,
   "metadata": {},
   "outputs": [
    {
     "name": "stdout",
     "output_type": "stream",
     "text": [
      "<openmesh.VertexIter object at 0x1a756de30>\n",
      "[-1. -1.  1.] <class 'numpy.ndarray'>\n",
      "0\n",
      "[ 0.5 -0.5  0.5] <class 'numpy.ndarray'>\n",
      "1\n",
      "[-0.5  0.5  0.5] <class 'numpy.ndarray'>\n",
      "2\n",
      "[0.5 0.5 0.5] <class 'numpy.ndarray'>\n",
      "3\n",
      "[-0.5  0.5 -0.5] <class 'numpy.ndarray'>\n",
      "4\n",
      "[ 0.5  0.5 -0.5] <class 'numpy.ndarray'>\n",
      "5\n",
      "[-0.5 -0.5 -0.5] <class 'numpy.ndarray'>\n",
      "6\n",
      "[ 0.5 -0.5 -0.5] <class 'numpy.ndarray'>\n",
      "7\n"
     ]
    }
   ],
   "source": [
    "print(mesh.vertices())\n",
    "set = False\n",
    "for v_it in mesh.vertices():\n",
    "    if not set:\n",
    "        mesh.set_point(v_it, np.array([-1, -1 , 1]))\n",
    "        set = True\n",
    "    print(mesh.point(v_it), type(mesh.point(v_it)))\n",
    "    print(v_it.idx())\n",
    "    mesh.set_color(v_it, np.array([255.,182.,193.,255.])/255.)\n",
    "\n",
    "# for f_it in mesh.faces():\n",
    "#     mesh.set_color(f_it, np.array([255.,182.,193.,255.])/255.)\n",
    "# for c_it in mesh.face_colors():\n",
    "#     print(c_it, type(c_it))\n",
    "write_mesh_om(mesh, 'test/cube-copy.off')"
   ]
  },
  {
   "cell_type": "code",
   "execution_count": 59,
   "metadata": {},
   "outputs": [
    {
     "name": "stdout",
     "output_type": "stream",
     "text": [
      "[-1. -1.  1.]\n",
      "[ 0.5 -0.5  0.5]\n",
      "[-0.5  0.5  0.5]\n",
      "--------\n",
      "[-0.5  0.5  0.5]\n",
      "[ 0.5 -0.5  0.5]\n",
      "[0.5 0.5 0.5]\n",
      "--------\n",
      "[-0.5  0.5  0.5]\n",
      "[0.5 0.5 0.5]\n",
      "[-0.5  0.5 -0.5]\n",
      "--------\n",
      "[-0.5  0.5 -0.5]\n",
      "[0.5 0.5 0.5]\n",
      "[ 0.5  0.5 -0.5]\n",
      "--------\n",
      "[-0.5  0.5 -0.5]\n",
      "[ 0.5  0.5 -0.5]\n",
      "[-0.5 -0.5 -0.5]\n",
      "--------\n",
      "[-0.5 -0.5 -0.5]\n",
      "[ 0.5  0.5 -0.5]\n",
      "[ 0.5 -0.5 -0.5]\n",
      "--------\n",
      "[-0.5 -0.5 -0.5]\n",
      "[ 0.5 -0.5 -0.5]\n",
      "[-1. -1.  1.]\n",
      "--------\n",
      "[-1. -1.  1.]\n",
      "[ 0.5 -0.5 -0.5]\n",
      "[ 0.5 -0.5  0.5]\n",
      "--------\n",
      "[ 0.5 -0.5  0.5]\n",
      "[ 0.5 -0.5 -0.5]\n",
      "[0.5 0.5 0.5]\n",
      "--------\n",
      "[0.5 0.5 0.5]\n",
      "[ 0.5 -0.5 -0.5]\n",
      "[ 0.5  0.5 -0.5]\n",
      "--------\n",
      "[-0.5 -0.5 -0.5]\n",
      "[-1. -1.  1.]\n",
      "[-0.5  0.5 -0.5]\n",
      "--------\n",
      "[-0.5  0.5 -0.5]\n",
      "[-1. -1.  1.]\n",
      "[-0.5  0.5  0.5]\n",
      "--------\n"
     ]
    }
   ],
   "source": [
    "for f_it in mesh.faces():\n",
    "    # help(f_it)\n",
    "    for v_it in om.FaceVertexIter(mesh, f_it):\n",
    "        print(mesh.point(v_it))\n",
    "    print('--------')"
   ]
  }
 ],
 "metadata": {
  "kernelspec": {
   "display_name": "rosetta",
   "language": "python",
   "name": "python3"
  },
  "language_info": {
   "codemirror_mode": {
    "name": "ipython",
    "version": 3
   },
   "file_extension": ".py",
   "mimetype": "text/x-python",
   "name": "python",
   "nbconvert_exporter": "python",
   "pygments_lexer": "ipython3",
   "version": "3.9.15"
  },
  "orig_nbformat": 4
 },
 "nbformat": 4,
 "nbformat_minor": 2
}
