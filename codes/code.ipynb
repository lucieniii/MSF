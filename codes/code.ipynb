{
 "cells": [
  {
   "cell_type": "code",
   "execution_count": 127,
   "metadata": {},
   "outputs": [],
   "source": [
    "import sys, os, time\n",
    "\n",
    "import open3d as o3d\n",
    "import trimesh\n",
    "import openmesh as om\n",
    "\n",
    "import cv2\n",
    "\n",
    "import scipy as sp\n",
    "from scipy.sparse.linalg import eigs\n",
    "from scipy.sparse import csr_matrix, coo_matrix, identity, vstack\n",
    "from scipy.sparse.linalg import spsolve, lsqr\n",
    "from scipy.spatial import Delaunay, Voronoi\n",
    "\n",
    "import numpy as np\n",
    "\n",
    "import matplotlib.pyplot as plt\n",
    "\n",
    "from tqdm import tqdm\n",
    "\n",
    "%matplotlib inline"
   ]
  },
  {
   "cell_type": "code",
   "execution_count": 128,
   "metadata": {},
   "outputs": [],
   "source": [
    "# Tests of Openmesh\n",
    "# https://gitlab.vci.rwth-aachen.de:9000/OpenMesh/openmesh-python/tree/master/tests"
   ]
  },
  {
   "cell_type": "code",
   "execution_count": 146,
   "metadata": {},
   "outputs": [],
   "source": [
    "def read_mesh_om(path_in_models):\n",
    "    return om.read_trimesh(os.path.join('..', 'models', path_in_models))\n",
    "def write_mesh_om(mesh, path_in_models):\n",
    "    om.write_mesh(os.path.join('..', 'models', path_in_models), mesh, vertex_color=True)\n",
    "def show_mesh_o3d(plys):\n",
    "    o3d.visualization.draw_geometries(plys)\n",
    "def write_mesh_o3d(path, mesh):\n",
    "    o3d.io.write_triangle_mesh(path, mesh)\n",
    "def read_mesh_o3d(mesh_fp):\n",
    "    return o3d.io.read_triangle_mesh(mesh_fp)\n",
    "def read_mesh_trimesh(path_in_models):\n",
    "    return trimesh.load(os.path.join('..', 'models', path_in_models))\n",
    "def get_vertices_from_trimesh(mesh):\n",
    "    return np.asarray(mesh.vertices)\n",
    "def get_vertice_normals_from_trimesh(mesh):\n",
    "    return np.asarray(mesh.vertex_normals)"
   ]
  },
  {
   "attachments": {},
   "cell_type": "markdown",
   "metadata": {},
   "source": [
    "### Calculate Voronoi Poles"
   ]
  },
  {
   "cell_type": "code",
   "execution_count": 130,
   "metadata": {},
   "outputs": [],
   "source": [
    "INFINITY = 1e9\n",
    "EPS = 1e-9\n",
    "def calculate_voronoi_poles(mesh):\n",
    "    \n",
    "    vertices = get_vertices_from_trimesh(mesh)\n",
    "    vertice_normals = get_vertice_normals_from_trimesh(mesh)\n",
    "\n",
    "    print(\"Calculating Voronoi Diagram.\")\n",
    "    vor = Voronoi(vertices)\n",
    "    vor_centers = vor.vertices\n",
    "    cells = vor.regions\n",
    "    cell_indices = vor.point_region\n",
    "\n",
    "    vertices_total = vertices.shape[0]\n",
    "    voronoi_poles = np.zeros(vertices.shape)\n",
    "    print(\"Calculating the Voronoi Pole for each vertex.\")\n",
    "    for vi in tqdm(range(vertices_total)):\n",
    "        vor_cell = cells[cell_indices[vi]]\n",
    "        vertice = vertices[vi]\n",
    "        vertice_normal = vertice_normals[vi]\n",
    "        max_neg_proj = INFINITY\n",
    "        voronoi_pole = None\n",
    "        for vci in vor_cell:\n",
    "            vor_center = vor_centers[vci]\n",
    "            if vci == -1:\n",
    "                continue\n",
    "            proj = np.dot(vor_center - vertice, vertice_normal)\n",
    "            if proj < max_neg_proj:\n",
    "                max_neg_proj = proj\n",
    "                voronoi_pole = vor_center\n",
    "        voronoi_poles[vi] = voronoi_pole\n",
    "\n",
    "    return voronoi_poles"
   ]
  },
  {
   "attachments": {},
   "cell_type": "markdown",
   "metadata": {},
   "source": [
    "### Calculate Cotangent Laplace Operator"
   ]
  },
  {
   "cell_type": "code",
   "execution_count": 153,
   "metadata": {},
   "outputs": [],
   "source": [
    "def trimesh_Generate_Area_List(mesh):\n",
    "\n",
    "    area_list = np.zeros((len(mesh.vertices)))\n",
    "    face_count = mesh.faces.shape[0]\n",
    "    face_area = np.asarray(mesh.area_faces)\n",
    "    faces = np.asarray(mesh.faces)\n",
    "    for i in range(face_count):\n",
    "        area_list[faces[i]] += face_area[i] / 3\n",
    "    \n",
    "    area_list /= np.mean(area_list)\n",
    "    return area_list\n",
    "\n",
    "\n",
    "def trimesh_Generate_Laplace_matrix(mesh):\n",
    "    \n",
    "    print('Constructing Laplace Matrix.')\n",
    "    \n",
    "    vertices_face_indexs = [[0,1,2],[1,0,2],[2,0,1]] \n",
    "    laplace_dict = {}\n",
    "    area_list = trimesh_Generate_Area_List(mesh)\n",
    "    face_angles = np.asarray(mesh.face_angles)\n",
    "    faces = np.asarray(mesh.faces)\n",
    "    face_count = faces.shape[0]\n",
    "    \n",
    "    with tqdm(total=face_count) as tbar:\n",
    "        for face, angles in zip(faces, face_angles):\n",
    "            for i in range(3):\n",
    "                current_angle = angles[i]\n",
    "                v0_index, v1_index, v2_index = face[vertices_face_indexs[i]]\n",
    "                delta = 0.5 / area_list[v0_index] / np.tan(current_angle)\n",
    "                if delta > EPS:\n",
    "                    laplace_dict[(v1_index, v1_index)] = laplace_dict.get((v1_index, v1_index), 0) - delta\n",
    "                    laplace_dict[(v2_index, v2_index)] = laplace_dict.get((v2_index, v2_index), 0) - delta\n",
    "                    laplace_dict[(v1_index, v2_index)] = laplace_dict.get((v1_index, v2_index), 0) + delta\n",
    "                    laplace_dict[(v2_index, v1_index)] = laplace_dict.get((v2_index, v1_index), 0) + delta\n",
    "            tbar.update(1)\n",
    "\n",
    "    # Construct CSR Matrix\n",
    "    rows, cols = zip(*laplace_dict.keys())\n",
    "    values = list(laplace_dict.values())\n",
    "    coo = coo_matrix((values, (rows, cols)), shape=(len(mesh.vertices), len(mesh.vertices)))\n",
    "    csr = coo.tocsr()\n",
    "\n",
    "    return csr"
   ]
  },
  {
   "attachments": {},
   "cell_type": "markdown",
   "metadata": {},
   "source": [
    "### Solve Equation"
   ]
  },
  {
   "cell_type": "code",
   "execution_count": 132,
   "metadata": {},
   "outputs": [],
   "source": [
    "def construct_Equation(wL, wH, wM, vertices, L, voronoi_poles):\n",
    "    vn = vertices.shape[0]\n",
    "    WH_L = wH * identity(vn)\n",
    "    WM_L = wM * identity(vn)\n",
    "    A = vstack((wL * L, WH_L, WM_L))\n",
    "    b = np.vstack((np.zeros((vn, 3)), wH * vertices, wM * voronoi_poles))\n",
    "    return A, b"
   ]
  },
  {
   "attachments": {},
   "cell_type": "markdown",
   "metadata": {},
   "source": [
    "### Iteration"
   ]
  },
  {
   "cell_type": "code",
   "execution_count": 180,
   "metadata": {},
   "outputs": [
    {
     "name": "stdout",
     "output_type": "stream",
     "text": [
      "Calculating Voronoi Diagram.\n",
      "Calculating the Voronoi Pole for each vertex.\n"
     ]
    },
    {
     "name": "stderr",
     "output_type": "stream",
     "text": [
      "100%|██████████| 25193/25193 [00:01<00:00, 13445.16it/s]\n"
     ]
    },
    {
     "name": "stdout",
     "output_type": "stream",
     "text": [
      "Constructing Laplace Matrix.\n"
     ]
    },
    {
     "name": "stderr",
     "output_type": "stream",
     "text": [
      "100%|██████████| 50382/50382 [00:00<00:00, 65142.93it/s]\n"
     ]
    },
    {
     "name": "stdout",
     "output_type": "stream",
     "text": [
      "Constructing Laplace Matrix.\n"
     ]
    },
    {
     "name": "stderr",
     "output_type": "stream",
     "text": [
      "100%|██████████| 50382/50382 [00:00<00:00, 73130.69it/s]\n"
     ]
    },
    {
     "name": "stdout",
     "output_type": "stream",
     "text": [
      "Constructing Laplace Matrix.\n"
     ]
    },
    {
     "name": "stderr",
     "output_type": "stream",
     "text": [
      "100%|██████████| 50382/50382 [00:00<00:00, 65904.66it/s]\n"
     ]
    },
    {
     "name": "stdout",
     "output_type": "stream",
     "text": [
      "Constructing Laplace Matrix.\n"
     ]
    },
    {
     "name": "stderr",
     "output_type": "stream",
     "text": [
      "  0%|          | 0/50382 [00:00<?, ?it/s]/var/folders/m2/_6w5hv4d0xd0bqjjxjdfvxfh0000gn/T/ipykernel_19689/2115848638.py:30: RuntimeWarning: divide by zero encountered in scalar divide\n",
      "  delta = 0.5 / area_list[v0_index] / np.tan(current_angle)\n",
      "/var/folders/m2/_6w5hv4d0xd0bqjjxjdfvxfh0000gn/T/ipykernel_19689/2115848638.py:34: RuntimeWarning: invalid value encountered in scalar add\n",
      "  laplace_dict[(v1_index, v2_index)] = laplace_dict.get((v1_index, v2_index), 0) + delta\n",
      "100%|██████████| 50382/50382 [00:00<00:00, 67101.83it/s]\n"
     ]
    },
    {
     "ename": "ValueError",
     "evalue": "dimension mismatch",
     "output_type": "error",
     "traceback": [
      "\u001b[0;31m---------------------------------------------------------------------------\u001b[0m",
      "\u001b[0;31mValueError\u001b[0m                                Traceback (most recent call last)",
      "Cell \u001b[0;32mIn[180], line 17\u001b[0m\n\u001b[1;32m     14\u001b[0m vertices \u001b[39m=\u001b[39m get_vertices_from_trimesh(mesh)\n\u001b[1;32m     15\u001b[0m A, b \u001b[39m=\u001b[39m construct_Equation(wL, wH, wM, vertices, laplace_csr, voronoi_poles)\n\u001b[0;32m---> 17\u001b[0m new_vertices0 \u001b[39m=\u001b[39m lsqr(A, b[:, \u001b[39m0\u001b[39;49m])\n\u001b[1;32m     18\u001b[0m new_vertices1 \u001b[39m=\u001b[39m lsqr(A, b[:, \u001b[39m1\u001b[39m])\n\u001b[1;32m     19\u001b[0m new_vertices2 \u001b[39m=\u001b[39m lsqr(A, b[:, \u001b[39m2\u001b[39m])\n",
      "File \u001b[0;32m~/opt/anaconda3/envs/rosetta/lib/python3.9/site-packages/scipy/sparse/linalg/_isolve/lsqr.py:384\u001b[0m, in \u001b[0;36mlsqr\u001b[0;34m(A, b, damp, atol, btol, conlim, iter_lim, show, calc_var, x0)\u001b[0m\n\u001b[1;32m    382\u001b[0m \u001b[39mif\u001b[39;00m beta \u001b[39m>\u001b[39m \u001b[39m0\u001b[39m:\n\u001b[1;32m    383\u001b[0m     u \u001b[39m=\u001b[39m (\u001b[39m1\u001b[39m\u001b[39m/\u001b[39mbeta) \u001b[39m*\u001b[39m u\n\u001b[0;32m--> 384\u001b[0m     v \u001b[39m=\u001b[39m A\u001b[39m.\u001b[39;49mrmatvec(u)\n\u001b[1;32m    385\u001b[0m     alfa \u001b[39m=\u001b[39m np\u001b[39m.\u001b[39mlinalg\u001b[39m.\u001b[39mnorm(v)\n\u001b[1;32m    386\u001b[0m \u001b[39melse\u001b[39;00m:\n",
      "File \u001b[0;32m~/opt/anaconda3/envs/rosetta/lib/python3.9/site-packages/scipy/sparse/linalg/_interface.py:277\u001b[0m, in \u001b[0;36mLinearOperator.rmatvec\u001b[0;34m(self, x)\u001b[0m\n\u001b[1;32m    274\u001b[0m M,N \u001b[39m=\u001b[39m \u001b[39mself\u001b[39m\u001b[39m.\u001b[39mshape\n\u001b[1;32m    276\u001b[0m \u001b[39mif\u001b[39;00m x\u001b[39m.\u001b[39mshape \u001b[39m!=\u001b[39m (M,) \u001b[39mand\u001b[39;00m x\u001b[39m.\u001b[39mshape \u001b[39m!=\u001b[39m (M,\u001b[39m1\u001b[39m):\n\u001b[0;32m--> 277\u001b[0m     \u001b[39mraise\u001b[39;00m \u001b[39mValueError\u001b[39;00m(\u001b[39m'\u001b[39m\u001b[39mdimension mismatch\u001b[39m\u001b[39m'\u001b[39m)\n\u001b[1;32m    279\u001b[0m y \u001b[39m=\u001b[39m \u001b[39mself\u001b[39m\u001b[39m.\u001b[39m_rmatvec(x)\n\u001b[1;32m    281\u001b[0m \u001b[39mif\u001b[39;00m \u001b[39misinstance\u001b[39m(x, np\u001b[39m.\u001b[39mmatrix):\n",
      "\u001b[0;31mValueError\u001b[0m: dimension mismatch"
     ]
    }
   ],
   "source": [
    "it = 5\n",
    "wL = 0.01\n",
    "wH = 0.1\n",
    "wM = 0.2\n",
    "\n",
    "new_mesh = 'armadillo_0.obj'\n",
    "mesh = read_mesh_trimesh('armadillo.obj')\n",
    "voronoi_poles = calculate_voronoi_poles(mesh)\n",
    "\n",
    "for i in range(it):\n",
    "\n",
    "    laplace_csr = trimesh_Generate_Laplace_matrix(mesh)\n",
    "\n",
    "    vertices = get_vertices_from_trimesh(mesh)\n",
    "    A, b = construct_Equation(wL, wH, wM, vertices, laplace_csr, voronoi_poles)\n",
    "\n",
    "    new_vertices0 = lsqr(A, b[:, 0])\n",
    "    new_vertices1 = lsqr(A, b[:, 1])\n",
    "    new_vertices2 = lsqr(A, b[:, 2])\n",
    "\n",
    "    new_vertices = np.zeros(vertices.shape)\n",
    "    new_vertices[:, 0] = new_vertices0[0]\n",
    "    new_vertices[:, 1] = new_vertices1[0]\n",
    "    new_vertices[:, 2] = new_vertices2[0]\n",
    "\n",
    "    mesh.vertices = new_vertices\n",
    "\n",
    "    write_mesh_o3d('../models/result/' + new_mesh, mesh.as_open3d)\n",
    "    mesh = read_mesh_trimesh('result/' + new_mesh)\n",
    "    new_mesh = 'armadillo_%d.obj' % (i + 1)"
   ]
  },
  {
   "attachments": {},
   "cell_type": "markdown",
   "metadata": {},
   "source": [
    "# Testing Blocks"
   ]
  },
  {
   "cell_type": "code",
   "execution_count": 176,
   "metadata": {},
   "outputs": [],
   "source": [
    "mesh = read_mesh_trimesh('armadillo.obj')"
   ]
  },
  {
   "cell_type": "code",
   "execution_count": 178,
   "metadata": {},
   "outputs": [
    {
     "name": "stdout",
     "output_type": "stream",
     "text": [
      "Calculating Voronoi Diagram.\n",
      "Calculating the Voronoi Pole for each vertex.\n"
     ]
    },
    {
     "name": "stderr",
     "output_type": "stream",
     "text": [
      "100%|██████████| 25193/25193 [00:01<00:00, 13358.45it/s]\n"
     ]
    }
   ],
   "source": [
    "voronoi_poles = calculate_voronoi_poles(mesh)"
   ]
  },
  {
   "cell_type": "code",
   "execution_count": 177,
   "metadata": {},
   "outputs": [
    {
     "name": "stdout",
     "output_type": "stream",
     "text": [
      "Constructing Laplace Matrix.\n"
     ]
    },
    {
     "name": "stderr",
     "output_type": "stream",
     "text": [
      "100%|██████████| 50382/50382 [00:00<00:00, 59028.61it/s]\n"
     ]
    }
   ],
   "source": [
    "laplace_csr = trimesh_Generate_Laplace_matrix(mesh)"
   ]
  },
  {
   "cell_type": "code",
   "execution_count": 163,
   "metadata": {},
   "outputs": [],
   "source": [
    "laplace = laplace_csr.toarray()"
   ]
  },
  {
   "cell_type": "code",
   "execution_count": 164,
   "metadata": {},
   "outputs": [
    {
     "name": "stdout",
     "output_type": "stream",
     "text": [
      "0.6261663245916762\n"
     ]
    }
   ],
   "source": [
    "non0idx = np.where(laplace>EPS)\n",
    "laplace_non0 = laplace[non0idx]\n",
    "print(np.mean(laplace[non0idx]))"
   ]
  },
  {
   "cell_type": "code",
   "execution_count": 155,
   "metadata": {},
   "outputs": [],
   "source": [
    "areas = trimesh_Generate_Area_List(mesh)"
   ]
  },
  {
   "cell_type": "code",
   "execution_count": 156,
   "metadata": {},
   "outputs": [
    {
     "name": "stdout",
     "output_type": "stream",
     "text": [
      "0.9999999999999997\n"
     ]
    }
   ],
   "source": [
    "print(np.mean(areas))"
   ]
  },
  {
   "cell_type": "code",
   "execution_count": 152,
   "metadata": {},
   "outputs": [
    {
     "name": "stdout",
     "output_type": "stream",
     "text": [
      "0.011086547901621214\n"
     ]
    }
   ],
   "source": [
    "vertices = get_vertices_from_trimesh(mesh)\n",
    "edges = np.asarray(mesh.edges_unique)\n",
    "sumlen = 0\n",
    "for e in edges:\n",
    "    v0, v1 = vertices[e]\n",
    "    sumlen += np.linalg.norm(v0 - v1)\n",
    "print(sumlen/edges.shape[0])"
   ]
  },
  {
   "cell_type": "code",
   "execution_count": 181,
   "metadata": {},
   "outputs": [
    {
     "ename": "ValueError",
     "evalue": "dimension mismatch",
     "output_type": "error",
     "traceback": [
      "\u001b[0;31m---------------------------------------------------------------------------\u001b[0m",
      "\u001b[0;31mValueError\u001b[0m                                Traceback (most recent call last)",
      "Cell \u001b[0;32mIn[181], line 7\u001b[0m\n\u001b[1;32m      4\u001b[0m vertices \u001b[39m=\u001b[39m get_vertices_from_trimesh(mesh)\n\u001b[1;32m      5\u001b[0m A, b \u001b[39m=\u001b[39m construct_Equation(wL, wH, wM, vertices, laplace_csr, voronoi_poles)\n\u001b[0;32m----> 7\u001b[0m new_vertices0 \u001b[39m=\u001b[39m lsqr(A, b[:, \u001b[39m0\u001b[39;49m])\n\u001b[1;32m      8\u001b[0m new_vertices1 \u001b[39m=\u001b[39m lsqr(A, b[:, \u001b[39m1\u001b[39m])\n\u001b[1;32m      9\u001b[0m new_vertices2 \u001b[39m=\u001b[39m lsqr(A, b[:, \u001b[39m2\u001b[39m])\n",
      "File \u001b[0;32m~/opt/anaconda3/envs/rosetta/lib/python3.9/site-packages/scipy/sparse/linalg/_isolve/lsqr.py:384\u001b[0m, in \u001b[0;36mlsqr\u001b[0;34m(A, b, damp, atol, btol, conlim, iter_lim, show, calc_var, x0)\u001b[0m\n\u001b[1;32m    382\u001b[0m \u001b[39mif\u001b[39;00m beta \u001b[39m>\u001b[39m \u001b[39m0\u001b[39m:\n\u001b[1;32m    383\u001b[0m     u \u001b[39m=\u001b[39m (\u001b[39m1\u001b[39m\u001b[39m/\u001b[39mbeta) \u001b[39m*\u001b[39m u\n\u001b[0;32m--> 384\u001b[0m     v \u001b[39m=\u001b[39m A\u001b[39m.\u001b[39;49mrmatvec(u)\n\u001b[1;32m    385\u001b[0m     alfa \u001b[39m=\u001b[39m np\u001b[39m.\u001b[39mlinalg\u001b[39m.\u001b[39mnorm(v)\n\u001b[1;32m    386\u001b[0m \u001b[39melse\u001b[39;00m:\n",
      "File \u001b[0;32m~/opt/anaconda3/envs/rosetta/lib/python3.9/site-packages/scipy/sparse/linalg/_interface.py:277\u001b[0m, in \u001b[0;36mLinearOperator.rmatvec\u001b[0;34m(self, x)\u001b[0m\n\u001b[1;32m    274\u001b[0m M,N \u001b[39m=\u001b[39m \u001b[39mself\u001b[39m\u001b[39m.\u001b[39mshape\n\u001b[1;32m    276\u001b[0m \u001b[39mif\u001b[39;00m x\u001b[39m.\u001b[39mshape \u001b[39m!=\u001b[39m (M,) \u001b[39mand\u001b[39;00m x\u001b[39m.\u001b[39mshape \u001b[39m!=\u001b[39m (M,\u001b[39m1\u001b[39m):\n\u001b[0;32m--> 277\u001b[0m     \u001b[39mraise\u001b[39;00m \u001b[39mValueError\u001b[39;00m(\u001b[39m'\u001b[39m\u001b[39mdimension mismatch\u001b[39m\u001b[39m'\u001b[39m)\n\u001b[1;32m    279\u001b[0m y \u001b[39m=\u001b[39m \u001b[39mself\u001b[39m\u001b[39m.\u001b[39m_rmatvec(x)\n\u001b[1;32m    281\u001b[0m \u001b[39mif\u001b[39;00m \u001b[39misinstance\u001b[39m(x, np\u001b[39m.\u001b[39mmatrix):\n",
      "\u001b[0;31mValueError\u001b[0m: dimension mismatch"
     ]
    }
   ],
   "source": [
    "wL = 1\n",
    "wH = 0.1\n",
    "wM = 0.2\n",
    "vertices = get_vertices_from_trimesh(mesh)\n",
    "A, b = construct_Equation(wL, wH, wM, vertices, laplace_csr, voronoi_poles)\n",
    "\n",
    "new_vertices0 = lsqr(A, b[:, 0])\n",
    "new_vertices1 = lsqr(A, b[:, 1])\n",
    "new_vertices2 = lsqr(A, b[:, 2])\n",
    "\n",
    "new_vertices = np.zeros(vertices.shape)\n",
    "new_vertices[:, 0] = new_vertices0[0]\n",
    "new_vertices[:, 1] = new_vertices1[0]\n",
    "new_vertices[:, 2] = new_vertices2[0]\n",
    "\n",
    "mesh.vertices = new_vertices\n",
    "write_mesh_o3d('../models/result/test.obj', mesh.as_open3d)"
   ]
  }
 ],
 "metadata": {
  "kernelspec": {
   "display_name": "rosetta",
   "language": "python",
   "name": "python3"
  },
  "language_info": {
   "codemirror_mode": {
    "name": "ipython",
    "version": 3
   },
   "file_extension": ".py",
   "mimetype": "text/x-python",
   "name": "python",
   "nbconvert_exporter": "python",
   "pygments_lexer": "ipython3",
   "version": "3.9.15"
  },
  "orig_nbformat": 4
 },
 "nbformat": 4,
 "nbformat_minor": 2
}
