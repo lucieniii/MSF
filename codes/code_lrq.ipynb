{
 "cells": [
  {
   "cell_type": "code",
   "execution_count": 50,
   "metadata": {},
   "outputs": [],
   "source": [
    "import sys, os, time\n",
    "\n",
    "import open3d as o3d\n",
    "import trimesh\n",
    "import openmesh as om\n",
    "\n",
    "import cv2\n",
    "\n",
    "import scipy as sp\n",
    "from scipy.sparse.linalg import eigs\n",
    "from scipy.sparse import csr_matrix, identity\n",
    "from scipy.sparse.linalg import spsolve\n",
    "from scipy.spatial import Delaunay, Voronoi\n",
    "\n",
    "import numpy as np\n",
    "\n",
    "import matplotlib.pyplot as plt\n",
    "\n",
    "from tqdm import tqdm\n",
    "\n",
    "%matplotlib inline"
   ]
  },
  {
   "cell_type": "code",
   "execution_count": 27,
   "metadata": {},
   "outputs": [],
   "source": [
    "def read_mesh_om(path_in_models):\n",
    "    return om.read_trimesh(os.path.join('..', 'models', path_in_models))\n",
    "def write_mesh_om(mesh, path_in_models):\n",
    "    om.write_mesh(os.path.join('..', 'models', path_in_models), mesh, vertex_color=True)\n",
    "def show_mesh_o3d(plys):\n",
    "    o3d.visualization.draw_geometries(plys)\n",
    "def write_mesh_o3d(path, mesh):\n",
    "    o3d.io.write_triangle_mesh(path, mesh)\n",
    "def read_mesh_o3d(mesh_fp):\n",
    "    return o3d.io.read_triangle_mesh(mesh_fp)\n",
    "def read_mesh_trimesh(path_in_models):\n",
    "    return trimesh.load(os.path.join('..', 'models', path_in_models))"
   ]
  },
  {
   "cell_type": "code",
   "execution_count": 28,
   "metadata": {},
   "outputs": [
    {
     "name": "stdout",
     "output_type": "stream",
     "text": [
      "Help on built-in function write_mesh in module openmesh:\n",
      "\n",
      "write_mesh(...) method of builtins.PyCapsule instance\n",
      "    write_mesh(*args, **kwargs)\n",
      "    Overloaded function.\n",
      "    \n",
      "    1. write_mesh(filename: str, mesh: openmesh.TriMesh, binary: bool = False, msb: bool = False, lsb: bool = False, swap: bool = False, vertex_normal: bool = False, vertex_color: bool = False, vertex_tex_coord: bool = False, halfedge_tex_coord: bool = False, edge_color: bool = False, face_normal: bool = False, face_color: bool = False, color_alpha: bool = False, color_float: bool = False, status: bool = False, texture_file: str = '', material_file_extension: str = '.mat') -> None\n",
      "    \n",
      "    2. write_mesh(filename: str, mesh: openmesh.PolyMesh, binary: bool = False, msb: bool = False, lsb: bool = False, swap: bool = False, vertex_normal: bool = False, vertex_color: bool = False, vertex_tex_coord: bool = False, halfedge_tex_coord: bool = False, edge_color: bool = False, face_normal: bool = False, face_color: bool = False, color_alpha: bool = False, color_float: bool = False, status: bool = False, texture_file: str = '', material_file_extension: str = '.mat') -> None\n",
      "\n"
     ]
    }
   ],
   "source": [
    "help(om.write_mesh)"
   ]
  },
  {
   "cell_type": "code",
   "execution_count": 29,
   "metadata": {},
   "outputs": [],
   "source": [
    "mesh = read_mesh_om('cube.obj')"
   ]
  },
  {
   "cell_type": "code",
   "execution_count": 30,
   "metadata": {},
   "outputs": [],
   "source": [
    "# write_mesh_om(mesh, 'test/cube-copy.obj')"
   ]
  },
  {
   "cell_type": "code",
   "execution_count": 31,
   "metadata": {},
   "outputs": [
    {
     "data": {
      "text/plain": [
       "False"
      ]
     },
     "execution_count": 31,
     "metadata": {},
     "output_type": "execute_result"
    }
   ],
   "source": [
    "mesh.has_vertex_colors()"
   ]
  },
  {
   "cell_type": "code",
   "execution_count": 32,
   "metadata": {},
   "outputs": [
    {
     "name": "stdout",
     "output_type": "stream",
     "text": [
      "<openmesh.VertexIter object at 0x1a85e59f0>\n",
      "[-1. -1.  1.] <class 'numpy.ndarray'>\n",
      "[ 0.5 -0.5  0.5] <class 'numpy.ndarray'>\n",
      "[-0.5  0.5  0.5] <class 'numpy.ndarray'>\n",
      "[0.5 0.5 0.5] <class 'numpy.ndarray'>\n",
      "[-0.5  0.5 -0.5] <class 'numpy.ndarray'>\n",
      "[ 0.5  0.5 -0.5] <class 'numpy.ndarray'>\n",
      "[-0.5 -0.5 -0.5] <class 'numpy.ndarray'>\n",
      "[ 0.5 -0.5 -0.5] <class 'numpy.ndarray'>\n"
     ]
    }
   ],
   "source": [
    "print(mesh.vertices())\n",
    "set = False\n",
    "for v_it in mesh.vertices():\n",
    "    if not set:\n",
    "        mesh.set_point(v_it, np.array([-1, -1 , 1]))\n",
    "        set = True\n",
    "    print(mesh.point(v_it), type(mesh.point(v_it)))\n",
    "    mesh.set_color(v_it, np.array([255.,182.,193.,255.])/255.)\n",
    "\n",
    "# for f_it in mesh.faces():\n",
    "#     mesh.set_color(f_it, np.array([255.,182.,193.,255.])/255.)\n",
    "# for c_it in mesh.face_colors():\n",
    "#     print(c_it, type(c_it))\n",
    "write_mesh_om(mesh, 'test/cube-copy.off')"
   ]
  },
  {
   "cell_type": "code",
   "execution_count": 94,
   "metadata": {},
   "outputs": [],
   "source": [
    "INFINITY = 1e9\n",
    "\n",
    "def get_vertices_from_trimesh(mesh):\n",
    "    return np.asarray(mesh.vertices)\n",
    "\n",
    "def get_vertice_normals_from_trimesh(mesh):\n",
    "    return np.asarray(mesh.vertex_normals)\n",
    "\n",
    "def calculate_voronoi_poles(mesh):\n",
    "    \n",
    "    vertices = get_vertices_from_trimesh(mesh)\n",
    "    vertice_normals = get_vertice_normals_from_trimesh(mesh)\n",
    "\n",
    "    print(\"Calculating Voronoi Diagram.\")\n",
    "    vor = Voronoi(vertices)\n",
    "    vor_centers = vor.vertices\n",
    "    cells = vor.regions\n",
    "    cell_indices = vor.point_region\n",
    "\n",
    "    vertices_total = vertices.shape[0]\n",
    "    voronoi_poles = np.zeros(vertices.shape)\n",
    "    print(\"Calculating the Voronoi Pole for each vertex.\")\n",
    "    for vi in tqdm(range(vertices_total)):\n",
    "        vor_cell = cells[cell_indices[vi]]\n",
    "        vertice = vertices[vi]\n",
    "        vertice_normal = vertice_normals[vi]\n",
    "        max_neg_proj = INFINITY\n",
    "        voronoi_pole = None\n",
    "        for vci in vor_cell:\n",
    "            vor_center = vor_centers[vci]\n",
    "            if vci == -1:\n",
    "                continue\n",
    "            proj = np.dot(vor_center - vertice, vertice_normal)\n",
    "            if proj < max_neg_proj:\n",
    "                max_neg_proj = proj\n",
    "                voronoi_pole = vor_center\n",
    "        voronoi_poles[vi] = voronoi_pole\n",
    "\n",
    "    return voronoi_poles"
   ]
  },
  {
   "cell_type": "code",
   "execution_count": 96,
   "metadata": {},
   "outputs": [
    {
     "name": "stdout",
     "output_type": "stream",
     "text": [
      "Calculating Voronoi Diagram.\n",
      "Calculating the Voronoi Pole for each vertex.\n"
     ]
    },
    {
     "name": "stderr",
     "output_type": "stream",
     "text": [
      "100%|██████████| 25193/25193 [00:00<00:00, 27775.73it/s]\n"
     ]
    }
   ],
   "source": [
    "mesh = read_mesh_trimesh('armadillo.obj')\n",
    "voronoi_poles = calculate_voronoi_poles(mesh)\n",
    "# print(voronoi_poles)"
   ]
  },
  {
   "cell_type": "code",
   "execution_count": null,
   "metadata": {},
   "outputs": [],
   "source": [
    "#         v0 ---------- v2\n",
    "#        /        +     /\n",
    "#      /      vn       /\n",
    "#    /     +          /   \n",
    "#  v1 ---------------v3\n",
    "def reduce_Angles(mesh):\n",
    "\n",
    "    faces = np.asarray(mesh.faces)\n",
    "    edges_unique = np.asarray(mesh.edges_unique)\n",
    "    face_adjacency = np.asarray(mesh.face_adjacency)\n",
    "    face_angles = np.asarray(mesh.face_angles)\n",
    "    vertices = np.asarray(mesh.vertices)\n",
    "\n",
    "    f_is_del = np.zeros((len(mesh.faces)),dtype=bool) # f is deleted or not\n",
    "    f_to_add = np.asarray(mesh.faces) # all v indexs. Note that here it only adds points and dont remove any.\n",
    "    v_to_add = np.asarray(mesh.vertices) # positions\n",
    "    \n",
    "    v_count = mesh.vertices.shape[0]\n",
    "    face_count = faces.shape[0]\n",
    "    \n",
    "    for face_index in range(face_count):\n",
    "        face = faces[face_index]\n",
    "        if not f_is_del[face_index] and max(face_angles[face_index]) > (2./3.)*np.pi: # 2.1\n",
    "            \n",
    "            # get v0,v1,v2\n",
    "            v0 = face[np.argmax(face_angles[face_index])] # obtuse_vertex\n",
    "            v1, v2 = face[face!=v0] # v1,v2 are indexes.                \n",
    "\n",
    "            # add vertex vn\n",
    "            v_count += 1\n",
    "            \n",
    "            v_new = cal_projection(*vertices[[v0, v1, v2]])\n",
    "            v_to_add = np.vstack((v_to_add, v_new))\n",
    "\n",
    "            # get indexs of faces to be deleted\n",
    "            # shared_faces_index = get_shared_face_index(mesh, v1, v2)\n",
    "            shared_faces_index = get_adj_face(edges_unique, face_adjacency, v1, v2)\n",
    "            f_is_del[shared_faces_index]= True\n",
    "\n",
    "            # # get v3 from the faces\n",
    "            v_vertices = np.asarray(np.unique(faces[shared_faces_index]))\n",
    "            #print((v0,v1,v2))\n",
    "            #print(v_vertices)\n",
    "            #print(np.setdiff1d(v_vertices, (v0,v1,v2)))\n",
    "            v3 = int(np.setdiff1d(v_vertices, (v0,v1,v2))) # ----may cause problems----                \n",
    "\n",
    "            # # add faces\n",
    "            vn = v_count - 1\n",
    "            f_to_add = np.vstack((f_to_add, [v0,v1,vn]))\n",
    "            f_to_add = np.vstack((f_to_add, [v0,vn,v2])) # the order matters! if go v0v2vn, not work\n",
    "            f_to_add = np.vstack((f_to_add, [vn,v1,v3])) # why\n",
    "            f_to_add = np.vstack((f_to_add, [v2,vn,v3]))                \n",
    "            f_is_del = np.hstack((f_is_del, [False,False,False,False]))\n",
    "\n",
    "    faces_new = f_to_add[~f_is_del]\n",
    "    print(f_to_add.shape[0], faces_new.shape[0])\n",
    "    #print(np.where(f_is_del))\n",
    "    v_add = v_count - mesh.vertices.shape[0]\n",
    "    mesh.vertices = v_to_add\n",
    "    print(mesh.vertices.shape, v_to_add.shape)\n",
    "    mesh.faces = faces_new\n",
    "\n",
    "    return v_add\n",
    "    "
   ]
  }
 ],
 "metadata": {
  "kernelspec": {
   "display_name": "rosetta",
   "language": "python",
   "name": "python3"
  },
  "language_info": {
   "codemirror_mode": {
    "name": "ipython",
    "version": 3
   },
   "file_extension": ".py",
   "mimetype": "text/x-python",
   "name": "python",
   "nbconvert_exporter": "python",
   "pygments_lexer": "ipython3",
   "version": "3.9.15"
  },
  "orig_nbformat": 4
 },
 "nbformat": 4,
 "nbformat_minor": 2
}
